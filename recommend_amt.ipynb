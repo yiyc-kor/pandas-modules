{
 "cells": [
  {
   "cell_type": "code",
   "execution_count": 1,
   "metadata": {},
   "outputs": [],
   "source": [
    "import pandas as pd\n",
    "import matplotlib.pylab as plt\n",
    "import surprise\n",
    "import numpy as np\n",
    "from surprise import Reader\n",
    "from surprise import Dataset"
   ]
  },
  {
   "cell_type": "code",
   "execution_count": 2,
   "metadata": {},
   "outputs": [],
   "source": [
    "# Read csv\n",
    "trade_df = pd.read_csv(\"./data/trade.csv\", encoding=\"utf-8\", parse_dates=['ISSUEDT'],\n",
    "                       dtype={'HSCD': str, \"QTY\": float, 'BYRADDR2': str, 'SPLYADDR2': str})"
   ]
  },
  {
   "cell_type": "code",
   "execution_count": 4,
   "metadata": {},
   "outputs": [],
   "source": [
    "trade_df = trade_df[['BYRORGNM1', 'SPLYORGNM1', 'AMT', 'CUR']]"
   ]
  },
  {
   "cell_type": "code",
   "execution_count": 6,
   "metadata": {},
   "outputs": [],
   "source": [
    "trade_df = trade_df.loc[(trade_df.CUR == \"USD\") | (trade_df.CUR == \"KRW\")]"
   ]
  },
  {
   "cell_type": "code",
   "execution_count": 7,
   "metadata": {},
   "outputs": [],
   "source": [
    "def calculate_krw(amt: float, cur: str) -> float:\n",
    "    if cur == 'KRW':\n",
    "        return amt\n",
    "    elif cur == 'USD':\n",
    "        return amt * 1244"
   ]
  },
  {
   "cell_type": "code",
   "execution_count": 8,
   "metadata": {},
   "outputs": [],
   "source": [
    "trade_df['AMT_KRW'] = trade_df.apply(lambda x: calculate_krw(x['AMT'], x['CUR']), axis=1)"
   ]
  },
  {
   "cell_type": "code",
   "execution_count": 10,
   "metadata": {},
   "outputs": [],
   "source": [
    "trade_df = trade_df[['BYRORGNM1', 'SPLYORGNM1', 'AMT_KRW']]"
   ]
  },
  {
   "cell_type": "code",
   "execution_count": 122,
   "metadata": {
    "scrolled": true
   },
   "outputs": [],
   "source": [
    "df = trade_df.groupby(['BYRORGNM1', 'SPLYORGNM1']).agg('sum').reset_index()"
   ]
  },
  {
   "cell_type": "code",
   "execution_count": 123,
   "metadata": {},
   "outputs": [
    {
     "data": {
      "text/html": [
       "<div>\n",
       "<style scoped>\n",
       "    .dataframe tbody tr th:only-of-type {\n",
       "        vertical-align: middle;\n",
       "    }\n",
       "\n",
       "    .dataframe tbody tr th {\n",
       "        vertical-align: top;\n",
       "    }\n",
       "\n",
       "    .dataframe thead th {\n",
       "        text-align: right;\n",
       "    }\n",
       "</style>\n",
       "<table border=\"1\" class=\"dataframe\">\n",
       "  <thead>\n",
       "    <tr style=\"text-align: right;\">\n",
       "      <th></th>\n",
       "      <th>BYRORGNM1</th>\n",
       "      <th>SPLYORGNM1</th>\n",
       "      <th>AMT_KRW</th>\n",
       "    </tr>\n",
       "  </thead>\n",
       "  <tbody>\n",
       "    <tr>\n",
       "      <th>0</th>\n",
       "      <td>YP무역</td>\n",
       "      <td>서울무역</td>\n",
       "      <td>7450000.0</td>\n",
       "    </tr>\n",
       "    <tr>\n",
       "      <th>1</th>\n",
       "      <td>영원무역 주식회사</td>\n",
       "      <td>삼양식품(주)원주공장</td>\n",
       "      <td>204535342.0</td>\n",
       "    </tr>\n",
       "    <tr>\n",
       "      <th>2</th>\n",
       "      <td>영원무역 주식회사</td>\n",
       "      <td>삼양식품(주)익산공장</td>\n",
       "      <td>139069102.0</td>\n",
       "    </tr>\n",
       "    <tr>\n",
       "      <th>3</th>\n",
       "      <td>지니제이 인터내셔널</td>\n",
       "      <td>해태제과 식품(주) 서울지점</td>\n",
       "      <td>169310390.4</td>\n",
       "    </tr>\n",
       "    <tr>\n",
       "      <th>4</th>\n",
       "      <td>케이앤씨(KNC)</td>\n",
       "      <td>주식회사 제상텍스타일</td>\n",
       "      <td>24179628.0</td>\n",
       "    </tr>\n",
       "  </tbody>\n",
       "</table>\n",
       "</div>"
      ],
      "text/plain": [
       "     BYRORGNM1       SPLYORGNM1      AMT_KRW\n",
       "0         YP무역             서울무역    7450000.0\n",
       "1   영원무역 주식회사       삼양식품(주)원주공장  204535342.0\n",
       "2   영원무역 주식회사       삼양식품(주)익산공장  139069102.0\n",
       "3   지니제이 인터내셔널  해태제과 식품(주) 서울지점  169310390.4\n",
       "4    케이앤씨(KNC)      주식회사 제상텍스타일   24179628.0"
      ]
     },
     "execution_count": 123,
     "metadata": {},
     "output_type": "execute_result"
    }
   ],
   "source": [
    "df.head()"
   ]
  },
  {
   "cell_type": "code",
   "execution_count": 124,
   "metadata": {},
   "outputs": [
    {
     "data": {
      "text/html": [
       "<div>\n",
       "<style scoped>\n",
       "    .dataframe tbody tr th:only-of-type {\n",
       "        vertical-align: middle;\n",
       "    }\n",
       "\n",
       "    .dataframe tbody tr th {\n",
       "        vertical-align: top;\n",
       "    }\n",
       "\n",
       "    .dataframe thead th {\n",
       "        text-align: right;\n",
       "    }\n",
       "</style>\n",
       "<table border=\"1\" class=\"dataframe\">\n",
       "  <thead>\n",
       "    <tr style=\"text-align: right;\">\n",
       "      <th></th>\n",
       "      <th>BYRORGNM1</th>\n",
       "      <th>SPLYORGNM1</th>\n",
       "      <th>AMT_KRW</th>\n",
       "    </tr>\n",
       "  </thead>\n",
       "  <tbody>\n",
       "    <tr>\n",
       "      <th>32530</th>\n",
       "      <td>대상 주식회사</td>\n",
       "      <td>(주)초록마을</td>\n",
       "      <td>0.0</td>\n",
       "    </tr>\n",
       "  </tbody>\n",
       "</table>\n",
       "</div>"
      ],
      "text/plain": [
       "      BYRORGNM1 SPLYORGNM1  AMT_KRW\n",
       "32530   대상 주식회사    (주)초록마을      0.0"
      ]
     },
     "execution_count": 124,
     "metadata": {},
     "output_type": "execute_result"
    }
   ],
   "source": [
    "df.loc[df.AMT_KRW == 0.0]"
   ]
  },
  {
   "cell_type": "code",
   "execution_count": 125,
   "metadata": {
    "scrolled": true
   },
   "outputs": [],
   "source": [
    "df = df.drop(32530)"
   ]
  },
  {
   "cell_type": "code",
   "execution_count": 34,
   "metadata": {
    "scrolled": true
   },
   "outputs": [
    {
     "data": {
      "text/plain": [
       "<matplotlib.axes._subplots.AxesSubplot at 0x7f01ec2c4f60>"
      ]
     },
     "execution_count": 34,
     "metadata": {},
     "output_type": "execute_result"
    },
    {
     "data": {
      "image/png": "[encoded data removed]",
      "text/plain": [
       "<Figure size 432x288 with 1 Axes>"
      ]
     },
     "metadata": {
      "needs_background": "light"
     },
     "output_type": "display_data"
    }
   ],
   "source": [
    "df.AMT_KRW.sort_values().reset_index(drop=True).plot()"
   ]
  },
  {
   "cell_type": "code",
   "execution_count": 126,
   "metadata": {},
   "outputs": [],
   "source": [
    "df.columns = ['byr', 'spl', 'krw']"
   ]
  },
  {
   "cell_type": "code",
   "execution_count": 127,
   "metadata": {},
   "outputs": [],
   "source": [
    "b = df['byr'].value_counts() >= 5\n",
    "b = b[b].index.tolist()"
   ]
  },
  {
   "cell_type": "code",
   "execution_count": 128,
   "metadata": {},
   "outputs": [],
   "source": [
    "s = df['spl'].value_counts() >= 5\n",
    "s = s[s].index.tolist()"
   ]
  },
  {
   "cell_type": "code",
   "execution_count": 129,
   "metadata": {},
   "outputs": [],
   "source": [
    "df = df.loc[(df['byr'].isin(b)) & (df['spl'].isin(s))].reset_index(drop=True)"
   ]
  },
  {
   "cell_type": "code",
   "execution_count": 40,
   "metadata": {},
   "outputs": [
    {
     "data": {
      "text/plain": [
       "<matplotlib.axes._subplots.AxesSubplot at 0x7f01f7ab6668>"
      ]
     },
     "execution_count": 40,
     "metadata": {},
     "output_type": "execute_result"
    },
    {
     "data": {
      "image/png": "[encoded data removed]",
      "text/plain": [
       "<Figure size 432x288 with 1 Axes>"
      ]
     },
     "metadata": {
      "needs_background": "light"
     },
     "output_type": "display_data"
    }
   ],
   "source": [
    "df.krw.sort_values().reset_index(drop=True).plot()"
   ]
  },
  {
   "cell_type": "code",
   "execution_count": 41,
   "metadata": {},
   "outputs": [
    {
     "data": {
      "text/plain": [
       "<matplotlib.axes._subplots.AxesSubplot at 0x7f01ecb2d438>"
      ]
     },
     "execution_count": 41,
     "metadata": {},
     "output_type": "execute_result"
    },
    {
     "data": {
      "image/png": "[encoded data removed]",
      "text/plain": [
       "<Figure size 432x288 with 1 Axes>"
      ]
     },
     "metadata": {
      "needs_background": "light"
     },
     "output_type": "display_data"
    }
   ],
   "source": [
    "df.krw.sort_values().reset_index(drop=True).loc[:12000].plot()"
   ]
  },
  {
   "cell_type": "code",
   "execution_count": 42,
   "metadata": {},
   "outputs": [
    {
     "data": {
      "text/plain": [
       "12805"
      ]
     },
     "execution_count": 42,
     "metadata": {},
     "output_type": "execute_result"
    }
   ],
   "source": [
    "df.groupby('krw').agg('size').sum()"
   ]
  },
  {
   "cell_type": "code",
   "execution_count": 44,
   "metadata": {},
   "outputs": [
    {
     "data": {
      "text/plain": [
       "1967.0"
      ]
     },
     "execution_count": 44,
     "metadata": {},
     "output_type": "execute_result"
    }
   ],
   "source": [
    "df.krw.min()"
   ]
  },
  {
   "cell_type": "code",
   "execution_count": 58,
   "metadata": {
    "scrolled": true
   },
   "outputs": [
    {
     "data": {
      "text/plain": [
       "krw\n",
       "1.967000e+03        1\n",
       "2.059600e+03        2\n",
       "5.146428e+03        3\n",
       "6.052000e+03        4\n",
       "9.578800e+03        5\n",
       "1.166000e+04        6\n",
       "2.425800e+04        7\n",
       "2.630200e+04        8\n",
       "2.800000e+04        9\n",
       "2.880600e+04       10\n",
       "4.254480e+04       11\n",
       "4.310460e+04       12\n",
       "7.414240e+04       13\n",
       "7.775600e+04       14\n",
       "8.397000e+04       15\n",
       "9.120000e+04       16\n",
       "1.004000e+05       17\n",
       "1.121590e+05       18\n",
       "1.244000e+05       20\n",
       "1.271866e+05       21\n",
       "1.298610e+05       22\n",
       "1.300000e+05       23\n",
       "1.307540e+05       24\n",
       "1.313664e+05       25\n",
       "1.368400e+05       26\n",
       "1.408000e+05       27\n",
       "1.430600e+05       28\n",
       "1.440000e+05       29\n",
       "1.499750e+05       30\n",
       "1.553134e+05       31\n",
       "                ...  \n",
       "8.035397e+10    12776\n",
       "8.249502e+10    12777\n",
       "8.950739e+10    12778\n",
       "8.990397e+10    12779\n",
       "9.085075e+10    12780\n",
       "9.347234e+10    12781\n",
       "9.510733e+10    12782\n",
       "9.521663e+10    12783\n",
       "1.034194e+11    12784\n",
       "1.091901e+11    12785\n",
       "1.114057e+11    12786\n",
       "1.250185e+11    12787\n",
       "1.354276e+11    12788\n",
       "1.382505e+11    12789\n",
       "1.405340e+11    12790\n",
       "1.406576e+11    12791\n",
       "1.415533e+11    12792\n",
       "1.857435e+11    12793\n",
       "1.935440e+11    12794\n",
       "1.978575e+11    12795\n",
       "1.987660e+11    12796\n",
       "2.009642e+11    12797\n",
       "2.288045e+11    12798\n",
       "2.630838e+11    12799\n",
       "2.832228e+11    12800\n",
       "2.929543e+11    12801\n",
       "3.104153e+11    12802\n",
       "3.566776e+11    12803\n",
       "4.703744e+11    12804\n",
       "1.918965e+12    12805\n",
       "Length: 12498, dtype: int64"
      ]
     },
     "execution_count": 58,
     "metadata": {},
     "output_type": "execute_result"
    }
   ],
   "source": [
    "df.groupby('krw').agg('size').cumsum()"
   ]
  },
  {
   "cell_type": "code",
   "execution_count": 130,
   "metadata": {},
   "outputs": [
    {
     "data": {
      "text/plain": [
       "12805"
      ]
     },
     "execution_count": 130,
     "metadata": {},
     "output_type": "execute_result"
    }
   ],
   "source": [
    "df.groupby('krw').agg('size').sum()"
   ]
  },
  {
   "cell_type": "code",
   "execution_count": 131,
   "metadata": {},
   "outputs": [],
   "source": [
    "rating_rate = {1: 0.17, 2: 0.32, 3: 0.45, 4: 0.56, 5: 0.66,\n",
    "               6: 0.76, 7: 0.85, 8: 0.92, 9: 0.97, 10: 1}"
   ]
  },
  {
   "cell_type": "code",
   "execution_count": 134,
   "metadata": {},
   "outputs": [],
   "source": [
    "rating = dict()\n",
    "prev = 0\n",
    "cumsum_df = df.groupby('krw').agg('size').cumsum()\n",
    "total_sum = df.groupby('krw').agg('size').sum()\n",
    "for i in rating_rate:\n",
    "    val = cumsum_df.loc[cumsum_df >= rating_rate[i]*total_sum].index[0]\n",
    "    rating[i] = [prev+1, val]\n",
    "    prev = val"
   ]
  },
  {
   "cell_type": "code",
   "execution_count": 137,
   "metadata": {},
   "outputs": [
    {
     "data": {
      "text/plain": [
       "{1: [1, 4513700.0],\n",
       " 2: [4513701.0, 11880000.0],\n",
       " 3: [11880001.0, 24175800.0],\n",
       " 4: [24175801.0, 45876160.0],\n",
       " 5: [45876161.0, 85246130.0],\n",
       " 6: [85246131.0, 172672001.0],\n",
       " 7: [172672002.0, 467034298.0],\n",
       " 8: [467034299.0, 1548317232.0],\n",
       " 9: [1548317233.0, 6363744200.0],\n",
       " 10: [6363744201.0, 1918964615281.2]}"
      ]
     },
     "execution_count": 137,
     "metadata": {},
     "output_type": "execute_result"
    }
   ],
   "source": [
    "rating"
   ]
  },
  {
   "cell_type": "code",
   "execution_count": 138,
   "metadata": {},
   "outputs": [],
   "source": [
    "for i in rating:\n",
    "    df.loc[(df.krw >= rating[i][0]) & (df.krw <= rating[i][1]), 'krw'] = i"
   ]
  },
  {
   "cell_type": "code",
   "execution_count": 139,
   "metadata": {
    "scrolled": true
   },
   "outputs": [
    {
     "data": {
      "text/html": [
       "<div>\n",
       "<style scoped>\n",
       "    .dataframe tbody tr th:only-of-type {\n",
       "        vertical-align: middle;\n",
       "    }\n",
       "\n",
       "    .dataframe tbody tr th {\n",
       "        vertical-align: top;\n",
       "    }\n",
       "\n",
       "    .dataframe thead th {\n",
       "        text-align: right;\n",
       "    }\n",
       "</style>\n",
       "<table border=\"1\" class=\"dataframe\">\n",
       "  <thead>\n",
       "    <tr style=\"text-align: right;\">\n",
       "      <th></th>\n",
       "      <th>byr</th>\n",
       "      <th>spl</th>\n",
       "      <th>krw</th>\n",
       "    </tr>\n",
       "  </thead>\n",
       "  <tbody>\n",
       "    <tr>\n",
       "      <th>0</th>\n",
       "      <td>(유)브이피에이치아이</td>\n",
       "      <td>(주)오토탑</td>\n",
       "      <td>5.0</td>\n",
       "    </tr>\n",
       "    <tr>\n",
       "      <th>1</th>\n",
       "      <td>(유)브이피에이치아이</td>\n",
       "      <td>(주)평화발레오</td>\n",
       "      <td>10.0</td>\n",
       "    </tr>\n",
       "    <tr>\n",
       "      <th>2</th>\n",
       "      <td>(유)브이피에이치아이</td>\n",
       "      <td>(주)홍성브레이크</td>\n",
       "      <td>2.0</td>\n",
       "    </tr>\n",
       "    <tr>\n",
       "      <th>3</th>\n",
       "      <td>(유)브이피에이치아이</td>\n",
       "      <td>케이비와이퍼시스템 주식회사</td>\n",
       "      <td>4.0</td>\n",
       "    </tr>\n",
       "    <tr>\n",
       "      <th>4</th>\n",
       "      <td>(유)신한</td>\n",
       "      <td>강남제비스코(주)</td>\n",
       "      <td>4.0</td>\n",
       "    </tr>\n",
       "  </tbody>\n",
       "</table>\n",
       "</div>"
      ],
      "text/plain": [
       "           byr             spl   krw\n",
       "0  (유)브이피에이치아이          (주)오토탑   5.0\n",
       "1  (유)브이피에이치아이        (주)평화발레오  10.0\n",
       "2  (유)브이피에이치아이       (주)홍성브레이크   2.0\n",
       "3  (유)브이피에이치아이  케이비와이퍼시스템 주식회사   4.0\n",
       "4        (유)신한       강남제비스코(주)   4.0"
      ]
     },
     "execution_count": 139,
     "metadata": {},
     "output_type": "execute_result"
    }
   ],
   "source": [
    "df.head()"
   ]
  },
  {
   "cell_type": "code",
   "execution_count": 141,
   "metadata": {},
   "outputs": [
    {
     "data": {
      "text/plain": [
       "<matplotlib.axes._subplots.AxesSubplot at 0x7f01f64b9f98>"
      ]
     },
     "execution_count": 141,
     "metadata": {},
     "output_type": "execute_result"
    },
    {
     "data": {
      "image/png": "[encoded data removed]",
      "text/plain": [
       "<Figure size 432x288 with 1 Axes>"
      ]
     },
     "metadata": {
      "needs_background": "light"
     },
     "output_type": "display_data"
    }
   ],
   "source": [
    "df.sort_values('krw').krw.reset_index(drop=True).plot()"
   ]
  },
  {
   "cell_type": "code",
   "execution_count": 142,
   "metadata": {},
   "outputs": [],
   "source": [
    "reader = Reader(rating_scale=(1,10))\n",
    "data = Dataset.load_from_df(df, reader)"
   ]
  },
  {
   "cell_type": "code",
   "execution_count": 143,
   "metadata": {},
   "outputs": [
    {
     "name": "stdout",
     "output_type": "stream",
     "text": [
      "Estimating biases using als...\n",
      "Computing the msd similarity matrix...\n",
      "Done computing similarity matrix.\n",
      "Estimating biases using als...\n",
      "Computing the msd similarity matrix...\n",
      "Done computing similarity matrix.\n",
      "Estimating biases using als...\n",
      "Computing the msd similarity matrix...\n",
      "Done computing similarity matrix.\n",
      "Computing the msd similarity matrix...\n",
      "Done computing similarity matrix.\n",
      "Computing the msd similarity matrix...\n",
      "Done computing similarity matrix.\n",
      "Computing the msd similarity matrix...\n",
      "Done computing similarity matrix.\n",
      "Computing the msd similarity matrix...\n",
      "Done computing similarity matrix.\n",
      "Computing the msd similarity matrix...\n",
      "Done computing similarity matrix.\n",
      "Computing the msd similarity matrix...\n",
      "Done computing similarity matrix.\n",
      "Computing the msd similarity matrix...\n",
      "Done computing similarity matrix.\n",
      "Computing the msd similarity matrix...\n",
      "Done computing similarity matrix.\n",
      "Computing the msd similarity matrix...\n",
      "Done computing similarity matrix.\n",
      "Estimating biases using als...\n",
      "Estimating biases using als...\n",
      "Estimating biases using als...\n"
     ]
    },
    {
     "data": {
      "text/html": [
       "<div>\n",
       "<style scoped>\n",
       "    .dataframe tbody tr th:only-of-type {\n",
       "        vertical-align: middle;\n",
       "    }\n",
       "\n",
       "    .dataframe tbody tr th {\n",
       "        vertical-align: top;\n",
       "    }\n",
       "\n",
       "    .dataframe thead th {\n",
       "        text-align: right;\n",
       "    }\n",
       "</style>\n",
       "<table border=\"1\" class=\"dataframe\">\n",
       "  <thead>\n",
       "    <tr style=\"text-align: right;\">\n",
       "      <th></th>\n",
       "      <th>fit_time</th>\n",
       "      <th>test_rmse</th>\n",
       "      <th>test_time</th>\n",
       "    </tr>\n",
       "    <tr>\n",
       "      <th>Algorithm</th>\n",
       "      <th></th>\n",
       "      <th></th>\n",
       "      <th></th>\n",
       "    </tr>\n",
       "  </thead>\n",
       "  <tbody>\n",
       "    <tr>\n",
       "      <th>SVDpp</th>\n",
       "      <td>1.832927</td>\n",
       "      <td>2.058933</td>\n",
       "      <td>0.097882</td>\n",
       "    </tr>\n",
       "    <tr>\n",
       "      <th>SVD</th>\n",
       "      <td>0.346679</td>\n",
       "      <td>2.075707</td>\n",
       "      <td>0.021921</td>\n",
       "    </tr>\n",
       "    <tr>\n",
       "      <th>BaselineOnly</th>\n",
       "      <td>0.011228</td>\n",
       "      <td>2.134080</td>\n",
       "      <td>0.013395</td>\n",
       "    </tr>\n",
       "    <tr>\n",
       "      <th>KNNBaseline</th>\n",
       "      <td>0.108329</td>\n",
       "      <td>2.277622</td>\n",
       "      <td>0.055182</td>\n",
       "    </tr>\n",
       "    <tr>\n",
       "      <th>CoClustering</th>\n",
       "      <td>0.381328</td>\n",
       "      <td>2.309375</td>\n",
       "      <td>0.015639</td>\n",
       "    </tr>\n",
       "    <tr>\n",
       "      <th>KNNWithMeans</th>\n",
       "      <td>0.122305</td>\n",
       "      <td>2.317590</td>\n",
       "      <td>0.052226</td>\n",
       "    </tr>\n",
       "    <tr>\n",
       "      <th>KNNWithZScore</th>\n",
       "      <td>0.174571</td>\n",
       "      <td>2.331998</td>\n",
       "      <td>0.051632</td>\n",
       "    </tr>\n",
       "    <tr>\n",
       "      <th>NMF</th>\n",
       "      <td>0.655587</td>\n",
       "      <td>2.395998</td>\n",
       "      <td>0.019446</td>\n",
       "    </tr>\n",
       "    <tr>\n",
       "      <th>SlopeOne</th>\n",
       "      <td>0.083887</td>\n",
       "      <td>2.403409</td>\n",
       "      <td>0.057832</td>\n",
       "    </tr>\n",
       "    <tr>\n",
       "      <th>KNNBasic</th>\n",
       "      <td>0.100284</td>\n",
       "      <td>2.474811</td>\n",
       "      <td>0.049199</td>\n",
       "    </tr>\n",
       "    <tr>\n",
       "      <th>NormalPredictor</th>\n",
       "      <td>0.009078</td>\n",
       "      <td>3.546662</td>\n",
       "      <td>0.024469</td>\n",
       "    </tr>\n",
       "  </tbody>\n",
       "</table>\n",
       "</div>"
      ],
      "text/plain": [
       "                 fit_time  test_rmse  test_time\n",
       "Algorithm                                      \n",
       "SVDpp            1.832927   2.058933   0.097882\n",
       "SVD              0.346679   2.075707   0.021921\n",
       "BaselineOnly     0.011228   2.134080   0.013395\n",
       "KNNBaseline      0.108329   2.277622   0.055182\n",
       "CoClustering     0.381328   2.309375   0.015639\n",
       "KNNWithMeans     0.122305   2.317590   0.052226\n",
       "KNNWithZScore    0.174571   2.331998   0.051632\n",
       "NMF              0.655587   2.395998   0.019446\n",
       "SlopeOne         0.083887   2.403409   0.057832\n",
       "KNNBasic         0.100284   2.474811   0.049199\n",
       "NormalPredictor  0.009078   3.546662   0.024469"
      ]
     },
     "execution_count": 143,
     "metadata": {},
     "output_type": "execute_result"
    }
   ],
   "source": [
    "from surprise.model_selection import cross_validate\n",
    "from surprise import SVD\n",
    "from surprise import SVDpp\n",
    "from surprise import SlopeOne\n",
    "from surprise import NMF\n",
    "from surprise import NormalPredictor\n",
    "from surprise import KNNBaseline\n",
    "from surprise import KNNBasic\n",
    "from surprise import KNNWithMeans\n",
    "from surprise import KNNWithZScore\n",
    "from surprise import BaselineOnly\n",
    "from surprise import CoClustering\n",
    "\n",
    "benchmark = []\n",
    "# Iterate over all algorithms\n",
    "for algorithm in [SVD(), SVDpp(), SlopeOne(), NMF(), NormalPredictor(), KNNBaseline(), KNNBasic(), KNNWithMeans(), KNNWithZScore(), BaselineOnly(), CoClustering()]:\n",
    "    # Perform cross validation\n",
    "    results = cross_validate(algorithm, data, measures=['RMSE'], cv=3, verbose=False)\n",
    "    \n",
    "    # Get results & append algorithm name\n",
    "    tmp = pd.DataFrame.from_dict(results).mean(axis=0)\n",
    "    tmp = tmp.append(pd.Series([str(algorithm).split(' ')[0].split('.')[-1]], index=['Algorithm']))\n",
    "    benchmark.append(tmp)\n",
    "    \n",
    "pd.DataFrame(benchmark).set_index('Algorithm').sort_values('test_rmse')   "
   ]
  },
  {
   "cell_type": "code",
   "execution_count": 144,
   "metadata": {},
   "outputs": [
    {
     "name": "stdout",
     "output_type": "stream",
     "text": [
      "CPU times: user 32.5 s, sys: 0 ns, total: 32.5 s\n",
      "Wall time: 32.5 s\n"
     ]
    },
    {
     "data": {
      "text/plain": [
       "1.7134256662160936"
      ]
     },
     "execution_count": 144,
     "metadata": {},
     "output_type": "execute_result"
    }
   ],
   "source": [
    "%%time\n",
    "algo = surprise.SVDpp(n_factors=100)\n",
    "cross_validate(algo, data)[\"test_mae\"].mean()"
   ]
  },
  {
   "cell_type": "code",
   "execution_count": 145,
   "metadata": {},
   "outputs": [
    {
     "name": "stdout",
     "output_type": "stream",
     "text": [
      "CPU times: user 2.52 s, sys: 0 ns, total: 2.52 s\n",
      "Wall time: 2.52 s\n"
     ]
    },
    {
     "data": {
      "text/plain": [
       "1.7037626912988493"
      ]
     },
     "execution_count": 145,
     "metadata": {},
     "output_type": "execute_result"
    }
   ],
   "source": [
    "%%time\n",
    "algo = surprise.SVD(n_factors=100)\n",
    "cross_validate(algo, data)[\"test_mae\"].mean()"
   ]
  },
  {
   "cell_type": "code",
   "execution_count": 150,
   "metadata": {},
   "outputs": [
    {
     "name": "stdout",
     "output_type": "stream",
     "text": [
      "RMSE: 2.0978\n"
     ]
    },
    {
     "data": {
      "text/plain": [
       "2.097815565383235"
      ]
     },
     "execution_count": 150,
     "metadata": {},
     "output_type": "execute_result"
    }
   ],
   "source": [
    "from surprise.model_selection import train_test_split\n",
    "from surprise import accuracy\n",
    "trainset, testset = train_test_split(data, test_size=0.25)\n",
    "algo = surprise.SVDpp(n_factors=100)\n",
    "predictions = algo.fit(trainset).test(testset)\n",
    "accuracy.rmse(predictions)"
   ]
  },
  {
   "cell_type": "code",
   "execution_count": 151,
   "metadata": {},
   "outputs": [],
   "source": [
    "def get_Iu(uid):\n",
    "    \"\"\"Return the number of items rated by given user\n",
    "    \n",
    "    Args:\n",
    "        uid: The raw id of the user.\n",
    "    Returns:\n",
    "        The number of items rated by the user.\n",
    "    \"\"\"\n",
    "    \n",
    "    try:\n",
    "        return len(trainset.ur[trainset.to_inner_uid(uid)])\n",
    "    except ValueError:  # user was not part of the trainset\n",
    "        return 0\n",
    "    \n",
    "def get_Ui(iid):\n",
    "    \"\"\"Return the number of users that have rated given item\n",
    "    \n",
    "    Args:\n",
    "        iid: The raw id of the item.\n",
    "    Returns:\n",
    "        The number of users that have rated the item.\n",
    "    \"\"\"\n",
    "    \n",
    "    try:\n",
    "        return len(trainset.ir[trainset.to_inner_iid(iid)])\n",
    "    except ValueError:  # item was not part of the trainset\n",
    "        return 0\n",
    "\n",
    "rcm_df = pd.DataFrame(predictions, columns=['uid', 'iid', 'rui', 'est', 'details'])    \n",
    "rcm_df['Iu'] = rcm_df.uid.apply(get_Iu)\n",
    "rcm_df['Ui'] = rcm_df.iid.apply(get_Ui)\n",
    "rcm_df['err'] = abs(rcm_df.est - rcm_df.rui)"
   ]
  },
  {
   "cell_type": "code",
   "execution_count": 152,
   "metadata": {},
   "outputs": [
    {
     "data": {
      "text/html": [
       "<div>\n",
       "<style scoped>\n",
       "    .dataframe tbody tr th:only-of-type {\n",
       "        vertical-align: middle;\n",
       "    }\n",
       "\n",
       "    .dataframe tbody tr th {\n",
       "        vertical-align: top;\n",
       "    }\n",
       "\n",
       "    .dataframe thead th {\n",
       "        text-align: right;\n",
       "    }\n",
       "</style>\n",
       "<table border=\"1\" class=\"dataframe\">\n",
       "  <thead>\n",
       "    <tr style=\"text-align: right;\">\n",
       "      <th></th>\n",
       "      <th>uid</th>\n",
       "      <th>iid</th>\n",
       "      <th>rui</th>\n",
       "      <th>est</th>\n",
       "      <th>details</th>\n",
       "      <th>Iu</th>\n",
       "      <th>Ui</th>\n",
       "      <th>err</th>\n",
       "    </tr>\n",
       "  </thead>\n",
       "  <tbody>\n",
       "    <tr>\n",
       "      <th>3200</th>\n",
       "      <td>광진섬유</td>\n",
       "      <td>(주)태흥통상</td>\n",
       "      <td>4.0</td>\n",
       "      <td>4.000075</td>\n",
       "      <td>{'was_impossible': False}</td>\n",
       "      <td>1</td>\n",
       "      <td>5</td>\n",
       "      <td>0.000075</td>\n",
       "    </tr>\n",
       "    <tr>\n",
       "      <th>1341</th>\n",
       "      <td>(주)홍인상사</td>\n",
       "      <td>(주)현승아이앤씨</td>\n",
       "      <td>4.0</td>\n",
       "      <td>4.000403</td>\n",
       "      <td>{'was_impossible': False}</td>\n",
       "      <td>6</td>\n",
       "      <td>2</td>\n",
       "      <td>0.000403</td>\n",
       "    </tr>\n",
       "    <tr>\n",
       "      <th>1818</th>\n",
       "      <td>(주)제이제이텍스타일</td>\n",
       "      <td>아씨텍스타일</td>\n",
       "      <td>3.0</td>\n",
       "      <td>3.000418</td>\n",
       "      <td>{'was_impossible': False}</td>\n",
       "      <td>10</td>\n",
       "      <td>2</td>\n",
       "      <td>0.000418</td>\n",
       "    </tr>\n",
       "    <tr>\n",
       "      <th>903</th>\n",
       "      <td>신라커머스</td>\n",
       "      <td>(주) 오뚜기</td>\n",
       "      <td>3.0</td>\n",
       "      <td>3.000934</td>\n",
       "      <td>{'was_impossible': False}</td>\n",
       "      <td>5</td>\n",
       "      <td>4</td>\n",
       "      <td>0.000934</td>\n",
       "    </tr>\n",
       "    <tr>\n",
       "      <th>152</th>\n",
       "      <td>주식회사 지티툴링</td>\n",
       "      <td>상원정밀</td>\n",
       "      <td>4.0</td>\n",
       "      <td>4.001756</td>\n",
       "      <td>{'was_impossible': False}</td>\n",
       "      <td>1</td>\n",
       "      <td>2</td>\n",
       "      <td>0.001756</td>\n",
       "    </tr>\n",
       "    <tr>\n",
       "      <th>2671</th>\n",
       "      <td>(주)대관</td>\n",
       "      <td>(주)오뚜기</td>\n",
       "      <td>4.0</td>\n",
       "      <td>3.996489</td>\n",
       "      <td>{'was_impossible': False}</td>\n",
       "      <td>6</td>\n",
       "      <td>24</td>\n",
       "      <td>0.003511</td>\n",
       "    </tr>\n",
       "    <tr>\n",
       "      <th>1482</th>\n",
       "      <td>(주)민성텍스타일</td>\n",
       "      <td>(주)야긴코퍼레이션</td>\n",
       "      <td>3.0</td>\n",
       "      <td>3.003677</td>\n",
       "      <td>{'was_impossible': False}</td>\n",
       "      <td>3</td>\n",
       "      <td>23</td>\n",
       "      <td>0.003677</td>\n",
       "    </tr>\n",
       "    <tr>\n",
       "      <th>2997</th>\n",
       "      <td>(주)하티켐</td>\n",
       "      <td>(주)대운</td>\n",
       "      <td>4.0</td>\n",
       "      <td>3.995558</td>\n",
       "      <td>{'was_impossible': False}</td>\n",
       "      <td>1</td>\n",
       "      <td>3</td>\n",
       "      <td>0.004442</td>\n",
       "    </tr>\n",
       "    <tr>\n",
       "      <th>2970</th>\n",
       "      <td>에이치비코퍼레이션(주)</td>\n",
       "      <td>웅진식품(주)</td>\n",
       "      <td>3.0</td>\n",
       "      <td>2.995144</td>\n",
       "      <td>{'was_impossible': False}</td>\n",
       "      <td>19</td>\n",
       "      <td>10</td>\n",
       "      <td>0.004856</td>\n",
       "    </tr>\n",
       "    <tr>\n",
       "      <th>3193</th>\n",
       "      <td>(주)제이텍스</td>\n",
       "      <td>대영산업</td>\n",
       "      <td>5.0</td>\n",
       "      <td>4.994145</td>\n",
       "      <td>{'was_impossible': False}</td>\n",
       "      <td>5</td>\n",
       "      <td>4</td>\n",
       "      <td>0.005855</td>\n",
       "    </tr>\n",
       "  </tbody>\n",
       "</table>\n",
       "</div>"
      ],
      "text/plain": [
       "               uid         iid  rui       est                    details  Iu  \\\n",
       "3200          광진섬유     (주)태흥통상  4.0  4.000075  {'was_impossible': False}   1   \n",
       "1341       (주)홍인상사   (주)현승아이앤씨  4.0  4.000403  {'was_impossible': False}   6   \n",
       "1818   (주)제이제이텍스타일      아씨텍스타일  3.0  3.000418  {'was_impossible': False}  10   \n",
       "903          신라커머스     (주) 오뚜기  3.0  3.000934  {'was_impossible': False}   5   \n",
       "152      주식회사 지티툴링        상원정밀  4.0  4.001756  {'was_impossible': False}   1   \n",
       "2671         (주)대관      (주)오뚜기  4.0  3.996489  {'was_impossible': False}   6   \n",
       "1482     (주)민성텍스타일  (주)야긴코퍼레이션  3.0  3.003677  {'was_impossible': False}   3   \n",
       "2997        (주)하티켐       (주)대운  4.0  3.995558  {'was_impossible': False}   1   \n",
       "2970  에이치비코퍼레이션(주)     웅진식품(주)  3.0  2.995144  {'was_impossible': False}  19   \n",
       "3193       (주)제이텍스        대영산업  5.0  4.994145  {'was_impossible': False}   5   \n",
       "\n",
       "      Ui       err  \n",
       "3200   5  0.000075  \n",
       "1341   2  0.000403  \n",
       "1818   2  0.000418  \n",
       "903    4  0.000934  \n",
       "152    2  0.001756  \n",
       "2671  24  0.003511  \n",
       "1482  23  0.003677  \n",
       "2997   3  0.004442  \n",
       "2970  10  0.004856  \n",
       "3193   4  0.005855  "
      ]
     },
     "execution_count": 152,
     "metadata": {},
     "output_type": "execute_result"
    }
   ],
   "source": [
    "rcm_df.sort_values(by='err').head(10)"
   ]
  },
  {
   "cell_type": "code",
   "execution_count": 153,
   "metadata": {},
   "outputs": [
    {
     "data": {
      "text/html": [
       "<div>\n",
       "<style scoped>\n",
       "    .dataframe tbody tr th:only-of-type {\n",
       "        vertical-align: middle;\n",
       "    }\n",
       "\n",
       "    .dataframe tbody tr th {\n",
       "        vertical-align: top;\n",
       "    }\n",
       "\n",
       "    .dataframe thead th {\n",
       "        text-align: right;\n",
       "    }\n",
       "</style>\n",
       "<table border=\"1\" class=\"dataframe\">\n",
       "  <thead>\n",
       "    <tr style=\"text-align: right;\">\n",
       "      <th></th>\n",
       "      <th>uid</th>\n",
       "      <th>iid</th>\n",
       "      <th>rui</th>\n",
       "      <th>est</th>\n",
       "      <th>details</th>\n",
       "      <th>Iu</th>\n",
       "      <th>Ui</th>\n",
       "      <th>err</th>\n",
       "    </tr>\n",
       "  </thead>\n",
       "  <tbody>\n",
       "    <tr>\n",
       "      <th>2102</th>\n",
       "      <td>세종공업(주)</td>\n",
       "      <td>(주)청우</td>\n",
       "      <td>9.0</td>\n",
       "      <td>3.334898</td>\n",
       "      <td>{'was_impossible': False}</td>\n",
       "      <td>4</td>\n",
       "      <td>4</td>\n",
       "      <td>5.665102</td>\n",
       "    </tr>\n",
       "    <tr>\n",
       "      <th>2231</th>\n",
       "      <td>기아자동차</td>\n",
       "      <td>(주)서연인테크</td>\n",
       "      <td>1.0</td>\n",
       "      <td>6.691708</td>\n",
       "      <td>{'was_impossible': False}</td>\n",
       "      <td>141</td>\n",
       "      <td>4</td>\n",
       "      <td>5.691708</td>\n",
       "    </tr>\n",
       "    <tr>\n",
       "      <th>1991</th>\n",
       "      <td>(주)아이마켓코리아</td>\n",
       "      <td>(주)창남아이엔티</td>\n",
       "      <td>1.0</td>\n",
       "      <td>6.951792</td>\n",
       "      <td>{'was_impossible': False}</td>\n",
       "      <td>31</td>\n",
       "      <td>12</td>\n",
       "      <td>5.951792</td>\n",
       "    </tr>\n",
       "    <tr>\n",
       "      <th>2277</th>\n",
       "      <td>(주)메트스틸</td>\n",
       "      <td>(주)대경벤드</td>\n",
       "      <td>10.0</td>\n",
       "      <td>3.970647</td>\n",
       "      <td>{'was_impossible': False}</td>\n",
       "      <td>4</td>\n",
       "      <td>8</td>\n",
       "      <td>6.029353</td>\n",
       "    </tr>\n",
       "    <tr>\n",
       "      <th>557</th>\n",
       "      <td>(주)코텍</td>\n",
       "      <td>(주)케이디피</td>\n",
       "      <td>10.0</td>\n",
       "      <td>3.821611</td>\n",
       "      <td>{'was_impossible': False}</td>\n",
       "      <td>10</td>\n",
       "      <td>2</td>\n",
       "      <td>6.178389</td>\n",
       "    </tr>\n",
       "    <tr>\n",
       "      <th>1743</th>\n",
       "      <td>현대자동차</td>\n",
       "      <td>한국알프스(주)</td>\n",
       "      <td>3.0</td>\n",
       "      <td>9.405489</td>\n",
       "      <td>{'was_impossible': False}</td>\n",
       "      <td>141</td>\n",
       "      <td>5</td>\n",
       "      <td>6.405489</td>\n",
       "    </tr>\n",
       "    <tr>\n",
       "      <th>1651</th>\n",
       "      <td>HYUNDAI MOBIS</td>\n",
       "      <td>동해금속 주식회사</td>\n",
       "      <td>1.0</td>\n",
       "      <td>7.543938</td>\n",
       "      <td>{'was_impossible': False}</td>\n",
       "      <td>21</td>\n",
       "      <td>3</td>\n",
       "      <td>6.543938</td>\n",
       "    </tr>\n",
       "    <tr>\n",
       "      <th>833</th>\n",
       "      <td>현대위아(주)</td>\n",
       "      <td>(주)센트랄모텍</td>\n",
       "      <td>1.0</td>\n",
       "      <td>8.257080</td>\n",
       "      <td>{'was_impossible': False}</td>\n",
       "      <td>72</td>\n",
       "      <td>5</td>\n",
       "      <td>7.257080</td>\n",
       "    </tr>\n",
       "    <tr>\n",
       "      <th>1536</th>\n",
       "      <td>기아자동차</td>\n",
       "      <td>(주)신영</td>\n",
       "      <td>1.0</td>\n",
       "      <td>8.665785</td>\n",
       "      <td>{'was_impossible': False}</td>\n",
       "      <td>141</td>\n",
       "      <td>2</td>\n",
       "      <td>7.665785</td>\n",
       "    </tr>\n",
       "    <tr>\n",
       "      <th>988</th>\n",
       "      <td>현대자동차</td>\n",
       "      <td>엘지전자(주)</td>\n",
       "      <td>1.0</td>\n",
       "      <td>9.693306</td>\n",
       "      <td>{'was_impossible': False}</td>\n",
       "      <td>141</td>\n",
       "      <td>6</td>\n",
       "      <td>8.693306</td>\n",
       "    </tr>\n",
       "  </tbody>\n",
       "</table>\n",
       "</div>"
      ],
      "text/plain": [
       "                uid        iid   rui       est                    details  \\\n",
       "2102        세종공업(주)      (주)청우   9.0  3.334898  {'was_impossible': False}   \n",
       "2231          기아자동차   (주)서연인테크   1.0  6.691708  {'was_impossible': False}   \n",
       "1991     (주)아이마켓코리아  (주)창남아이엔티   1.0  6.951792  {'was_impossible': False}   \n",
       "2277        (주)메트스틸    (주)대경벤드  10.0  3.970647  {'was_impossible': False}   \n",
       "557           (주)코텍    (주)케이디피  10.0  3.821611  {'was_impossible': False}   \n",
       "1743          현대자동차   한국알프스(주)   3.0  9.405489  {'was_impossible': False}   \n",
       "1651  HYUNDAI MOBIS  동해금속 주식회사   1.0  7.543938  {'was_impossible': False}   \n",
       "833         현대위아(주)   (주)센트랄모텍   1.0  8.257080  {'was_impossible': False}   \n",
       "1536          기아자동차      (주)신영   1.0  8.665785  {'was_impossible': False}   \n",
       "988           현대자동차    엘지전자(주)   1.0  9.693306  {'was_impossible': False}   \n",
       "\n",
       "       Iu  Ui       err  \n",
       "2102    4   4  5.665102  \n",
       "2231  141   4  5.691708  \n",
       "1991   31  12  5.951792  \n",
       "2277    4   8  6.029353  \n",
       "557    10   2  6.178389  \n",
       "1743  141   5  6.405489  \n",
       "1651   21   3  6.543938  \n",
       "833    72   5  7.257080  \n",
       "1536  141   2  7.665785  \n",
       "988   141   6  8.693306  "
      ]
     },
     "execution_count": 153,
     "metadata": {},
     "output_type": "execute_result"
    }
   ],
   "source": [
    "rcm_df.sort_values(by='err').tail(10)"
   ]
  },
  {
   "cell_type": "code",
   "execution_count": 159,
   "metadata": {},
   "outputs": [
    {
     "data": {
      "text/html": [
       "<div>\n",
       "<style scoped>\n",
       "    .dataframe tbody tr th:only-of-type {\n",
       "        vertical-align: middle;\n",
       "    }\n",
       "\n",
       "    .dataframe tbody tr th {\n",
       "        vertical-align: top;\n",
       "    }\n",
       "\n",
       "    .dataframe thead th {\n",
       "        text-align: right;\n",
       "    }\n",
       "</style>\n",
       "<table border=\"1\" class=\"dataframe\">\n",
       "  <thead>\n",
       "    <tr style=\"text-align: right;\">\n",
       "      <th></th>\n",
       "      <th>byr</th>\n",
       "      <th>spl</th>\n",
       "      <th>krw</th>\n",
       "    </tr>\n",
       "  </thead>\n",
       "  <tbody>\n",
       "    <tr>\n",
       "      <th>5966</th>\n",
       "      <td>기아자동차</td>\n",
       "      <td>(주)서연인테크</td>\n",
       "      <td>1.0</td>\n",
       "    </tr>\n",
       "  </tbody>\n",
       "</table>\n",
       "</div>"
      ],
      "text/plain": [
       "        byr       spl  krw\n",
       "5966  기아자동차  (주)서연인테크  1.0"
      ]
     },
     "execution_count": 159,
     "metadata": {},
     "output_type": "execute_result"
    }
   ],
   "source": [
    "df.loc[(df.byr == '기아자동차') & (df.spl == '(주)서연인테크')]"
   ]
  },
  {
   "cell_type": "code",
   "execution_count": null,
   "metadata": {},
   "outputs": [],
   "source": []
  }
 ],
 "metadata": {
  "kernelspec": {
   "display_name": "Python 3",
   "language": "python",
   "name": "python3"
  },
  "language_info": {
   "codemirror_mode": {
    "name": "ipython",
    "version": 3
   },
   "file_extension": ".py",
   "mimetype": "text/x-python",
   "name": "python",
   "nbconvert_exporter": "python",
   "pygments_lexer": "ipython3",
   "version": "3.5.2"
  }
 },
 "nbformat": 4,
 "nbformat_minor": 2
}

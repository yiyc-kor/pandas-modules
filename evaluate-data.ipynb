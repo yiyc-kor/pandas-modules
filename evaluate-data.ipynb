{
 "cells": [
  {
   "cell_type": "code",
   "execution_count": 1,
   "metadata": {},
   "outputs": [],
   "source": [
    "# import module\n",
    "import numpy as np\n",
    "import pandas as pd\n",
    "import matplotlib.pylab as plt\n",
    "import matplotlib.ticker as mtick"
   ]
  },
  {
   "cell_type": "markdown",
   "metadata": {},
   "source": [
    "## MFCS MARINE"
   ]
  },
  {
   "cell_type": "code",
   "execution_count": 2,
   "metadata": {},
   "outputs": [
    {
     "ename": "FileNotFoundError",
     "evalue": "[Errno 2] File b'../data/mfcs_marine/data_1701-1811.csv' does not exist: b'../data/mfcs_marine/data_1701-1811.csv'",
     "output_type": "error",
     "traceback": [
      "\u001b[0;31m---------------------------------------------------------------------------\u001b[0m",
      "\u001b[0;31mFileNotFoundError\u001b[0m                         Traceback (most recent call last)",
      "\u001b[0;32m<ipython-input-2-162ae2dd7d82>\u001b[0m in \u001b[0;36m<module>\u001b[0;34m\u001b[0m\n\u001b[1;32m      1\u001b[0m \u001b[0;31m# Read csv\u001b[0m\u001b[0;34m\u001b[0m\u001b[0;34m\u001b[0m\u001b[0m\n\u001b[1;32m      2\u001b[0m \u001b[0;31m# Total data table\u001b[0m\u001b[0;34m\u001b[0m\u001b[0;34m\u001b[0m\u001b[0m\n\u001b[0;32m----> 3\u001b[0;31m \u001b[0mmfcs_df\u001b[0m \u001b[0;34m=\u001b[0m \u001b[0mpd\u001b[0m\u001b[0;34m.\u001b[0m\u001b[0mread_csv\u001b[0m\u001b[0;34m(\u001b[0m\u001b[0;34m\"../data/mfcs_marine/data_1701-1811.csv\"\u001b[0m\u001b[0;34m,\u001b[0m \u001b[0mencoding\u001b[0m\u001b[0;34m=\u001b[0m\u001b[0;34m\"utf-8\"\u001b[0m\u001b[0;34m,\u001b[0m \u001b[0mnames\u001b[0m\u001b[0;34m=\u001b[0m\u001b[0;34m[\u001b[0m\u001b[0;34m'name'\u001b[0m\u001b[0;34m,\u001b[0m \u001b[0;34m'code'\u001b[0m\u001b[0;34m]\u001b[0m\u001b[0;34m)\u001b[0m\u001b[0;34m\u001b[0m\u001b[0m\n\u001b[0m\u001b[1;32m      4\u001b[0m \u001b[0mmfcs_df\u001b[0m\u001b[0;34m.\u001b[0m\u001b[0mhead\u001b[0m\u001b[0;34m(\u001b[0m\u001b[0;34m)\u001b[0m\u001b[0;34m\u001b[0m\u001b[0m\n",
      "\u001b[0;32m~/Git/pandas-modules/venv/lib/python3.5/site-packages/pandas/io/parsers.py\u001b[0m in \u001b[0;36mparser_f\u001b[0;34m(filepath_or_buffer, sep, delimiter, header, names, index_col, usecols, squeeze, prefix, mangle_dupe_cols, dtype, engine, converters, true_values, false_values, skipinitialspace, skiprows, skipfooter, nrows, na_values, keep_default_na, na_filter, verbose, skip_blank_lines, parse_dates, infer_datetime_format, keep_date_col, date_parser, dayfirst, iterator, chunksize, compression, thousands, decimal, lineterminator, quotechar, quoting, doublequote, escapechar, comment, encoding, dialect, tupleize_cols, error_bad_lines, warn_bad_lines, delim_whitespace, low_memory, memory_map, float_precision)\u001b[0m\n\u001b[1;32m    700\u001b[0m                     skip_blank_lines=skip_blank_lines)\n\u001b[1;32m    701\u001b[0m \u001b[0;34m\u001b[0m\u001b[0m\n\u001b[0;32m--> 702\u001b[0;31m         \u001b[0;32mreturn\u001b[0m \u001b[0m_read\u001b[0m\u001b[0;34m(\u001b[0m\u001b[0mfilepath_or_buffer\u001b[0m\u001b[0;34m,\u001b[0m \u001b[0mkwds\u001b[0m\u001b[0;34m)\u001b[0m\u001b[0;34m\u001b[0m\u001b[0m\n\u001b[0m\u001b[1;32m    703\u001b[0m \u001b[0;34m\u001b[0m\u001b[0m\n\u001b[1;32m    704\u001b[0m     \u001b[0mparser_f\u001b[0m\u001b[0;34m.\u001b[0m\u001b[0m__name__\u001b[0m \u001b[0;34m=\u001b[0m \u001b[0mname\u001b[0m\u001b[0;34m\u001b[0m\u001b[0m\n",
      "\u001b[0;32m~/Git/pandas-modules/venv/lib/python3.5/site-packages/pandas/io/parsers.py\u001b[0m in \u001b[0;36m_read\u001b[0;34m(filepath_or_buffer, kwds)\u001b[0m\n\u001b[1;32m    427\u001b[0m \u001b[0;34m\u001b[0m\u001b[0m\n\u001b[1;32m    428\u001b[0m     \u001b[0;31m# Create the parser.\u001b[0m\u001b[0;34m\u001b[0m\u001b[0;34m\u001b[0m\u001b[0m\n\u001b[0;32m--> 429\u001b[0;31m     \u001b[0mparser\u001b[0m \u001b[0;34m=\u001b[0m \u001b[0mTextFileReader\u001b[0m\u001b[0;34m(\u001b[0m\u001b[0mfilepath_or_buffer\u001b[0m\u001b[0;34m,\u001b[0m \u001b[0;34m**\u001b[0m\u001b[0mkwds\u001b[0m\u001b[0;34m)\u001b[0m\u001b[0;34m\u001b[0m\u001b[0m\n\u001b[0m\u001b[1;32m    430\u001b[0m \u001b[0;34m\u001b[0m\u001b[0m\n\u001b[1;32m    431\u001b[0m     \u001b[0;32mif\u001b[0m \u001b[0mchunksize\u001b[0m \u001b[0;32mor\u001b[0m \u001b[0miterator\u001b[0m\u001b[0;34m:\u001b[0m\u001b[0;34m\u001b[0m\u001b[0m\n",
      "\u001b[0;32m~/Git/pandas-modules/venv/lib/python3.5/site-packages/pandas/io/parsers.py\u001b[0m in \u001b[0;36m__init__\u001b[0;34m(self, f, engine, **kwds)\u001b[0m\n\u001b[1;32m    893\u001b[0m             \u001b[0mself\u001b[0m\u001b[0;34m.\u001b[0m\u001b[0moptions\u001b[0m\u001b[0;34m[\u001b[0m\u001b[0;34m'has_index_names'\u001b[0m\u001b[0;34m]\u001b[0m \u001b[0;34m=\u001b[0m \u001b[0mkwds\u001b[0m\u001b[0;34m[\u001b[0m\u001b[0;34m'has_index_names'\u001b[0m\u001b[0;34m]\u001b[0m\u001b[0;34m\u001b[0m\u001b[0m\n\u001b[1;32m    894\u001b[0m \u001b[0;34m\u001b[0m\u001b[0m\n\u001b[0;32m--> 895\u001b[0;31m         \u001b[0mself\u001b[0m\u001b[0;34m.\u001b[0m\u001b[0m_make_engine\u001b[0m\u001b[0;34m(\u001b[0m\u001b[0mself\u001b[0m\u001b[0;34m.\u001b[0m\u001b[0mengine\u001b[0m\u001b[0;34m)\u001b[0m\u001b[0;34m\u001b[0m\u001b[0m\n\u001b[0m\u001b[1;32m    896\u001b[0m \u001b[0;34m\u001b[0m\u001b[0m\n\u001b[1;32m    897\u001b[0m     \u001b[0;32mdef\u001b[0m \u001b[0mclose\u001b[0m\u001b[0;34m(\u001b[0m\u001b[0mself\u001b[0m\u001b[0;34m)\u001b[0m\u001b[0;34m:\u001b[0m\u001b[0;34m\u001b[0m\u001b[0m\n",
      "\u001b[0;32m~/Git/pandas-modules/venv/lib/python3.5/site-packages/pandas/io/parsers.py\u001b[0m in \u001b[0;36m_make_engine\u001b[0;34m(self, engine)\u001b[0m\n\u001b[1;32m   1120\u001b[0m     \u001b[0;32mdef\u001b[0m \u001b[0m_make_engine\u001b[0m\u001b[0;34m(\u001b[0m\u001b[0mself\u001b[0m\u001b[0;34m,\u001b[0m \u001b[0mengine\u001b[0m\u001b[0;34m=\u001b[0m\u001b[0;34m'c'\u001b[0m\u001b[0;34m)\u001b[0m\u001b[0;34m:\u001b[0m\u001b[0;34m\u001b[0m\u001b[0m\n\u001b[1;32m   1121\u001b[0m         \u001b[0;32mif\u001b[0m \u001b[0mengine\u001b[0m \u001b[0;34m==\u001b[0m \u001b[0;34m'c'\u001b[0m\u001b[0;34m:\u001b[0m\u001b[0;34m\u001b[0m\u001b[0m\n\u001b[0;32m-> 1122\u001b[0;31m             \u001b[0mself\u001b[0m\u001b[0;34m.\u001b[0m\u001b[0m_engine\u001b[0m \u001b[0;34m=\u001b[0m \u001b[0mCParserWrapper\u001b[0m\u001b[0;34m(\u001b[0m\u001b[0mself\u001b[0m\u001b[0;34m.\u001b[0m\u001b[0mf\u001b[0m\u001b[0;34m,\u001b[0m \u001b[0;34m**\u001b[0m\u001b[0mself\u001b[0m\u001b[0;34m.\u001b[0m\u001b[0moptions\u001b[0m\u001b[0;34m)\u001b[0m\u001b[0;34m\u001b[0m\u001b[0m\n\u001b[0m\u001b[1;32m   1123\u001b[0m         \u001b[0;32melse\u001b[0m\u001b[0;34m:\u001b[0m\u001b[0;34m\u001b[0m\u001b[0m\n\u001b[1;32m   1124\u001b[0m             \u001b[0;32mif\u001b[0m \u001b[0mengine\u001b[0m \u001b[0;34m==\u001b[0m \u001b[0;34m'python'\u001b[0m\u001b[0;34m:\u001b[0m\u001b[0;34m\u001b[0m\u001b[0m\n",
      "\u001b[0;32m~/Git/pandas-modules/venv/lib/python3.5/site-packages/pandas/io/parsers.py\u001b[0m in \u001b[0;36m__init__\u001b[0;34m(self, src, **kwds)\u001b[0m\n\u001b[1;32m   1851\u001b[0m         \u001b[0mkwds\u001b[0m\u001b[0;34m[\u001b[0m\u001b[0;34m'usecols'\u001b[0m\u001b[0;34m]\u001b[0m \u001b[0;34m=\u001b[0m \u001b[0mself\u001b[0m\u001b[0;34m.\u001b[0m\u001b[0musecols\u001b[0m\u001b[0;34m\u001b[0m\u001b[0m\n\u001b[1;32m   1852\u001b[0m \u001b[0;34m\u001b[0m\u001b[0m\n\u001b[0;32m-> 1853\u001b[0;31m         \u001b[0mself\u001b[0m\u001b[0;34m.\u001b[0m\u001b[0m_reader\u001b[0m \u001b[0;34m=\u001b[0m \u001b[0mparsers\u001b[0m\u001b[0;34m.\u001b[0m\u001b[0mTextReader\u001b[0m\u001b[0;34m(\u001b[0m\u001b[0msrc\u001b[0m\u001b[0;34m,\u001b[0m \u001b[0;34m**\u001b[0m\u001b[0mkwds\u001b[0m\u001b[0;34m)\u001b[0m\u001b[0;34m\u001b[0m\u001b[0m\n\u001b[0m\u001b[1;32m   1854\u001b[0m         \u001b[0mself\u001b[0m\u001b[0;34m.\u001b[0m\u001b[0munnamed_cols\u001b[0m \u001b[0;34m=\u001b[0m \u001b[0mself\u001b[0m\u001b[0;34m.\u001b[0m\u001b[0m_reader\u001b[0m\u001b[0;34m.\u001b[0m\u001b[0munnamed_cols\u001b[0m\u001b[0;34m\u001b[0m\u001b[0m\n\u001b[1;32m   1855\u001b[0m \u001b[0;34m\u001b[0m\u001b[0m\n",
      "\u001b[0;32mpandas/_libs/parsers.pyx\u001b[0m in \u001b[0;36mpandas._libs.parsers.TextReader.__cinit__\u001b[0;34m()\u001b[0m\n",
      "\u001b[0;32mpandas/_libs/parsers.pyx\u001b[0m in \u001b[0;36mpandas._libs.parsers.TextReader._setup_parser_source\u001b[0;34m()\u001b[0m\n",
      "\u001b[0;31mFileNotFoundError\u001b[0m: [Errno 2] File b'../data/mfcs_marine/data_1701-1811.csv' does not exist: b'../data/mfcs_marine/data_1701-1811.csv'"
     ]
    }
   ],
   "source": [
    "# Read csv\n",
    "# Total data table\n",
    "mfcs_df = pd.read_csv(\"../data/mfcs_marine/data_1701-1811.csv\", encoding=\"utf-8\", names=['name', 'code'])\n",
    "mfcs_df.head()"
   ]
  },
  {
   "cell_type": "code",
   "execution_count": 4,
   "metadata": {
    "scrolled": true
   },
   "outputs": [
    {
     "data": {
      "text/html": [
       "<div>\n",
       "<style scoped>\n",
       "    .dataframe tbody tr th:only-of-type {\n",
       "        vertical-align: middle;\n",
       "    }\n",
       "\n",
       "    .dataframe tbody tr th {\n",
       "        vertical-align: top;\n",
       "    }\n",
       "\n",
       "    .dataframe thead th {\n",
       "        text-align: right;\n",
       "    }\n",
       "</style>\n",
       "<table border=\"1\" class=\"dataframe\">\n",
       "  <thead>\n",
       "    <tr style=\"text-align: right;\">\n",
       "      <th></th>\n",
       "      <th>count</th>\n",
       "    </tr>\n",
       "    <tr>\n",
       "      <th>name</th>\n",
       "      <th></th>\n",
       "    </tr>\n",
       "  </thead>\n",
       "  <tbody>\n",
       "    <tr>\n",
       "      <th>ZINC WASTE AND SCRAP</th>\n",
       "      <td>1</td>\n",
       "    </tr>\n",
       "    <tr>\n",
       "      <th>\" BRAVO \" BRAND (A) 1,900 (ONE THOUSAND AND NINE HUNDRED) CARTONS OF SARDINES 50/155 G. IN TOMATO SAUCE/EOE (B) 1,900 (ONE THOUSAND AND NINE HUNDRED)CARTONS OF SARDINES 50/155</th>\n",
       "      <td>1</td>\n",
       "    </tr>\n",
       "    <tr>\n",
       "      <th>\" BRAVO \" BRAND (A) 1800 (ONE THOUSAND AND EIGHT HUNDRED) CARTONS OF SARDINES 50/155 G. IN TOMATO SAUCE/EOE (B) 1800 (ONE THOUSAND AND EIGHT HUNDRED)CARTONS OF SARDINES 50/155 G. IN TOMATO SAUCE</th>\n",
       "      <td>1</td>\n",
       "    </tr>\n",
       "    <tr>\n",
       "      <th>\" BRAVO \" BRAND (A) 900 (NINE HUNDRED) CARTONS OFSARDINES 50/155 G. IN TOMATO SAUCE/EOE (B) 900 (NINE HUNDRED) CARTONS OF SARDINES 50/155 G. IN TOMATO SAUCE WITH CHILI/EOE</th>\n",
       "      <td>1</td>\n",
       "    </tr>\n",
       "    <tr>\n",
       "      <th>\" DESCRIPCION OF GOOD\"  DRIED SPHAGNUMMOSS SP 5 STARS QUALITY</th>\n",
       "      <td>1</td>\n",
       "    </tr>\n",
       "  </tbody>\n",
       "</table>\n",
       "</div>"
      ],
      "text/plain": [
       "                                                    count\n",
       "name                                                     \n",
       " ZINC WASTE AND SCRAP                                   1\n",
       "\" BRAVO \" BRAND (A) 1,900 (ONE THOUSAND AND NIN...      1\n",
       "\" BRAVO \" BRAND (A) 1800 (ONE THOUSAND AND EIGH...      1\n",
       "\" BRAVO \" BRAND (A) 900 (NINE HUNDRED) CARTONS ...      1\n",
       "\" DESCRIPCION OF GOOD\"  DRIED SPHAGNUMMOSS SP 5...      1"
      ]
     },
     "execution_count": 4,
     "metadata": {},
     "output_type": "execute_result"
    }
   ],
   "source": [
    "# Non-preprocessed name unique table\n",
    "name_count_mfcs_df = mfcs_df.groupby('name').agg('count')\n",
    "name_count_mfcs_df.columns = ['count']\n",
    "name_count_mfcs_df.head()"
   ]
  },
  {
   "cell_type": "code",
   "execution_count": 9,
   "metadata": {
    "scrolled": true
   },
   "outputs": [
    {
     "data": {
      "image/png": "[encoded data removed]",
      "text/plain": [
       "<Figure size 432x288 with 1 Axes>"
      ]
     },
     "metadata": {
      "needs_background": "light"
     },
     "output_type": "display_data"
    }
   ],
   "source": [
    "# Xaxis: Transfer name to cumulative ratio\n",
    "perc = np.linspace(0,100,len(name_count_mfcs_df))\n",
    "name_count_mfcs_df = name_count_mfcs_df.sort_values(by='count')\n",
    "name_count_mfcs_df['perc'] = perc\n",
    "ax = name_count_mfcs_df.set_index('perc').plot()\n",
    "ax.xaxis.set_major_formatter(mtick.PercentFormatter())\n",
    "plt.title('number of mfcs marine data')\n",
    "plt.xlabel('name of items\\ntotal: ' + str(len(name_count_mfcs_df)))\n",
    "plt.show()"
   ]
  },
  {
   "cell_type": "code",
   "execution_count": 10,
   "metadata": {},
   "outputs": [
    {
     "data": {
      "text/html": [
       "<div>\n",
       "<style scoped>\n",
       "    .dataframe tbody tr th:only-of-type {\n",
       "        vertical-align: middle;\n",
       "    }\n",
       "\n",
       "    .dataframe tbody tr th {\n",
       "        vertical-align: top;\n",
       "    }\n",
       "\n",
       "    .dataframe thead th {\n",
       "        text-align: right;\n",
       "    }\n",
       "</style>\n",
       "<table border=\"1\" class=\"dataframe\">\n",
       "  <thead>\n",
       "    <tr style=\"text-align: right;\">\n",
       "      <th></th>\n",
       "      <th>name</th>\n",
       "      <th>code</th>\n",
       "    </tr>\n",
       "  </thead>\n",
       "  <tbody>\n",
       "    <tr>\n",
       "      <th>0</th>\n",
       "      <td>ZINC WASTE AND SCRAP</td>\n",
       "      <td>750300</td>\n",
       "    </tr>\n",
       "    <tr>\n",
       "      <th>1</th>\n",
       "      <td>BRAVO BRAND ONE THOUSAND AND NINE HUNDRED CART...</td>\n",
       "      <td>160411</td>\n",
       "    </tr>\n",
       "    <tr>\n",
       "      <th>2</th>\n",
       "      <td>BRAVO BRAND ONE THOUSAND AND EIGHT HUNDRED CAR...</td>\n",
       "      <td>210390</td>\n",
       "    </tr>\n",
       "    <tr>\n",
       "      <th>3</th>\n",
       "      <td>BRAVO BRAND NINE HUNDRED CARTONS OFSARDINES IN...</td>\n",
       "      <td>848340</td>\n",
       "    </tr>\n",
       "    <tr>\n",
       "      <th>4</th>\n",
       "      <td>DESCRIPCION OF GOOD DRIED SPHAGNUMMOSS SP STAR...</td>\n",
       "      <td>630210</td>\n",
       "    </tr>\n",
       "  </tbody>\n",
       "</table>\n",
       "</div>"
      ],
      "text/plain": [
       "                                                name    code\n",
       "0                               ZINC WASTE AND SCRAP  750300\n",
       "1  BRAVO BRAND ONE THOUSAND AND NINE HUNDRED CART...  160411\n",
       "2  BRAVO BRAND ONE THOUSAND AND EIGHT HUNDRED CAR...  210390\n",
       "3  BRAVO BRAND NINE HUNDRED CARTONS OFSARDINES IN...  848340\n",
       "4  DESCRIPCION OF GOOD DRIED SPHAGNUMMOSS SP STAR...  630210"
      ]
     },
     "execution_count": 10,
     "metadata": {},
     "output_type": "execute_result"
    }
   ],
   "source": [
    "prep_mfcs_df = mfcs_df\n",
    "prep_mfcs_df.name = prep_mfcs_df.name.str.upper().replace(r'[^A-Z\\- ]+', ' ', regex=True)\\\n",
    "                    .replace(r'\\B[\\-]\\B|\\B[\\-]|[\\-]\\B', ' ', regex=True)\\\n",
    "                    .replace(r'((?<=^)|(?<=\\s))\\w(?=(\\s|$))', ' ', regex=True)\\\n",
    "                    .replace(r'\\s{2,}', ' ', regex=True)\\\n",
    "                    .str.strip()\n",
    "prep_mfcs_df.head()"
   ]
  },
  {
   "cell_type": "code",
   "execution_count": 11,
   "metadata": {},
   "outputs": [
    {
     "data": {
      "text/html": [
       "<div>\n",
       "<style scoped>\n",
       "    .dataframe tbody tr th:only-of-type {\n",
       "        vertical-align: middle;\n",
       "    }\n",
       "\n",
       "    .dataframe tbody tr th {\n",
       "        vertical-align: top;\n",
       "    }\n",
       "\n",
       "    .dataframe thead th {\n",
       "        text-align: right;\n",
       "    }\n",
       "</style>\n",
       "<table border=\"1\" class=\"dataframe\">\n",
       "  <thead>\n",
       "    <tr style=\"text-align: right;\">\n",
       "      <th></th>\n",
       "      <th>count</th>\n",
       "    </tr>\n",
       "    <tr>\n",
       "      <th>name</th>\n",
       "      <th></th>\n",
       "    </tr>\n",
       "  </thead>\n",
       "  <tbody>\n",
       "    <tr>\n",
       "      <th></th>\n",
       "      <td>4556</td>\n",
       "    </tr>\n",
       "    <tr>\n",
       "      <th>A-ACS-CONTROLLED MOTOR CN OH CM</th>\n",
       "      <td>1</td>\n",
       "    </tr>\n",
       "    <tr>\n",
       "      <th>A-BULK KG-F A-CHRYSAN ADDITIVE</th>\n",
       "      <td>1</td>\n",
       "    </tr>\n",
       "    <tr>\n",
       "      <th>A-C ARTIFICIAL WAX NON HAZARDOUS NLR A-C ARTIFICIAL WAX NON HAZARDOUS NLR ACUMIST ARTIFICIAL WAX NON HAZARDOUS NLR HSC NUMBER NS</th>\n",
       "      <td>1</td>\n",
       "    </tr>\n",
       "    <tr>\n",
       "      <th>A-C KG BAG ARTIFICIAL WAX NLR DAYS FREETIME DESTINATION DETENTION EQUIPMENT ONLY A-C KG BAG ARTIFICIAL WAX NON-HAZARDOUS NLR</th>\n",
       "      <td>1</td>\n",
       "    </tr>\n",
       "  </tbody>\n",
       "</table>\n",
       "</div>"
      ],
      "text/plain": [
       "                                                    count\n",
       "name                                                     \n",
       "                                                     4556\n",
       "A-ACS-CONTROLLED MOTOR CN OH CM                         1\n",
       "A-BULK KG-F A-CHRYSAN ADDITIVE                          1\n",
       "A-C ARTIFICIAL WAX NON HAZARDOUS NLR A-C ARTIFI...      1\n",
       "A-C KG BAG ARTIFICIAL WAX NLR DAYS FREETIME DES...      1"
      ]
     },
     "execution_count": 11,
     "metadata": {},
     "output_type": "execute_result"
    }
   ],
   "source": [
    "# preprocessed name unique table\n",
    "name_count_prep_mfcs_df = prep_mfcs_df.groupby('name').agg('count')\n",
    "name_count_prep_mfcs_df.columns = ['count']\n",
    "name_count_prep_mfcs_df.head()"
   ]
  },
  {
   "cell_type": "code",
   "execution_count": 12,
   "metadata": {},
   "outputs": [
    {
     "data": {
      "image/png": "[encoded data removed]",
      "text/plain": [
       "<Figure size 432x288 with 1 Axes>"
      ]
     },
     "metadata": {
      "needs_background": "light"
     },
     "output_type": "display_data"
    }
   ],
   "source": [
    "# Xaxis: Transfer name to cumulative ratio\n",
    "perc = np.linspace(0,100,len(name_count_prep_mfcs_df))\n",
    "name_count_prep_mfcs_df = name_count_prep_mfcs_df.sort_values(by='count')\n",
    "name_count_prep_mfcs_df['perc'] = perc\n",
    "ax = name_count_prep_mfcs_df.set_index('perc').plot()\n",
    "ax.xaxis.set_major_formatter(mtick.PercentFormatter())\n",
    "plt.title('number of mfcs marine data (preprocessed)')\n",
    "plt.xlabel('name of items\\ntotal: ' + str(len(name_count_prep_mfcs_df)))\n",
    "plt.show()"
   ]
  },
  {
   "cell_type": "code",
   "execution_count": 13,
   "metadata": {},
   "outputs": [
    {
     "data": {
      "text/html": [
       "<div>\n",
       "<style scoped>\n",
       "    .dataframe tbody tr th:only-of-type {\n",
       "        vertical-align: middle;\n",
       "    }\n",
       "\n",
       "    .dataframe tbody tr th {\n",
       "        vertical-align: top;\n",
       "    }\n",
       "\n",
       "    .dataframe thead th {\n",
       "        text-align: right;\n",
       "    }\n",
       "</style>\n",
       "<table border=\"1\" class=\"dataframe\">\n",
       "  <thead>\n",
       "    <tr style=\"text-align: right;\">\n",
       "      <th></th>\n",
       "      <th>count</th>\n",
       "      <th>perc</th>\n",
       "    </tr>\n",
       "    <tr>\n",
       "      <th>name</th>\n",
       "      <th></th>\n",
       "      <th></th>\n",
       "    </tr>\n",
       "  </thead>\n",
       "  <tbody>\n",
       "    <tr>\n",
       "      <th>STONE PRODUCTS</th>\n",
       "      <td>10961</td>\n",
       "      <td>99.999666</td>\n",
       "    </tr>\n",
       "    <tr>\n",
       "      <th>GARMENT</th>\n",
       "      <td>16349</td>\n",
       "      <td>99.999750</td>\n",
       "    </tr>\n",
       "    <tr>\n",
       "      <th>EMPTY CONTAINERS</th>\n",
       "      <td>24321</td>\n",
       "      <td>99.999833</td>\n",
       "    </tr>\n",
       "    <tr>\n",
       "      <th>EMPTY CONTAINER</th>\n",
       "      <td>29276</td>\n",
       "      <td>99.999917</td>\n",
       "    </tr>\n",
       "    <tr>\n",
       "      <th>AS PER ATTACHED RIDER LIST</th>\n",
       "      <td>87170</td>\n",
       "      <td>100.000000</td>\n",
       "    </tr>\n",
       "  </tbody>\n",
       "</table>\n",
       "</div>"
      ],
      "text/plain": [
       "                            count        perc\n",
       "name                                         \n",
       "STONE PRODUCTS              10961   99.999666\n",
       "GARMENT                     16349   99.999750\n",
       "EMPTY CONTAINERS            24321   99.999833\n",
       "EMPTY CONTAINER             29276   99.999917\n",
       "AS PER ATTACHED RIDER LIST  87170  100.000000"
      ]
     },
     "execution_count": 13,
     "metadata": {},
     "output_type": "execute_result"
    }
   ],
   "source": [
    "name_count_prep_mfcs_df.tail()"
   ]
  },
  {
   "cell_type": "code",
   "execution_count": 15,
   "metadata": {},
   "outputs": [
    {
     "data": {
      "text/html": [
       "<div>\n",
       "<style scoped>\n",
       "    .dataframe tbody tr th:only-of-type {\n",
       "        vertical-align: middle;\n",
       "    }\n",
       "\n",
       "    .dataframe tbody tr th {\n",
       "        vertical-align: top;\n",
       "    }\n",
       "\n",
       "    .dataframe thead th {\n",
       "        text-align: right;\n",
       "    }\n",
       "</style>\n",
       "<table border=\"1\" class=\"dataframe\">\n",
       "  <thead>\n",
       "    <tr style=\"text-align: right;\">\n",
       "      <th></th>\n",
       "      <th>name</th>\n",
       "      <th>code</th>\n",
       "    </tr>\n",
       "  </thead>\n",
       "  <tbody>\n",
       "    <tr>\n",
       "      <th>2505883</th>\n",
       "      <td>NICOSULFURON SL SC</td>\n",
       "      <td>XXXXXX</td>\n",
       "    </tr>\n",
       "    <tr>\n",
       "      <th>2626426</th>\n",
       "      <td>PA GENESTARPA GENESTAR</td>\n",
       "      <td>XXXXXX</td>\n",
       "    </tr>\n",
       "    <tr>\n",
       "      <th>2444838</th>\n",
       "      <td>MULTMATS</td>\n",
       "      <td>XXXXXX</td>\n",
       "    </tr>\n",
       "    <tr>\n",
       "      <th>3995359</th>\n",
       "      <td>YAMAHA CADDIE BAG YAMAHA BOSTON BAG WUK</td>\n",
       "      <td>YAMAHA</td>\n",
       "    </tr>\n",
       "    <tr>\n",
       "      <th>3307100</th>\n",
       "      <td>SLIPPER-WHITE</td>\n",
       "      <td>d=cont</td>\n",
       "    </tr>\n",
       "  </tbody>\n",
       "</table>\n",
       "</div>"
      ],
      "text/plain": [
       "                                            name    code\n",
       "2505883                       NICOSULFURON SL SC  XXXXXX\n",
       "2626426                   PA GENESTARPA GENESTAR  XXXXXX\n",
       "2444838                                 MULTMATS  XXXXXX\n",
       "3995359  YAMAHA CADDIE BAG YAMAHA BOSTON BAG WUK  YAMAHA\n",
       "3307100                            SLIPPER-WHITE  d=cont"
      ]
     },
     "execution_count": 15,
     "metadata": {},
     "output_type": "execute_result"
    }
   ],
   "source": [
    "mfcs_df.sort_values(by='code').tail()"
   ]
  },
  {
   "cell_type": "code",
   "execution_count": 21,
   "metadata": {},
   "outputs": [
    {
     "data": {
      "text/html": [
       "<div>\n",
       "<style scoped>\n",
       "    .dataframe tbody tr th:only-of-type {\n",
       "        vertical-align: middle;\n",
       "    }\n",
       "\n",
       "    .dataframe tbody tr th {\n",
       "        vertical-align: top;\n",
       "    }\n",
       "\n",
       "    .dataframe thead th {\n",
       "        text-align: right;\n",
       "    }\n",
       "</style>\n",
       "<table border=\"1\" class=\"dataframe\">\n",
       "  <thead>\n",
       "    <tr style=\"text-align: right;\">\n",
       "      <th></th>\n",
       "      <th>name</th>\n",
       "      <th>code</th>\n",
       "    </tr>\n",
       "  </thead>\n",
       "  <tbody>\n",
       "    <tr>\n",
       "      <th>414279</th>\n",
       "      <td>ANGLE GRINDER CIRCULAR HAND SAW CORDLESS CIRCU...</td>\n",
       "      <td>CIRCUL</td>\n",
       "    </tr>\n",
       "    <tr>\n",
       "      <th>2677365</th>\n",
       "      <td>PARTS FOR AGRICULTURAL MACHINE</td>\n",
       "      <td>CONSOL</td>\n",
       "    </tr>\n",
       "    <tr>\n",
       "      <th>1038439</th>\n",
       "      <td>COPPER CONCENTRATE</td>\n",
       "      <td>COPPER</td>\n",
       "    </tr>\n",
       "    <tr>\n",
       "      <th>1038454</th>\n",
       "      <td>COPPER CONCENTRATE</td>\n",
       "      <td>COPPER</td>\n",
       "    </tr>\n",
       "    <tr>\n",
       "      <th>1038437</th>\n",
       "      <td>COPPER CONCENTRATE</td>\n",
       "      <td>COPPER</td>\n",
       "    </tr>\n",
       "    <tr>\n",
       "      <th>...</th>\n",
       "      <td>...</td>\n",
       "      <td>...</td>\n",
       "    </tr>\n",
       "    <tr>\n",
       "      <th>1372537</th>\n",
       "      <td>ESCALATORS ESTKEK</td>\n",
       "      <td>XXXXXX</td>\n",
       "    </tr>\n",
       "    <tr>\n",
       "      <th>1372538</th>\n",
       "      <td>ESCALATORS ESTKEK</td>\n",
       "      <td>XXXXXX</td>\n",
       "    </tr>\n",
       "    <tr>\n",
       "      <th>4013088</th>\n",
       "      <td>ZERO SPANGLE</td>\n",
       "      <td>XXXXXX</td>\n",
       "    </tr>\n",
       "    <tr>\n",
       "      <th>3995359</th>\n",
       "      <td>YAMAHA CADDIE BAG YAMAHA BOSTON BAG WUK</td>\n",
       "      <td>YAMAHA</td>\n",
       "    </tr>\n",
       "    <tr>\n",
       "      <th>3307100</th>\n",
       "      <td>SLIPPER-WHITE</td>\n",
       "      <td>d=cont</td>\n",
       "    </tr>\n",
       "  </tbody>\n",
       "</table>\n",
       "<p>585 rows × 2 columns</p>\n",
       "</div>"
      ],
      "text/plain": [
       "                                                      name    code\n",
       "414279   ANGLE GRINDER CIRCULAR HAND SAW CORDLESS CIRCU...  CIRCUL\n",
       "2677365                     PARTS FOR AGRICULTURAL MACHINE  CONSOL\n",
       "1038439                                 COPPER CONCENTRATE  COPPER\n",
       "1038454                                 COPPER CONCENTRATE  COPPER\n",
       "1038437                                 COPPER CONCENTRATE  COPPER\n",
       "...                                                    ...     ...\n",
       "1372537                                  ESCALATORS ESTKEK  XXXXXX\n",
       "1372538                                  ESCALATORS ESTKEK  XXXXXX\n",
       "4013088                                       ZERO SPANGLE  XXXXXX\n",
       "3995359            YAMAHA CADDIE BAG YAMAHA BOSTON BAG WUK  YAMAHA\n",
       "3307100                                      SLIPPER-WHITE  d=cont\n",
       "\n",
       "[585 rows x 2 columns]"
      ]
     },
     "execution_count": 21,
     "metadata": {},
     "output_type": "execute_result"
    }
   ],
   "source": [
    "# error in code\n",
    "mfcs_df.loc[mfcs_df['code'].str.contains(r'[^\\d]{6}', regex=True)].sort_values(by='code')"
   ]
  },
  {
   "cell_type": "code",
   "execution_count": 22,
   "metadata": {},
   "outputs": [
    {
     "data": {
      "text/html": [
       "<div>\n",
       "<style scoped>\n",
       "    .dataframe tbody tr th:only-of-type {\n",
       "        vertical-align: middle;\n",
       "    }\n",
       "\n",
       "    .dataframe tbody tr th {\n",
       "        vertical-align: top;\n",
       "    }\n",
       "\n",
       "    .dataframe thead th {\n",
       "        text-align: right;\n",
       "    }\n",
       "</style>\n",
       "<table border=\"1\" class=\"dataframe\">\n",
       "  <thead>\n",
       "    <tr style=\"text-align: right;\">\n",
       "      <th></th>\n",
       "      <th>count</th>\n",
       "    </tr>\n",
       "    <tr>\n",
       "      <th>code</th>\n",
       "      <th></th>\n",
       "    </tr>\n",
       "  </thead>\n",
       "  <tbody>\n",
       "    <tr>\n",
       "      <th>000000</th>\n",
       "      <td>412</td>\n",
       "    </tr>\n",
       "    <tr>\n",
       "      <th>000010</th>\n",
       "      <td>2</td>\n",
       "    </tr>\n",
       "    <tr>\n",
       "      <th>000100</th>\n",
       "      <td>1005</td>\n",
       "    </tr>\n",
       "    <tr>\n",
       "      <th>000200</th>\n",
       "      <td>1</td>\n",
       "    </tr>\n",
       "    <tr>\n",
       "      <th>001000</th>\n",
       "      <td>5</td>\n",
       "    </tr>\n",
       "  </tbody>\n",
       "</table>\n",
       "</div>"
      ],
      "text/plain": [
       "        count\n",
       "code         \n",
       "000000    412\n",
       "000010      2\n",
       "000100   1005\n",
       "000200      1\n",
       "001000      5"
      ]
     },
     "execution_count": 22,
     "metadata": {},
     "output_type": "execute_result"
    }
   ],
   "source": [
    "# preprocessed code unique table\n",
    "code_count_mfcs_df = mfcs_df.loc[mfcs_df['code'].str.contains(r'[\\d]{6}', regex=True)].groupby('code').agg('count')\n",
    "code_count_mfcs_df.columns = ['count']\n",
    "code_count_mfcs_df.head()"
   ]
  },
  {
   "cell_type": "code",
   "execution_count": 27,
   "metadata": {},
   "outputs": [
    {
     "data": {
      "image/png": "[encoded data removed]",
      "text/plain": [
       "<Figure size 432x288 with 1 Axes>"
      ]
     },
     "metadata": {
      "needs_background": "light"
     },
     "output_type": "display_data"
    }
   ],
   "source": [
    "# Xaxis: Transfer code to cumulative ratio\n",
    "perc = np.linspace(0,100,len(code_count_mfcs_df))\n",
    "code_count_mfcs_df = code_count_mfcs_df.sort_values(by='count')\n",
    "code_count_mfcs_df['perc'] = perc\n",
    "ax = code_count_mfcs_df.set_index('perc').plot()\n",
    "ax.xaxis.set_major_formatter(mtick.PercentFormatter())\n",
    "plt.title('number of mfcs marine data by code')\n",
    "plt.xlabel('code\\ntotal: ' + str(len(code_count_mfcs_df)))\n",
    "plt.show()"
   ]
  },
  {
   "cell_type": "code",
   "execution_count": 26,
   "metadata": {},
   "outputs": [
    {
     "data": {
      "text/html": [
       "<div>\n",
       "<style scoped>\n",
       "    .dataframe tbody tr th:only-of-type {\n",
       "        vertical-align: middle;\n",
       "    }\n",
       "\n",
       "    .dataframe tbody tr th {\n",
       "        vertical-align: top;\n",
       "    }\n",
       "\n",
       "    .dataframe thead th {\n",
       "        text-align: right;\n",
       "    }\n",
       "</style>\n",
       "<table border=\"1\" class=\"dataframe\">\n",
       "  <thead>\n",
       "    <tr style=\"text-align: right;\">\n",
       "      <th></th>\n",
       "      <th>count</th>\n",
       "      <th>perc</th>\n",
       "    </tr>\n",
       "    <tr>\n",
       "      <th>code</th>\n",
       "      <th></th>\n",
       "      <th></th>\n",
       "    </tr>\n",
       "  </thead>\n",
       "  <tbody>\n",
       "    <tr>\n",
       "      <th>621700</th>\n",
       "      <td>40962</td>\n",
       "      <td>99.890988</td>\n",
       "    </tr>\n",
       "    <tr>\n",
       "      <th>860900</th>\n",
       "      <td>57622</td>\n",
       "      <td>99.903101</td>\n",
       "    </tr>\n",
       "    <tr>\n",
       "      <th>960100</th>\n",
       "      <td>79804</td>\n",
       "      <td>99.915213</td>\n",
       "    </tr>\n",
       "    <tr>\n",
       "      <th>848700</th>\n",
       "      <td>82824</td>\n",
       "      <td>99.927326</td>\n",
       "    </tr>\n",
       "    <tr>\n",
       "      <th>950420</th>\n",
       "      <td>106113</td>\n",
       "      <td>99.939438</td>\n",
       "    </tr>\n",
       "    <tr>\n",
       "      <th>630710</th>\n",
       "      <td>134195</td>\n",
       "      <td>99.951550</td>\n",
       "    </tr>\n",
       "    <tr>\n",
       "      <th>510720</th>\n",
       "      <td>187893</td>\n",
       "      <td>99.963663</td>\n",
       "    </tr>\n",
       "    <tr>\n",
       "      <th>630210</th>\n",
       "      <td>214889</td>\n",
       "      <td>99.975775</td>\n",
       "    </tr>\n",
       "    <tr>\n",
       "      <th>854300</th>\n",
       "      <td>489144</td>\n",
       "      <td>99.987888</td>\n",
       "    </tr>\n",
       "    <tr>\n",
       "      <th>630700</th>\n",
       "      <td>596703</td>\n",
       "      <td>100.000000</td>\n",
       "    </tr>\n",
       "  </tbody>\n",
       "</table>\n",
       "</div>"
      ],
      "text/plain": [
       "         count        perc\n",
       "code                      \n",
       "621700   40962   99.890988\n",
       "860900   57622   99.903101\n",
       "960100   79804   99.915213\n",
       "848700   82824   99.927326\n",
       "950420  106113   99.939438\n",
       "630710  134195   99.951550\n",
       "510720  187893   99.963663\n",
       "630210  214889   99.975775\n",
       "854300  489144   99.987888\n",
       "630700  596703  100.000000"
      ]
     },
     "execution_count": 26,
     "metadata": {},
     "output_type": "execute_result"
    }
   ],
   "source": [
    "code_count_mfcs_df.tail(10)"
   ]
  },
  {
   "cell_type": "code",
   "execution_count": 4,
   "metadata": {},
   "outputs": [
    {
     "name": "stdout",
     "output_type": "stream",
     "text": [
      "total count: 4020031\n"
     ]
    }
   ],
   "source": [
    "print('total count:', len(trade_df))"
   ]
  },
  {
   "cell_type": "code",
   "execution_count": 5,
   "metadata": {
    "scrolled": true
   },
   "outputs": [
    {
     "name": "stdout",
     "output_type": "stream",
     "text": [
      "total count(duplicated name dropped): 1499956\n"
     ]
    }
   ],
   "source": [
    "print('total count(duplicated name dropped):', len(dropped_df))"
   ]
  },
  {
   "cell_type": "code",
   "execution_count": 6,
   "metadata": {},
   "outputs": [],
   "source": [
    "dropped_df = dropped_df.sort_values()"
   ]
  },
  {
   "cell_type": "code",
   "execution_count": 7,
   "metadata": {
    "scrolled": true
   },
   "outputs": [],
   "source": [
    "plt.rcParams[\"figure.figsize\"] = (40,15)"
   ]
  },
  {
   "cell_type": "code",
   "execution_count": 9,
   "metadata": {},
   "outputs": [
    {
     "data": {
      "text/plain": [
       "85153"
      ]
     },
     "execution_count": 9,
     "metadata": {},
     "output_type": "execute_result"
    }
   ],
   "source": [
    "dropped_df.max()"
   ]
  },
  {
   "cell_type": "markdown",
   "metadata": {},
   "source": [
    "## goglobal"
   ]
  },
  {
   "cell_type": "code",
   "execution_count": 89,
   "metadata": {},
   "outputs": [
    {
     "data": {
      "text/html": [
       "<div>\n",
       "<style scoped>\n",
       "    .dataframe tbody tr th:only-of-type {\n",
       "        vertical-align: middle;\n",
       "    }\n",
       "\n",
       "    .dataframe tbody tr th {\n",
       "        vertical-align: top;\n",
       "    }\n",
       "\n",
       "    .dataframe thead th {\n",
       "        text-align: right;\n",
       "    }\n",
       "</style>\n",
       "<table border=\"1\" class=\"dataframe\">\n",
       "  <thead>\n",
       "    <tr style=\"text-align: right;\">\n",
       "      <th></th>\n",
       "      <th>표준품명</th>\n",
       "      <th>거래품명</th>\n",
       "      <th>HSCODE</th>\n",
       "    </tr>\n",
       "  </thead>\n",
       "  <tbody>\n",
       "    <tr>\n",
       "      <th>0</th>\n",
       "      <td>ROAD WHEELS AND PARTS AND ACCESSORIES THEREOF</td>\n",
       "      <td>WHEEL CAP</td>\n",
       "      <td>8708700000</td>\n",
       "    </tr>\n",
       "    <tr>\n",
       "      <th>1</th>\n",
       "      <td>OTHER</td>\n",
       "      <td>HBS-900</td>\n",
       "      <td>8518309000</td>\n",
       "    </tr>\n",
       "    <tr>\n",
       "      <th>2</th>\n",
       "      <td>OTHER</td>\n",
       "      <td>BANILA CO-IT RADIANT CC C</td>\n",
       "      <td>330499</td>\n",
       "    </tr>\n",
       "    <tr>\n",
       "      <th>3</th>\n",
       "      <td>OF TEXTILE MATERIALS</td>\n",
       "      <td>CUTE BUGSY BAG</td>\n",
       "      <td>4202122000</td>\n",
       "    </tr>\n",
       "    <tr>\n",
       "      <th>4</th>\n",
       "      <td>OTHER</td>\n",
       "      <td>HEDAPHONE</td>\n",
       "      <td>8518109000</td>\n",
       "    </tr>\n",
       "  </tbody>\n",
       "</table>\n",
       "</div>"
      ],
      "text/plain": [
       "                                            표준품명                       거래품명  \\\n",
       "0  ROAD WHEELS AND PARTS AND ACCESSORIES THEREOF                  WHEEL CAP   \n",
       "1                                          OTHER                    HBS-900   \n",
       "2                                          OTHER  BANILA CO-IT RADIANT CC C   \n",
       "3                           OF TEXTILE MATERIALS             CUTE BUGSY BAG   \n",
       "4                                          OTHER                  HEDAPHONE   \n",
       "\n",
       "       HSCODE  \n",
       "0  8708700000  \n",
       "1  8518309000  \n",
       "2      330499  \n",
       "3  4202122000  \n",
       "4  8518109000  "
      ]
     },
     "execution_count": 89,
     "metadata": {},
     "output_type": "execute_result"
    }
   ],
   "source": [
    "gogl_df = pd.read_excel(\"../data/goglobal/GOGLOBAL_ITEM.xlsx\", encoding=\"utf-8\")\n",
    "gogl_df.head()"
   ]
  },
  {
   "cell_type": "code",
   "execution_count": 35,
   "metadata": {},
   "outputs": [
    {
     "data": {
      "text/html": [
       "<div>\n",
       "<style scoped>\n",
       "    .dataframe tbody tr th:only-of-type {\n",
       "        vertical-align: middle;\n",
       "    }\n",
       "\n",
       "    .dataframe tbody tr th {\n",
       "        vertical-align: top;\n",
       "    }\n",
       "\n",
       "    .dataframe thead th {\n",
       "        text-align: right;\n",
       "    }\n",
       "</style>\n",
       "<table border=\"1\" class=\"dataframe\">\n",
       "  <thead>\n",
       "    <tr style=\"text-align: right;\">\n",
       "      <th></th>\n",
       "      <th>count</th>\n",
       "    </tr>\n",
       "    <tr>\n",
       "      <th>거래품명</th>\n",
       "      <th></th>\n",
       "    </tr>\n",
       "  </thead>\n",
       "  <tbody>\n",
       "    <tr>\n",
       "      <th>PHOTOBOOK F Y</th>\n",
       "      <td>1</td>\n",
       "    </tr>\n",
       "    <tr>\n",
       "      <th>\"1 SEC ALL-KILL REMOVER STICK\"</th>\n",
       "      <td>1</td>\n",
       "    </tr>\n",
       "    <tr>\n",
       "      <th>\"4D STICK 3.DIET BRONZER\"</th>\n",
       "      <td>1</td>\n",
       "    </tr>\n",
       "    <tr>\n",
       "      <th>\"4D STICK 4.DIAMOND HIGHLIGHT\"</th>\n",
       "      <td>1</td>\n",
       "    </tr>\n",
       "    <tr>\n",
       "      <th>\"ALL KILL PORE BRUSH\"</th>\n",
       "      <td>1</td>\n",
       "    </tr>\n",
       "  </tbody>\n",
       "</table>\n",
       "</div>"
      ],
      "text/plain": [
       "                                count\n",
       "거래품명                                 \n",
       " PHOTOBOOK F Y                      1\n",
       "\"1 SEC ALL-KILL REMOVER STICK\"      1\n",
       "\"4D STICK 3.DIET BRONZER\"           1\n",
       "\"4D STICK 4.DIAMOND HIGHLIGHT\"      1\n",
       "\"ALL KILL PORE BRUSH\"               1"
      ]
     },
     "execution_count": 35,
     "metadata": {},
     "output_type": "execute_result"
    }
   ],
   "source": [
    "name_count_gogl_df = gogl_df.groupby('거래품명').agg('count')\n",
    "name_count_gogl_df = name_count_gogl_df.drop('표준품명', axis=1)\n",
    "name_count_gogl_df.columns = ['count']\n",
    "name_count_gogl_df.head()"
   ]
  },
  {
   "cell_type": "code",
   "execution_count": 37,
   "metadata": {},
   "outputs": [
    {
     "data": {
      "image/png": "[encoded data removed]",
      "text/plain": [
       "<Figure size 432x288 with 1 Axes>"
      ]
     },
     "metadata": {
      "needs_background": "light"
     },
     "output_type": "display_data"
    }
   ],
   "source": [
    "# Xaxis: Transfer name to cumulative ratio\n",
    "perc = np.linspace(0,100,len(name_count_gogl_df))\n",
    "name_count_gogl_df = name_count_gogl_df.sort_values(by='count')\n",
    "name_count_gogl_df['perc'] = perc\n",
    "ax = name_count_gogl_df.set_index('perc').plot()\n",
    "ax.xaxis.set_major_formatter(mtick.PercentFormatter())\n",
    "plt.title('number of goglobal data')\n",
    "plt.xlabel('name of items\\ntotal: ' + str(len(name_count_gogl_df)))\n",
    "plt.show()"
   ]
  },
  {
   "cell_type": "code",
   "execution_count": 39,
   "metadata": {},
   "outputs": [
    {
     "data": {
      "text/html": [
       "<div>\n",
       "<style scoped>\n",
       "    .dataframe tbody tr th:only-of-type {\n",
       "        vertical-align: middle;\n",
       "    }\n",
       "\n",
       "    .dataframe tbody tr th {\n",
       "        vertical-align: top;\n",
       "    }\n",
       "\n",
       "    .dataframe thead th {\n",
       "        text-align: right;\n",
       "    }\n",
       "</style>\n",
       "<table border=\"1\" class=\"dataframe\">\n",
       "  <thead>\n",
       "    <tr style=\"text-align: right;\">\n",
       "      <th></th>\n",
       "      <th>표준품명</th>\n",
       "      <th>거래품명</th>\n",
       "      <th>HSCODE</th>\n",
       "    </tr>\n",
       "  </thead>\n",
       "  <tbody>\n",
       "    <tr>\n",
       "      <th>0</th>\n",
       "      <td>ROAD WHEELS AND PARTS AND ACCESSORIES THEREOF</td>\n",
       "      <td>WHEEL CAP</td>\n",
       "      <td>8708700000</td>\n",
       "    </tr>\n",
       "    <tr>\n",
       "      <th>1</th>\n",
       "      <td>OTHER</td>\n",
       "      <td>HBS</td>\n",
       "      <td>8518309000</td>\n",
       "    </tr>\n",
       "    <tr>\n",
       "      <th>2</th>\n",
       "      <td>OTHER</td>\n",
       "      <td>BANILA CO-IT RADIANT CC</td>\n",
       "      <td>330499</td>\n",
       "    </tr>\n",
       "    <tr>\n",
       "      <th>3</th>\n",
       "      <td>OF TEXTILE MATERIALS</td>\n",
       "      <td>CUTE BUGSY BAG</td>\n",
       "      <td>4202122000</td>\n",
       "    </tr>\n",
       "    <tr>\n",
       "      <th>4</th>\n",
       "      <td>OTHER</td>\n",
       "      <td>HEDAPHONE</td>\n",
       "      <td>8518109000</td>\n",
       "    </tr>\n",
       "  </tbody>\n",
       "</table>\n",
       "</div>"
      ],
      "text/plain": [
       "                                            표준품명                     거래품명  \\\n",
       "0  ROAD WHEELS AND PARTS AND ACCESSORIES THEREOF                WHEEL CAP   \n",
       "1                                          OTHER                      HBS   \n",
       "2                                          OTHER  BANILA CO-IT RADIANT CC   \n",
       "3                           OF TEXTILE MATERIALS           CUTE BUGSY BAG   \n",
       "4                                          OTHER                HEDAPHONE   \n",
       "\n",
       "       HSCODE  \n",
       "0  8708700000  \n",
       "1  8518309000  \n",
       "2      330499  \n",
       "3  4202122000  \n",
       "4  8518109000  "
      ]
     },
     "execution_count": 39,
     "metadata": {},
     "output_type": "execute_result"
    }
   ],
   "source": [
    "prep_gogl_df = gogl_df\n",
    "prep_gogl_df['거래품명'] = prep_gogl_df['거래품명'].str.upper().replace(r'[^A-Z\\- ]+', ' ', regex=True)\\\n",
    "                    .replace(r'\\B[\\-]\\B|\\B[\\-]|[\\-]\\B', ' ', regex=True)\\\n",
    "                    .replace(r'((?<=^)|(?<=\\s))\\w(?=(\\s|$))', ' ', regex=True)\\\n",
    "                    .replace(r'\\s{2,}', ' ', regex=True)\\\n",
    "                    .str.strip()\n",
    "prep_gogl_df.head()"
   ]
  },
  {
   "cell_type": "code",
   "execution_count": 43,
   "metadata": {},
   "outputs": [
    {
     "data": {
      "text/html": [
       "<div>\n",
       "<style scoped>\n",
       "    .dataframe tbody tr th:only-of-type {\n",
       "        vertical-align: middle;\n",
       "    }\n",
       "\n",
       "    .dataframe tbody tr th {\n",
       "        vertical-align: top;\n",
       "    }\n",
       "\n",
       "    .dataframe thead th {\n",
       "        text-align: right;\n",
       "    }\n",
       "</style>\n",
       "<table border=\"1\" class=\"dataframe\">\n",
       "  <thead>\n",
       "    <tr style=\"text-align: right;\">\n",
       "      <th></th>\n",
       "      <th>count</th>\n",
       "    </tr>\n",
       "    <tr>\n",
       "      <th>거래품명</th>\n",
       "      <th></th>\n",
       "    </tr>\n",
       "  </thead>\n",
       "  <tbody>\n",
       "    <tr>\n",
       "      <th></th>\n",
       "      <td>5750</td>\n",
       "    </tr>\n",
       "    <tr>\n",
       "      <th>A-LINE DRESS</th>\n",
       "      <td>1</td>\n",
       "    </tr>\n",
       "    <tr>\n",
       "      <th>AA</th>\n",
       "      <td>1</td>\n",
       "    </tr>\n",
       "    <tr>\n",
       "      <th>AA WOOL SOCKS</th>\n",
       "      <td>1</td>\n",
       "    </tr>\n",
       "    <tr>\n",
       "      <th>AA-AE</th>\n",
       "      <td>3</td>\n",
       "    </tr>\n",
       "  </tbody>\n",
       "</table>\n",
       "</div>"
      ],
      "text/plain": [
       "               count\n",
       "거래품명                \n",
       "                5750\n",
       "A-LINE DRESS       1\n",
       "AA                 1\n",
       "AA WOOL SOCKS      1\n",
       "AA-AE              3"
      ]
     },
     "execution_count": 43,
     "metadata": {},
     "output_type": "execute_result"
    }
   ],
   "source": [
    "# preprocessed name unique table\n",
    "name_count_prep_gogl_df = prep_gogl_df.groupby('거래품명').agg('count')\n",
    "name_count_prep_gogl_df = name_count_prep_gogl_df.drop('표준품명', axis=1)\n",
    "name_count_prep_gogl_df.columns = ['count']\n",
    "name_count_prep_gogl_df.head()"
   ]
  },
  {
   "cell_type": "code",
   "execution_count": 44,
   "metadata": {},
   "outputs": [
    {
     "data": {
      "image/png": "[encoded data removed]",
      "text/plain": [
       "<Figure size 432x288 with 1 Axes>"
      ]
     },
     "metadata": {
      "needs_background": "light"
     },
     "output_type": "display_data"
    }
   ],
   "source": [
    "# Xaxis: Transfer name to cumulative ratio\n",
    "perc = np.linspace(0,100,len(name_count_prep_gogl_df))\n",
    "name_count_prep_gogl_df = name_count_prep_gogl_df.sort_values(by='count')\n",
    "name_count_prep_gogl_df['perc'] = perc\n",
    "ax = name_count_prep_gogl_df.set_index('perc').plot()\n",
    "ax.xaxis.set_major_formatter(mtick.PercentFormatter())\n",
    "plt.title('number of goglobal data (preprocessed)')\n",
    "plt.xlabel('name of items\\ntotal: ' + str(len(name_count_prep_gogl_df)))\n",
    "plt.show()"
   ]
  },
  {
   "cell_type": "code",
   "execution_count": 45,
   "metadata": {},
   "outputs": [
    {
     "data": {
      "text/html": [
       "<div>\n",
       "<style scoped>\n",
       "    .dataframe tbody tr th:only-of-type {\n",
       "        vertical-align: middle;\n",
       "    }\n",
       "\n",
       "    .dataframe tbody tr th {\n",
       "        vertical-align: top;\n",
       "    }\n",
       "\n",
       "    .dataframe thead th {\n",
       "        text-align: right;\n",
       "    }\n",
       "</style>\n",
       "<table border=\"1\" class=\"dataframe\">\n",
       "  <thead>\n",
       "    <tr style=\"text-align: right;\">\n",
       "      <th></th>\n",
       "      <th>count</th>\n",
       "      <th>perc</th>\n",
       "    </tr>\n",
       "    <tr>\n",
       "      <th>거래품명</th>\n",
       "      <th></th>\n",
       "      <th></th>\n",
       "    </tr>\n",
       "  </thead>\n",
       "  <tbody>\n",
       "    <tr>\n",
       "      <th>TJ ZHANG</th>\n",
       "      <td>440</td>\n",
       "      <td>99.996832</td>\n",
       "    </tr>\n",
       "    <tr>\n",
       "      <th>TAKARA TOMY BEYBLADE BURST</th>\n",
       "      <td>442</td>\n",
       "      <td>99.997624</td>\n",
       "    </tr>\n",
       "    <tr>\n",
       "      <th>TJ WANG</th>\n",
       "      <td>473</td>\n",
       "      <td>99.998416</td>\n",
       "    </tr>\n",
       "    <tr>\n",
       "      <th>CHENWANTONG</th>\n",
       "      <td>715</td>\n",
       "      <td>99.999208</td>\n",
       "    </tr>\n",
       "    <tr>\n",
       "      <th></th>\n",
       "      <td>5750</td>\n",
       "      <td>100.000000</td>\n",
       "    </tr>\n",
       "  </tbody>\n",
       "</table>\n",
       "</div>"
      ],
      "text/plain": [
       "                            count        perc\n",
       "거래품명                                         \n",
       "TJ ZHANG                      440   99.996832\n",
       "TAKARA TOMY BEYBLADE BURST    442   99.997624\n",
       "TJ WANG                       473   99.998416\n",
       "CHENWANTONG                   715   99.999208\n",
       "                             5750  100.000000"
      ]
     },
     "execution_count": 45,
     "metadata": {},
     "output_type": "execute_result"
    }
   ],
   "source": [
    "name_count_prep_gogl_df.tail()"
   ]
  },
  {
   "cell_type": "code",
   "execution_count": 54,
   "metadata": {},
   "outputs": [
    {
     "data": {
      "image/png": "[encoded data removed]",
      "text/plain": [
       "<Figure size 432x288 with 1 Axes>"
      ]
     },
     "metadata": {
      "needs_background": "light"
     },
     "output_type": "display_data"
    }
   ],
   "source": [
    "# Xaxis: Transfer name to cumulative ratio\n",
    "perc = np.linspace(0,100,len(name_count_prep_gogl_df))\n",
    "name_count_prep_gogl_df = name_count_prep_gogl_df.sort_values(by='count')\n",
    "name_count_prep_gogl_df['perc'] = perc\n",
    "ax = name_count_prep_gogl_df.set_index('perc').iloc[:-1].plot()\n",
    "ax.xaxis.set_major_formatter(mtick.PercentFormatter())\n",
    "plt.title('number of goglobal data (preprocessed) ~-1')\n",
    "plt.xlabel('name of items\\ntotal: ' + str(len(name_count_prep_gogl_df)))\n",
    "plt.show()"
   ]
  },
  {
   "cell_type": "code",
   "execution_count": 55,
   "metadata": {},
   "outputs": [
    {
     "data": {
      "text/html": [
       "<div>\n",
       "<style scoped>\n",
       "    .dataframe tbody tr th:only-of-type {\n",
       "        vertical-align: middle;\n",
       "    }\n",
       "\n",
       "    .dataframe tbody tr th {\n",
       "        vertical-align: top;\n",
       "    }\n",
       "\n",
       "    .dataframe thead th {\n",
       "        text-align: right;\n",
       "    }\n",
       "</style>\n",
       "<table border=\"1\" class=\"dataframe\">\n",
       "  <thead>\n",
       "    <tr style=\"text-align: right;\">\n",
       "      <th></th>\n",
       "      <th>표준품명</th>\n",
       "      <th>거래품명</th>\n",
       "      <th>HSCODE</th>\n",
       "    </tr>\n",
       "  </thead>\n",
       "  <tbody>\n",
       "    <tr>\n",
       "      <th>174129</th>\n",
       "      <td>OTHER</td>\n",
       "      <td>PHOTOGRAPH SET</td>\n",
       "      <td>9701900000</td>\n",
       "    </tr>\n",
       "    <tr>\n",
       "      <th>1792</th>\n",
       "      <td>OTHER</td>\n",
       "      <td>PHOTOGRAPH</td>\n",
       "      <td>9701900000</td>\n",
       "    </tr>\n",
       "    <tr>\n",
       "      <th>142732</th>\n",
       "      <td>OTHER</td>\n",
       "      <td>IRENE PHOTO STICKER</td>\n",
       "      <td>9701900000</td>\n",
       "    </tr>\n",
       "    <tr>\n",
       "      <th>80488</th>\n",
       "      <td>OTHER</td>\n",
       "      <td>BLACKPINK CD</td>\n",
       "      <td>9704009000</td>\n",
       "    </tr>\n",
       "    <tr>\n",
       "      <th>17730</th>\n",
       "      <td>OTHER</td>\n",
       "      <td>BTS DVD DISC</td>\n",
       "      <td>9704009000</td>\n",
       "    </tr>\n",
       "  </tbody>\n",
       "</table>\n",
       "</div>"
      ],
      "text/plain": [
       "         표준품명                 거래품명      HSCODE\n",
       "174129  OTHER       PHOTOGRAPH SET  9701900000\n",
       "1792    OTHER           PHOTOGRAPH  9701900000\n",
       "142732  OTHER  IRENE PHOTO STICKER  9701900000\n",
       "80488   OTHER         BLACKPINK CD  9704009000\n",
       "17730   OTHER         BTS DVD DISC  9704009000"
      ]
     },
     "execution_count": 55,
     "metadata": {},
     "output_type": "execute_result"
    }
   ],
   "source": [
    "gogl_df.sort_values(by='HSCODE').tail()"
   ]
  },
  {
   "cell_type": "code",
   "execution_count": 56,
   "metadata": {},
   "outputs": [
    {
     "data": {
      "text/html": [
       "<div>\n",
       "<style scoped>\n",
       "    .dataframe tbody tr th:only-of-type {\n",
       "        vertical-align: middle;\n",
       "    }\n",
       "\n",
       "    .dataframe tbody tr th {\n",
       "        vertical-align: top;\n",
       "    }\n",
       "\n",
       "    .dataframe thead th {\n",
       "        text-align: right;\n",
       "    }\n",
       "</style>\n",
       "<table border=\"1\" class=\"dataframe\">\n",
       "  <thead>\n",
       "    <tr style=\"text-align: right;\">\n",
       "      <th></th>\n",
       "      <th>표준품명</th>\n",
       "      <th>거래품명</th>\n",
       "      <th>HSCODE</th>\n",
       "    </tr>\n",
       "  </thead>\n",
       "  <tbody>\n",
       "    <tr>\n",
       "      <th>110463</th>\n",
       "      <td>PRINTED BOOKS, BROCHURES, LEAFLETS AND SIMILAR...</td>\n",
       "      <td>BOOK</td>\n",
       "      <td>4901</td>\n",
       "    </tr>\n",
       "    <tr>\n",
       "      <th>157595</th>\n",
       "      <td>ABALONE</td>\n",
       "      <td>ABALONE</td>\n",
       "      <td>160557</td>\n",
       "    </tr>\n",
       "    <tr>\n",
       "      <th>110464</th>\n",
       "      <td>OTHER PASTA</td>\n",
       "      <td>NOODLE</td>\n",
       "      <td>190230</td>\n",
       "    </tr>\n",
       "    <tr>\n",
       "      <th>46936</th>\n",
       "      <td>OTHER, INCLUDING MIXTURES</td>\n",
       "      <td>GILIM-HONEY BUTTER ALMOND</td>\n",
       "      <td>200819</td>\n",
       "    </tr>\n",
       "    <tr>\n",
       "      <th>187867</th>\n",
       "      <td>OTHER</td>\n",
       "      <td>CJ-BIBIGO SEAWEED CRISPS</td>\n",
       "      <td>200899</td>\n",
       "    </tr>\n",
       "  </tbody>\n",
       "</table>\n",
       "</div>"
      ],
      "text/plain": [
       "                                                     표준품명  \\\n",
       "110463  PRINTED BOOKS, BROCHURES, LEAFLETS AND SIMILAR...   \n",
       "157595                                            ABALONE   \n",
       "110464                                        OTHER PASTA   \n",
       "46936                           OTHER, INCLUDING MIXTURES   \n",
       "187867                                              OTHER   \n",
       "\n",
       "                             거래품명  HSCODE  \n",
       "110463                       BOOK    4901  \n",
       "157595                    ABALONE  160557  \n",
       "110464                     NOODLE  190230  \n",
       "46936   GILIM-HONEY BUTTER ALMOND  200819  \n",
       "187867   CJ-BIBIGO SEAWEED CRISPS  200899  "
      ]
     },
     "execution_count": 56,
     "metadata": {},
     "output_type": "execute_result"
    }
   ],
   "source": [
    "gogl_df.sort_values(by='HSCODE').head()"
   ]
  },
  {
   "cell_type": "code",
   "execution_count": 90,
   "metadata": {},
   "outputs": [
    {
     "data": {
      "text/plain": [
       "표준품명      object\n",
       "거래품명      object\n",
       "HSCODE    object\n",
       "dtype: object"
      ]
     },
     "execution_count": 90,
     "metadata": {},
     "output_type": "execute_result"
    }
   ],
   "source": [
    "gogl_df = gogl_df.astype({'HSCODE': str})\n",
    "gogl_df.dtypes"
   ]
  },
  {
   "cell_type": "code",
   "execution_count": 91,
   "metadata": {},
   "outputs": [
    {
     "data": {
      "text/html": [
       "<div>\n",
       "<style scoped>\n",
       "    .dataframe tbody tr th:only-of-type {\n",
       "        vertical-align: middle;\n",
       "    }\n",
       "\n",
       "    .dataframe tbody tr th {\n",
       "        vertical-align: top;\n",
       "    }\n",
       "\n",
       "    .dataframe thead th {\n",
       "        text-align: right;\n",
       "    }\n",
       "</style>\n",
       "<table border=\"1\" class=\"dataframe\">\n",
       "  <thead>\n",
       "    <tr style=\"text-align: right;\">\n",
       "      <th></th>\n",
       "      <th>표준품명</th>\n",
       "      <th>거래품명</th>\n",
       "      <th>HSCODE</th>\n",
       "    </tr>\n",
       "  </thead>\n",
       "  <tbody>\n",
       "    <tr>\n",
       "      <th>0</th>\n",
       "      <td>ROAD WHEELS AND PARTS AND ACCESSORIES THEREOF</td>\n",
       "      <td>WHEEL CAP</td>\n",
       "      <td>870870</td>\n",
       "    </tr>\n",
       "    <tr>\n",
       "      <th>1</th>\n",
       "      <td>OTHER</td>\n",
       "      <td>HBS-900</td>\n",
       "      <td>851830</td>\n",
       "    </tr>\n",
       "    <tr>\n",
       "      <th>2</th>\n",
       "      <td>OTHER</td>\n",
       "      <td>BANILA CO-IT RADIANT CC C</td>\n",
       "      <td>330499</td>\n",
       "    </tr>\n",
       "    <tr>\n",
       "      <th>3</th>\n",
       "      <td>OF TEXTILE MATERIALS</td>\n",
       "      <td>CUTE BUGSY BAG</td>\n",
       "      <td>420212</td>\n",
       "    </tr>\n",
       "    <tr>\n",
       "      <th>4</th>\n",
       "      <td>OTHER</td>\n",
       "      <td>HEDAPHONE</td>\n",
       "      <td>851810</td>\n",
       "    </tr>\n",
       "  </tbody>\n",
       "</table>\n",
       "</div>"
      ],
      "text/plain": [
       "                                            표준품명                       거래품명  \\\n",
       "0  ROAD WHEELS AND PARTS AND ACCESSORIES THEREOF                  WHEEL CAP   \n",
       "1                                          OTHER                    HBS-900   \n",
       "2                                          OTHER  BANILA CO-IT RADIANT CC C   \n",
       "3                           OF TEXTILE MATERIALS             CUTE BUGSY BAG   \n",
       "4                                          OTHER                  HEDAPHONE   \n",
       "\n",
       "   HSCODE  \n",
       "0  870870  \n",
       "1  851830  \n",
       "2  330499  \n",
       "3  420212  \n",
       "4  851810  "
      ]
     },
     "execution_count": 91,
     "metadata": {},
     "output_type": "execute_result"
    }
   ],
   "source": [
    "gogl_df['HSCODE'] = gogl_df['HSCODE'].str.slice(stop=6)\n",
    "gogl_df.head()"
   ]
  },
  {
   "cell_type": "code",
   "execution_count": 92,
   "metadata": {
    "scrolled": true
   },
   "outputs": [
    {
     "data": {
      "text/html": [
       "<div>\n",
       "<style scoped>\n",
       "    .dataframe tbody tr th:only-of-type {\n",
       "        vertical-align: middle;\n",
       "    }\n",
       "\n",
       "    .dataframe tbody tr th {\n",
       "        vertical-align: top;\n",
       "    }\n",
       "\n",
       "    .dataframe thead th {\n",
       "        text-align: right;\n",
       "    }\n",
       "</style>\n",
       "<table border=\"1\" class=\"dataframe\">\n",
       "  <thead>\n",
       "    <tr style=\"text-align: right;\">\n",
       "      <th></th>\n",
       "      <th>표준품명</th>\n",
       "      <th>거래품명</th>\n",
       "      <th>HSCODE</th>\n",
       "    </tr>\n",
       "  </thead>\n",
       "  <tbody>\n",
       "    <tr>\n",
       "      <th>110463</th>\n",
       "      <td>PRINTED BOOKS, BROCHURES, LEAFLETS AND SIMILAR...</td>\n",
       "      <td>BOOK</td>\n",
       "      <td>4901</td>\n",
       "    </tr>\n",
       "  </tbody>\n",
       "</table>\n",
       "</div>"
      ],
      "text/plain": [
       "                                                     표준품명  거래품명 HSCODE\n",
       "110463  PRINTED BOOKS, BROCHURES, LEAFLETS AND SIMILAR...  BOOK   4901"
      ]
     },
     "execution_count": 92,
     "metadata": {},
     "output_type": "execute_result"
    }
   ],
   "source": [
    "gogl_df.loc[gogl_df['HSCODE'].str.len() < 6]"
   ]
  },
  {
   "cell_type": "code",
   "execution_count": 93,
   "metadata": {},
   "outputs": [
    {
     "data": {
      "text/html": [
       "<div>\n",
       "<style scoped>\n",
       "    .dataframe tbody tr th:only-of-type {\n",
       "        vertical-align: middle;\n",
       "    }\n",
       "\n",
       "    .dataframe tbody tr th {\n",
       "        vertical-align: top;\n",
       "    }\n",
       "\n",
       "    .dataframe thead th {\n",
       "        text-align: right;\n",
       "    }\n",
       "</style>\n",
       "<table border=\"1\" class=\"dataframe\">\n",
       "  <thead>\n",
       "    <tr style=\"text-align: right;\">\n",
       "      <th></th>\n",
       "      <th>표준품명</th>\n",
       "      <th>거래품명</th>\n",
       "      <th>HSCODE</th>\n",
       "    </tr>\n",
       "  </thead>\n",
       "  <tbody>\n",
       "    <tr>\n",
       "      <th>0</th>\n",
       "      <td>ROAD WHEELS AND PARTS AND ACCESSORIES THEREOF</td>\n",
       "      <td>WHEEL CAP</td>\n",
       "      <td>870870</td>\n",
       "    </tr>\n",
       "    <tr>\n",
       "      <th>1</th>\n",
       "      <td>OTHER</td>\n",
       "      <td>HBS-900</td>\n",
       "      <td>851830</td>\n",
       "    </tr>\n",
       "    <tr>\n",
       "      <th>2</th>\n",
       "      <td>OTHER</td>\n",
       "      <td>BANILA CO-IT RADIANT CC C</td>\n",
       "      <td>330499</td>\n",
       "    </tr>\n",
       "    <tr>\n",
       "      <th>3</th>\n",
       "      <td>OF TEXTILE MATERIALS</td>\n",
       "      <td>CUTE BUGSY BAG</td>\n",
       "      <td>420212</td>\n",
       "    </tr>\n",
       "    <tr>\n",
       "      <th>4</th>\n",
       "      <td>OTHER</td>\n",
       "      <td>HEDAPHONE</td>\n",
       "      <td>851810</td>\n",
       "    </tr>\n",
       "  </tbody>\n",
       "</table>\n",
       "</div>"
      ],
      "text/plain": [
       "                                            표준품명                       거래품명  \\\n",
       "0  ROAD WHEELS AND PARTS AND ACCESSORIES THEREOF                  WHEEL CAP   \n",
       "1                                          OTHER                    HBS-900   \n",
       "2                                          OTHER  BANILA CO-IT RADIANT CC C   \n",
       "3                           OF TEXTILE MATERIALS             CUTE BUGSY BAG   \n",
       "4                                          OTHER                  HEDAPHONE   \n",
       "\n",
       "   HSCODE  \n",
       "0  870870  \n",
       "1  851830  \n",
       "2  330499  \n",
       "3  420212  \n",
       "4  851810  "
      ]
     },
     "execution_count": 93,
     "metadata": {},
     "output_type": "execute_result"
    }
   ],
   "source": [
    "gogl_df.head()"
   ]
  },
  {
   "cell_type": "code",
   "execution_count": 16,
   "metadata": {},
   "outputs": [
    {
     "name": "stdout",
     "output_type": "stream",
     "text": [
      "total count: 250351\n",
      "total count(duplicated name dropped): 208542\n"
     ]
    }
   ],
   "source": [
    "print('total count:', len(gogl_df))\n",
    "print('total count(duplicated name dropped):', len(dropped_df))"
   ]
  },
  {
   "cell_type": "code",
   "execution_count": null,
   "metadata": {},
   "outputs": [],
   "source": []
  },
  {
   "cell_type": "code",
   "execution_count": 17,
   "metadata": {},
   "outputs": [],
   "source": [
    "dropped_df = dropped_df.sort_values()"
   ]
  },
  {
   "cell_type": "code",
   "execution_count": 18,
   "metadata": {},
   "outputs": [
    {
     "data": {
      "text/plain": [
       "<matplotlib.axes._subplots.AxesSubplot at 0x7f53f6ce2d30>"
      ]
     },
     "execution_count": 18,
     "metadata": {},
     "output_type": "execute_result"
    },
    {
     "data": {
      "image/png": "[encoded data removed]",
      "text/plain": [
       "<Figure size 432x288 with 1 Axes>"
      ]
     },
     "metadata": {
      "needs_background": "light"
     },
     "output_type": "display_data"
    }
   ],
   "source": [
    "dropped_df.plot()"
   ]
  },
  {
   "cell_type": "code",
   "execution_count": 19,
   "metadata": {},
   "outputs": [
    {
     "data": {
      "text/plain": [
       "23"
      ]
     },
     "execution_count": 19,
     "metadata": {},
     "output_type": "execute_result"
    }
   ],
   "source": [
    "dropped_df.max()"
   ]
  },
  {
   "cell_type": "code",
   "execution_count": 26,
   "metadata": {},
   "outputs": [
    {
     "data": {
      "text/plain": [
       "<bound method NDFrame.head of                                                  표준품명  \\\n",
       "0       ROAD WHEELS AND PARTS AND ACCESSORIES THEREOF   \n",
       "1                                               OTHER   \n",
       "2                                               OTHER   \n",
       "3                                OF TEXTILE MATERIALS   \n",
       "4                                               OTHER   \n",
       "...                                               ...   \n",
       "250346                                         HOODIE   \n",
       "250347                                      OUTERCOAT   \n",
       "250348                                          SKIRT   \n",
       "250349                                        TSHIRTS   \n",
       "250350                                       ONEPIECE   \n",
       "\n",
       "                           거래품명      HSCODE  \n",
       "0                     WHEEL CAP  8708700000  \n",
       "1                           HBS  8518309000  \n",
       "2       BANILA CO-IT RADIANT CC      330499  \n",
       "3                CUTE BUGSY BAG  4202122000  \n",
       "4                     HEDAPHONE  8518109000  \n",
       "...                         ...         ...  \n",
       "250346                  LINJING  6109101000  \n",
       "250347                  CHENCAN  6201931000  \n",
       "250348             ZHONGWENTING  4203109070  \n",
       "250349                  LINJING  6109109000  \n",
       "250350                     LILI  6204430000  \n",
       "\n",
       "[250351 rows x 3 columns]>"
      ]
     },
     "execution_count": 26,
     "metadata": {},
     "output_type": "execute_result"
    }
   ],
   "source": [
    "gogl_df['거래품명'] = gogl_df['거래품명'].str.replace(r'[^a-zA-Z\\- ]+', ' ', regex=True)\\\n",
    "                    .replace(r'\\B[\\-]\\B|\\B[\\-]|[\\-]\\B', '', regex=True)\\\n",
    "                    .replace(r'\\s[a-zA-Z]\\s|\\s[a-zA-Z]$|^[a-zA-Z]\\s', '', regex=True)\\\n",
    "                    .replace(r'\\s{2,}', ' ', regex=True)\\\n",
    "                    .str.upper().str.strip()\n",
    "gogl_df.head"
   ]
  },
  {
   "cell_type": "code",
   "execution_count": 27,
   "metadata": {
    "scrolled": false
   },
   "outputs": [
    {
     "data": {
      "text/html": [
       "<div>\n",
       "<style scoped>\n",
       "    .dataframe tbody tr th:only-of-type {\n",
       "        vertical-align: middle;\n",
       "    }\n",
       "\n",
       "    .dataframe tbody tr th {\n",
       "        vertical-align: top;\n",
       "    }\n",
       "\n",
       "    .dataframe thead th {\n",
       "        text-align: right;\n",
       "    }\n",
       "</style>\n",
       "<table border=\"1\" class=\"dataframe\">\n",
       "  <thead>\n",
       "    <tr style=\"text-align: right;\">\n",
       "      <th></th>\n",
       "      <th>표준품명</th>\n",
       "      <th>거래품명</th>\n",
       "      <th>HSCODE</th>\n",
       "    </tr>\n",
       "  </thead>\n",
       "  <tbody>\n",
       "    <tr>\n",
       "      <th>0</th>\n",
       "      <td>ROAD WHEELS AND PARTS AND ACCESSORIES THEREOF</td>\n",
       "      <td>WHEEL CAP</td>\n",
       "      <td>8708700000</td>\n",
       "    </tr>\n",
       "    <tr>\n",
       "      <th>1</th>\n",
       "      <td>OTHER</td>\n",
       "      <td>HBS</td>\n",
       "      <td>8518309000</td>\n",
       "    </tr>\n",
       "    <tr>\n",
       "      <th>2</th>\n",
       "      <td>OTHER</td>\n",
       "      <td>BANILA CO-IT RADIANT CC</td>\n",
       "      <td>330499</td>\n",
       "    </tr>\n",
       "    <tr>\n",
       "      <th>3</th>\n",
       "      <td>OF TEXTILE MATERIALS</td>\n",
       "      <td>CUTE BUGSY BAG</td>\n",
       "      <td>4202122000</td>\n",
       "    </tr>\n",
       "    <tr>\n",
       "      <th>4</th>\n",
       "      <td>OTHER</td>\n",
       "      <td>HEDAPHONE</td>\n",
       "      <td>8518109000</td>\n",
       "    </tr>\n",
       "    <tr>\n",
       "      <th>...</th>\n",
       "      <td>...</td>\n",
       "      <td>...</td>\n",
       "      <td>...</td>\n",
       "    </tr>\n",
       "    <tr>\n",
       "      <th>250346</th>\n",
       "      <td>HOODIE</td>\n",
       "      <td>LINJING</td>\n",
       "      <td>6109101000</td>\n",
       "    </tr>\n",
       "    <tr>\n",
       "      <th>250347</th>\n",
       "      <td>OUTERCOAT</td>\n",
       "      <td>CHENCAN</td>\n",
       "      <td>6201931000</td>\n",
       "    </tr>\n",
       "    <tr>\n",
       "      <th>250348</th>\n",
       "      <td>SKIRT</td>\n",
       "      <td>ZHONGWENTING</td>\n",
       "      <td>4203109070</td>\n",
       "    </tr>\n",
       "    <tr>\n",
       "      <th>250349</th>\n",
       "      <td>TSHIRTS</td>\n",
       "      <td>LINJING</td>\n",
       "      <td>6109109000</td>\n",
       "    </tr>\n",
       "    <tr>\n",
       "      <th>250350</th>\n",
       "      <td>ONEPIECE</td>\n",
       "      <td>LILI</td>\n",
       "      <td>6204430000</td>\n",
       "    </tr>\n",
       "  </tbody>\n",
       "</table>\n",
       "<p>250351 rows × 3 columns</p>\n",
       "</div>"
      ],
      "text/plain": [
       "                                                 표준품명  \\\n",
       "0       ROAD WHEELS AND PARTS AND ACCESSORIES THEREOF   \n",
       "1                                               OTHER   \n",
       "2                                               OTHER   \n",
       "3                                OF TEXTILE MATERIALS   \n",
       "4                                               OTHER   \n",
       "...                                               ...   \n",
       "250346                                         HOODIE   \n",
       "250347                                      OUTERCOAT   \n",
       "250348                                          SKIRT   \n",
       "250349                                        TSHIRTS   \n",
       "250350                                       ONEPIECE   \n",
       "\n",
       "                           거래품명      HSCODE  \n",
       "0                     WHEEL CAP  8708700000  \n",
       "1                           HBS  8518309000  \n",
       "2       BANILA CO-IT RADIANT CC      330499  \n",
       "3                CUTE BUGSY BAG  4202122000  \n",
       "4                     HEDAPHONE  8518109000  \n",
       "...                         ...         ...  \n",
       "250346                  LINJING  6109101000  \n",
       "250347                  CHENCAN  6201931000  \n",
       "250348             ZHONGWENTING  4203109070  \n",
       "250349                  LINJING  6109109000  \n",
       "250350                     LILI  6204430000  \n",
       "\n",
       "[250351 rows x 3 columns]"
      ]
     },
     "execution_count": 27,
     "metadata": {},
     "output_type": "execute_result"
    }
   ],
   "source": [
    "gogl_df"
   ]
  },
  {
   "cell_type": "code",
   "execution_count": 28,
   "metadata": {},
   "outputs": [
    {
     "data": {
      "text/plain": [
       "거래품명\n",
       "                                    5694\n",
       "A                                     24\n",
       "A ABRAMS PLASTIC MODEL KIT             1\n",
       "A COLOR COMBINATION STRIPE SOCKS       1\n",
       "A FISH TAPE                            1\n",
       "dtype: int64"
      ]
     },
     "execution_count": 28,
     "metadata": {},
     "output_type": "execute_result"
    }
   ],
   "source": [
    "dropped_df = gogl_df.groupby('거래품명').agg('size')\n",
    "dropped_df.head()"
   ]
  },
  {
   "cell_type": "code",
   "execution_count": 29,
   "metadata": {},
   "outputs": [
    {
     "name": "stdout",
     "output_type": "stream",
     "text": [
      "total count: 250351\n",
      "total count(duplicated name dropped): 141503\n"
     ]
    }
   ],
   "source": [
    "print('total count:', len(gogl_df))\n",
    "print('total count(duplicated name dropped):', len(dropped_df))"
   ]
  },
  {
   "cell_type": "code",
   "execution_count": 30,
   "metadata": {},
   "outputs": [],
   "source": [
    "dropped_df = dropped_df.sort_values()"
   ]
  },
  {
   "cell_type": "code",
   "execution_count": 31,
   "metadata": {},
   "outputs": [
    {
     "data": {
      "text/plain": [
       "<matplotlib.axes._subplots.AxesSubplot at 0x7f53f036f780>"
      ]
     },
     "execution_count": 31,
     "metadata": {},
     "output_type": "execute_result"
    },
    {
     "data": {
      "image/png": "[encoded data removed]",
      "text/plain": [
       "<Figure size 432x288 with 1 Axes>"
      ]
     },
     "metadata": {
      "needs_background": "light"
     },
     "output_type": "display_data"
    }
   ],
   "source": [
    "dropped_df.plot()"
   ]
  },
  {
   "cell_type": "code",
   "execution_count": 34,
   "metadata": {},
   "outputs": [
    {
     "data": {
      "text/plain": [
       "거래품명\n",
       "    5694\n",
       "dtype: int64"
      ]
     },
     "execution_count": 34,
     "metadata": {},
     "output_type": "execute_result"
    }
   ],
   "source": [
    "dropped_df.loc[dropped_df == dropped_df.max()]"
   ]
  },
  {
   "cell_type": "code",
   "execution_count": 63,
   "metadata": {},
   "outputs": [
    {
     "data": {
      "text/plain": [
       "<matplotlib.axes._subplots.AxesSubplot at 0x7f53f11b4588>"
      ]
     },
     "execution_count": 63,
     "metadata": {},
     "output_type": "execute_result"
    },
    {
     "data": {
      "image/png": "[encoded data removed]",
      "text/plain": [
       "<Figure size 432x288 with 1 Axes>"
      ]
     },
     "metadata": {
      "needs_background": "light"
     },
     "output_type": "display_data"
    }
   ],
   "source": [
    "dropped_df.iloc[:-500].plot()"
   ]
  },
  {
   "cell_type": "code",
   "execution_count": 60,
   "metadata": {},
   "outputs": [
    {
     "data": {
      "text/plain": [
       "<matplotlib.axes._subplots.AxesSubplot at 0x7f53f10f5e80>"
      ]
     },
     "execution_count": 60,
     "metadata": {},
     "output_type": "execute_result"
    },
    {
     "data": {
      "image/png": "[encoded data removed]",
      "text/plain": [
       "<Figure size 432x288 with 1 Axes>"
      ]
     },
     "metadata": {
      "needs_background": "light"
     },
     "output_type": "display_data"
    }
   ],
   "source": [
    "dropped_df.iloc[141100:].plot()"
   ]
  },
  {
   "cell_type": "code",
   "execution_count": 68,
   "metadata": {
    "scrolled": true
   },
   "outputs": [
    {
     "data": {
      "text/plain": [
       "거래품명\n",
       "                              5694\n",
       "CHENWANTONG                    715\n",
       "TAKARA TOMY BEYBLADE BURST     442\n",
       "BANYINFU                       400\n",
       "DINGXUEQIANG                   355\n",
       "SHOE                           322\n",
       "ZHONGWENTING                   265\n",
       "TJWANG                         220\n",
       "TJZHANG                        213\n",
       "TJXIAOZHOU                     189\n",
       "dtype: int64"
      ]
     },
     "execution_count": 68,
     "metadata": {},
     "output_type": "execute_result"
    }
   ],
   "source": [
    "dropped_df.sort_values(ascending=False).head(10)"
   ]
  },
  {
   "cell_type": "markdown",
   "metadata": {},
   "source": [
    "## Preprecess test"
   ]
  },
  {
   "cell_type": "code",
   "execution_count": 50,
   "metadata": {},
   "outputs": [
    {
     "data": {
      "text/html": [
       "<div>\n",
       "<style scoped>\n",
       "    .dataframe tbody tr th:only-of-type {\n",
       "        vertical-align: middle;\n",
       "    }\n",
       "\n",
       "    .dataframe tbody tr th {\n",
       "        vertical-align: top;\n",
       "    }\n",
       "\n",
       "    .dataframe thead th {\n",
       "        text-align: right;\n",
       "    }\n",
       "</style>\n",
       "<table border=\"1\" class=\"dataframe\">\n",
       "  <thead>\n",
       "    <tr style=\"text-align: right;\">\n",
       "      <th></th>\n",
       "      <th>name</th>\n",
       "    </tr>\n",
       "  </thead>\n",
       "  <tbody>\n",
       "    <tr>\n",
       "      <th>0</th>\n",
       "      <td>A B WEFWEHK TEST</td>\n",
       "    </tr>\n",
       "    <tr>\n",
       "      <th>1</th>\n",
       "      <td>BB TEST TESTEST</td>\n",
       "    </tr>\n",
       "    <tr>\n",
       "      <th>2</th>\n",
       "      <td>TESTTE -TEST</td>\n",
       "    </tr>\n",
       "    <tr>\n",
       "      <th>3</th>\n",
       "      <td>T-SHIRT</td>\n",
       "    </tr>\n",
       "    <tr>\n",
       "      <th>4</th>\n",
       "      <td>TEST-TE</td>\n",
       "    </tr>\n",
       "    <tr>\n",
       "      <th>5</th>\n",
       "      <td>-T- -tiger-</td>\n",
       "    </tr>\n",
       "    <tr>\n",
       "      <th>6</th>\n",
       "      <td>H  E</td>\n",
       "    </tr>\n",
       "    <tr>\n",
       "      <th>7</th>\n",
       "      <td>TE</td>\n",
       "    </tr>\n",
       "  </tbody>\n",
       "</table>\n",
       "</div>"
      ],
      "text/plain": [
       "               name\n",
       "0  A B WEFWEHK TEST\n",
       "1   BB TEST TESTEST\n",
       "2      TESTTE -TEST\n",
       "3           T-SHIRT\n",
       "4           TEST-TE\n",
       "5       -T- -tiger-\n",
       "6        H  E      \n",
       "7                TE"
      ]
     },
     "execution_count": 50,
     "metadata": {},
     "output_type": "execute_result"
    }
   ],
   "source": [
    "df = pd.DataFrame({\"name\":[\"A B WEFWEHK TEST\",\"BB TEST TESTEST\", \"TESTTE -TEST\", \"T-SHIRT\", \"TEST-TE\", \"-T- -tiger-\", \"H  E      \", \"   TE\"]})\n",
    "df"
   ]
  },
  {
   "cell_type": "code",
   "execution_count": 63,
   "metadata": {},
   "outputs": [
    {
     "ename": "NameError",
     "evalue": "name 'a' is not defined",
     "output_type": "error",
     "traceback": [
      "\u001b[0;31m---------------------------------------------------------------------------\u001b[0m",
      "\u001b[0;31mNameError\u001b[0m                                 Traceback (most recent call last)",
      "\u001b[0;32m<ipython-input-63-fef3b7268530>\u001b[0m in \u001b[0;36m<module>\u001b[0;34m\u001b[0m\n\u001b[1;32m      4\u001b[0m                     \u001b[0;34m.\u001b[0m\u001b[0mreplace\u001b[0m\u001b[0;34m(\u001b[0m\u001b[0;34mr'\\s{2,}'\u001b[0m\u001b[0;34m,\u001b[0m \u001b[0;34m' '\u001b[0m\u001b[0;34m,\u001b[0m \u001b[0mregex\u001b[0m\u001b[0;34m=\u001b[0m\u001b[0;32mTrue\u001b[0m\u001b[0;34m)\u001b[0m\u001b[0;31m\\\u001b[0m\u001b[0;34m\u001b[0m\u001b[0m\n\u001b[1;32m      5\u001b[0m                     \u001b[0;34m.\u001b[0m\u001b[0mstr\u001b[0m\u001b[0;34m.\u001b[0m\u001b[0mstrip\u001b[0m\u001b[0;34m(\u001b[0m\u001b[0;34m)\u001b[0m\u001b[0;31m\\\u001b[0m\u001b[0;34m\u001b[0m\u001b[0m\n\u001b[0;32m----> 6\u001b[0;31m                     \u001b[0;34m.\u001b[0m\u001b[0mstr\u001b[0m\u001b[0;34m.\u001b[0m\u001b[0msplit\u001b[0m\u001b[0;34m(\u001b[0m\u001b[0;34m' '\u001b[0m\u001b[0;34m)\u001b[0m\u001b[0;34m.\u001b[0m\u001b[0mfilter\u001b[0m\u001b[0;34m(\u001b[0m\u001b[0ma\u001b[0m\u001b[0;34m.\u001b[0m\u001b[0mlength\u001b[0m \u001b[0;34m==\u001b[0m\u001b[0;36m1\u001b[0m\u001b[0;34m)\u001b[0m\u001b[0;34m\u001b[0m\u001b[0m\n\u001b[0m",
      "\u001b[0;31mNameError\u001b[0m: name 'a' is not defined"
     ]
    }
   ],
   "source": [
    "df.name.str.upper().replace(r'[^A-Z\\- ]+', ' ', regex=True)\\\n",
    "                    .replace(r'\\B[\\-]\\B|\\B[\\-]|[\\-]\\B', ' ', regex=True)\\\n",
    "                    .replace(r'((?<=^)|(?<=\\s))\\w(?=(\\s|$))', ' ', regex=True)\\\n",
    "                    .replace(r'\\s{2,}', ' ', regex=True)\\\n",
    "                    .str.strip()\\\n",
    "                    .str.split(' ').filter(a.length ==1)"
   ]
  },
  {
   "cell_type": "code",
   "execution_count": null,
   "metadata": {},
   "outputs": [],
   "source": []
  }
 ],
 "metadata": {
  "kernelspec": {
   "display_name": "Python 3",
   "language": "python",
   "name": "python3"
  },
  "language_info": {
   "codemirror_mode": {
    "name": "ipython",
    "version": 3
   },
   "file_extension": ".py",
   "mimetype": "text/x-python",
   "name": "python",
   "nbconvert_exporter": "python",
   "pygments_lexer": "ipython3",
   "version": "3.5.2"
  }
 },
 "nbformat": 4,
 "nbformat_minor": 4
}

{
 "cells": [
  {
   "cell_type": "code",
   "execution_count": 1,
   "metadata": {},
   "outputs": [],
   "source": [
    "import pandas as pd\n",
    "from sqlalchemy import create_engine\n",
    "import yaml"
   ]
  },
  {
   "cell_type": "code",
   "execution_count": 2,
   "metadata": {
    "scrolled": true
   },
   "outputs": [],
   "source": [
    "# Read csv\n",
    "trade_df = pd.read_csv(\"./data/trade.csv\", encoding=\"utf-8\", \n",
    "                       dtype={'HSCD': str, \"QTY\": float, 'BYRADDR2': str, 'SPLYADDR2': str})\n",
    "# trade_df.head()"
   ]
  },
  {
   "cell_type": "code",
   "execution_count": 4,
   "metadata": {},
   "outputs": [
    {
     "data": {
      "text/plain": [
       "Index(['HSCD', 'QTY', 'QTYUNIT', 'AMT', 'CUR', 'USDUNTPRICE', 'UNTPRICE',\n",
       "       'ITEM', 'BYRORGNM1', 'BYRPRTNUM', 'BYRADDR1', 'BYRADDR2', 'SPLYORGNM1',\n",
       "       'SPLYPRTNUM', 'SPLYADDR1', 'SPLYADDR2', 'ISSUEDT', 'TOTQTY',\n",
       "       'TOTQTYUNIT', 'TOTAMT', 'TOTAMTCUR'],\n",
       "      dtype='object')"
      ]
     },
     "execution_count": 4,
     "metadata": {},
     "output_type": "execute_result"
    }
   ],
   "source": [
    "trade_df.columns"
   ]
  },
  {
   "cell_type": "code",
   "execution_count": 9,
   "metadata": {},
   "outputs": [
    {
     "data": {
      "text/plain": [
       "2492786"
      ]
     },
     "execution_count": 9,
     "metadata": {},
     "output_type": "execute_result"
    }
   ],
   "source": [
    "len(trade_df)"
   ]
  },
  {
   "cell_type": "code",
   "execution_count": 3,
   "metadata": {},
   "outputs": [
    {
     "data": {
      "text/html": [
       "<div>\n",
       "<style scoped>\n",
       "    .dataframe tbody tr th:only-of-type {\n",
       "        vertical-align: middle;\n",
       "    }\n",
       "\n",
       "    .dataframe tbody tr th {\n",
       "        vertical-align: top;\n",
       "    }\n",
       "\n",
       "    .dataframe thead th {\n",
       "        text-align: right;\n",
       "    }\n",
       "</style>\n",
       "<table border=\"1\" class=\"dataframe\">\n",
       "  <thead>\n",
       "    <tr style=\"text-align: right;\">\n",
       "      <th></th>\n",
       "      <th>HSCD</th>\n",
       "      <th>AMT</th>\n",
       "      <th>ITEM</th>\n",
       "      <th>BYRORGNM1</th>\n",
       "      <th>SPLYORGNM1</th>\n",
       "      <th>ISSUEDT</th>\n",
       "      <th>TOTQTY</th>\n",
       "    </tr>\n",
       "  </thead>\n",
       "  <tbody>\n",
       "    <tr>\n",
       "      <th>0</th>\n",
       "      <td>7210491090</td>\n",
       "      <td>45360.00</td>\n",
       "      <td>GI COIL</td>\n",
       "      <td>주식회사 포스코대우</td>\n",
       "      <td>POSCO</td>\n",
       "      <td>20180227</td>\n",
       "      <td>565475000.0</td>\n",
       "    </tr>\n",
       "    <tr>\n",
       "      <th>1</th>\n",
       "      <td>7210491090</td>\n",
       "      <td>821355.00</td>\n",
       "      <td>GI COIL</td>\n",
       "      <td>주식회사 포스코대우</td>\n",
       "      <td>POSCO</td>\n",
       "      <td>20180227</td>\n",
       "      <td>565475000.0</td>\n",
       "    </tr>\n",
       "    <tr>\n",
       "      <th>2</th>\n",
       "      <td>7210491090</td>\n",
       "      <td>398580.00</td>\n",
       "      <td>HG COIL - POSCO</td>\n",
       "      <td>주식회사 포스코대우</td>\n",
       "      <td>POSCO</td>\n",
       "      <td>20180227</td>\n",
       "      <td>565475000.0</td>\n",
       "    </tr>\n",
       "    <tr>\n",
       "      <th>3</th>\n",
       "      <td>7225509000</td>\n",
       "      <td>416301.78</td>\n",
       "      <td>CR COIL (0.5MM&lt;=T&lt;1.0MM)</td>\n",
       "      <td>주식회사 포스코대우</td>\n",
       "      <td>POSCO</td>\n",
       "      <td>20180227</td>\n",
       "      <td>565475000.0</td>\n",
       "    </tr>\n",
       "    <tr>\n",
       "      <th>4</th>\n",
       "      <td>7209169000</td>\n",
       "      <td>8134262.00</td>\n",
       "      <td>CR COIL (3MM&lt;=T)</td>\n",
       "      <td>주식회사 포스코대우</td>\n",
       "      <td>POSCO</td>\n",
       "      <td>20180227</td>\n",
       "      <td>565475000.0</td>\n",
       "    </tr>\n",
       "  </tbody>\n",
       "</table>\n",
       "</div>"
      ],
      "text/plain": [
       "         HSCD         AMT                      ITEM   BYRORGNM1 SPLYORGNM1  \\\n",
       "0  7210491090    45360.00                   GI COIL  주식회사 포스코대우      POSCO   \n",
       "1  7210491090   821355.00                   GI COIL  주식회사 포스코대우      POSCO   \n",
       "2  7210491090   398580.00           HG COIL - POSCO  주식회사 포스코대우      POSCO   \n",
       "3  7225509000   416301.78  CR COIL (0.5MM<=T<1.0MM)  주식회사 포스코대우      POSCO   \n",
       "4  7209169000  8134262.00          CR COIL (3MM<=T)  주식회사 포스코대우      POSCO   \n",
       "\n",
       "    ISSUEDT       TOTQTY  \n",
       "0  20180227  565475000.0  \n",
       "1  20180227  565475000.0  \n",
       "2  20180227  565475000.0  \n",
       "3  20180227  565475000.0  \n",
       "4  20180227  565475000.0  "
      ]
     },
     "execution_count": 3,
     "metadata": {},
     "output_type": "execute_result"
    }
   ],
   "source": [
    "trade_df = trade_df[['HSCD', 'AMT', 'ITEM', 'BYRORGNM1', 'SPLYORGNM1', 'ISSUEDT', 'TOTQTY']]\n",
    "trade_df.head()"
   ]
  },
  {
   "cell_type": "code",
   "execution_count": 5,
   "metadata": {},
   "outputs": [
    {
     "data": {
      "text/plain": [
       "16618"
      ]
     },
     "execution_count": 5,
     "metadata": {},
     "output_type": "execute_result"
    }
   ],
   "source": [
    "len(trade_df['BYRORGNM1'].unique())"
   ]
  },
  {
   "cell_type": "code",
   "execution_count": 6,
   "metadata": {},
   "outputs": [
    {
     "data": {
      "text/plain": [
       "7252"
      ]
     },
     "execution_count": 6,
     "metadata": {},
     "output_type": "execute_result"
    }
   ],
   "source": [
    "len(trade_df['HSCD'].unique())"
   ]
  },
  {
   "cell_type": "code",
   "execution_count": 4,
   "metadata": {
    "scrolled": true
   },
   "outputs": [
    {
     "data": {
      "text/html": [
       "<div>\n",
       "<style scoped>\n",
       "    .dataframe tbody tr th:only-of-type {\n",
       "        vertical-align: middle;\n",
       "    }\n",
       "\n",
       "    .dataframe tbody tr th {\n",
       "        vertical-align: top;\n",
       "    }\n",
       "\n",
       "    .dataframe thead th {\n",
       "        text-align: right;\n",
       "    }\n",
       "</style>\n",
       "<table border=\"1\" class=\"dataframe\">\n",
       "  <thead>\n",
       "    <tr style=\"text-align: right;\">\n",
       "      <th></th>\n",
       "      <th>HSCD</th>\n",
       "      <th>BYRORGNM1</th>\n",
       "      <th>SPLYORGNM1</th>\n",
       "      <th>AMT</th>\n",
       "    </tr>\n",
       "  </thead>\n",
       "  <tbody>\n",
       "    <tr>\n",
       "      <th>0</th>\n",
       "      <td>000000000</td>\n",
       "      <td>현대위아(주)</td>\n",
       "      <td>(주)위테크</td>\n",
       "      <td>5.700000e+08</td>\n",
       "    </tr>\n",
       "    <tr>\n",
       "      <th>1</th>\n",
       "      <td>0000000000</td>\n",
       "      <td>LG전자 (주)</td>\n",
       "      <td>백림화학(주)</td>\n",
       "      <td>6.753112e+07</td>\n",
       "    </tr>\n",
       "    <tr>\n",
       "      <th>2</th>\n",
       "      <td>0000000000</td>\n",
       "      <td>LG전자 (주)</td>\n",
       "      <td>성철사(주)</td>\n",
       "      <td>4.347540e+07</td>\n",
       "    </tr>\n",
       "    <tr>\n",
       "      <th>3</th>\n",
       "      <td>0000000000</td>\n",
       "      <td>LG전자 (주)</td>\n",
       "      <td>주)동양이엔피</td>\n",
       "      <td>2.157122e+08</td>\n",
       "    </tr>\n",
       "    <tr>\n",
       "      <th>4</th>\n",
       "      <td>0000000000</td>\n",
       "      <td>LG전자 (주)</td>\n",
       "      <td>주)엠씨엠</td>\n",
       "      <td>1.312642e+09</td>\n",
       "    </tr>\n",
       "  </tbody>\n",
       "</table>\n",
       "</div>"
      ],
      "text/plain": [
       "         HSCD BYRORGNM1 SPLYORGNM1           AMT\n",
       "0   000000000   현대위아(주)     (주)위테크  5.700000e+08\n",
       "1  0000000000  LG전자 (주)    백림화학(주)  6.753112e+07\n",
       "2  0000000000  LG전자 (주)     성철사(주)  4.347540e+07\n",
       "3  0000000000  LG전자 (주)    주)동양이엔피  2.157122e+08\n",
       "4  0000000000  LG전자 (주)      주)엠씨엠  1.312642e+09"
      ]
     },
     "execution_count": 4,
     "metadata": {},
     "output_type": "execute_result"
    }
   ],
   "source": [
    "hscode_trade_table = trade_df.groupby(['HSCD', 'BYRORGNM1', 'SPLYORGNM1'])['AMT'].sum().reset_index()\n",
    "hscode_trade_table.head()"
   ]
  },
  {
   "cell_type": "code",
   "execution_count": 7,
   "metadata": {},
   "outputs": [
    {
     "data": {
      "text/html": [
       "<div>\n",
       "<style scoped>\n",
       "    .dataframe tbody tr th:only-of-type {\n",
       "        vertical-align: middle;\n",
       "    }\n",
       "\n",
       "    .dataframe tbody tr th {\n",
       "        vertical-align: top;\n",
       "    }\n",
       "\n",
       "    .dataframe thead th {\n",
       "        text-align: right;\n",
       "    }\n",
       "</style>\n",
       "<table border=\"1\" class=\"dataframe\">\n",
       "  <thead>\n",
       "    <tr style=\"text-align: right;\">\n",
       "      <th></th>\n",
       "      <th>HSCD</th>\n",
       "      <th>BYRORGNM1</th>\n",
       "      <th>SPLYORGNM1</th>\n",
       "      <th>AMT</th>\n",
       "    </tr>\n",
       "  </thead>\n",
       "  <tbody>\n",
       "    <tr>\n",
       "      <th>28160</th>\n",
       "      <td>400911</td>\n",
       "      <td>현대위아(주)</td>\n",
       "      <td>(주)화승R&amp;A</td>\n",
       "      <td>438440.0</td>\n",
       "    </tr>\n",
       "    <tr>\n",
       "      <th>28161</th>\n",
       "      <td>400911</td>\n",
       "      <td>현대위아(주)</td>\n",
       "      <td>평화산업(주)</td>\n",
       "      <td>5049400.0</td>\n",
       "    </tr>\n",
       "  </tbody>\n",
       "</table>\n",
       "</div>"
      ],
      "text/plain": [
       "         HSCD BYRORGNM1 SPLYORGNM1        AMT\n",
       "28160  400911   현대위아(주)   (주)화승R&A   438440.0\n",
       "28161  400911   현대위아(주)    평화산업(주)  5049400.0"
      ]
     },
     "execution_count": 7,
     "metadata": {},
     "output_type": "execute_result"
    }
   ],
   "source": [
    "hscode_trade_table.loc[hscode_trade_table['HSCD'] == '400911']\n",
    "# print(' ')"
   ]
  },
  {
   "cell_type": "code",
   "execution_count": 22,
   "metadata": {},
   "outputs": [
    {
     "data": {
      "text/plain": [
       "28160     7.9893\n",
       "28161    92.0107\n",
       "Name: AMT, dtype: float64"
      ]
     },
     "execution_count": 22,
     "metadata": {},
     "output_type": "execute_result"
    }
   ],
   "source": [
    "hscode_trade_table.loc[hscode_trade_table['HSCD'] == '400911']['AMT'] * 100 \\\n",
    "    / hscode_trade_table.loc[hscode_trade_table['HSCD'] == '400911']['AMT'].sum()"
   ]
  },
  {
   "cell_type": "code",
   "execution_count": 21,
   "metadata": {},
   "outputs": [
    {
     "data": {
      "text/html": [
       "<div>\n",
       "<style scoped>\n",
       "    .dataframe tbody tr th:only-of-type {\n",
       "        vertical-align: middle;\n",
       "    }\n",
       "\n",
       "    .dataframe tbody tr th {\n",
       "        vertical-align: top;\n",
       "    }\n",
       "\n",
       "    .dataframe thead th {\n",
       "        text-align: right;\n",
       "    }\n",
       "</style>\n",
       "<table border=\"1\" class=\"dataframe\">\n",
       "  <thead>\n",
       "    <tr style=\"text-align: right;\">\n",
       "      <th></th>\n",
       "      <th>BYRORGNM1</th>\n",
       "      <th>HSCD</th>\n",
       "      <th>AMT</th>\n",
       "    </tr>\n",
       "  </thead>\n",
       "  <tbody>\n",
       "    <tr>\n",
       "      <th>0</th>\n",
       "      <td>YP무역</td>\n",
       "      <td>8519812210</td>\n",
       "      <td>7450000.0</td>\n",
       "    </tr>\n",
       "    <tr>\n",
       "      <th>1</th>\n",
       "      <td>영원무역 주식회사</td>\n",
       "      <td>1902301010</td>\n",
       "      <td>343604444.0</td>\n",
       "    </tr>\n",
       "    <tr>\n",
       "      <th>2</th>\n",
       "      <td>지니제이 인터내셔널</td>\n",
       "      <td>1704902090</td>\n",
       "      <td>27991.6</td>\n",
       "    </tr>\n",
       "    <tr>\n",
       "      <th>3</th>\n",
       "      <td>지니제이 인터내셔널</td>\n",
       "      <td>1905901040</td>\n",
       "      <td>108110.0</td>\n",
       "    </tr>\n",
       "    <tr>\n",
       "      <th>4</th>\n",
       "      <td>케이앤씨(KNC)</td>\n",
       "      <td>6004100000</td>\n",
       "      <td>19437.0</td>\n",
       "    </tr>\n",
       "  </tbody>\n",
       "</table>\n",
       "</div>"
      ],
      "text/plain": [
       "     BYRORGNM1        HSCD          AMT\n",
       "0         YP무역  8519812210    7450000.0\n",
       "1   영원무역 주식회사   1902301010  343604444.0\n",
       "2   지니제이 인터내셔널  1704902090      27991.6\n",
       "3   지니제이 인터내셔널  1905901040     108110.0\n",
       "4    케이앤씨(KNC)  6004100000      19437.0"
      ]
     },
     "execution_count": 21,
     "metadata": {},
     "output_type": "execute_result"
    }
   ],
   "source": [
    "# BUYER SHARE\n",
    "trade_df.groupby(['BYRORGNM1', 'HSCD'])['AMT'].sum().reset_index().head()"
   ]
  },
  {
   "cell_type": "code",
   "execution_count": 22,
   "metadata": {},
   "outputs": [
    {
     "data": {
      "text/html": [
       "<div>\n",
       "<style scoped>\n",
       "    .dataframe tbody tr th:only-of-type {\n",
       "        vertical-align: middle;\n",
       "    }\n",
       "\n",
       "    .dataframe tbody tr th {\n",
       "        vertical-align: top;\n",
       "    }\n",
       "\n",
       "    .dataframe thead th {\n",
       "        text-align: right;\n",
       "    }\n",
       "</style>\n",
       "<table border=\"1\" class=\"dataframe\">\n",
       "  <thead>\n",
       "    <tr style=\"text-align: right;\">\n",
       "      <th></th>\n",
       "      <th>SPLYORGNM1</th>\n",
       "      <th>HSCD</th>\n",
       "      <th>AMT</th>\n",
       "    </tr>\n",
       "  </thead>\n",
       "  <tbody>\n",
       "    <tr>\n",
       "      <th>0</th>\n",
       "      <td>(주)알포메</td>\n",
       "      <td>3921130000</td>\n",
       "      <td>168365.0</td>\n",
       "    </tr>\n",
       "    <tr>\n",
       "      <th>1</th>\n",
       "      <td>(주)일호엔지니어링</td>\n",
       "      <td>9031809099</td>\n",
       "      <td>4500.0</td>\n",
       "    </tr>\n",
       "    <tr>\n",
       "      <th>2</th>\n",
       "      <td>sindoh co.,ltd</td>\n",
       "      <td>8443311010</td>\n",
       "      <td>35918131.0</td>\n",
       "    </tr>\n",
       "    <tr>\n",
       "      <th>3</th>\n",
       "      <td>삼양발브종합메이커</td>\n",
       "      <td>8481400000</td>\n",
       "      <td>2282566.0</td>\n",
       "    </tr>\n",
       "    <tr>\n",
       "      <th>4</th>\n",
       "      <td>에이치알메디텍</td>\n",
       "      <td>8543709090</td>\n",
       "      <td>41080000.0</td>\n",
       "    </tr>\n",
       "  </tbody>\n",
       "</table>\n",
       "</div>"
      ],
      "text/plain": [
       "        SPLYORGNM1        HSCD         AMT\n",
       "0           (주)알포메  3921130000    168365.0\n",
       "1      (주)일호엔지니어링   9031809099      4500.0\n",
       "2   sindoh co.,ltd  8443311010  35918131.0\n",
       "3        삼양발브종합메이커  8481400000   2282566.0\n",
       "4          에이치알메디텍  8543709090  41080000.0"
      ]
     },
     "execution_count": 22,
     "metadata": {},
     "output_type": "execute_result"
    }
   ],
   "source": [
    "# SUPPLYER SHARE\n",
    "trade_df.groupby(['SPLYORGNM1', 'HSCD'])['AMT'].sum().reset_index().head()"
   ]
  },
  {
   "cell_type": "code",
   "execution_count": 33,
   "metadata": {},
   "outputs": [
    {
     "data": {
      "text/html": [
       "<div>\n",
       "<style scoped>\n",
       "    .dataframe tbody tr th:only-of-type {\n",
       "        vertical-align: middle;\n",
       "    }\n",
       "\n",
       "    .dataframe tbody tr th {\n",
       "        vertical-align: top;\n",
       "    }\n",
       "\n",
       "    .dataframe thead th {\n",
       "        text-align: right;\n",
       "    }\n",
       "</style>\n",
       "<table border=\"1\" class=\"dataframe\">\n",
       "  <thead>\n",
       "    <tr style=\"text-align: right;\">\n",
       "      <th></th>\n",
       "      <th>HSCD</th>\n",
       "      <th>BYRORGNM1</th>\n",
       "      <th>SPLYORGNM1</th>\n",
       "      <th>AMT</th>\n",
       "    </tr>\n",
       "  </thead>\n",
       "  <tbody>\n",
       "    <tr>\n",
       "      <th>10621</th>\n",
       "      <td>2929101000</td>\n",
       "      <td>흥진수지</td>\n",
       "      <td>(주)알포메</td>\n",
       "      <td>6749356.0</td>\n",
       "    </tr>\n",
       "    <tr>\n",
       "      <th>23852</th>\n",
       "      <td>3921130000</td>\n",
       "      <td>(주)세림티티시</td>\n",
       "      <td>(주)알포메</td>\n",
       "      <td>8098465.0</td>\n",
       "    </tr>\n",
       "  </tbody>\n",
       "</table>\n",
       "</div>"
      ],
      "text/plain": [
       "             HSCD BYRORGNM1 SPLYORGNM1        AMT\n",
       "10621  2929101000      흥진수지     (주)알포메  6749356.0\n",
       "23852  3921130000  (주)세림티티시     (주)알포메  8098465.0"
      ]
     },
     "execution_count": 33,
     "metadata": {},
     "output_type": "execute_result"
    }
   ],
   "source": [
    "hscode_trade_table.loc[hscode_trade_table['SPLYORGNM1'] == '(주)알포메']"
   ]
  },
  {
   "cell_type": "code",
   "execution_count": 25,
   "metadata": {},
   "outputs": [],
   "source": [
    "config = yaml.safe_load(open('dart_config.yml'))\n",
    "db_url = 'mysql://' + config['DB_USER'] + ':' + config['DB_USER_PASSWORD'] + '@' + config['DB_HOST'] \\\n",
    "                            + '/' + config['DB_NAME'] + '?charset=utf8'\n",
    "engine = create_engine(db_url, encoding='utf-8')\n",
    "conn = engine.connect()"
   ]
  },
  {
   "cell_type": "code",
   "execution_count": 27,
   "metadata": {},
   "outputs": [
    {
     "data": {
      "text/html": [
       "<div>\n",
       "<style scoped>\n",
       "    .dataframe tbody tr th:only-of-type {\n",
       "        vertical-align: middle;\n",
       "    }\n",
       "\n",
       "    .dataframe tbody tr th {\n",
       "        vertical-align: top;\n",
       "    }\n",
       "\n",
       "    .dataframe thead th {\n",
       "        text-align: right;\n",
       "    }\n",
       "</style>\n",
       "<table border=\"1\" class=\"dataframe\">\n",
       "  <thead>\n",
       "    <tr style=\"text-align: right;\">\n",
       "      <th></th>\n",
       "      <th>name</th>\n",
       "      <th>업종</th>\n",
       "      <th>상장일</th>\n",
       "      <th>지역</th>\n",
       "    </tr>\n",
       "    <tr>\n",
       "      <th>id</th>\n",
       "      <th></th>\n",
       "      <th></th>\n",
       "      <th></th>\n",
       "      <th></th>\n",
       "    </tr>\n",
       "  </thead>\n",
       "  <tbody>\n",
       "    <tr>\n",
       "      <th>1</th>\n",
       "      <td>롯데케미칼</td>\n",
       "      <td>기초 화학물질 제조업</td>\n",
       "      <td>1991-05-30</td>\n",
       "      <td>서울특별시</td>\n",
       "    </tr>\n",
       "    <tr>\n",
       "      <th>2</th>\n",
       "      <td>대한유화</td>\n",
       "      <td>기초 화학물질 제조업</td>\n",
       "      <td>1999-08-11</td>\n",
       "      <td>서울특별시</td>\n",
       "    </tr>\n",
       "    <tr>\n",
       "      <th>3</th>\n",
       "      <td>이화산업</td>\n",
       "      <td>기타 전문 도매업</td>\n",
       "      <td>1994-04-29</td>\n",
       "      <td>서울특별시</td>\n",
       "    </tr>\n",
       "    <tr>\n",
       "      <th>4</th>\n",
       "      <td>디케이앤디</td>\n",
       "      <td>플라스틱제품 제조업</td>\n",
       "      <td>2018-11-20</td>\n",
       "      <td>경기도</td>\n",
       "    </tr>\n",
       "    <tr>\n",
       "      <th>5</th>\n",
       "      <td>송원산업</td>\n",
       "      <td>기타 화학제품 제조업</td>\n",
       "      <td>1977-06-25</td>\n",
       "      <td>울산광역시</td>\n",
       "    </tr>\n",
       "  </tbody>\n",
       "</table>\n",
       "</div>"
      ],
      "text/plain": [
       "     name           업종        상장일     지역\n",
       "id                                      \n",
       "1   롯데케미칼  기초 화학물질 제조업 1991-05-30  서울특별시\n",
       "2    대한유화  기초 화학물질 제조업 1999-08-11  서울특별시\n",
       "3    이화산업    기타 전문 도매업 1994-04-29  서울특별시\n",
       "4   디케이앤디   플라스틱제품 제조업 2018-11-20    경기도\n",
       "5    송원산업  기타 화학제품 제조업 1977-06-25  울산광역시"
      ]
     },
     "execution_count": 27,
     "metadata": {},
     "output_type": "execute_result"
    }
   ],
   "source": [
    "company_df = pd.read_sql_table(config['DB_TABLE_NAME_1'], con=conn, index_col='id', \n",
    "                          columns=['id', 'name', '업종', '상장일', '지역'])\n",
    "company_df.head()"
   ]
  },
  {
   "cell_type": "code",
   "execution_count": 34,
   "metadata": {},
   "outputs": [
    {
     "data": {
      "text/html": [
       "<div>\n",
       "<style scoped>\n",
       "    .dataframe tbody tr th:only-of-type {\n",
       "        vertical-align: middle;\n",
       "    }\n",
       "\n",
       "    .dataframe tbody tr th {\n",
       "        vertical-align: top;\n",
       "    }\n",
       "\n",
       "    .dataframe thead th {\n",
       "        text-align: right;\n",
       "    }\n",
       "</style>\n",
       "<table border=\"1\" class=\"dataframe\">\n",
       "  <thead>\n",
       "    <tr style=\"text-align: right;\">\n",
       "      <th></th>\n",
       "      <th>name</th>\n",
       "      <th>업종</th>\n",
       "      <th>상장일</th>\n",
       "      <th>지역</th>\n",
       "    </tr>\n",
       "    <tr>\n",
       "      <th>id</th>\n",
       "      <th></th>\n",
       "      <th></th>\n",
       "      <th></th>\n",
       "      <th></th>\n",
       "    </tr>\n",
       "  </thead>\n",
       "  <tbody>\n",
       "  </tbody>\n",
       "</table>\n",
       "</div>"
      ],
      "text/plain": [
       "Empty DataFrame\n",
       "Columns: [name, 업종, 상장일, 지역]\n",
       "Index: []"
      ]
     },
     "execution_count": 34,
     "metadata": {},
     "output_type": "execute_result"
    }
   ],
   "source": [
    "company_df.loc[company_df['name'] == trade_df.loc[1, 'BYRORGNM1']]"
   ]
  },
  {
   "cell_type": "code",
   "execution_count": 35,
   "metadata": {},
   "outputs": [
    {
     "data": {
      "text/html": [
       "<div>\n",
       "<style scoped>\n",
       "    .dataframe tbody tr th:only-of-type {\n",
       "        vertical-align: middle;\n",
       "    }\n",
       "\n",
       "    .dataframe tbody tr th {\n",
       "        vertical-align: top;\n",
       "    }\n",
       "\n",
       "    .dataframe thead th {\n",
       "        text-align: right;\n",
       "    }\n",
       "</style>\n",
       "<table border=\"1\" class=\"dataframe\">\n",
       "  <thead>\n",
       "    <tr style=\"text-align: right;\">\n",
       "      <th></th>\n",
       "      <th>company_id</th>\n",
       "      <th>year</th>\n",
       "      <th>quarter</th>\n",
       "      <th>data_period</th>\n",
       "      <th>start_date</th>\n",
       "      <th>end_date</th>\n",
       "      <th>error</th>\n",
       "      <th>매출액</th>\n",
       "      <th>매출원가</th>\n",
       "      <th>매출총이익</th>\n",
       "      <th>판매비와관리비</th>\n",
       "      <th>영업이익</th>\n",
       "      <th>기타수익</th>\n",
       "      <th>기타비용</th>\n",
       "      <th>지분법이익</th>\n",
       "      <th>금융수익</th>\n",
       "      <th>금융비용</th>\n",
       "      <th>법인세비용차감전순이익</th>\n",
       "      <th>법인세비용</th>\n",
       "      <th>분기순이익</th>\n",
       "    </tr>\n",
       "    <tr>\n",
       "      <th>id</th>\n",
       "      <th></th>\n",
       "      <th></th>\n",
       "      <th></th>\n",
       "      <th></th>\n",
       "      <th></th>\n",
       "      <th></th>\n",
       "      <th></th>\n",
       "      <th></th>\n",
       "      <th></th>\n",
       "      <th></th>\n",
       "      <th></th>\n",
       "      <th></th>\n",
       "      <th></th>\n",
       "      <th></th>\n",
       "      <th></th>\n",
       "      <th></th>\n",
       "      <th></th>\n",
       "      <th></th>\n",
       "      <th></th>\n",
       "      <th></th>\n",
       "    </tr>\n",
       "  </thead>\n",
       "  <tbody>\n",
       "    <tr>\n",
       "      <th>1</th>\n",
       "      <td>1</td>\n",
       "      <td>2012</td>\n",
       "      <td>1</td>\n",
       "      <td>quarter</td>\n",
       "      <td>2012-01-01</td>\n",
       "      <td>2012-03-31</td>\n",
       "      <td>None</td>\n",
       "      <td>385.037</td>\n",
       "      <td>354.284</td>\n",
       "      <td>30.75290</td>\n",
       "      <td>10.4784</td>\n",
       "      <td>21.96120</td>\n",
       "      <td>7.92900</td>\n",
       "      <td>NaN</td>\n",
       "      <td>NaN</td>\n",
       "      <td>3.57648</td>\n",
       "      <td>3.55188</td>\n",
       "      <td>22.51700</td>\n",
       "      <td>4.337470</td>\n",
       "      <td>18.17950</td>\n",
       "    </tr>\n",
       "    <tr>\n",
       "      <th>2</th>\n",
       "      <td>1</td>\n",
       "      <td>2012</td>\n",
       "      <td>2</td>\n",
       "      <td>quarter</td>\n",
       "      <td>2012-01-01</td>\n",
       "      <td>2012-06-30</td>\n",
       "      <td>None</td>\n",
       "      <td>394.880</td>\n",
       "      <td>388.575</td>\n",
       "      <td>6.30579</td>\n",
       "      <td>11.0771</td>\n",
       "      <td>-2.83395</td>\n",
       "      <td>6.12777</td>\n",
       "      <td>NaN</td>\n",
       "      <td>NaN</td>\n",
       "      <td>1.83494</td>\n",
       "      <td>2.85516</td>\n",
       "      <td>-3.29184</td>\n",
       "      <td>-1.875760</td>\n",
       "      <td>-1.41608</td>\n",
       "    </tr>\n",
       "    <tr>\n",
       "      <th>3</th>\n",
       "      <td>1</td>\n",
       "      <td>2012</td>\n",
       "      <td>3</td>\n",
       "      <td>quarter</td>\n",
       "      <td>NaT</td>\n",
       "      <td>NaT</td>\n",
       "      <td>None</td>\n",
       "      <td>413.187</td>\n",
       "      <td>382.764</td>\n",
       "      <td>30.42240</td>\n",
       "      <td>11.0637</td>\n",
       "      <td>20.22220</td>\n",
       "      <td>4.32802</td>\n",
       "      <td>NaN</td>\n",
       "      <td>NaN</td>\n",
       "      <td>2.78657</td>\n",
       "      <td>3.82426</td>\n",
       "      <td>20.31320</td>\n",
       "      <td>-4.577300</td>\n",
       "      <td>15.73590</td>\n",
       "    </tr>\n",
       "    <tr>\n",
       "      <th>4</th>\n",
       "      <td>1</td>\n",
       "      <td>2012</td>\n",
       "      <td>4</td>\n",
       "      <td>quarter</td>\n",
       "      <td>2012-01-01</td>\n",
       "      <td>2012-12-31</td>\n",
       "      <td>None</td>\n",
       "      <td>350.719</td>\n",
       "      <td>362.628</td>\n",
       "      <td>-11.90660</td>\n",
       "      <td>8.9963</td>\n",
       "      <td>-23.49350</td>\n",
       "      <td>NaN</td>\n",
       "      <td>NaN</td>\n",
       "      <td>NaN</td>\n",
       "      <td>3.53929</td>\n",
       "      <td>2.76902</td>\n",
       "      <td>-22.25280</td>\n",
       "      <td>19.772700</td>\n",
       "      <td>-15.59320</td>\n",
       "    </tr>\n",
       "    <tr>\n",
       "      <th>5</th>\n",
       "      <td>1</td>\n",
       "      <td>2013</td>\n",
       "      <td>1</td>\n",
       "      <td>quarter</td>\n",
       "      <td>2013-01-01</td>\n",
       "      <td>2013-03-31</td>\n",
       "      <td>None</td>\n",
       "      <td>417.124</td>\n",
       "      <td>394.622</td>\n",
       "      <td>22.50180</td>\n",
       "      <td>10.7584</td>\n",
       "      <td>11.74340</td>\n",
       "      <td>NaN</td>\n",
       "      <td>NaN</td>\n",
       "      <td>NaN</td>\n",
       "      <td>4.37646</td>\n",
       "      <td>6.42669</td>\n",
       "      <td>11.73790</td>\n",
       "      <td>0.372595</td>\n",
       "      <td>11.36530</td>\n",
       "    </tr>\n",
       "  </tbody>\n",
       "</table>\n",
       "</div>"
      ],
      "text/plain": [
       "    company_id  year  quarter data_period start_date   end_date error  \\\n",
       "id                                                                      \n",
       "1            1  2012        1     quarter 2012-01-01 2012-03-31  None   \n",
       "2            1  2012        2     quarter 2012-01-01 2012-06-30  None   \n",
       "3            1  2012        3     quarter        NaT        NaT  None   \n",
       "4            1  2012        4     quarter 2012-01-01 2012-12-31  None   \n",
       "5            1  2013        1     quarter 2013-01-01 2013-03-31  None   \n",
       "\n",
       "        매출액     매출원가     매출총이익  판매비와관리비      영업이익     기타수익  기타비용  지분법이익  \\\n",
       "id                                                                        \n",
       "1   385.037  354.284  30.75290  10.4784  21.96120  7.92900   NaN    NaN   \n",
       "2   394.880  388.575   6.30579  11.0771  -2.83395  6.12777   NaN    NaN   \n",
       "3   413.187  382.764  30.42240  11.0637  20.22220  4.32802   NaN    NaN   \n",
       "4   350.719  362.628 -11.90660   8.9963 -23.49350      NaN   NaN    NaN   \n",
       "5   417.124  394.622  22.50180  10.7584  11.74340      NaN   NaN    NaN   \n",
       "\n",
       "       금융수익     금융비용  법인세비용차감전순이익      법인세비용     분기순이익  \n",
       "id                                                      \n",
       "1   3.57648  3.55188     22.51700   4.337470  18.17950  \n",
       "2   1.83494  2.85516     -3.29184  -1.875760  -1.41608  \n",
       "3   2.78657  3.82426     20.31320  -4.577300  15.73590  \n",
       "4   3.53929  2.76902    -22.25280  19.772700 -15.59320  \n",
       "5   4.37646  6.42669     11.73790   0.372595  11.36530  "
      ]
     },
     "execution_count": 35,
     "metadata": {},
     "output_type": "execute_result"
    }
   ],
   "source": [
    "account_df = pd.read_sql_table(config['DB_TABLE_NAME_2'], con=conn, index_col='id',\n",
    "                         columns=['id', 'company_id', 'year', 'quarter', 'data_period', 'start_date', 'end_date',\n",
    "                                 'error', '매출액', '매출원가', '매출총이익', '판매비와관리비', '영업이익', '기타수익',\n",
    "                                 '기타비용', '지분법이익', '금융수익', '금융비용', '법인세비용차감전순이익', '법인세비용',\n",
    "                                 '분기순이익'])\n",
    "account_df.head()"
   ]
  },
  {
   "cell_type": "code",
   "execution_count": null,
   "metadata": {},
   "outputs": [],
   "source": []
  }
 ],
 "metadata": {
  "kernelspec": {
   "display_name": "Python 3",
   "language": "python",
   "name": "python3"
  },
  "language_info": {
   "codemirror_mode": {
    "name": "ipython",
    "version": 3
   },
   "file_extension": ".py",
   "mimetype": "text/x-python",
   "name": "python",
   "nbconvert_exporter": "python",
   "pygments_lexer": "ipython3",
   "version": "3.5.2"
  }
 },
 "nbformat": 4,
 "nbformat_minor": 2
}

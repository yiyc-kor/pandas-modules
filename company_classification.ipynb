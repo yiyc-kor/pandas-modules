{
 "cells": [
  {
   "cell_type": "code",
   "execution_count": 1,
   "metadata": {},
   "outputs": [],
   "source": [
    "import pandas as pd\n",
    "from sqlalchemy import create_engine\n",
    "import yaml\n",
    "from sklearn.feature_extraction.text import TfidfVectorizer\n",
    "from sklearn.metrics.pairwise import linear_kernel"
   ]
  },
  {
   "cell_type": "code",
   "execution_count": 2,
   "metadata": {},
   "outputs": [
    {
     "data": {
      "text/plain": [
       "0    롯데케미칼\n",
       "1     대한유화\n",
       "2     이화산업\n",
       "3    디케이앤디\n",
       "4     송원산업\n",
       "Name: name, dtype: object"
      ]
     },
     "execution_count": 2,
     "metadata": {},
     "output_type": "execute_result"
    }
   ],
   "source": [
    "config = yaml.safe_load(open('dart_config.yml'))\n",
    "db_url = 'mysql://' + config['DB_USER'] + ':' + config['DB_USER_PASSWORD'] + '@' + config['DB_HOST'] \\\n",
    "                            + '/' + config['DB_NAME'] + '?charset=utf8'\n",
    "engine = create_engine(db_url, encoding='utf-8')\n",
    "conn = engine.connect()\n",
    "company_list = pd.read_sql_table(config['DB_TABLE_NAME_1'], con=conn,\n",
    "                          columns=['name'])['name']\n",
    "company_list = company_list.drop_duplicates().reset_index(drop=True)\n",
    "company_list.head()"
   ]
  },
  {
   "cell_type": "code",
   "execution_count": 3,
   "metadata": {},
   "outputs": [
    {
     "data": {
      "text/html": [
       "<div>\n",
       "<style scoped>\n",
       "    .dataframe tbody tr th:only-of-type {\n",
       "        vertical-align: middle;\n",
       "    }\n",
       "\n",
       "    .dataframe tbody tr th {\n",
       "        vertical-align: top;\n",
       "    }\n",
       "\n",
       "    .dataframe thead th {\n",
       "        text-align: right;\n",
       "    }\n",
       "</style>\n",
       "<table border=\"1\" class=\"dataframe\">\n",
       "  <thead>\n",
       "    <tr style=\"text-align: right;\">\n",
       "      <th></th>\n",
       "      <th>HSCD</th>\n",
       "      <th>QTY</th>\n",
       "      <th>QTYUNIT</th>\n",
       "      <th>AMT</th>\n",
       "      <th>CUR</th>\n",
       "      <th>USDUNTPRICE</th>\n",
       "      <th>UNTPRICE</th>\n",
       "      <th>ITEM</th>\n",
       "      <th>BYRORGNM1</th>\n",
       "      <th>BYRPRTNUM</th>\n",
       "      <th>...</th>\n",
       "      <th>BYRADDR2</th>\n",
       "      <th>SPLYORGNM1</th>\n",
       "      <th>SPLYPRTNUM</th>\n",
       "      <th>SPLYADDR1</th>\n",
       "      <th>SPLYADDR2</th>\n",
       "      <th>ISSUEDT</th>\n",
       "      <th>TOTQTY</th>\n",
       "      <th>TOTQTYUNIT</th>\n",
       "      <th>TOTAMT</th>\n",
       "      <th>TOTAMTCUR</th>\n",
       "    </tr>\n",
       "  </thead>\n",
       "  <tbody>\n",
       "    <tr>\n",
       "      <th>0</th>\n",
       "      <td>7210491090</td>\n",
       "      <td>84000.0</td>\n",
       "      <td>KG</td>\n",
       "      <td>45360.00</td>\n",
       "      <td>USD</td>\n",
       "      <td>540.00</td>\n",
       "      <td>540.00</td>\n",
       "      <td>GI COIL</td>\n",
       "      <td>주식회사 포스코대우</td>\n",
       "      <td>1318555320</td>\n",
       "      <td>...</td>\n",
       "      <td>주식회사 포스코대우</td>\n",
       "      <td>POSCO</td>\n",
       "      <td>5068100017</td>\n",
       "      <td>1 GOEDONG-DONG, NAM-GU</td>\n",
       "      <td>NaN</td>\n",
       "      <td>2018-02-27</td>\n",
       "      <td>565475000.0</td>\n",
       "      <td>KG</td>\n",
       "      <td>2.577329e+08</td>\n",
       "      <td>USD</td>\n",
       "    </tr>\n",
       "    <tr>\n",
       "      <th>1</th>\n",
       "      <td>7210491090</td>\n",
       "      <td>1463000.0</td>\n",
       "      <td>KG</td>\n",
       "      <td>821355.00</td>\n",
       "      <td>USD</td>\n",
       "      <td>585.00</td>\n",
       "      <td>585.00</td>\n",
       "      <td>GI COIL</td>\n",
       "      <td>주식회사 포스코대우</td>\n",
       "      <td>1318555320</td>\n",
       "      <td>...</td>\n",
       "      <td>주식회사 포스코대우</td>\n",
       "      <td>POSCO</td>\n",
       "      <td>5068100017</td>\n",
       "      <td>1 GOEDONG-DONG, NAM-GU</td>\n",
       "      <td>NaN</td>\n",
       "      <td>2018-02-27</td>\n",
       "      <td>565475000.0</td>\n",
       "      <td>KG</td>\n",
       "      <td>2.577329e+08</td>\n",
       "      <td>USD</td>\n",
       "    </tr>\n",
       "    <tr>\n",
       "      <th>2</th>\n",
       "      <td>7210491090</td>\n",
       "      <td>600000.0</td>\n",
       "      <td>KG</td>\n",
       "      <td>398580.00</td>\n",
       "      <td>USD</td>\n",
       "      <td>664.30</td>\n",
       "      <td>664.30</td>\n",
       "      <td>HG COIL - POSCO</td>\n",
       "      <td>주식회사 포스코대우</td>\n",
       "      <td>1318555320</td>\n",
       "      <td>...</td>\n",
       "      <td>주식회사 포스코대우</td>\n",
       "      <td>POSCO</td>\n",
       "      <td>5068100017</td>\n",
       "      <td>1 GOEDONG-DONG, NAM-GU</td>\n",
       "      <td>NaN</td>\n",
       "      <td>2018-02-27</td>\n",
       "      <td>565475000.0</td>\n",
       "      <td>KG</td>\n",
       "      <td>2.577329e+08</td>\n",
       "      <td>USD</td>\n",
       "    </tr>\n",
       "    <tr>\n",
       "      <th>3</th>\n",
       "      <td>7225509000</td>\n",
       "      <td>2398000.0</td>\n",
       "      <td>KG</td>\n",
       "      <td>416301.78</td>\n",
       "      <td>USD</td>\n",
       "      <td>501.15</td>\n",
       "      <td>501.15</td>\n",
       "      <td>CR COIL (0.5MM&lt;=T&lt;1.0MM)</td>\n",
       "      <td>주식회사 포스코대우</td>\n",
       "      <td>1318555320</td>\n",
       "      <td>...</td>\n",
       "      <td>주식회사 포스코대우</td>\n",
       "      <td>POSCO</td>\n",
       "      <td>5068100017</td>\n",
       "      <td>1 GOEDONG-DONG, NAM-GU</td>\n",
       "      <td>NaN</td>\n",
       "      <td>2018-02-27</td>\n",
       "      <td>565475000.0</td>\n",
       "      <td>KG</td>\n",
       "      <td>2.577329e+08</td>\n",
       "      <td>USD</td>\n",
       "    </tr>\n",
       "    <tr>\n",
       "      <th>4</th>\n",
       "      <td>7209169000</td>\n",
       "      <td>23100000.0</td>\n",
       "      <td>KG</td>\n",
       "      <td>8134262.00</td>\n",
       "      <td>USD</td>\n",
       "      <td>490.00</td>\n",
       "      <td>490.00</td>\n",
       "      <td>CR COIL (3MM&lt;=T)</td>\n",
       "      <td>주식회사 포스코대우</td>\n",
       "      <td>1318555320</td>\n",
       "      <td>...</td>\n",
       "      <td>주식회사 포스코대우</td>\n",
       "      <td>POSCO</td>\n",
       "      <td>5068100017</td>\n",
       "      <td>1 GOEDONG-DONG, NAM-GU</td>\n",
       "      <td>NaN</td>\n",
       "      <td>2018-02-27</td>\n",
       "      <td>565475000.0</td>\n",
       "      <td>KG</td>\n",
       "      <td>2.577329e+08</td>\n",
       "      <td>USD</td>\n",
       "    </tr>\n",
       "  </tbody>\n",
       "</table>\n",
       "<p>5 rows × 21 columns</p>\n",
       "</div>"
      ],
      "text/plain": [
       "         HSCD         QTY QTYUNIT         AMT  CUR  USDUNTPRICE  UNTPRICE  \\\n",
       "0  7210491090     84000.0      KG    45360.00  USD       540.00    540.00   \n",
       "1  7210491090   1463000.0      KG   821355.00  USD       585.00    585.00   \n",
       "2  7210491090    600000.0      KG   398580.00  USD       664.30    664.30   \n",
       "3  7225509000   2398000.0      KG   416301.78  USD       501.15    501.15   \n",
       "4  7209169000  23100000.0      KG  8134262.00  USD       490.00    490.00   \n",
       "\n",
       "                       ITEM   BYRORGNM1   BYRPRTNUM  ...    BYRADDR2  \\\n",
       "0                   GI COIL  주식회사 포스코대우  1318555320  ...  주식회사 포스코대우   \n",
       "1                   GI COIL  주식회사 포스코대우  1318555320  ...  주식회사 포스코대우   \n",
       "2           HG COIL - POSCO  주식회사 포스코대우  1318555320  ...  주식회사 포스코대우   \n",
       "3  CR COIL (0.5MM<=T<1.0MM)  주식회사 포스코대우  1318555320  ...  주식회사 포스코대우   \n",
       "4          CR COIL (3MM<=T)  주식회사 포스코대우  1318555320  ...  주식회사 포스코대우   \n",
       "\n",
       "  SPLYORGNM1  SPLYPRTNUM               SPLYADDR1 SPLYADDR2    ISSUEDT  \\\n",
       "0      POSCO  5068100017  1 GOEDONG-DONG, NAM-GU       NaN 2018-02-27   \n",
       "1      POSCO  5068100017  1 GOEDONG-DONG, NAM-GU       NaN 2018-02-27   \n",
       "2      POSCO  5068100017  1 GOEDONG-DONG, NAM-GU       NaN 2018-02-27   \n",
       "3      POSCO  5068100017  1 GOEDONG-DONG, NAM-GU       NaN 2018-02-27   \n",
       "4      POSCO  5068100017  1 GOEDONG-DONG, NAM-GU       NaN 2018-02-27   \n",
       "\n",
       "        TOTQTY  TOTQTYUNIT        TOTAMT  TOTAMTCUR  \n",
       "0  565475000.0          KG  2.577329e+08        USD  \n",
       "1  565475000.0          KG  2.577329e+08        USD  \n",
       "2  565475000.0          KG  2.577329e+08        USD  \n",
       "3  565475000.0          KG  2.577329e+08        USD  \n",
       "4  565475000.0          KG  2.577329e+08        USD  \n",
       "\n",
       "[5 rows x 21 columns]"
      ]
     },
     "execution_count": 3,
     "metadata": {},
     "output_type": "execute_result"
    }
   ],
   "source": [
    "# Read csv\n",
    "trade_df = pd.read_csv(\"./data/trade.csv\", encoding=\"utf-8\", parse_dates=['ISSUEDT'],\n",
    "                       dtype={'HSCD': str, \"QTY\": float, 'BYRADDR2': str, 'SPLYADDR2': str})\n",
    "trade_df.head()"
   ]
  },
  {
   "cell_type": "code",
   "execution_count": 4,
   "metadata": {},
   "outputs": [
    {
     "data": {
      "text/plain": [
       "0    주식회사 포스코대우\n",
       "1    주식회사 포스코대우\n",
       "2    주식회사 포스코대우\n",
       "3    주식회사 포스코대우\n",
       "4    주식회사 포스코대우\n",
       "Name: BYRORGNM1, dtype: object"
      ]
     },
     "execution_count": 4,
     "metadata": {},
     "output_type": "execute_result"
    }
   ],
   "source": [
    "buyer_list = trade_df['BYRORGNM1']\n",
    "buyer_list.head()"
   ]
  },
  {
   "cell_type": "code",
   "execution_count": 5,
   "metadata": {},
   "outputs": [
    {
     "data": {
      "text/plain": [
       "0    POSCO\n",
       "1    POSCO\n",
       "2    POSCO\n",
       "3    POSCO\n",
       "4    POSCO\n",
       "Name: SPLYORGNM1, dtype: object"
      ]
     },
     "execution_count": 5,
     "metadata": {},
     "output_type": "execute_result"
    }
   ],
   "source": [
    "supplier_list = trade_df['SPLYORGNM1']\n",
    "supplier_list.head()"
   ]
  },
  {
   "cell_type": "code",
   "execution_count": 6,
   "metadata": {},
   "outputs": [
    {
     "data": {
      "text/plain": [
       "0         주식회사 포스코대우\n",
       "1        도레이케미칼 주식회사\n",
       "2    도레이첨단소재주식회사 4공장\n",
       "3        도레이첨단소재주식회사\n",
       "4    도레이첨단소재주식회사 2공장\n",
       "dtype: object"
      ]
     },
     "execution_count": 6,
     "metadata": {},
     "output_type": "execute_result"
    }
   ],
   "source": [
    "merge_list = buyer_list.append(supplier_list, ignore_index=True).drop_duplicates().reset_index(drop=True)\n",
    "merge_list.head()"
   ]
  },
  {
   "cell_type": "code",
   "execution_count": 7,
   "metadata": {},
   "outputs": [
    {
     "data": {
      "text/plain": [
       "0         포스코대우\n",
       "1        도레이케미칼\n",
       "2    도레이첨단소재4공장\n",
       "3       도레이첨단소재\n",
       "4    도레이첨단소재2공장\n",
       "dtype: object"
      ]
     },
     "execution_count": 7,
     "metadata": {},
     "output_type": "execute_result"
    }
   ],
   "source": [
    "parsed_merge_list = merge_list.str.replace(\"주식회사\", \"\").str.replace(\"\\(주\\)\", \"\")\\\n",
    "        .str.replace(\"\\(유\\)\", \"\").str.replace(\"㈜\", \"\").str.replace(\" \", \"\")\n",
    "parsed_merge_list.head()"
   ]
  },
  {
   "cell_type": "code",
   "execution_count": 8,
   "metadata": {},
   "outputs": [
    {
     "name": "stdout",
     "output_type": "stream",
     "text": [
      "original_merge_list length: 54100 parsed_merge_list length: 54100\n"
     ]
    }
   ],
   "source": [
    "original_merge_list = company_list.append(merge_list, ignore_index=True)\n",
    "parsed_merge_list = company_list.append(merge_list, ignore_index=True)\n",
    "del merge_list\n",
    "print('original_merge_list length:', len(original_merge_list), 'parsed_merge_list length:', len(parsed_merge_list))"
   ]
  },
  {
   "cell_type": "code",
   "execution_count": 9,
   "metadata": {},
   "outputs": [
    {
     "data": {
      "text/plain": [
       "(54100, 107373)"
      ]
     },
     "execution_count": 9,
     "metadata": {},
     "output_type": "execute_result"
    }
   ],
   "source": [
    "# make tfidf matrix set\n",
    "tfidf = TfidfVectorizer(analyzer='char', ngram_range=(2,3))\n",
    "tfidf_matrix = tfidf.fit_transform(parsed_merge_list)\n",
    "tfidf_matrix.shape"
   ]
  },
  {
   "cell_type": "code",
   "execution_count": 10,
   "metadata": {},
   "outputs": [
    {
     "name": "stdout",
     "output_type": "stream",
     "text": [
      "total company count: 796\n"
     ]
    }
   ],
   "source": [
    "print('total company count:', len(company_list))"
   ]
  },
  {
   "cell_type": "markdown",
   "metadata": {},
   "source": [
    "## Make dictionary"
   ]
  },
  {
   "cell_type": "code",
   "execution_count": 178,
   "metadata": {},
   "outputs": [],
   "source": [
    "company_dict = {}"
   ]
  },
  {
   "cell_type": "code",
   "execution_count": 2371,
   "metadata": {
    "scrolled": true
   },
   "outputs": [
    {
     "name": "stdout",
     "output_type": "stream",
     "text": [
      "0 521 네오티스 0.9999999999999999\n",
      "1 31057 (주)네오티스 0.8282468078644203\n",
      "2 37697 오티스엘리베이터유한회사 0.31013196234975804\n",
      "3 31105 지오티 0.21515661943694672\n",
      "4 22409 오티티 0.20373361153128883\n",
      "5 12229 엠오티 0.196735849669779\n",
      "6 9891 주) 오티 0.17863409667128302\n",
      "7 41439 네오텍 0.17746800706916777\n",
      "8 21541 유티스(주) 0.16924039452366318\n",
      "9 16635 (주)티스코 0.16897800244989655\n"
     ]
    }
   ],
   "source": [
    "# Set company for comparing\n",
    "company_i += 1\n",
    "cosine_sim = linear_kernel(tfidf_matrix[company_i], tfidf_matrix)\n",
    "# print(company_i, original_merge_list[company_i])\n",
    "\n",
    "# Result comparing\n",
    "sorted_index = sorted(range(len(cosine_sim[0])), key=lambda i: cosine_sim[0][i])[-10:]\n",
    "sorted_index.reverse()\n",
    "for i, v in enumerate(sorted_index):\n",
    "    print(str(i), str(v), original_merge_list[v], str(cosine_sim[0][v]))\n",
    "#    if (cosine_sim[0][v] < 0.4):\n",
    "#        break"
   ]
  },
  {
   "cell_type": "code",
   "execution_count": 2372,
   "metadata": {},
   "outputs": [
    {
     "name": "stdout",
     "output_type": "stream",
     "text": [
      "0 네오티스\n",
      "1 (주)네오티스\n"
     ]
    }
   ],
   "source": [
    "sim_list = []\n",
    "for i, v in enumerate(sorted_index):\n",
    "    sim_list.append(original_merge_list[v])\n",
    "    if (i == 1):\n",
    "        break\n",
    "for v, i in enumerate(sim_list):\n",
    "    print(v, i)"
   ]
  },
  {
   "cell_type": "code",
   "execution_count": 2373,
   "metadata": {
    "scrolled": true
   },
   "outputs": [
    {
     "name": "stdout",
     "output_type": "stream",
     "text": [
      "네오티스 added to dictionay !!!\n"
     ]
    }
   ],
   "source": [
    "company_dict[original_merge_list[company_i]] = sim_list\n",
    "print(original_merge_list[company_i], \"added to dictionay !!!\")\n",
    "# company_dict"
   ]
  },
  {
   "cell_type": "markdown",
   "metadata": {},
   "source": [
    "### Warning!!"
   ]
  },
  {
   "cell_type": "code",
   "execution_count": 2369,
   "metadata": {},
   "outputs": [
    {
     "name": "stdout",
     "output_type": "stream",
     "text": [
      "0 신한\n",
      "1 신한\n",
      "2 (유)신한\n"
     ]
    }
   ],
   "source": [
    "sim_list.pop(2)\n",
    "for v, i in enumerate(sim_list):\n",
    "    print(v, i)"
   ]
  },
  {
   "cell_type": "markdown",
   "metadata": {},
   "source": [
    "## Save"
   ]
  },
  {
   "cell_type": "code",
   "execution_count": 1929,
   "metadata": {},
   "outputs": [],
   "source": [
    "import json\n",
    "with open('data/company.json', 'w') as f:\n",
    "    json.dump(company_dict, f)"
   ]
  },
  {
   "cell_type": "markdown",
   "metadata": {},
   "source": [
    "## Open"
   ]
  },
  {
   "cell_type": "code",
   "execution_count": 240,
   "metadata": {
    "scrolled": true
   },
   "outputs": [
    {
     "data": {
      "text/plain": [
       "{'국도화학': ['국도화학', '국도화학(주)', '국도화학주식회사', '국도화학 주식회사', '국도화학(주) 익산지점'],\n",
       " '금호석유화학': ['금호석유화학',\n",
       "  '금호석유화학',\n",
       "  '금호석유화',\n",
       "  '금호석유화학(주)',\n",
       "  '금호석유화학㈜',\n",
       "  '주금호석유화학',\n",
       "  '금호석유화학주식회사',\n",
       "  '금호석유화학 (주)',\n",
       "  '금호석유(주)',\n",
       "  '금호석유화학(주)울산고무공장',\n",
       "  '금호석유화학(주)여수정밀화학공장',\n",
       "  '금호석유화학(주)여수고무제1공장'],\n",
       " '대주전자재료': ['대주전자재료', '대주전자재료', '대주전자재료(주)', '대주전자재료주식회사'],\n",
       " '대한유화': ['대한유화', '대한유화', '대한유화(주)', '대한유화주식회사', '대한유화공업(주)', '대한유압'],\n",
       " '디케이앤디': ['디케이앤디', '디케이앤디', '(주)디케이앤디', '주식회사 디케이앤디'],\n",
       " '롯데케미칼': ['롯데케미칼',\n",
       "  '롯데케미칼',\n",
       "  '롯데케미칼(주)',\n",
       "  '롯데케미칼주식회사',\n",
       "  '롯데케미칼 (주)',\n",
       "  '롯데케미칼 주식회사',\n",
       "  '(주)롯데케미칼',\n",
       "  '롯데케미컬(주)',\n",
       "  '롯데케미컬 주식회사'],\n",
       " '멜파스': ['멜파스', '주)멜파스', '(주)멜파스', '주식회사 멜파스'],\n",
       " '미원상사': ['미원상사', '미원상사(주)', '미원상사 주식회사', '미원상사 (주)', '미원상사㈜', '(주)미원상사'],\n",
       " '송원산업': ['송원산업', '송원산업', '송원산업(주)', '송원산업주식회사', '송원산업 (주)', '송원산업 주식회사'],\n",
       " '이화산업': ['이화산업', '이화산업', '이화산업사', '이화산업(주)'],\n",
       " '일진머티리얼즈': ['일진머티리얼즈',\n",
       "  '일진머티리얼즈',\n",
       "  '일진머티리얼즈(주)',\n",
       "  '일진머티리얼즈 주식회사',\n",
       "  '일진머티리얼즈 (주)',\n",
       "  '일진머티리얼즈(주)익산공장'],\n",
       " '한국쉘석유': ['한국쉘석유',\n",
       "  '한국쉘석유',\n",
       "  '한국쉘석유주식회사',\n",
       "  '한국쉘석유 주식회사',\n",
       "  '한국쉘석유(주）\\u3000\\u3000\\u3000\\u3000\\u3000\\u3000\\u3000']}"
      ]
     },
     "execution_count": 240,
     "metadata": {},
     "output_type": "execute_result"
    }
   ],
   "source": [
    "import json\n",
    "with open('data/company.json') as f:\n",
    "    my_dict = json.load(f)\n",
    "my_dict"
   ]
  },
  {
   "cell_type": "markdown",
   "metadata": {},
   "source": [
    "## TEST"
   ]
  },
  {
   "cell_type": "code",
   "execution_count": 126,
   "metadata": {
    "scrolled": true
   },
   "outputs": [
    {
     "data": {
      "text/plain": [
       "792170     8708999000\n",
       "792177     8302300000\n",
       "792209     7318220000\n",
       "792510     9031909000\n",
       "792518     8512201090\n",
       "792519     3923500000\n",
       "792520     8708991030\n",
       "792548     8543709090\n",
       "792553     8708309000\n",
       "792593     9030339000\n",
       "792725     8708400000\n",
       "792849     8301200000\n",
       "792857     8302100000\n",
       "792925     8501101000\n",
       "792931     8501311010\n",
       "792934     8708290000\n",
       "792957     3926300000\n",
       "792962     8301600000\n",
       "793240     7326909000\n",
       "793271     4009310000\n",
       "793282     4009420000\n",
       "793284     8708930000\n",
       "793295     4016930000\n",
       "793299     4009110000\n",
       "793322     4016991090\n",
       "793326     8415900000\n",
       "793386     4009120000\n",
       "793440     4009410000\n",
       "793498     9401902000\n",
       "793755     8536502000\n",
       "              ...    \n",
       "889182     9027509000\n",
       "889261     8536490000\n",
       "892477     3921901000\n",
       "892507     4415100000\n",
       "892619     4415200000\n",
       "892932     8207909000\n",
       "894509     3402901000\n",
       "894510     3402903000\n",
       "895094     8414901000\n",
       "895207     8708502000\n",
       "895654     8512202090\n",
       "896409     8431100000\n",
       "903947     3918109000\n",
       "904261     3209101019\n",
       "904266     3208201019\n",
       "904767     8302499000\n",
       "1272599    9603500000\n",
       "1288424    8413919000\n",
       "1295051    8504901000\n",
       "1295461    7320201000\n",
       "1300223    7202410000\n",
       "1315394    8518109090\n",
       "1315513    8504403090\n",
       "1337099    3920200000\n",
       "1343804    9026809000\n",
       "1350428    8539290000\n",
       "1352170    9027909099\n",
       "1352831    8204120000\n",
       "1352836    4202199000\n",
       "1355173    2835299000\n",
       "Name: HSCD, Length: 312, dtype: object"
      ]
     },
     "execution_count": 126,
     "metadata": {},
     "output_type": "execute_result"
    }
   ],
   "source": [
    "trade_df.loc[trade_df['BYRORGNM1'] == '현대자동차']['HSCD'].drop_duplicates()"
   ]
  },
  {
   "cell_type": "code",
   "execution_count": 127,
   "metadata": {
    "scrolled": true
   },
   "outputs": [
    {
     "data": {
      "text/plain": [
       "47242              주식회사 포스코대우\n",
       "53902              엘지이노텍 주식회사\n",
       "132944             (주)지앤지트레이딩\n",
       "331914                제라 주식회사\n",
       "336422                  (주)사람\n",
       "342035                (주)네트코스\n",
       "342062               유앤팩 주식회사\n",
       "342191                 (주)파세코\n",
       "344238                  (주)신영\n",
       "346942                건식무역(주)\n",
       "360620                (주)세신산업\n",
       "370437             한국후지제록스(주)\n",
       "372635              (주)신흥문구공업\n",
       "384526              고려인삼과학(주)\n",
       "461201                  기아자동차\n",
       "699674             현대다이모스주식회사\n",
       "699873               한국스미토모상사\n",
       "705920           (주)에이테크오토모티브\n",
       "722031           뉴팩코퍼레이션 유한회사\n",
       "725462               한국지엠주식회사\n",
       "772986             (주)트라이던트상사\n",
       "780586                 (주)코팩코\n",
       "792519                  현대자동차\n",
       "827410              주식회사 쎄라테크\n",
       "887840            (주)피오라뷰티코리아\n",
       "910290               에스케이이(주)\n",
       "917380             주식회사세광하이테크\n",
       "930540               (주)톨리코리아\n",
       "930572          이피에스에스글로벌주식회사\n",
       "931306     애디언트오토모티브인테리어코리아(주\n",
       "                  ...        \n",
       "1140323               오리엔탈F&B\n",
       "1142064             혜성음료 주식회사\n",
       "1143061                    이음\n",
       "1155773          폴리셀코리아 코퍼레이션\n",
       "1159405               (주)한빛화학\n",
       "1162433             제이씨현전자(주)\n",
       "1166977                   애플렌\n",
       "1169224               와이에스컴퍼니\n",
       "1185616                시미즈(주)\n",
       "1219084             (주)대광에프앤지\n",
       "1221870            (주) 팝베리코리아\n",
       "1229885                  다일기업\n",
       "1245954        웅천농협 진해식품 가공공장\n",
       "1370184          (주)씨티케이코스메틱스\n",
       "1470089     현대글로비스(주)\\r\\n\\r\\n\n",
       "1509104               델로스에프앤비\n",
       "1589488                 (주)태양\n",
       "1589656        주식회사 케이엔텍코퍼레이션\n",
       "1680555              경신폴리웰컴퍼니\n",
       "1715501            주식회사 로옴코리아\n",
       "1880778               대상 주식회사\n",
       "1882240            주식회사 현대케피코\n",
       "1895516         HYUNDAI MOBIS\n",
       "1967218         앰코테크놀로지코리아(주)\n",
       "2001724                (주)디이시\n",
       "2011065                (주)파츠몰\n",
       "2237264               (주)포롬케이\n",
       "2237495          롯데알미늄(주)진천공장\n",
       "2251812                (주)서브원\n",
       "2492369               삼성전자(주)\n",
       "Name: BYRORGNM1, Length: 77, dtype: object"
      ]
     },
     "execution_count": 127,
     "metadata": {},
     "output_type": "execute_result"
    }
   ],
   "source": [
    "trade_df.loc[trade_df['HSCD'] == '3923500000']['BYRORGNM1'].drop_duplicates()"
   ]
  },
  {
   "cell_type": "code",
   "execution_count": 175,
   "metadata": {},
   "outputs": [],
   "source": [
    "for i, v in enumerate(company_list):\n",
    "    if '삼성' in v:\n",
    "        print(i, v)"
   ]
  },
  {
   "cell_type": "code",
   "execution_count": 39,
   "metadata": {},
   "outputs": [
    {
     "name": "stdout",
     "output_type": "stream",
     "text": [
      "dk&d\n"
     ]
    }
   ],
   "source": [
    "company_i = 2\n",
    "cosine_sim = linear_kernel(test_matrix[company_i], tfidf_matrix)\n",
    "print(test_name[company_i])"
   ]
  },
  {
   "cell_type": "code",
   "execution_count": 40,
   "metadata": {
    "scrolled": true
   },
   "outputs": [
    {
     "name": "stdout",
     "output_type": "stream",
     "text": [
      "0 69325 주식회사 디케이앤디 (DK&D CO.LTD) 0.4857910369292537\n",
      "1 68821 주식회사 디케이앤디(DK&D Co.Ltd) 0.4857910369292537\n",
      "2 59802 주식회사 디케이앤디(DK&D CO.Ltd) 0.4857910369292537\n",
      "3 46092 K&C 0.2529445494267581\n",
      "4 4030 K&J 0.23562164160311044\n",
      "5 48604 주식회사 DKS 0.1993078875100243\n",
      "6 97659 DKR 0.19073495492699127\n",
      "7 26947 DKCS 0.16034756490524588\n",
      "8 83710 K&B상사 0.15988331991986116\n",
      "9 69913 K & B상사 0.15988331991986116\n",
      "10 53193 DK상사 0.15365185711802878\n",
      "11 13329 DK섬유 0.14710257071660907\n",
      "12 18538 동신E&D 0.14653898290149303\n",
      "13 54742 DK동신주식회사 0.14363428710612208\n",
      "14 9307 DK글로벌 0.14361452036587688\n",
      "15 53789 신흥F&D 0.14264290404957086\n",
      "16 37092 (유)성지F&D 0.1421697633855379\n",
      "17 69694 (주)대도F&D 0.14195148542072344\n",
      "18 14655 DK 강업  0.14087353496409583\n",
      "19 71145 청해S&D 0.13969621625075196\n",
      "20 69335 평화 M&D 0.13939114531895824\n",
      "21 18201 가람D&D 0.13865147326419763\n",
      "22 93943 한림 W&D 0.13792107972818643\n",
      "23 81165 한림W&D 0.13792107972818643\n",
      "24 54923 dk메디칼 0.13529022340477692\n",
      "25 788 DK솔루션 0.13488729211184328\n",
      "26 68653 엠제이R&D 0.13416354598019967\n",
      "27 79581 K&C 종합무역  0.13338084779388398\n",
      "28 66422 K&C 종합무역 0.13338084779388398\n",
      "29 19320 NDKOREA 0.13088723230082877\n",
      "30 2362 TDK한국(주) 0.12988059102221894\n",
      "31 20692 DK파워텍 0.12806172996900586\n",
      "32 26975 DK CORP. 0.12608604265531956\n",
      "33 80763 동림 ADK 0.1214114210921136\n",
      "34 45795 케이앤지(K&G) 0.12082650967351799\n",
      "35 88105 디케이 (DK) 0.11885628485105386\n",
      "36 71221 디케이(DK) 0.11885628485105386\n",
      "37 36802 레이젠(주)DKC 0.11640854947059733\n",
      "38 68264 케이앤와이(K&Y) 0.11335405945668449\n",
      "39 42359 SYSTEM R&D 0.11295841027940558\n",
      "40 43025 TDK 전자한국주식회사 0.10950798543854624\n",
      "41 30729 TDK전자한국주식회사 0.10950798543854624\n",
      "42 77127 에스앤디인터내셔널(S&D) 0.09711036396903594\n",
      "43 12985 OGD KOREA LTD 0.09662982294911511\n",
      "44 71502 (주)O.G.D KOREA 0.09521880858476857\n",
      "45 27834 DK UIL CO., LTD 0.09500252770228379\n",
      "46 20352 디케이(DK)다정 0.09415177725747927\n",
      "47 96474 DK CORPORATION 0.09374307235763098\n",
      "48 69470 에스앤디페브릭(S&D) 0.09326950252282566\n",
      "49 66035 레이젠 (주) DKC사업부 0.09240384436957198\n",
      "50 25190 레이젠(주)DKC사업부 0.09240384436957198\n",
      "51 96267 DK UIL CO., LTD. 0.09197976303251923\n",
      "52 88993 디케이 코스(DK COS) 0.08874877801263231\n",
      "53 12497 주식회사 케이엔티솔루션(K&T Solutio 0.08612118129094165\n",
      "54 57961 케이엔엘 (K&L TOOLINGS) 0.08528416444593873\n",
      "55 83475 디케이오 텍스(DKO TEX) 0.0846035974774872\n",
      "56 18471 (주)에스텍시스템 방재R&D센터 0.08365322227877664\n",
      "57 42269 에스디코리아 주식회사 (SD KOREA) 0.08233846979702342\n",
      "58 14311 제이드코리아(JD KOREA) 0.08177278032894893\n",
      "59 96240 DK INDUSTRIAL CO.,LTD. 0.07590111177050597\n",
      "60 80940 티앤디솔루텍(T&D SOLUTEC) 0.07574799305647156\n",
      "61 65237 티앤디솔루텍 (T&D Solutec) 0.07574799305647156\n",
      "62 22074 프로드코(PRODKOR) 0.07489273281770713\n",
      "63 59675 룩앤필 (Look & Feel) 스튜디오 0.07428856831482515\n",
      "64 95375 명경에푸엔디(F&D)영농조합법인 0.07374937856887086\n",
      "65 89865 디케이벤드(DK-BEND) 0.06881101455347209\n",
      "66 43190 TOSOH SMD KOREA CO.,LTD. 0.06737710626632826\n",
      "67 55714 대광엔지니어링프라스틱 (DK E&P) 0.06555461093915671\n",
      "68 20311 마블(MAHVR R&D ENTERPRISE) 0.06487128021795943\n",
      "69 27526 TDK ELECTRONICS KOREA CORP. 0.06444584981836395\n",
      "70 87843 T.D KARPEZIN. CO., LTD. 0.06385507247313142\n",
      "71 31013 TDK ELECTRONICS KOREA CORPORATION 0.05731059643783429\n",
      "72 150 STATSchipPAC Limited Korea Branch 0.05121053224468678\n",
      "73 98487 (주)에이티케미칼 0.0\n",
      "74 98486 한양디지텍(주) 0.0\n",
      "75 98485 주식회사 SFA 반도체 0.0\n",
      "76 98484 밸류플러스(주) 0.0\n",
      "77 98483 (주)실트론 0.0\n",
      "78 98482 동하정밀(주) 0.0\n",
      "79 98481 INNOXCORPORATION 0.0\n",
      "80 98480 비아이이엠티(주) 0.0\n",
      "81 98479 신성전자정밀(주) 0.0\n",
      "82 98478 암페놀커머셜인터커넥트코리아 0.0\n",
      "83 98477 (주)베스테크 0.0\n",
      "84 98476 아이앤솔루션(주) 0.0\n",
      "85 98475 휘닉스소재 0.0\n",
      "86 98474 (주)로옴전자코리아 0.0\n",
      "87 98473 파나소닉코리아 0.0\n",
      "88 98472 SIMMTECH CO., LTD. 0.0\n",
      "89 98471 (주)엔지온 0.0\n",
      "90 98470 윌코패키지(주) 0.0\n",
      "91 98469 (주)세미콘팩 0.0\n",
      "92 98468 (주)신생사 0.0\n",
      "93 98467 (주) 우익반도체 0.0\n",
      "94 98466 ㈜ 현대모비스 0.0\n",
      "95 98465 신화실크 주식회사 0.0\n",
      "96 98464 평안정공주식회사 0.0\n",
      "97 98463 (주)우성에이디엠 0.0\n",
      "98 98462 동아전장(주) 음성공장 0.0\n",
      "99 98461 은석정밀 0.0\n"
     ]
    }
   ],
   "source": [
    "sorted_index = sorted(range(len(cosine_sim[0])), key=lambda i: cosine_sim[0][i])[-100:]\n",
    "sorted_index.reverse()\n",
    "for i, v in enumerate(sorted_index):\n",
    "    print(str(i), str(v), csv_company_series[v], str(cosine_sim[0][v]))"
   ]
  },
  {
   "cell_type": "code",
   "execution_count": 43,
   "metadata": {},
   "outputs": [
    {
     "data": {
      "text/html": [
       "<div>\n",
       "<style scoped>\n",
       "    .dataframe tbody tr th:only-of-type {\n",
       "        vertical-align: middle;\n",
       "    }\n",
       "\n",
       "    .dataframe tbody tr th {\n",
       "        vertical-align: top;\n",
       "    }\n",
       "\n",
       "    .dataframe thead th {\n",
       "        text-align: right;\n",
       "    }\n",
       "</style>\n",
       "<table border=\"1\" class=\"dataframe\">\n",
       "  <thead>\n",
       "    <tr style=\"text-align: right;\">\n",
       "      <th></th>\n",
       "      <th>name</th>\n",
       "    </tr>\n",
       "    <tr>\n",
       "      <th>id</th>\n",
       "      <th></th>\n",
       "    </tr>\n",
       "  </thead>\n",
       "  <tbody>\n",
       "    <tr>\n",
       "      <th>1</th>\n",
       "      <td>롯데케미칼</td>\n",
       "    </tr>\n",
       "    <tr>\n",
       "      <th>2</th>\n",
       "      <td>대한유화</td>\n",
       "    </tr>\n",
       "    <tr>\n",
       "      <th>3</th>\n",
       "      <td>이화산업</td>\n",
       "    </tr>\n",
       "    <tr>\n",
       "      <th>4</th>\n",
       "      <td>디케이앤디</td>\n",
       "    </tr>\n",
       "    <tr>\n",
       "      <th>5</th>\n",
       "      <td>송원산업</td>\n",
       "    </tr>\n",
       "  </tbody>\n",
       "</table>\n",
       "</div>"
      ],
      "text/plain": [
       "     name\n",
       "id       \n",
       "1   롯데케미칼\n",
       "2    대한유화\n",
       "3    이화산업\n",
       "4   디케이앤디\n",
       "5    송원산업"
      ]
     },
     "execution_count": 43,
     "metadata": {},
     "output_type": "execute_result"
    }
   ],
   "source": [
    "db_company_df = pd.read_sql_table(config['DB_TABLE_NAME_1'], con=conn, index_col='id', \n",
    "                          columns=['name'])\n",
    "db_company_df.head()"
   ]
  },
  {
   "cell_type": "code",
   "execution_count": 45,
   "metadata": {},
   "outputs": [
    {
     "data": {
      "text/plain": [
       "0    롯데케미칼\n",
       "1     대한유화\n",
       "2     이화산업\n",
       "3    디케이앤디\n",
       "4     송원산업\n",
       "Name: name, dtype: object"
      ]
     },
     "execution_count": 45,
     "metadata": {},
     "output_type": "execute_result"
    }
   ],
   "source": [
    "company_series = db_company_df['name'].drop_duplicates().reset_index(drop=True)\n",
    "company_series.head()"
   ]
  },
  {
   "cell_type": "code",
   "execution_count": null,
   "metadata": {},
   "outputs": [],
   "source": []
  }
 ],
 "metadata": {
  "kernelspec": {
   "display_name": "Python 3",
   "language": "python",
   "name": "python3"
  },
  "language_info": {
   "codemirror_mode": {
    "name": "ipython",
    "version": 3
   },
   "file_extension": ".py",
   "mimetype": "text/x-python",
   "name": "python",
   "nbconvert_exporter": "python",
   "pygments_lexer": "ipython3",
   "version": "3.5.2"
  }
 },
 "nbformat": 4,
 "nbformat_minor": 2
}

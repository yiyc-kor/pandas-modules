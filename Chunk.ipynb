{
 "cells": [
  {
   "cell_type": "code",
   "execution_count": 4,
   "metadata": {},
   "outputs": [],
   "source": [
    "import pandas as pd\n",
    "import datetime\n",
    "from time import sleep"
   ]
  },
  {
   "cell_type": "code",
   "execution_count": null,
   "metadata": {},
   "outputs": [],
   "source": [
    "query = \"\"\"\n",
    "SELECT A.byrprtnum NUM,\n",
    "       A.byrorgnm  NAME\n",
    "FROM   cnfrmprchisue A\n",
    "WHERE  issuedt LIKE '2019%'\n",
    "\"\"\""
   ]
  },
  {
   "cell_type": "code",
   "execution_count": null,
   "metadata": {},
   "outputs": [],
   "source": [
    "total_df = []\n",
    "ch_count = 0\n",
    "for chunk in pd.read_sql(query, con=conn, chunksize=150000):\n",
    "    ch_count += len(chunk)\n",
    "    chunk = chunk.drop_duplicated()\n",
    "    total_df.append(chunk)\n",
    "    if len(total_df) >= 2:\n",
    "        total_df = [pd.concat(total_df).drop_duoplicated()]\n",
    "    print(total_df[0])\n",
    "    print(f\"{datetime.now() {ch_count}/{count}\")\n",
    "    sleep(180)"
   ]
  }
 ],
 "metadata": {
  "kernelspec": {
   "display_name": "Python 3",
   "language": "python",
   "name": "python3"
  },
  "language_info": {
   "codemirror_mode": {
    "name": "ipython",
    "version": 3
   },
   "file_extension": ".py",
   "mimetype": "text/x-python",
   "name": "python",
   "nbconvert_exporter": "python",
   "pygments_lexer": "ipython3",
   "version": "3.7.6"
  }
 },
 "nbformat": 4,
 "nbformat_minor": 4
}

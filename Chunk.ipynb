{
 "cells": [
  {
   "cell_type": "code",
   "execution_count": 4,
   "metadata": {},
   "outputs": [],
   "source": [
    "import pandas as pd\n",
    "import datetime\n",
    "from time import sleep"
   ]
  },
  {
   "cell_type": "code",
   "execution_count": null,
   "metadata": {},
   "outputs": [],
   "source": [
    "query = \"\"\"\n",
    "SELECT A.byrprtnum NUM,\n",
    "       A.byrorgnm  NAME\n",
    "FROM   cnfrmprchisue A\n",
    "WHERE  issuedt LIKE '2019%'\n",
    "\"\"\""
   ]
  },
  {
   "cell_type": "code",
   "execution_count": null,
   "metadata": {},
   "outputs": [],
   "source": [
    "total_df = []\n",
    "ch_count = 0\n",
    "for chunk in pd.read_sql(query, con=conn, chunksize=150000):\n",
    "    ch_count += len(chunk)\n",
    "    chunk = chunk.drop_duplicated().reset_index(drop=True)\n",
    "    total_df.append(chunk)\n",
    "    if len(total_df) >= 2:\n",
    "        total_df = [pd.concat(total_df).drop_duoplicated().reset_index(drop=True)]\n",
    "    print(total_df[0])\n",
    "    print(f\"{datetime.now() {ch_count}/{count}\")\n",
    "    sleep(180)"
   ]
  },
  {
   "cell_type": "code",
   "execution_count": null,
   "metadata": {},
   "outputs": [],
   "source": [
    "total_df = total_df[0]"
   ]
  },
  {
   "cell_type": "code",
   "execution_count": null,
   "metadata": {},
   "outputs": [],
   "source": [
    "total_df.loc[total_df.duplicated(['NUM'], keep=False)]"
   ]
  },
  {
   "cell_type": "markdown",
   "metadata": {},
   "source": [
    "### HS코드 6자리와 HS코드 코드 10자리 앞에거 일치하는지"
   ]
  },
  {
   "cell_type": "code",
   "execution_count": 5,
   "metadata": {},
   "outputs": [],
   "source": [
    "query = \"\"\"\n",
    "SELECT A.hscd  HS10,\n",
    "       A.hscd6 HS6\n",
    "FROM   cnfrmprchisue_item A\n",
    "WHERE  issuedt LIKE '2019%'\n",
    "\"\"\""
   ]
  },
  {
   "cell_type": "code",
   "execution_count": null,
   "metadata": {},
   "outputs": [],
   "source": [
    "total_df = []\n",
    "ch_count = 0\n",
    "for chunk in pd.read_sql(query, con=conn, chunksize=150000):\n",
    "    ch_count += len(chunk)\n",
    "    chunk = chunk.drop_duplicated()\n",
    "    total_df.append(chunk)\n",
    "    if len(total_df) >= 2:\n",
    "        total_df = [pd.concat(total_df).drop_duoplicated()]\n",
    "    print(total_df[0])\n",
    "    print(f\"{datetime.now() {ch_count}/{count}\")\n",
    "    sleep(180)\n",
    "total_df = total_df[0]"
   ]
  },
  {
   "cell_type": "code",
   "execution_count": null,
   "metadata": {},
   "outputs": [],
   "source": []
  }
 ],
 "metadata": {
  "kernelspec": {
   "display_name": "Python 3",
   "language": "python",
   "name": "python3"
  },
  "language_info": {
   "codemirror_mode": {
    "name": "ipython",
    "version": 3
   },
   "file_extension": ".py",
   "mimetype": "text/x-python",
   "name": "python",
   "nbconvert_exporter": "python",
   "pygments_lexer": "ipython3",
   "version": "3.7.6"
  }
 },
 "nbformat": 4,
 "nbformat_minor": 4
}

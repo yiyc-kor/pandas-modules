{
 "cells": [
  {
   "cell_type": "code",
   "execution_count": 1,
   "metadata": {},
   "outputs": [],
   "source": [
    "# Read object json file\n",
    "import json\n",
    "with open('data/company.json') as f:\n",
    "    company_dict = json.load(f)\n",
    "# company_dict"
   ]
  },
  {
   "cell_type": "code",
   "execution_count": 2,
   "metadata": {},
   "outputs": [
    {
     "name": "stderr",
     "output_type": "stream",
     "text": [
      "/home/ktnet/Git/pandas-modules/venv/lib/python3.5/site-packages/IPython/core/interactiveshell.py:3058: DtypeWarning: Columns (13) have mixed types. Specify dtype option on import or set low_memory=False.\n",
      "  interactivity=interactivity, compiler=compiler, result=result)\n"
     ]
    },
    {
     "data": {
      "text/html": [
       "<div>\n",
       "<style scoped>\n",
       "    .dataframe tbody tr th:only-of-type {\n",
       "        vertical-align: middle;\n",
       "    }\n",
       "\n",
       "    .dataframe tbody tr th {\n",
       "        vertical-align: top;\n",
       "    }\n",
       "\n",
       "    .dataframe thead th {\n",
       "        text-align: right;\n",
       "    }\n",
       "</style>\n",
       "<table border=\"1\" class=\"dataframe\">\n",
       "  <thead>\n",
       "    <tr style=\"text-align: right;\">\n",
       "      <th></th>\n",
       "      <th>HSCD</th>\n",
       "      <th>QTY</th>\n",
       "      <th>QTYUNIT</th>\n",
       "      <th>AMT</th>\n",
       "      <th>CUR</th>\n",
       "      <th>USDUNTPRICE</th>\n",
       "      <th>UNTPRICE</th>\n",
       "      <th>ITEM</th>\n",
       "      <th>BYRORGNM1</th>\n",
       "      <th>BYRPRTNUM</th>\n",
       "      <th>...</th>\n",
       "      <th>BYRADDR2</th>\n",
       "      <th>SPLYORGNM1</th>\n",
       "      <th>SPLYPRTNUM</th>\n",
       "      <th>SPLYADDR1</th>\n",
       "      <th>SPLYADDR2</th>\n",
       "      <th>ISSUEDT</th>\n",
       "      <th>TOTQTY</th>\n",
       "      <th>TOTQTYUNIT</th>\n",
       "      <th>TOTAMT</th>\n",
       "      <th>TOTAMTCUR</th>\n",
       "    </tr>\n",
       "  </thead>\n",
       "  <tbody>\n",
       "    <tr>\n",
       "      <th>0</th>\n",
       "      <td>7210491090</td>\n",
       "      <td>168000.0</td>\n",
       "      <td>KG</td>\n",
       "      <td>126504.0</td>\n",
       "      <td>USD</td>\n",
       "      <td>753.0</td>\n",
       "      <td>753.0</td>\n",
       "      <td>GI COIL</td>\n",
       "      <td>주식회사 포스코대우</td>\n",
       "      <td>1318555320</td>\n",
       "      <td>...</td>\n",
       "      <td>주식회사 포스코대우</td>\n",
       "      <td>POSCO</td>\n",
       "      <td>5068100017</td>\n",
       "      <td>1 GOEDONG-DONG, NAM-GU</td>\n",
       "      <td>NaN</td>\n",
       "      <td>2017-09-20</td>\n",
       "      <td>525842000.0</td>\n",
       "      <td>KG</td>\n",
       "      <td>2.356666e+08</td>\n",
       "      <td>USD</td>\n",
       "    </tr>\n",
       "    <tr>\n",
       "      <th>1</th>\n",
       "      <td>7210491090</td>\n",
       "      <td>173000.0</td>\n",
       "      <td>KG</td>\n",
       "      <td>98175.0</td>\n",
       "      <td>USD</td>\n",
       "      <td>595.0</td>\n",
       "      <td>595.0</td>\n",
       "      <td>GI COIL</td>\n",
       "      <td>주식회사 포스코대우</td>\n",
       "      <td>1318555320</td>\n",
       "      <td>...</td>\n",
       "      <td>주식회사 포스코대우</td>\n",
       "      <td>POSCO</td>\n",
       "      <td>5068100017</td>\n",
       "      <td>1 GOEDONG-DONG, NAM-GU</td>\n",
       "      <td>NaN</td>\n",
       "      <td>2017-09-20</td>\n",
       "      <td>525842000.0</td>\n",
       "      <td>KG</td>\n",
       "      <td>2.356666e+08</td>\n",
       "      <td>USD</td>\n",
       "    </tr>\n",
       "    <tr>\n",
       "      <th>2</th>\n",
       "      <td>7210491090</td>\n",
       "      <td>130000.0</td>\n",
       "      <td>KG</td>\n",
       "      <td>85878.0</td>\n",
       "      <td>USD</td>\n",
       "      <td>660.6</td>\n",
       "      <td>660.6</td>\n",
       "      <td>GI COIL</td>\n",
       "      <td>주식회사 포스코대우</td>\n",
       "      <td>1318555320</td>\n",
       "      <td>...</td>\n",
       "      <td>주식회사 포스코대우</td>\n",
       "      <td>POSCO</td>\n",
       "      <td>5068100017</td>\n",
       "      <td>1 GOEDONG-DONG, NAM-GU</td>\n",
       "      <td>NaN</td>\n",
       "      <td>2017-09-20</td>\n",
       "      <td>525842000.0</td>\n",
       "      <td>KG</td>\n",
       "      <td>2.356666e+08</td>\n",
       "      <td>USD</td>\n",
       "    </tr>\n",
       "    <tr>\n",
       "      <th>3</th>\n",
       "      <td>7209169000</td>\n",
       "      <td>17600000.0</td>\n",
       "      <td>KG</td>\n",
       "      <td>9901504.0</td>\n",
       "      <td>USD</td>\n",
       "      <td>569.0</td>\n",
       "      <td>569.0</td>\n",
       "      <td>CR COIL (3MM&lt;=T)</td>\n",
       "      <td>주식회사 포스코대우</td>\n",
       "      <td>1318555320</td>\n",
       "      <td>...</td>\n",
       "      <td>주식회사 포스코대우</td>\n",
       "      <td>POSCO</td>\n",
       "      <td>5068100017</td>\n",
       "      <td>1 GOEDONG-DONG, NAM-GU</td>\n",
       "      <td>NaN</td>\n",
       "      <td>2017-09-20</td>\n",
       "      <td>525842000.0</td>\n",
       "      <td>KG</td>\n",
       "      <td>2.356666e+08</td>\n",
       "      <td>USD</td>\n",
       "    </tr>\n",
       "    <tr>\n",
       "      <th>4</th>\n",
       "      <td>7210491090</td>\n",
       "      <td>11000.0</td>\n",
       "      <td>KG</td>\n",
       "      <td>6435.0</td>\n",
       "      <td>USD</td>\n",
       "      <td>585.0</td>\n",
       "      <td>585.0</td>\n",
       "      <td>GI COIL</td>\n",
       "      <td>주식회사 포스코대우</td>\n",
       "      <td>1318555320</td>\n",
       "      <td>...</td>\n",
       "      <td>주식회사 포스코대우</td>\n",
       "      <td>POSCO</td>\n",
       "      <td>5068100017</td>\n",
       "      <td>1 GOEDONG-DONG, NAM-GU</td>\n",
       "      <td>NaN</td>\n",
       "      <td>2017-09-20</td>\n",
       "      <td>525842000.0</td>\n",
       "      <td>KG</td>\n",
       "      <td>2.356666e+08</td>\n",
       "      <td>USD</td>\n",
       "    </tr>\n",
       "  </tbody>\n",
       "</table>\n",
       "<p>5 rows × 21 columns</p>\n",
       "</div>"
      ],
      "text/plain": [
       "         HSCD         QTY QTYUNIT        AMT  CUR  USDUNTPRICE  UNTPRICE  \\\n",
       "0  7210491090    168000.0      KG   126504.0  USD        753.0     753.0   \n",
       "1  7210491090    173000.0      KG    98175.0  USD        595.0     595.0   \n",
       "2  7210491090    130000.0      KG    85878.0  USD        660.6     660.6   \n",
       "3  7209169000  17600000.0      KG  9901504.0  USD        569.0     569.0   \n",
       "4  7210491090     11000.0      KG     6435.0  USD        585.0     585.0   \n",
       "\n",
       "               ITEM   BYRORGNM1   BYRPRTNUM  ...    BYRADDR2 SPLYORGNM1  \\\n",
       "0           GI COIL  주식회사 포스코대우  1318555320  ...  주식회사 포스코대우      POSCO   \n",
       "1           GI COIL  주식회사 포스코대우  1318555320  ...  주식회사 포스코대우      POSCO   \n",
       "2           GI COIL  주식회사 포스코대우  1318555320  ...  주식회사 포스코대우      POSCO   \n",
       "3  CR COIL (3MM<=T)  주식회사 포스코대우  1318555320  ...  주식회사 포스코대우      POSCO   \n",
       "4           GI COIL  주식회사 포스코대우  1318555320  ...  주식회사 포스코대우      POSCO   \n",
       "\n",
       "   SPLYPRTNUM               SPLYADDR1 SPLYADDR2    ISSUEDT       TOTQTY  \\\n",
       "0  5068100017  1 GOEDONG-DONG, NAM-GU       NaN 2017-09-20  525842000.0   \n",
       "1  5068100017  1 GOEDONG-DONG, NAM-GU       NaN 2017-09-20  525842000.0   \n",
       "2  5068100017  1 GOEDONG-DONG, NAM-GU       NaN 2017-09-20  525842000.0   \n",
       "3  5068100017  1 GOEDONG-DONG, NAM-GU       NaN 2017-09-20  525842000.0   \n",
       "4  5068100017  1 GOEDONG-DONG, NAM-GU       NaN 2017-09-20  525842000.0   \n",
       "\n",
       "   TOTQTYUNIT        TOTAMT  TOTAMTCUR  \n",
       "0          KG  2.356666e+08        USD  \n",
       "1          KG  2.356666e+08        USD  \n",
       "2          KG  2.356666e+08        USD  \n",
       "3          KG  2.356666e+08        USD  \n",
       "4          KG  2.356666e+08        USD  \n",
       "\n",
       "[5 rows x 21 columns]"
      ]
     },
     "execution_count": 2,
     "metadata": {},
     "output_type": "execute_result"
    }
   ],
   "source": [
    "# Read csv\n",
    "import pandas as pd\n",
    "trade_df = pd.read_csv(\"./data/data.csv\", encoding=\"utf-8\", parse_dates=['ISSUEDT'],\n",
    "                       dtype={'HSCD': str, \"QTY\": float, 'BYRADDR2': str, 'SPLYADDR2': str})\n",
    "trade_df.head()"
   ]
  },
  {
   "cell_type": "code",
   "execution_count": 3,
   "metadata": {
    "scrolled": true
   },
   "outputs": [
    {
     "data": {
      "text/html": [
       "<div>\n",
       "<style scoped>\n",
       "    .dataframe tbody tr th:only-of-type {\n",
       "        vertical-align: middle;\n",
       "    }\n",
       "\n",
       "    .dataframe tbody tr th {\n",
       "        vertical-align: top;\n",
       "    }\n",
       "\n",
       "    .dataframe thead th {\n",
       "        text-align: right;\n",
       "    }\n",
       "</style>\n",
       "<table border=\"1\" class=\"dataframe\">\n",
       "  <thead>\n",
       "    <tr style=\"text-align: right;\">\n",
       "      <th></th>\n",
       "      <th>HSCD</th>\n",
       "      <th>QTY</th>\n",
       "      <th>QTYUNIT</th>\n",
       "      <th>AMT</th>\n",
       "      <th>CUR</th>\n",
       "      <th>USDUNTPRICE</th>\n",
       "      <th>UNTPRICE</th>\n",
       "      <th>ITEM</th>\n",
       "      <th>BYRORGNM1</th>\n",
       "      <th>BYRPRTNUM</th>\n",
       "      <th>...</th>\n",
       "      <th>BYRADDR2</th>\n",
       "      <th>SPLYORGNM1</th>\n",
       "      <th>SPLYPRTNUM</th>\n",
       "      <th>SPLYADDR1</th>\n",
       "      <th>SPLYADDR2</th>\n",
       "      <th>ISSUEDT</th>\n",
       "      <th>TOTQTY</th>\n",
       "      <th>TOTQTYUNIT</th>\n",
       "      <th>TOTAMT</th>\n",
       "      <th>TOTAMTCUR</th>\n",
       "    </tr>\n",
       "  </thead>\n",
       "  <tbody>\n",
       "  </tbody>\n",
       "</table>\n",
       "<p>0 rows × 21 columns</p>\n",
       "</div>"
      ],
      "text/plain": [
       "Empty DataFrame\n",
       "Columns: [HSCD, QTY, QTYUNIT, AMT, CUR, USDUNTPRICE, UNTPRICE, ITEM, BYRORGNM1, BYRPRTNUM, BYRADDR1, BYRADDR2, SPLYORGNM1, SPLYPRTNUM, SPLYADDR1, SPLYADDR2, ISSUEDT, TOTQTY, TOTQTYUNIT, TOTAMT, TOTAMTCUR]\n",
       "Index: []\n",
       "\n",
       "[0 rows x 21 columns]"
      ]
     },
     "execution_count": 3,
     "metadata": {},
     "output_type": "execute_result"
    }
   ],
   "source": [
    "# Make new dataframe\n",
    "trade_df_columns = trade_df.columns.tolist()\n",
    "new_df = pd.DataFrame(columns=trade_df_columns)\n",
    "new_df.head()"
   ]
  },
  {
   "cell_type": "code",
   "execution_count": 4,
   "metadata": {
    "scrolled": true
   },
   "outputs": [
    {
     "name": "stdout",
     "output_type": "stream",
     "text": [
      "==================== BUYER SEARCH ====================\n"
     ]
    },
    {
     "name": "stderr",
     "output_type": "stream",
     "text": [
      "/home/ktnet/Git/pandas-modules/venv/lib/python3.5/site-packages/pandas/core/indexing.py:543: SettingWithCopyWarning: \n",
      "A value is trying to be set on a copy of a slice from a DataFrame.\n",
      "Try using .loc[row_indexer,col_indexer] = value instead\n",
      "\n",
      "See the caveats in the documentation: http://pandas.pydata.org/pandas-docs/stable/indexing.html#indexing-view-versus-copy\n",
      "  self.obj[item] = s\n"
     ]
    },
    {
     "name": "stdout",
     "output_type": "stream",
     "text": [
      "서울반도체 1 / 795\n",
      "우신시스템 2 / 795\n",
      "코스온 3 / 795\n"
     ]
    },
    {
     "ename": "KeyboardInterrupt",
     "evalue": "",
     "output_type": "error",
     "traceback": [
      "\u001b[0;31m---------------------------------------------------------------------------\u001b[0m",
      "\u001b[0;31mKeyboardInterrupt\u001b[0m                         Traceback (most recent call last)",
      "\u001b[0;32m<ipython-input-4-d0da77dca4f6>\u001b[0m in \u001b[0;36m<module>\u001b[0;34m\u001b[0m\n\u001b[1;32m      5\u001b[0m \u001b[0;32mfor\u001b[0m \u001b[0morigin_company_name\u001b[0m \u001b[0;32min\u001b[0m \u001b[0mcompany_dict\u001b[0m\u001b[0;34m:\u001b[0m\u001b[0;34m\u001b[0m\u001b[0m\n\u001b[1;32m      6\u001b[0m     \u001b[0;32mfor\u001b[0m \u001b[0mcompany_name\u001b[0m \u001b[0;32min\u001b[0m \u001b[0mcompany_dict\u001b[0m\u001b[0;34m[\u001b[0m\u001b[0morigin_company_name\u001b[0m\u001b[0;34m]\u001b[0m\u001b[0;34m:\u001b[0m\u001b[0;34m\u001b[0m\u001b[0m\n\u001b[0;32m----> 7\u001b[0;31m         \u001b[0mtarget_dataframe\u001b[0m \u001b[0;34m=\u001b[0m \u001b[0mtrade_df\u001b[0m\u001b[0;34m.\u001b[0m\u001b[0mloc\u001b[0m\u001b[0;34m[\u001b[0m\u001b[0mtrade_df\u001b[0m\u001b[0;34m[\u001b[0m\u001b[0;34m'BYRORGNM1'\u001b[0m\u001b[0;34m]\u001b[0m \u001b[0;34m==\u001b[0m \u001b[0mcompany_name\u001b[0m\u001b[0;34m]\u001b[0m\u001b[0;34m\u001b[0m\u001b[0m\n\u001b[0m\u001b[1;32m      8\u001b[0m         \u001b[0;31m# print(origin_company_name, company_name, len(target_dataframe.loc[:,:]))\u001b[0m\u001b[0;34m\u001b[0m\u001b[0;34m\u001b[0m\u001b[0m\n\u001b[1;32m      9\u001b[0m         \u001b[0mtarget_dataframe\u001b[0m\u001b[0;34m.\u001b[0m\u001b[0mloc\u001b[0m\u001b[0;34m[\u001b[0m\u001b[0;34m:\u001b[0m\u001b[0;34m,\u001b[0m \u001b[0;34m'BYRORGNM1'\u001b[0m\u001b[0;34m]\u001b[0m \u001b[0;34m=\u001b[0m \u001b[0morigin_company_name\u001b[0m\u001b[0;34m\u001b[0m\u001b[0m\n",
      "\u001b[0;32m~/Git/pandas-modules/venv/lib/python3.5/site-packages/pandas/core/ops.py\u001b[0m in \u001b[0;36mwrapper\u001b[0;34m(self, other, axis)\u001b[0m\n\u001b[1;32m   1764\u001b[0m \u001b[0;34m\u001b[0m\u001b[0m\n\u001b[1;32m   1765\u001b[0m             \u001b[0;32mwith\u001b[0m \u001b[0mnp\u001b[0m\u001b[0;34m.\u001b[0m\u001b[0merrstate\u001b[0m\u001b[0;34m(\u001b[0m\u001b[0mall\u001b[0m\u001b[0;34m=\u001b[0m\u001b[0;34m'ignore'\u001b[0m\u001b[0;34m)\u001b[0m\u001b[0;34m:\u001b[0m\u001b[0;34m\u001b[0m\u001b[0m\n\u001b[0;32m-> 1766\u001b[0;31m                 \u001b[0mres\u001b[0m \u001b[0;34m=\u001b[0m \u001b[0mna_op\u001b[0m\u001b[0;34m(\u001b[0m\u001b[0mvalues\u001b[0m\u001b[0;34m,\u001b[0m \u001b[0mother\u001b[0m\u001b[0;34m)\u001b[0m\u001b[0;34m\u001b[0m\u001b[0m\n\u001b[0m\u001b[1;32m   1767\u001b[0m             \u001b[0;32mif\u001b[0m \u001b[0mis_scalar\u001b[0m\u001b[0;34m(\u001b[0m\u001b[0mres\u001b[0m\u001b[0;34m)\u001b[0m\u001b[0;34m:\u001b[0m\u001b[0;34m\u001b[0m\u001b[0m\n\u001b[1;32m   1768\u001b[0m                 raise TypeError('Could not compare {typ} type with Series'\n",
      "\u001b[0;32m~/Git/pandas-modules/venv/lib/python3.5/site-packages/pandas/core/ops.py\u001b[0m in \u001b[0;36mna_op\u001b[0;34m(x, y)\u001b[0m\n\u001b[1;32m   1623\u001b[0m \u001b[0;34m\u001b[0m\u001b[0m\n\u001b[1;32m   1624\u001b[0m         \u001b[0;32mif\u001b[0m \u001b[0mis_object_dtype\u001b[0m\u001b[0;34m(\u001b[0m\u001b[0mx\u001b[0m\u001b[0;34m.\u001b[0m\u001b[0mdtype\u001b[0m\u001b[0;34m)\u001b[0m\u001b[0;34m:\u001b[0m\u001b[0;34m\u001b[0m\u001b[0m\n\u001b[0;32m-> 1625\u001b[0;31m             \u001b[0mresult\u001b[0m \u001b[0;34m=\u001b[0m \u001b[0m_comp_method_OBJECT_ARRAY\u001b[0m\u001b[0;34m(\u001b[0m\u001b[0mop\u001b[0m\u001b[0;34m,\u001b[0m \u001b[0mx\u001b[0m\u001b[0;34m,\u001b[0m \u001b[0my\u001b[0m\u001b[0;34m)\u001b[0m\u001b[0;34m\u001b[0m\u001b[0m\n\u001b[0m\u001b[1;32m   1626\u001b[0m \u001b[0;34m\u001b[0m\u001b[0m\n\u001b[1;32m   1627\u001b[0m         \u001b[0;32melif\u001b[0m \u001b[0mis_datetimelike_v_numeric\u001b[0m\u001b[0;34m(\u001b[0m\u001b[0mx\u001b[0m\u001b[0;34m,\u001b[0m \u001b[0my\u001b[0m\u001b[0;34m)\u001b[0m\u001b[0;34m:\u001b[0m\u001b[0;34m\u001b[0m\u001b[0m\n",
      "\u001b[0;32m~/Git/pandas-modules/venv/lib/python3.5/site-packages/pandas/core/ops.py\u001b[0m in \u001b[0;36m_comp_method_OBJECT_ARRAY\u001b[0;34m(op, x, y)\u001b[0m\n\u001b[1;32m   1601\u001b[0m         \u001b[0mresult\u001b[0m \u001b[0;34m=\u001b[0m \u001b[0mlibops\u001b[0m\u001b[0;34m.\u001b[0m\u001b[0mvec_compare\u001b[0m\u001b[0;34m(\u001b[0m\u001b[0mx\u001b[0m\u001b[0;34m,\u001b[0m \u001b[0my\u001b[0m\u001b[0;34m,\u001b[0m \u001b[0mop\u001b[0m\u001b[0;34m)\u001b[0m\u001b[0;34m\u001b[0m\u001b[0m\n\u001b[1;32m   1602\u001b[0m     \u001b[0;32melse\u001b[0m\u001b[0;34m:\u001b[0m\u001b[0;34m\u001b[0m\u001b[0m\n\u001b[0;32m-> 1603\u001b[0;31m         \u001b[0mresult\u001b[0m \u001b[0;34m=\u001b[0m \u001b[0mlibops\u001b[0m\u001b[0;34m.\u001b[0m\u001b[0mscalar_compare\u001b[0m\u001b[0;34m(\u001b[0m\u001b[0mx\u001b[0m\u001b[0;34m,\u001b[0m \u001b[0my\u001b[0m\u001b[0;34m,\u001b[0m \u001b[0mop\u001b[0m\u001b[0;34m)\u001b[0m\u001b[0;34m\u001b[0m\u001b[0m\n\u001b[0m\u001b[1;32m   1604\u001b[0m     \u001b[0;32mreturn\u001b[0m \u001b[0mresult\u001b[0m\u001b[0;34m\u001b[0m\u001b[0m\n\u001b[1;32m   1605\u001b[0m \u001b[0;34m\u001b[0m\u001b[0m\n",
      "\u001b[0;31mKeyboardInterrupt\u001b[0m: "
     ]
    }
   ],
   "source": [
    "# Parse buyer\n",
    "print('=' * 20 + \" BUYER SEARCH \" + '=' * 20)\n",
    "total_count = len(company_dict)\n",
    "count = 0\n",
    "for origin_company_name in company_dict:\n",
    "    for company_name in company_dict[origin_company_name]:\n",
    "        target_dataframe = trade_df.loc[trade_df['BYRORGNM1'] == company_name]\n",
    "        # print(origin_company_name, company_name, len(target_dataframe.loc[:,:]))\n",
    "        target_dataframe.loc[:, 'BYRORGNM1'] = origin_company_name\n",
    "        new_df = pd.concat([new_df, target_dataframe])\n",
    "    count += 1\n",
    "    print(origin_company_name, count, '/', total_count)"
   ]
  },
  {
   "cell_type": "code",
   "execution_count": 5,
   "metadata": {
    "scrolled": true
   },
   "outputs": [
    {
     "data": {
      "text/html": [
       "<div>\n",
       "<style scoped>\n",
       "    .dataframe tbody tr th:only-of-type {\n",
       "        vertical-align: middle;\n",
       "    }\n",
       "\n",
       "    .dataframe tbody tr th {\n",
       "        vertical-align: top;\n",
       "    }\n",
       "\n",
       "    .dataframe thead th {\n",
       "        text-align: right;\n",
       "    }\n",
       "</style>\n",
       "<table border=\"1\" class=\"dataframe\">\n",
       "  <thead>\n",
       "    <tr style=\"text-align: right;\">\n",
       "      <th></th>\n",
       "      <th>HSCD</th>\n",
       "      <th>QTY</th>\n",
       "      <th>QTYUNIT</th>\n",
       "      <th>AMT</th>\n",
       "      <th>CUR</th>\n",
       "      <th>USDUNTPRICE</th>\n",
       "      <th>UNTPRICE</th>\n",
       "      <th>ITEM</th>\n",
       "      <th>BYRORGNM1</th>\n",
       "      <th>BYRPRTNUM</th>\n",
       "      <th>...</th>\n",
       "      <th>BYRADDR2</th>\n",
       "      <th>SPLYORGNM1</th>\n",
       "      <th>SPLYPRTNUM</th>\n",
       "      <th>SPLYADDR1</th>\n",
       "      <th>SPLYADDR2</th>\n",
       "      <th>ISSUEDT</th>\n",
       "      <th>TOTQTY</th>\n",
       "      <th>TOTQTYUNIT</th>\n",
       "      <th>TOTAMT</th>\n",
       "      <th>TOTAMTCUR</th>\n",
       "    </tr>\n",
       "  </thead>\n",
       "  <tbody>\n",
       "  </tbody>\n",
       "</table>\n",
       "<p>0 rows × 21 columns</p>\n",
       "</div>"
      ],
      "text/plain": [
       "Empty DataFrame\n",
       "Columns: [HSCD, QTY, QTYUNIT, AMT, CUR, USDUNTPRICE, UNTPRICE, ITEM, BYRORGNM1, BYRPRTNUM, BYRADDR1, BYRADDR2, SPLYORGNM1, SPLYPRTNUM, SPLYADDR1, SPLYADDR2, ISSUEDT, TOTQTY, TOTQTYUNIT, TOTAMT, TOTAMTCUR]\n",
       "Index: []\n",
       "\n",
       "[0 rows x 21 columns]"
      ]
     },
     "execution_count": 5,
     "metadata": {},
     "output_type": "execute_result"
    }
   ],
   "source": [
    "# Check duplicated index\n",
    "new_df[new_df.index.duplicated(keep=False)]"
   ]
  },
  {
   "cell_type": "code",
   "execution_count": 6,
   "metadata": {},
   "outputs": [
    {
     "name": "stdout",
     "output_type": "stream",
     "text": [
      "Number of buyer 3998554\n"
     ]
    }
   ],
   "source": [
    "# Check\n",
    "print('Number of buyer', len(new_df))"
   ]
  },
  {
   "cell_type": "code",
   "execution_count": 5,
   "metadata": {
    "scrolled": true
   },
   "outputs": [
    {
     "name": "stdout",
     "output_type": "stream",
     "text": [
      "==================== SUPPLIER SEARCH ====================\n",
      "서울반도체 1 / 795\n",
      "우신시스템 2 / 795\n",
      "코스온 3 / 795\n"
     ]
    },
    {
     "ename": "KeyboardInterrupt",
     "evalue": "",
     "output_type": "error",
     "traceback": [
      "\u001b[0;31m---------------------------------------------------------------------------\u001b[0m",
      "\u001b[0;31mKeyboardInterrupt\u001b[0m                         Traceback (most recent call last)",
      "\u001b[0;32m<ipython-input-5-3a1120885b76>\u001b[0m in \u001b[0;36m<module>\u001b[0;34m\u001b[0m\n\u001b[1;32m      5\u001b[0m \u001b[0;32mfor\u001b[0m \u001b[0morigin_company_name\u001b[0m \u001b[0;32min\u001b[0m \u001b[0mcompany_dict\u001b[0m\u001b[0;34m:\u001b[0m\u001b[0;34m\u001b[0m\u001b[0m\n\u001b[1;32m      6\u001b[0m     \u001b[0;32mfor\u001b[0m \u001b[0mcompany_name\u001b[0m \u001b[0;32min\u001b[0m \u001b[0mcompany_dict\u001b[0m\u001b[0;34m[\u001b[0m\u001b[0morigin_company_name\u001b[0m\u001b[0;34m]\u001b[0m\u001b[0;34m:\u001b[0m\u001b[0;34m\u001b[0m\u001b[0m\n\u001b[0;32m----> 7\u001b[0;31m         \u001b[0mtarget_dataframe\u001b[0m \u001b[0;34m=\u001b[0m \u001b[0mtrade_df\u001b[0m\u001b[0;34m.\u001b[0m\u001b[0mloc\u001b[0m\u001b[0;34m[\u001b[0m\u001b[0mtrade_df\u001b[0m\u001b[0;34m[\u001b[0m\u001b[0;34m'SPLYORGNM1'\u001b[0m\u001b[0;34m]\u001b[0m \u001b[0;34m==\u001b[0m \u001b[0mcompany_name\u001b[0m\u001b[0;34m]\u001b[0m\u001b[0;34m\u001b[0m\u001b[0m\n\u001b[0m\u001b[1;32m      8\u001b[0m         \u001b[0mtarget_dataframe\u001b[0m\u001b[0;34m.\u001b[0m\u001b[0mloc\u001b[0m\u001b[0;34m[\u001b[0m\u001b[0;34m:\u001b[0m\u001b[0;34m,\u001b[0m \u001b[0;34m'SPLYORGNM1'\u001b[0m\u001b[0;34m]\u001b[0m \u001b[0;34m=\u001b[0m \u001b[0morigin_company_name\u001b[0m\u001b[0;34m\u001b[0m\u001b[0m\n\u001b[1;32m      9\u001b[0m         \u001b[0mnew_df\u001b[0m \u001b[0;34m=\u001b[0m \u001b[0mpd\u001b[0m\u001b[0;34m.\u001b[0m\u001b[0mconcat\u001b[0m\u001b[0;34m(\u001b[0m\u001b[0;34m[\u001b[0m\u001b[0mnew_df\u001b[0m\u001b[0;34m,\u001b[0m \u001b[0mtarget_dataframe\u001b[0m\u001b[0;34m]\u001b[0m\u001b[0;34m)\u001b[0m\u001b[0;34m\u001b[0m\u001b[0m\n",
      "\u001b[0;32m~/Git/pandas-modules/venv/lib/python3.5/site-packages/pandas/core/ops.py\u001b[0m in \u001b[0;36mwrapper\u001b[0;34m(self, other, axis)\u001b[0m\n\u001b[1;32m   1764\u001b[0m \u001b[0;34m\u001b[0m\u001b[0m\n\u001b[1;32m   1765\u001b[0m             \u001b[0;32mwith\u001b[0m \u001b[0mnp\u001b[0m\u001b[0;34m.\u001b[0m\u001b[0merrstate\u001b[0m\u001b[0;34m(\u001b[0m\u001b[0mall\u001b[0m\u001b[0;34m=\u001b[0m\u001b[0;34m'ignore'\u001b[0m\u001b[0;34m)\u001b[0m\u001b[0;34m:\u001b[0m\u001b[0;34m\u001b[0m\u001b[0m\n\u001b[0;32m-> 1766\u001b[0;31m                 \u001b[0mres\u001b[0m \u001b[0;34m=\u001b[0m \u001b[0mna_op\u001b[0m\u001b[0;34m(\u001b[0m\u001b[0mvalues\u001b[0m\u001b[0;34m,\u001b[0m \u001b[0mother\u001b[0m\u001b[0;34m)\u001b[0m\u001b[0;34m\u001b[0m\u001b[0m\n\u001b[0m\u001b[1;32m   1767\u001b[0m             \u001b[0;32mif\u001b[0m \u001b[0mis_scalar\u001b[0m\u001b[0;34m(\u001b[0m\u001b[0mres\u001b[0m\u001b[0;34m)\u001b[0m\u001b[0;34m:\u001b[0m\u001b[0;34m\u001b[0m\u001b[0m\n\u001b[1;32m   1768\u001b[0m                 raise TypeError('Could not compare {typ} type with Series'\n",
      "\u001b[0;32m~/Git/pandas-modules/venv/lib/python3.5/site-packages/pandas/core/ops.py\u001b[0m in \u001b[0;36mna_op\u001b[0;34m(x, y)\u001b[0m\n\u001b[1;32m   1623\u001b[0m \u001b[0;34m\u001b[0m\u001b[0m\n\u001b[1;32m   1624\u001b[0m         \u001b[0;32mif\u001b[0m \u001b[0mis_object_dtype\u001b[0m\u001b[0;34m(\u001b[0m\u001b[0mx\u001b[0m\u001b[0;34m.\u001b[0m\u001b[0mdtype\u001b[0m\u001b[0;34m)\u001b[0m\u001b[0;34m:\u001b[0m\u001b[0;34m\u001b[0m\u001b[0m\n\u001b[0;32m-> 1625\u001b[0;31m             \u001b[0mresult\u001b[0m \u001b[0;34m=\u001b[0m \u001b[0m_comp_method_OBJECT_ARRAY\u001b[0m\u001b[0;34m(\u001b[0m\u001b[0mop\u001b[0m\u001b[0;34m,\u001b[0m \u001b[0mx\u001b[0m\u001b[0;34m,\u001b[0m \u001b[0my\u001b[0m\u001b[0;34m)\u001b[0m\u001b[0;34m\u001b[0m\u001b[0m\n\u001b[0m\u001b[1;32m   1626\u001b[0m \u001b[0;34m\u001b[0m\u001b[0m\n\u001b[1;32m   1627\u001b[0m         \u001b[0;32melif\u001b[0m \u001b[0mis_datetimelike_v_numeric\u001b[0m\u001b[0;34m(\u001b[0m\u001b[0mx\u001b[0m\u001b[0;34m,\u001b[0m \u001b[0my\u001b[0m\u001b[0;34m)\u001b[0m\u001b[0;34m:\u001b[0m\u001b[0;34m\u001b[0m\u001b[0m\n",
      "\u001b[0;32m~/Git/pandas-modules/venv/lib/python3.5/site-packages/pandas/core/ops.py\u001b[0m in \u001b[0;36m_comp_method_OBJECT_ARRAY\u001b[0;34m(op, x, y)\u001b[0m\n\u001b[1;32m   1601\u001b[0m         \u001b[0mresult\u001b[0m \u001b[0;34m=\u001b[0m \u001b[0mlibops\u001b[0m\u001b[0;34m.\u001b[0m\u001b[0mvec_compare\u001b[0m\u001b[0;34m(\u001b[0m\u001b[0mx\u001b[0m\u001b[0;34m,\u001b[0m \u001b[0my\u001b[0m\u001b[0;34m,\u001b[0m \u001b[0mop\u001b[0m\u001b[0;34m)\u001b[0m\u001b[0;34m\u001b[0m\u001b[0m\n\u001b[1;32m   1602\u001b[0m     \u001b[0;32melse\u001b[0m\u001b[0;34m:\u001b[0m\u001b[0;34m\u001b[0m\u001b[0m\n\u001b[0;32m-> 1603\u001b[0;31m         \u001b[0mresult\u001b[0m \u001b[0;34m=\u001b[0m \u001b[0mlibops\u001b[0m\u001b[0;34m.\u001b[0m\u001b[0mscalar_compare\u001b[0m\u001b[0;34m(\u001b[0m\u001b[0mx\u001b[0m\u001b[0;34m,\u001b[0m \u001b[0my\u001b[0m\u001b[0;34m,\u001b[0m \u001b[0mop\u001b[0m\u001b[0;34m)\u001b[0m\u001b[0;34m\u001b[0m\u001b[0m\n\u001b[0m\u001b[1;32m   1604\u001b[0m     \u001b[0;32mreturn\u001b[0m \u001b[0mresult\u001b[0m\u001b[0;34m\u001b[0m\u001b[0m\n\u001b[1;32m   1605\u001b[0m \u001b[0;34m\u001b[0m\u001b[0m\n",
      "\u001b[0;31mKeyboardInterrupt\u001b[0m: "
     ]
    }
   ],
   "source": [
    "# Parse supplier\n",
    "print('=' * 20 + \" SUPPLIER SEARCH \" + '=' * 20)\n",
    "total_count = len(company_dict)\n",
    "count = 0\n",
    "for origin_company_name in company_dict:\n",
    "    for company_name in company_dict[origin_company_name]:\n",
    "        target_dataframe = trade_df.loc[trade_df['SPLYORGNM1'] == company_name]\n",
    "        target_dataframe.loc[:, 'SPLYORGNM1'] = origin_company_name\n",
    "        new_df = pd.concat([new_df, target_dataframe])\n",
    "    count += 1\n",
    "    print(origin_company_name, count, '/', total_count)"
   ]
  },
  {
   "cell_type": "code",
   "execution_count": 6,
   "metadata": {},
   "outputs": [
    {
     "data": {
      "text/html": [
       "<div>\n",
       "<style scoped>\n",
       "    .dataframe tbody tr th:only-of-type {\n",
       "        vertical-align: middle;\n",
       "    }\n",
       "\n",
       "    .dataframe tbody tr th {\n",
       "        vertical-align: top;\n",
       "    }\n",
       "\n",
       "    .dataframe thead th {\n",
       "        text-align: right;\n",
       "    }\n",
       "</style>\n",
       "<table border=\"1\" class=\"dataframe\">\n",
       "  <thead>\n",
       "    <tr style=\"text-align: right;\">\n",
       "      <th></th>\n",
       "      <th>HSCD</th>\n",
       "      <th>QTY</th>\n",
       "      <th>QTYUNIT</th>\n",
       "      <th>AMT</th>\n",
       "      <th>CUR</th>\n",
       "      <th>USDUNTPRICE</th>\n",
       "      <th>UNTPRICE</th>\n",
       "      <th>ITEM</th>\n",
       "      <th>BYRORGNM1</th>\n",
       "      <th>BYRPRTNUM</th>\n",
       "      <th>...</th>\n",
       "      <th>BYRADDR2</th>\n",
       "      <th>SPLYORGNM1</th>\n",
       "      <th>SPLYPRTNUM</th>\n",
       "      <th>SPLYADDR1</th>\n",
       "      <th>SPLYADDR2</th>\n",
       "      <th>ISSUEDT</th>\n",
       "      <th>TOTQTY</th>\n",
       "      <th>TOTQTYUNIT</th>\n",
       "      <th>TOTAMT</th>\n",
       "      <th>TOTAMTCUR</th>\n",
       "    </tr>\n",
       "  </thead>\n",
       "  <tbody>\n",
       "  </tbody>\n",
       "</table>\n",
       "<p>0 rows × 21 columns</p>\n",
       "</div>"
      ],
      "text/plain": [
       "Empty DataFrame\n",
       "Columns: [HSCD, QTY, QTYUNIT, AMT, CUR, USDUNTPRICE, UNTPRICE, ITEM, BYRORGNM1, BYRPRTNUM, BYRADDR1, BYRADDR2, SPLYORGNM1, SPLYPRTNUM, SPLYADDR1, SPLYADDR2, ISSUEDT, TOTQTY, TOTQTYUNIT, TOTAMT, TOTAMTCUR]\n",
       "Index: []\n",
       "\n",
       "[0 rows x 21 columns]"
      ]
     },
     "execution_count": 6,
     "metadata": {},
     "output_type": "execute_result"
    }
   ],
   "source": [
    "# Check duplicated index\n",
    "new_df[new_df.index.duplicated(keep=False)].head()"
   ]
  },
  {
   "cell_type": "code",
   "execution_count": 9,
   "metadata": {},
   "outputs": [
    {
     "name": "stdout",
     "output_type": "stream",
     "text": [
      "Number of buyer and supplier 6501059\n"
     ]
    }
   ],
   "source": [
    "# Check\n",
    "print('Number of buyer and supplier', len(new_df))"
   ]
  },
  {
   "cell_type": "code",
   "execution_count": 10,
   "metadata": {},
   "outputs": [
    {
     "name": "stdout",
     "output_type": "stream",
     "text": [
      "Number of duplicated data pairs 845575.0\n"
     ]
    }
   ],
   "source": [
    "# Check\n",
    "print('Number of duplicated data pairs', len(new_df[new_df.index.duplicated(keep=False)])/2)"
   ]
  },
  {
   "cell_type": "code",
   "execution_count": 15,
   "metadata": {},
   "outputs": [
    {
     "data": {
      "text/html": [
       "<div>\n",
       "<style scoped>\n",
       "    .dataframe tbody tr th:only-of-type {\n",
       "        vertical-align: middle;\n",
       "    }\n",
       "\n",
       "    .dataframe tbody tr th {\n",
       "        vertical-align: top;\n",
       "    }\n",
       "\n",
       "    .dataframe thead th {\n",
       "        text-align: right;\n",
       "    }\n",
       "</style>\n",
       "<table border=\"1\" class=\"dataframe\">\n",
       "  <thead>\n",
       "    <tr style=\"text-align: right;\">\n",
       "      <th></th>\n",
       "      <th>HSCD</th>\n",
       "      <th>QTY</th>\n",
       "      <th>QTYUNIT</th>\n",
       "      <th>AMT</th>\n",
       "      <th>CUR</th>\n",
       "      <th>USDUNTPRICE</th>\n",
       "      <th>UNTPRICE</th>\n",
       "      <th>ITEM</th>\n",
       "      <th>BYRORGNM1</th>\n",
       "      <th>BYRPRTNUM</th>\n",
       "      <th>...</th>\n",
       "      <th>BYRADDR2</th>\n",
       "      <th>SPLYORGNM1</th>\n",
       "      <th>SPLYPRTNUM</th>\n",
       "      <th>SPLYADDR1</th>\n",
       "      <th>SPLYADDR2</th>\n",
       "      <th>ISSUEDT</th>\n",
       "      <th>TOTQTY</th>\n",
       "      <th>TOTQTYUNIT</th>\n",
       "      <th>TOTAMT</th>\n",
       "      <th>TOTAMTCUR</th>\n",
       "    </tr>\n",
       "  </thead>\n",
       "  <tbody>\n",
       "    <tr>\n",
       "      <th>2296600</th>\n",
       "      <td>9405409000</td>\n",
       "      <td>2.0</td>\n",
       "      <td>EA</td>\n",
       "      <td>139201.0</td>\n",
       "      <td>KRW</td>\n",
       "      <td>NaN</td>\n",
       "      <td>69600.65</td>\n",
       "      <td>LED MODULE</td>\n",
       "      <td>루미마이크로</td>\n",
       "      <td>1248199564</td>\n",
       "      <td>...</td>\n",
       "      <td>-1</td>\n",
       "      <td>금호전기</td>\n",
       "      <td>1058100527</td>\n",
       "      <td>서울특별시 마포구</td>\n",
       "      <td>마포대로 4다길 41 (마포동)</td>\n",
       "      <td>2017-05-10</td>\n",
       "      <td>37.0</td>\n",
       "      <td>EA</td>\n",
       "      <td>260296.0</td>\n",
       "      <td>KRW</td>\n",
       "    </tr>\n",
       "    <tr>\n",
       "      <th>2296601</th>\n",
       "      <td>9405409000</td>\n",
       "      <td>35.0</td>\n",
       "      <td>EA</td>\n",
       "      <td>121094.0</td>\n",
       "      <td>KRW</td>\n",
       "      <td>NaN</td>\n",
       "      <td>121094.00</td>\n",
       "      <td>LED MODULE</td>\n",
       "      <td>루미마이크로</td>\n",
       "      <td>1248199564</td>\n",
       "      <td>...</td>\n",
       "      <td>-1</td>\n",
       "      <td>금호전기</td>\n",
       "      <td>1058100527</td>\n",
       "      <td>서울특별시 마포구</td>\n",
       "      <td>마포대로 4다길 41 (마포동)</td>\n",
       "      <td>2017-05-10</td>\n",
       "      <td>37.0</td>\n",
       "      <td>EA</td>\n",
       "      <td>260296.0</td>\n",
       "      <td>KRW</td>\n",
       "    </tr>\n",
       "    <tr>\n",
       "      <th>2337594</th>\n",
       "      <td>8504401090</td>\n",
       "      <td>11193.0</td>\n",
       "      <td>EA</td>\n",
       "      <td>55843419.0</td>\n",
       "      <td>KRW</td>\n",
       "      <td>NaN</td>\n",
       "      <td>4989.00</td>\n",
       "      <td>Solid Tube SMPS</td>\n",
       "      <td>루미마이크로</td>\n",
       "      <td>1248199564</td>\n",
       "      <td>...</td>\n",
       "      <td>-1</td>\n",
       "      <td>금호전기</td>\n",
       "      <td>1058100527</td>\n",
       "      <td>서울특별시 마포구</td>\n",
       "      <td>마포대로 4다길 41 (마포동)</td>\n",
       "      <td>2017-06-09</td>\n",
       "      <td>31619.0</td>\n",
       "      <td>EA</td>\n",
       "      <td>184431808.0</td>\n",
       "      <td>KRW</td>\n",
       "    </tr>\n",
       "    <tr>\n",
       "      <th>2337595</th>\n",
       "      <td>8504401090</td>\n",
       "      <td>2320.0</td>\n",
       "      <td>EA</td>\n",
       "      <td>19681057.0</td>\n",
       "      <td>KRW</td>\n",
       "      <td>NaN</td>\n",
       "      <td>8483.00</td>\n",
       "      <td>Solid Tube SMPS</td>\n",
       "      <td>루미마이크로</td>\n",
       "      <td>1248199564</td>\n",
       "      <td>...</td>\n",
       "      <td>-1</td>\n",
       "      <td>금호전기</td>\n",
       "      <td>1058100527</td>\n",
       "      <td>서울특별시 마포구</td>\n",
       "      <td>마포대로 4다길 41 (마포동)</td>\n",
       "      <td>2017-06-09</td>\n",
       "      <td>31619.0</td>\n",
       "      <td>EA</td>\n",
       "      <td>184431808.0</td>\n",
       "      <td>KRW</td>\n",
       "    </tr>\n",
       "    <tr>\n",
       "      <th>2337596</th>\n",
       "      <td>8504401090</td>\n",
       "      <td>960.0</td>\n",
       "      <td>EA</td>\n",
       "      <td>9530552.0</td>\n",
       "      <td>KRW</td>\n",
       "      <td>NaN</td>\n",
       "      <td>9928.00</td>\n",
       "      <td>Solid Tube SMPS</td>\n",
       "      <td>루미마이크로</td>\n",
       "      <td>1248199564</td>\n",
       "      <td>...</td>\n",
       "      <td>-1</td>\n",
       "      <td>금호전기</td>\n",
       "      <td>1058100527</td>\n",
       "      <td>서울특별시 마포구</td>\n",
       "      <td>마포대로 4다길 41 (마포동)</td>\n",
       "      <td>2017-06-09</td>\n",
       "      <td>31619.0</td>\n",
       "      <td>EA</td>\n",
       "      <td>184431808.0</td>\n",
       "      <td>KRW</td>\n",
       "    </tr>\n",
       "  </tbody>\n",
       "</table>\n",
       "<p>5 rows × 21 columns</p>\n",
       "</div>"
      ],
      "text/plain": [
       "               HSCD      QTY QTYUNIT         AMT  CUR  USDUNTPRICE   UNTPRICE  \\\n",
       "2296600  9405409000      2.0      EA    139201.0  KRW          NaN   69600.65   \n",
       "2296601  9405409000     35.0      EA    121094.0  KRW          NaN  121094.00   \n",
       "2337594  8504401090  11193.0      EA  55843419.0  KRW          NaN    4989.00   \n",
       "2337595  8504401090   2320.0      EA  19681057.0  KRW          NaN    8483.00   \n",
       "2337596  8504401090    960.0      EA   9530552.0  KRW          NaN    9928.00   \n",
       "\n",
       "                    ITEM BYRORGNM1   BYRPRTNUM  ... BYRADDR2 SPLYORGNM1  \\\n",
       "2296600       LED MODULE    루미마이크로  1248199564  ...       -1       금호전기   \n",
       "2296601       LED MODULE    루미마이크로  1248199564  ...       -1       금호전기   \n",
       "2337594  Solid Tube SMPS    루미마이크로  1248199564  ...       -1       금호전기   \n",
       "2337595  Solid Tube SMPS    루미마이크로  1248199564  ...       -1       금호전기   \n",
       "2337596  Solid Tube SMPS    루미마이크로  1248199564  ...       -1       금호전기   \n",
       "\n",
       "         SPLYPRTNUM  SPLYADDR1          SPLYADDR2    ISSUEDT   TOTQTY  \\\n",
       "2296600  1058100527  서울특별시 마포구  마포대로 4다길 41 (마포동) 2017-05-10     37.0   \n",
       "2296601  1058100527  서울특별시 마포구  마포대로 4다길 41 (마포동) 2017-05-10     37.0   \n",
       "2337594  1058100527  서울특별시 마포구  마포대로 4다길 41 (마포동) 2017-06-09  31619.0   \n",
       "2337595  1058100527  서울특별시 마포구  마포대로 4다길 41 (마포동) 2017-06-09  31619.0   \n",
       "2337596  1058100527  서울특별시 마포구  마포대로 4다길 41 (마포동) 2017-06-09  31619.0   \n",
       "\n",
       "         TOTQTYUNIT       TOTAMT  TOTAMTCUR  \n",
       "2296600          EA     260296.0        KRW  \n",
       "2296601          EA     260296.0        KRW  \n",
       "2337594          EA  184431808.0        KRW  \n",
       "2337595          EA  184431808.0        KRW  \n",
       "2337596          EA  184431808.0        KRW  \n",
       "\n",
       "[5 rows x 21 columns]"
      ]
     },
     "execution_count": 15,
     "metadata": {},
     "output_type": "execute_result"
    }
   ],
   "source": [
    "# Check duplicated index\n",
    "test_df = new_df[new_df.index.duplicated(keep=False)]\n",
    "test_df.head()"
   ]
  },
  {
   "cell_type": "code",
   "execution_count": 7,
   "metadata": {
    "scrolled": true
   },
   "outputs": [
    {
     "ename": "NameError",
     "evalue": "name 'test_df' is not defined",
     "output_type": "error",
     "traceback": [
      "\u001b[0;31m---------------------------------------------------------------------------\u001b[0m",
      "\u001b[0;31mNameError\u001b[0m                                 Traceback (most recent call last)",
      "\u001b[0;32m<ipython-input-7-a26e33f991ab>\u001b[0m in \u001b[0;36m<module>\u001b[0;34m\u001b[0m\n\u001b[0;32m----> 1\u001b[0;31m \u001b[0mtest_df\u001b[0m\u001b[0;34m.\u001b[0m\u001b[0mloc\u001b[0m\u001b[0;34m[\u001b[0m\u001b[0mtest_df\u001b[0m\u001b[0;34m.\u001b[0m\u001b[0mindex\u001b[0m\u001b[0;34m.\u001b[0m\u001b[0mduplicated\u001b[0m\u001b[0;34m(\u001b[0m\u001b[0mkeep\u001b[0m\u001b[0;34m=\u001b[0m\u001b[0;34m'first'\u001b[0m\u001b[0;34m)\u001b[0m\u001b[0;34m,\u001b[0m \u001b[0;34m'SPLYORGNM1'\u001b[0m\u001b[0;34m:\u001b[0m\u001b[0;34m]\u001b[0m\u001b[0;34m.\u001b[0m\u001b[0msort_index\u001b[0m\u001b[0;34m(\u001b[0m\u001b[0;34m)\u001b[0m\u001b[0;34m.\u001b[0m\u001b[0mhead\u001b[0m\u001b[0;34m(\u001b[0m\u001b[0;34m)\u001b[0m\u001b[0;34m\u001b[0m\u001b[0m\n\u001b[0m",
      "\u001b[0;31mNameError\u001b[0m: name 'test_df' is not defined"
     ]
    }
   ],
   "source": [
    "# Devide dataframe... by column\n",
    "test_df.loc[test_df.index.duplicated(keep='first'), 'SPLYORGNM1':].sort_index().head()"
   ]
  },
  {
   "cell_type": "code",
   "execution_count": 8,
   "metadata": {},
   "outputs": [
    {
     "ename": "NameError",
     "evalue": "name 'test_df' is not defined",
     "output_type": "error",
     "traceback": [
      "\u001b[0;31m---------------------------------------------------------------------------\u001b[0m",
      "\u001b[0;31mNameError\u001b[0m                                 Traceback (most recent call last)",
      "\u001b[0;32m<ipython-input-8-45d267d7232a>\u001b[0m in \u001b[0;36m<module>\u001b[0;34m\u001b[0m\n\u001b[0;32m----> 1\u001b[0;31m \u001b[0mtest_df\u001b[0m\u001b[0;34m.\u001b[0m\u001b[0mloc\u001b[0m\u001b[0;34m[\u001b[0m\u001b[0mtest_df\u001b[0m\u001b[0;34m.\u001b[0m\u001b[0mindex\u001b[0m\u001b[0;34m.\u001b[0m\u001b[0mduplicated\u001b[0m\u001b[0;34m(\u001b[0m\u001b[0mkeep\u001b[0m\u001b[0;34m=\u001b[0m\u001b[0;34m'last'\u001b[0m\u001b[0;34m)\u001b[0m\u001b[0;34m,\u001b[0m \u001b[0;34m:\u001b[0m\u001b[0;34m'BYRADDR2'\u001b[0m\u001b[0;34m]\u001b[0m\u001b[0;34m.\u001b[0m\u001b[0msort_index\u001b[0m\u001b[0;34m(\u001b[0m\u001b[0;34m)\u001b[0m\u001b[0;34m.\u001b[0m\u001b[0mhead\u001b[0m\u001b[0;34m(\u001b[0m\u001b[0;34m)\u001b[0m\u001b[0;34m\u001b[0m\u001b[0m\n\u001b[0m",
      "\u001b[0;31mNameError\u001b[0m: name 'test_df' is not defined"
     ]
    }
   ],
   "source": [
    "# Devide dataframe... by column\n",
    "test_df.loc[test_df.index.duplicated(keep='last'), :'BYRADDR2'].sort_index().head()"
   ]
  },
  {
   "cell_type": "code",
   "execution_count": 9,
   "metadata": {},
   "outputs": [
    {
     "ename": "NameError",
     "evalue": "name 'test_df' is not defined",
     "output_type": "error",
     "traceback": [
      "\u001b[0;31m---------------------------------------------------------------------------\u001b[0m",
      "\u001b[0;31mNameError\u001b[0m                                 Traceback (most recent call last)",
      "\u001b[0;32m<ipython-input-9-bfe6de397c0f>\u001b[0m in \u001b[0;36m<module>\u001b[0;34m\u001b[0m\n\u001b[1;32m      1\u001b[0m \u001b[0;31m# Process duplicated rows\u001b[0m\u001b[0;34m\u001b[0m\u001b[0;34m\u001b[0m\u001b[0m\n\u001b[0;32m----> 2\u001b[0;31m pd.merge(test_df.loc[test_df.index.duplicated(keep='last'), :'BYRADDR2'].sort_index(),\\\n\u001b[0m\u001b[1;32m      3\u001b[0m          \u001b[0mtest_df\u001b[0m\u001b[0;34m.\u001b[0m\u001b[0mloc\u001b[0m\u001b[0;34m[\u001b[0m\u001b[0mtest_df\u001b[0m\u001b[0;34m.\u001b[0m\u001b[0mindex\u001b[0m\u001b[0;34m.\u001b[0m\u001b[0mduplicated\u001b[0m\u001b[0;34m(\u001b[0m\u001b[0mkeep\u001b[0m\u001b[0;34m=\u001b[0m\u001b[0;34m'first'\u001b[0m\u001b[0;34m)\u001b[0m\u001b[0;34m,\u001b[0m \u001b[0;34m'SPLYORGNM1'\u001b[0m\u001b[0;34m:\u001b[0m\u001b[0;34m]\u001b[0m\u001b[0;34m.\u001b[0m\u001b[0msort_index\u001b[0m\u001b[0;34m(\u001b[0m\u001b[0;34m)\u001b[0m\u001b[0;34m,\u001b[0m\u001b[0;31m\\\u001b[0m\u001b[0;34m\u001b[0m\u001b[0m\n\u001b[1;32m      4\u001b[0m          left_index=True, right_index=True, how='left').head()\n",
      "\u001b[0;31mNameError\u001b[0m: name 'test_df' is not defined"
     ]
    }
   ],
   "source": [
    "# Process duplicated rows\n",
    "pd.merge(test_df.loc[test_df.index.duplicated(keep='last'), :'BYRADDR2'].sort_index(),\\\n",
    "         test_df.loc[test_df.index.duplicated(keep='first'), 'SPLYORGNM1':].sort_index(),\\\n",
    "         left_index=True, right_index=True, how='left').head()"
   ]
  },
  {
   "cell_type": "code",
   "execution_count": 49,
   "metadata": {},
   "outputs": [
    {
     "data": {
      "text/plain": [
       "4809909"
      ]
     },
     "execution_count": 49,
     "metadata": {},
     "output_type": "execute_result"
    }
   ],
   "source": [
    "# Check sustract new_df to duplicated\n",
    "len(new_df[~new_df.index.duplicated(keep=False)])"
   ]
  },
  {
   "cell_type": "code",
   "execution_count": 50,
   "metadata": {},
   "outputs": [
    {
     "data": {
      "text/plain": [
       "4809909"
      ]
     },
     "execution_count": 50,
     "metadata": {},
     "output_type": "execute_result"
    }
   ],
   "source": [
    "# Calculate\n",
    "6501059 - 845575 * 2"
   ]
  },
  {
   "cell_type": "code",
   "execution_count": 51,
   "metadata": {},
   "outputs": [],
   "source": [
    "new_df = new_df[~new_df.index.duplicated(keep=False)]"
   ]
  },
  {
   "cell_type": "code",
   "execution_count": 52,
   "metadata": {},
   "outputs": [
    {
     "data": {
      "text/plain": [
       "4809909"
      ]
     },
     "execution_count": 52,
     "metadata": {},
     "output_type": "execute_result"
    }
   ],
   "source": [
    "len(new_df)"
   ]
  },
  {
   "cell_type": "code",
   "execution_count": 53,
   "metadata": {},
   "outputs": [],
   "source": [
    "processed_duplicated_df = pd.merge(test_df.loc[test_df.index.duplicated(keep='last'), :'BYRADDR2'].sort_index(),\\\n",
    "                                   test_df.loc[test_df.index.duplicated(keep='first'), 'SPLYORGNM1':].sort_index(),\\\n",
    "                                   left_index=True, right_index=True, how='left')"
   ]
  },
  {
   "cell_type": "code",
   "execution_count": 54,
   "metadata": {},
   "outputs": [],
   "source": [
    "new_df = pd.concat([new_df, processed_duplicated_df])"
   ]
  },
  {
   "cell_type": "code",
   "execution_count": 55,
   "metadata": {},
   "outputs": [
    {
     "data": {
      "text/plain": [
       "5655484"
      ]
     },
     "execution_count": 55,
     "metadata": {},
     "output_type": "execute_result"
    }
   ],
   "source": [
    "len(new_df)"
   ]
  },
  {
   "cell_type": "code",
   "execution_count": 56,
   "metadata": {},
   "outputs": [
    {
     "data": {
      "text/plain": [
       "5655484"
      ]
     },
     "execution_count": 56,
     "metadata": {},
     "output_type": "execute_result"
    }
   ],
   "source": [
    "6501059 - 845575"
   ]
  },
  {
   "cell_type": "code",
   "execution_count": 57,
   "metadata": {},
   "outputs": [],
   "source": [
    "new_df.to_csv('data/processed_purchase_data.csv')"
   ]
  },
  {
   "cell_type": "code",
   "execution_count": null,
   "metadata": {},
   "outputs": [],
   "source": [
    "'''\n",
    "for target_index in target_dataframe.index:\n",
    "            if target_index in new_df.index:\n",
    "                new_df.loc[target_index, 'SPLYORGNM1'] = origin_company_name\n",
    "                target_dataframe = target_dataframe.drop(target_index)\n",
    "            else:\n",
    "'''"
   ]
  }
 ],
 "metadata": {
  "kernelspec": {
   "display_name": "Python 3",
   "language": "python",
   "name": "python3"
  },
  "language_info": {
   "codemirror_mode": {
    "name": "ipython",
    "version": 3
   },
   "file_extension": ".py",
   "mimetype": "text/x-python",
   "name": "python",
   "nbconvert_exporter": "python",
   "pygments_lexer": "ipython3",
   "version": "3.5.9"
  }
 },
 "nbformat": 4,
 "nbformat_minor": 2
}

{
 "cells": [
  {
   "cell_type": "code",
   "execution_count": 1,
   "metadata": {},
   "outputs": [],
   "source": [
    "import pandas as pd\n",
    "import matplotlib.pylab as plt\n",
    "import re\n",
    "from sklearn.feature_extraction import text\n",
    "from spellchecker import SpellChecker\n",
    "from nltk.corpus import stopwords"
   ]
  },
  {
   "cell_type": "markdown",
   "metadata": {},
   "source": [
    "## Data preprocess"
   ]
  },
  {
   "cell_type": "code",
   "execution_count": 2,
   "metadata": {},
   "outputs": [],
   "source": [
    "# Read csv\n",
    "hscode_df = pd.read_csv(\"./data/fta_hscode.csv\", encoding=\"utf-8\",\n",
    "                       dtype={'HS_CODE': str, 'ITEM_NAME': str})\n",
    "hscode_df.HS_CODE = hscode_df.HS_CODE.map(lambda x: '0' + x if len(x) < 10 else x)\n",
    "hscode_df.ITEM_NAME = hscode_df.ITEM_NAME.str.lower()"
   ]
  },
  {
   "cell_type": "code",
   "execution_count": 3,
   "metadata": {},
   "outputs": [],
   "source": [
    "# Slice code\n",
    "def code_slice(df, column, n):\n",
    "    print(\"Max Length of Original Code: \", hscode_df[column].map(len).max())\n",
    "    print(\"Min Length of Original Code: \", hscode_df[column].map(len).min())\n",
    "    df.HS_CODE = hscode_df[column].str.slice(stop=n)\n",
    "    print(\"Sliced Length of Code: \", n)\n",
    "    return df"
   ]
  },
  {
   "cell_type": "code",
   "execution_count": 4,
   "metadata": {},
   "outputs": [],
   "source": [
    "def delete_blank_rows(df, column):\n",
    "    origin_length = len(df)\n",
    "    print(\"Number of Rows in Dataframe (Before): \", origin_length)\n",
    "    df.dropna(subset=[column], inplace=True)\n",
    "    df[column] = df[column].str.strip()\n",
    "    df = df[df[column].map(lambda x: x!='')]\n",
    "    print(\"Number of Deleted Rows in Dataframe: \", origin_length - len(df))\n",
    "    print(\"Number of Rows in Dataframe (After): \", len(df))\n",
    "    return df"
   ]
  },
  {
   "cell_type": "code",
   "execution_count": 5,
   "metadata": {},
   "outputs": [],
   "source": [
    "def process_special_single_char_digital(df, column):\n",
    "    df[column] = df[column].map(lambda x: ' '.join(re.findall(r\"[a-z]{2,}\", x)))\n",
    "    return df"
   ]
  },
  {
   "cell_type": "code",
   "execution_count": 48,
   "metadata": {},
   "outputs": [],
   "source": [
    "def delete_stop_words(df, column):\n",
    "    en_stops = set(stopwords.words('english'))\n",
    "    df[column] = df[column]\\\n",
    "        .map(lambda x: ' '.join([word for word in x.split() if not word in en_stops]))\n",
    "    return df"
   ]
  },
  {
   "cell_type": "code",
   "execution_count": 49,
   "metadata": {},
   "outputs": [],
   "source": [
    "def check_spell(df, column):\n",
    "    spell = SpellChecker()\n",
    "    df[column] = df[column]\\\n",
    "        .map(lambda x: ' '.join([spell.correction(word) for word in x.split()]))\n",
    "    return df"
   ]
  },
  {
   "cell_type": "code",
   "execution_count": 71,
   "metadata": {
    "scrolled": true
   },
   "outputs": [
    {
     "name": "stderr",
     "output_type": "stream",
     "text": [
      "/home/ktnet/Git/pandas-modules/venv/lib/python3.5/site-packages/ipykernel_launcher.py:4: SettingWithCopyWarning: \n",
      "A value is trying to be set on a copy of a slice from a DataFrame.\n",
      "Try using .loc[row_indexer,col_indexer] = value instead\n",
      "\n",
      "See the caveats in the documentation: http://pandas.pydata.org/pandas-docs/stable/indexing.html#indexing-view-versus-copy\n",
      "  after removing the cwd from sys.path.\n"
     ]
    }
   ],
   "source": [
    "spellchecked_df = check_spell(processed_df[:1000], 'ITEM_NAME')"
   ]
  },
  {
   "cell_type": "code",
   "execution_count": 73,
   "metadata": {
    "scrolled": true
   },
   "outputs": [
    {
     "data": {
      "text/html": [
       "<div>\n",
       "<style scoped>\n",
       "    .dataframe tbody tr th:only-of-type {\n",
       "        vertical-align: middle;\n",
       "    }\n",
       "\n",
       "    .dataframe tbody tr th {\n",
       "        vertical-align: top;\n",
       "    }\n",
       "\n",
       "    .dataframe thead th {\n",
       "        text-align: right;\n",
       "    }\n",
       "</style>\n",
       "<table border=\"1\" class=\"dataframe\">\n",
       "  <thead>\n",
       "    <tr style=\"text-align: right;\">\n",
       "      <th></th>\n",
       "      <th>HS_CODE</th>\n",
       "      <th>ITEM_NAME</th>\n",
       "    </tr>\n",
       "  </thead>\n",
       "  <tbody>\n",
       "    <tr>\n",
       "      <th>0</th>\n",
       "      <td>8419909090</td>\n",
       "      <td>paper machine parts</td>\n",
       "    </tr>\n",
       "    <tr>\n",
       "      <th>1</th>\n",
       "      <td>8419909090</td>\n",
       "      <td>paraffin dissolved parts</td>\n",
       "    </tr>\n",
       "    <tr>\n",
       "      <th>2</th>\n",
       "      <td>8419909090</td>\n",
       "      <td>para shimmer</td>\n",
       "    </tr>\n",
       "    <tr>\n",
       "      <th>3</th>\n",
       "      <td>8419909090</td>\n",
       "      <td>pars for constant temperature and humidity cha...</td>\n",
       "    </tr>\n",
       "    <tr>\n",
       "      <th>4</th>\n",
       "      <td>8419909090</td>\n",
       "      <td>part</td>\n",
       "    </tr>\n",
       "    <tr>\n",
       "      <th>5</th>\n",
       "      <td>8419909090</td>\n",
       "      <td>part air preheated</td>\n",
       "    </tr>\n",
       "    <tr>\n",
       "      <th>6</th>\n",
       "      <td>8419909090</td>\n",
       "      <td>part cleaner</td>\n",
       "    </tr>\n",
       "    <tr>\n",
       "      <th>7</th>\n",
       "      <td>8419909090</td>\n",
       "      <td>part cleaner and parts</td>\n",
       "    </tr>\n",
       "    <tr>\n",
       "      <th>8</th>\n",
       "      <td>8419909090</td>\n",
       "      <td>part coffee roasted</td>\n",
       "    </tr>\n",
       "    <tr>\n",
       "      <th>9</th>\n",
       "      <td>8419909090</td>\n",
       "      <td>part for</td>\n",
       "    </tr>\n",
       "    <tr>\n",
       "      <th>10</th>\n",
       "      <td>8419909090</td>\n",
       "      <td>part for pp. modular ccr regent section</td>\n",
       "    </tr>\n",
       "    <tr>\n",
       "      <th>11</th>\n",
       "      <td>8419909090</td>\n",
       "      <td>part for air cleaner</td>\n",
       "    </tr>\n",
       "    <tr>\n",
       "      <th>12</th>\n",
       "      <td>8419909090</td>\n",
       "      <td>part for air conditioner</td>\n",
       "    </tr>\n",
       "    <tr>\n",
       "      <th>13</th>\n",
       "      <td>8419909090</td>\n",
       "      <td>part for air-conditioned</td>\n",
       "    </tr>\n",
       "    <tr>\n",
       "      <th>14</th>\n",
       "      <td>8419909090</td>\n",
       "      <td>part for air-conditioning machine</td>\n",
       "    </tr>\n",
       "    <tr>\n",
       "      <th>15</th>\n",
       "      <td>8419909090</td>\n",
       "      <td>part for air-conditioning machine</td>\n",
       "    </tr>\n",
       "    <tr>\n",
       "      <th>16</th>\n",
       "      <td>8419909090</td>\n",
       "      <td>part for air cooled heat exchanger</td>\n",
       "    </tr>\n",
       "    <tr>\n",
       "      <th>17</th>\n",
       "      <td>8419909090</td>\n",
       "      <td>part for air cooler</td>\n",
       "    </tr>\n",
       "    <tr>\n",
       "      <th>18</th>\n",
       "      <td>8419909090</td>\n",
       "      <td>part for aircraft</td>\n",
       "    </tr>\n",
       "    <tr>\n",
       "      <th>19</th>\n",
       "      <td>0202201000</td>\n",
       "      <td>frozen beef cow short rib</td>\n",
       "    </tr>\n",
       "    <tr>\n",
       "      <th>20</th>\n",
       "      <td>0202201000</td>\n",
       "      <td>frozen beef cow short rib in</td>\n",
       "    </tr>\n",
       "    <tr>\n",
       "      <th>21</th>\n",
       "      <td>0202201000</td>\n",
       "      <td>frozen beef short rib</td>\n",
       "    </tr>\n",
       "    <tr>\n",
       "      <th>22</th>\n",
       "      <td>0202201000</td>\n",
       "      <td>frozen beef shortribs in</td>\n",
       "    </tr>\n",
       "    <tr>\n",
       "      <th>23</th>\n",
       "      <td>0202201000</td>\n",
       "      <td>frozen beef economy back rib</td>\n",
       "    </tr>\n",
       "    <tr>\n",
       "      <th>24</th>\n",
       "      <td>0202201000</td>\n",
       "      <td>frozen beef offal</td>\n",
       "    </tr>\n",
       "    <tr>\n",
       "      <th>25</th>\n",
       "      <td>0202201000</td>\n",
       "      <td>frozen beef prime angus short rib</td>\n",
       "    </tr>\n",
       "    <tr>\n",
       "      <th>26</th>\n",
       "      <td>0202201000</td>\n",
       "      <td>frozen beef ps back rib lp</td>\n",
       "    </tr>\n",
       "    <tr>\n",
       "      <th>27</th>\n",
       "      <td>0202201000</td>\n",
       "      <td>frozen beef ps short rib vp</td>\n",
       "    </tr>\n",
       "    <tr>\n",
       "      <th>28</th>\n",
       "      <td>0202201000</td>\n",
       "      <td>frozen beef ps short ribs in</td>\n",
       "    </tr>\n",
       "    <tr>\n",
       "      <th>29</th>\n",
       "      <td>0202201000</td>\n",
       "      <td>frozen beef ps short ribs vp</td>\n",
       "    </tr>\n",
       "    <tr>\n",
       "      <th>...</th>\n",
       "      <td>...</td>\n",
       "      <td>...</td>\n",
       "    </tr>\n",
       "    <tr>\n",
       "      <th>970</th>\n",
       "      <td>8419909090</td>\n",
       "      <td>normal filterholder gasket</td>\n",
       "    </tr>\n",
       "    <tr>\n",
       "      <th>971</th>\n",
       "      <td>8419909090</td>\n",
       "      <td>nozzle</td>\n",
       "    </tr>\n",
       "    <tr>\n",
       "      <th>972</th>\n",
       "      <td>8419909090</td>\n",
       "      <td>nozzle and couplings</td>\n",
       "    </tr>\n",
       "    <tr>\n",
       "      <th>973</th>\n",
       "      <td>8419909090</td>\n",
       "      <td>nozzle and</td>\n",
       "    </tr>\n",
       "    <tr>\n",
       "      <th>974</th>\n",
       "      <td>8419909090</td>\n",
       "      <td>nozzle assay air con</td>\n",
       "    </tr>\n",
       "    <tr>\n",
       "      <th>975</th>\n",
       "      <td>0202209000</td>\n",
       "      <td>beef chuck roll of rib</td>\n",
       "    </tr>\n",
       "    <tr>\n",
       "      <th>976</th>\n",
       "      <td>0202209000</td>\n",
       "      <td>beef chuck roll in vac</td>\n",
       "    </tr>\n",
       "    <tr>\n",
       "      <th>977</th>\n",
       "      <td>0202209000</td>\n",
       "      <td>beef chub</td>\n",
       "    </tr>\n",
       "    <tr>\n",
       "      <th>978</th>\n",
       "      <td>0202209000</td>\n",
       "      <td>beef chub</td>\n",
       "    </tr>\n",
       "    <tr>\n",
       "      <th>979</th>\n",
       "      <td>0202209000</td>\n",
       "      <td>beef chub iv</td>\n",
       "    </tr>\n",
       "    <tr>\n",
       "      <th>980</th>\n",
       "      <td>0202209000</td>\n",
       "      <td>beef chub iv</td>\n",
       "    </tr>\n",
       "    <tr>\n",
       "      <th>981</th>\n",
       "      <td>0202209000</td>\n",
       "      <td>beef chub in vac</td>\n",
       "    </tr>\n",
       "    <tr>\n",
       "      <th>982</th>\n",
       "      <td>0202209000</td>\n",
       "      <td>beef clod</td>\n",
       "    </tr>\n",
       "    <tr>\n",
       "      <th>983</th>\n",
       "      <td>0202209000</td>\n",
       "      <td>beef clod</td>\n",
       "    </tr>\n",
       "    <tr>\n",
       "      <th>984</th>\n",
       "      <td>0202209000</td>\n",
       "      <td>beef clod blade</td>\n",
       "    </tr>\n",
       "    <tr>\n",
       "      <th>985</th>\n",
       "      <td>0202209000</td>\n",
       "      <td>beef clod blade</td>\n",
       "    </tr>\n",
       "    <tr>\n",
       "      <th>986</th>\n",
       "      <td>0202209000</td>\n",
       "      <td>beef clod in</td>\n",
       "    </tr>\n",
       "    <tr>\n",
       "      <th>987</th>\n",
       "      <td>0202209000</td>\n",
       "      <td>beef clod in vac</td>\n",
       "    </tr>\n",
       "    <tr>\n",
       "      <th>988</th>\n",
       "      <td>0202209000</td>\n",
       "      <td>beef eye</td>\n",
       "    </tr>\n",
       "    <tr>\n",
       "      <th>989</th>\n",
       "      <td>0202209000</td>\n",
       "      <td>beef eye fat</td>\n",
       "    </tr>\n",
       "    <tr>\n",
       "      <th>990</th>\n",
       "      <td>0202209000</td>\n",
       "      <td>beef eye fat off</td>\n",
       "    </tr>\n",
       "    <tr>\n",
       "      <th>991</th>\n",
       "      <td>0202209000</td>\n",
       "      <td>beef eye fat off up</td>\n",
       "    </tr>\n",
       "    <tr>\n",
       "      <th>992</th>\n",
       "      <td>0202209000</td>\n",
       "      <td>beef eye fat off up in</td>\n",
       "    </tr>\n",
       "    <tr>\n",
       "      <th>993</th>\n",
       "      <td>0202209000</td>\n",
       "      <td>beef eye round</td>\n",
       "    </tr>\n",
       "    <tr>\n",
       "      <th>994</th>\n",
       "      <td>0202209000</td>\n",
       "      <td>beef eye round mw vac grain fed</td>\n",
       "    </tr>\n",
       "    <tr>\n",
       "      <th>995</th>\n",
       "      <td>0202209000</td>\n",
       "      <td>beef eye round vp</td>\n",
       "    </tr>\n",
       "    <tr>\n",
       "      <th>996</th>\n",
       "      <td>0202209000</td>\n",
       "      <td>beef heel muscle mw vac grain fed</td>\n",
       "    </tr>\n",
       "    <tr>\n",
       "      <th>997</th>\n",
       "      <td>0202209000</td>\n",
       "      <td>beef shin shank</td>\n",
       "    </tr>\n",
       "    <tr>\n",
       "      <th>998</th>\n",
       "      <td>0202209000</td>\n",
       "      <td>beef shin shank bon bon</td>\n",
       "    </tr>\n",
       "    <tr>\n",
       "      <th>999</th>\n",
       "      <td>0202209000</td>\n",
       "      <td>beef hip bone grain fed</td>\n",
       "    </tr>\n",
       "  </tbody>\n",
       "</table>\n",
       "<p>1000 rows × 2 columns</p>\n",
       "</div>"
      ],
      "text/plain": [
       "        HS_CODE                                          ITEM_NAME\n",
       "0    8419909090                                paper machine parts\n",
       "1    8419909090                           paraffin dissolved parts\n",
       "2    8419909090                                       para shimmer\n",
       "3    8419909090  pars for constant temperature and humidity cha...\n",
       "4    8419909090                                               part\n",
       "5    8419909090                                 part air preheated\n",
       "6    8419909090                                       part cleaner\n",
       "7    8419909090                             part cleaner and parts\n",
       "8    8419909090                                part coffee roasted\n",
       "9    8419909090                                           part for\n",
       "10   8419909090            part for pp. modular ccr regent section\n",
       "11   8419909090                               part for air cleaner\n",
       "12   8419909090                           part for air conditioner\n",
       "13   8419909090                           part for air-conditioned\n",
       "14   8419909090                  part for air-conditioning machine\n",
       "15   8419909090                  part for air-conditioning machine\n",
       "16   8419909090                 part for air cooled heat exchanger\n",
       "17   8419909090                                part for air cooler\n",
       "18   8419909090                                  part for aircraft\n",
       "19   0202201000                          frozen beef cow short rib\n",
       "20   0202201000                       frozen beef cow short rib in\n",
       "21   0202201000                              frozen beef short rib\n",
       "22   0202201000                           frozen beef shortribs in\n",
       "23   0202201000                       frozen beef economy back rib\n",
       "24   0202201000                                  frozen beef offal\n",
       "25   0202201000                  frozen beef prime angus short rib\n",
       "26   0202201000                         frozen beef ps back rib lp\n",
       "27   0202201000                        frozen beef ps short rib vp\n",
       "28   0202201000                       frozen beef ps short ribs in\n",
       "29   0202201000                       frozen beef ps short ribs vp\n",
       "..          ...                                                ...\n",
       "970  8419909090                         normal filterholder gasket\n",
       "971  8419909090                                             nozzle\n",
       "972  8419909090                               nozzle and couplings\n",
       "973  8419909090                                         nozzle and\n",
       "974  8419909090                               nozzle assay air con\n",
       "975  0202209000                             beef chuck roll of rib\n",
       "976  0202209000                             beef chuck roll in vac\n",
       "977  0202209000                                          beef chub\n",
       "978  0202209000                                          beef chub\n",
       "979  0202209000                                       beef chub iv\n",
       "980  0202209000                                       beef chub iv\n",
       "981  0202209000                                   beef chub in vac\n",
       "982  0202209000                                          beef clod\n",
       "983  0202209000                                          beef clod\n",
       "984  0202209000                                    beef clod blade\n",
       "985  0202209000                                    beef clod blade\n",
       "986  0202209000                                       beef clod in\n",
       "987  0202209000                                   beef clod in vac\n",
       "988  0202209000                                           beef eye\n",
       "989  0202209000                                       beef eye fat\n",
       "990  0202209000                                   beef eye fat off\n",
       "991  0202209000                                beef eye fat off up\n",
       "992  0202209000                             beef eye fat off up in\n",
       "993  0202209000                                     beef eye round\n",
       "994  0202209000                    beef eye round mw vac grain fed\n",
       "995  0202209000                                  beef eye round vp\n",
       "996  0202209000                  beef heel muscle mw vac grain fed\n",
       "997  0202209000                                    beef shin shank\n",
       "998  0202209000                            beef shin shank bon bon\n",
       "999  0202209000                            beef hip bone grain fed\n",
       "\n",
       "[1000 rows x 2 columns]"
      ]
     },
     "execution_count": 73,
     "metadata": {},
     "output_type": "execute_result"
    }
   ],
   "source": [
    "spellchecked_df"
   ]
  },
  {
   "cell_type": "code",
   "execution_count": null,
   "metadata": {},
   "outputs": [],
   "source": [
    "hscode_df.loc[hscode_df.ITEM_NAME.str.contains()]"
   ]
  },
  {
   "cell_type": "code",
   "execution_count": 6,
   "metadata": {},
   "outputs": [
    {
     "name": "stdout",
     "output_type": "stream",
     "text": [
      "Number of Rows in Dataframe (Before):  2074940\n",
      "Number of Deleted Rows in Dataframe:  3360\n",
      "Number of Rows in Dataframe (After):  2071580\n"
     ]
    }
   ],
   "source": [
    "hscode_df = delete_blank_rows(hscode_df, 'ITEM_NAME')"
   ]
  },
  {
   "cell_type": "code",
   "execution_count": 7,
   "metadata": {
    "scrolled": true
   },
   "outputs": [
    {
     "data": {
      "text/html": [
       "<div>\n",
       "<style scoped>\n",
       "    .dataframe tbody tr th:only-of-type {\n",
       "        vertical-align: middle;\n",
       "    }\n",
       "\n",
       "    .dataframe tbody tr th {\n",
       "        vertical-align: top;\n",
       "    }\n",
       "\n",
       "    .dataframe thead th {\n",
       "        text-align: right;\n",
       "    }\n",
       "</style>\n",
       "<table border=\"1\" class=\"dataframe\">\n",
       "  <thead>\n",
       "    <tr style=\"text-align: right;\">\n",
       "      <th></th>\n",
       "      <th>HS_CODE</th>\n",
       "      <th>ITEM_NAME</th>\n",
       "    </tr>\n",
       "  </thead>\n",
       "  <tbody>\n",
       "    <tr>\n",
       "      <th>5</th>\n",
       "      <td>8419909090</td>\n",
       "      <td>part(air preheater)</td>\n",
       "    </tr>\n",
       "    <tr>\n",
       "      <th>10</th>\n",
       "      <td>8419909090</td>\n",
       "      <td>part for 7000 pph modular ccr regen section</td>\n",
       "    </tr>\n",
       "    <tr>\n",
       "      <th>20</th>\n",
       "      <td>0202201000</td>\n",
       "      <td>frozen beef cow short rib 3-7 iw</td>\n",
       "    </tr>\n",
       "    <tr>\n",
       "      <th>21</th>\n",
       "      <td>0202201000</td>\n",
       "      <td>frozen beef c-short rib 7-11</td>\n",
       "    </tr>\n",
       "    <tr>\n",
       "      <th>22</th>\n",
       "      <td>0202201000</td>\n",
       "      <td>frozen beef c shortribs 2-6r iw</td>\n",
       "    </tr>\n",
       "  </tbody>\n",
       "</table>\n",
       "</div>"
      ],
      "text/plain": [
       "       HS_CODE                                    ITEM_NAME\n",
       "5   8419909090                          part(air preheater)\n",
       "10  8419909090  part for 7000 pph modular ccr regen section\n",
       "20  0202201000             frozen beef cow short rib 3-7 iw\n",
       "21  0202201000                 frozen beef c-short rib 7-11\n",
       "22  0202201000              frozen beef c shortribs 2-6r iw"
      ]
     },
     "execution_count": 7,
     "metadata": {},
     "output_type": "execute_result"
    }
   ],
   "source": [
    "# Check Special Char\n",
    "hscode_df.loc[hscode_df.ITEM_NAME.str.contains(\"[^a-z ]\")].head()"
   ]
  },
  {
   "cell_type": "code",
   "execution_count": 8,
   "metadata": {},
   "outputs": [],
   "source": [
    "processed_df = process_special_single_char_digital(hscode_df, \"ITEM_NAME\")"
   ]
  },
  {
   "cell_type": "code",
   "execution_count": 9,
   "metadata": {},
   "outputs": [
    {
     "data": {
      "text/html": [
       "<div>\n",
       "<style scoped>\n",
       "    .dataframe tbody tr th:only-of-type {\n",
       "        vertical-align: middle;\n",
       "    }\n",
       "\n",
       "    .dataframe tbody tr th {\n",
       "        vertical-align: top;\n",
       "    }\n",
       "\n",
       "    .dataframe thead th {\n",
       "        text-align: right;\n",
       "    }\n",
       "</style>\n",
       "<table border=\"1\" class=\"dataframe\">\n",
       "  <thead>\n",
       "    <tr style=\"text-align: right;\">\n",
       "      <th></th>\n",
       "      <th>HS_CODE</th>\n",
       "      <th>ITEM_NAME</th>\n",
       "    </tr>\n",
       "  </thead>\n",
       "  <tbody>\n",
       "    <tr>\n",
       "      <th>5</th>\n",
       "      <td>8419909090</td>\n",
       "      <td>part air preheater</td>\n",
       "    </tr>\n",
       "    <tr>\n",
       "      <th>10</th>\n",
       "      <td>8419909090</td>\n",
       "      <td>part for pph modular ccr regen section</td>\n",
       "    </tr>\n",
       "    <tr>\n",
       "      <th>20</th>\n",
       "      <td>0202201000</td>\n",
       "      <td>frozen beef cow short rib iw</td>\n",
       "    </tr>\n",
       "    <tr>\n",
       "      <th>21</th>\n",
       "      <td>0202201000</td>\n",
       "      <td>frozen beef short rib</td>\n",
       "    </tr>\n",
       "    <tr>\n",
       "      <th>22</th>\n",
       "      <td>0202201000</td>\n",
       "      <td>frozen beef shortribs iw</td>\n",
       "    </tr>\n",
       "  </tbody>\n",
       "</table>\n",
       "</div>"
      ],
      "text/plain": [
       "       HS_CODE                               ITEM_NAME\n",
       "5   8419909090                      part air preheater\n",
       "10  8419909090  part for pph modular ccr regen section\n",
       "20  0202201000            frozen beef cow short rib iw\n",
       "21  0202201000                   frozen beef short rib\n",
       "22  0202201000                frozen beef shortribs iw"
      ]
     },
     "execution_count": 9,
     "metadata": {},
     "output_type": "execute_result"
    }
   ],
   "source": [
    "processed_df.iloc[[5, 10, 20, 21, 22]]"
   ]
  },
  {
   "cell_type": "code",
   "execution_count": 42,
   "metadata": {
    "scrolled": true
   },
   "outputs": [
    {
     "data": {
      "text/html": [
       "<div>\n",
       "<style scoped>\n",
       "    .dataframe tbody tr th:only-of-type {\n",
       "        vertical-align: middle;\n",
       "    }\n",
       "\n",
       "    .dataframe tbody tr th {\n",
       "        vertical-align: top;\n",
       "    }\n",
       "\n",
       "    .dataframe thead th {\n",
       "        text-align: right;\n",
       "    }\n",
       "</style>\n",
       "<table border=\"1\" class=\"dataframe\">\n",
       "  <thead>\n",
       "    <tr style=\"text-align: right;\">\n",
       "      <th></th>\n",
       "      <th>HS_CODE</th>\n",
       "      <th>ITEM_NAME</th>\n",
       "    </tr>\n",
       "  </thead>\n",
       "  <tbody>\n",
       "    <tr>\n",
       "      <th>0</th>\n",
       "      <td>8419909090</td>\n",
       "      <td>paper machine parts</td>\n",
       "    </tr>\n",
       "    <tr>\n",
       "      <th>1</th>\n",
       "      <td>8419909090</td>\n",
       "      <td>paraffin dissolver parts</td>\n",
       "    </tr>\n",
       "    <tr>\n",
       "      <th>2</th>\n",
       "      <td>8419909090</td>\n",
       "      <td>para thimmer</td>\n",
       "    </tr>\n",
       "    <tr>\n",
       "      <th>3</th>\n",
       "      <td>8419909090</td>\n",
       "      <td>pars for constant temperature and humidity cha...</td>\n",
       "    </tr>\n",
       "    <tr>\n",
       "      <th>4</th>\n",
       "      <td>8419909090</td>\n",
       "      <td>part</td>\n",
       "    </tr>\n",
       "    <tr>\n",
       "      <th>5</th>\n",
       "      <td>8419909090</td>\n",
       "      <td>part air preheater</td>\n",
       "    </tr>\n",
       "    <tr>\n",
       "      <th>6</th>\n",
       "      <td>8419909090</td>\n",
       "      <td>part cleaner</td>\n",
       "    </tr>\n",
       "    <tr>\n",
       "      <th>7</th>\n",
       "      <td>8419909090</td>\n",
       "      <td>part cleaner and parts</td>\n",
       "    </tr>\n",
       "    <tr>\n",
       "      <th>8</th>\n",
       "      <td>8419909090</td>\n",
       "      <td>part coffee roaster</td>\n",
       "    </tr>\n",
       "    <tr>\n",
       "      <th>9</th>\n",
       "      <td>8419909090</td>\n",
       "      <td>part for</td>\n",
       "    </tr>\n",
       "    <tr>\n",
       "      <th>10</th>\n",
       "      <td>8419909090</td>\n",
       "      <td>part for pph modular ccr regen section</td>\n",
       "    </tr>\n",
       "    <tr>\n",
       "      <th>11</th>\n",
       "      <td>8419909090</td>\n",
       "      <td>part for air cleaner</td>\n",
       "    </tr>\n",
       "    <tr>\n",
       "      <th>12</th>\n",
       "      <td>8419909090</td>\n",
       "      <td>part for air conditioner</td>\n",
       "    </tr>\n",
       "    <tr>\n",
       "      <th>13</th>\n",
       "      <td>8419909090</td>\n",
       "      <td>part for airconditioner</td>\n",
       "    </tr>\n",
       "    <tr>\n",
       "      <th>14</th>\n",
       "      <td>8419909090</td>\n",
       "      <td>part for airconditioning machine</td>\n",
       "    </tr>\n",
       "    <tr>\n",
       "      <th>15</th>\n",
       "      <td>8419909090</td>\n",
       "      <td>part for airconditioning machine</td>\n",
       "    </tr>\n",
       "    <tr>\n",
       "      <th>16</th>\n",
       "      <td>8419909090</td>\n",
       "      <td>part for air cooled heat exchanger</td>\n",
       "    </tr>\n",
       "    <tr>\n",
       "      <th>17</th>\n",
       "      <td>8419909090</td>\n",
       "      <td>part for air cooler</td>\n",
       "    </tr>\n",
       "    <tr>\n",
       "      <th>18</th>\n",
       "      <td>8419909090</td>\n",
       "      <td>part for aircraft</td>\n",
       "    </tr>\n",
       "    <tr>\n",
       "      <th>19</th>\n",
       "      <td>0202201000</td>\n",
       "      <td>frozen beef cow short rib</td>\n",
       "    </tr>\n",
       "    <tr>\n",
       "      <th>20</th>\n",
       "      <td>0202201000</td>\n",
       "      <td>frozen beef cow short rib iw</td>\n",
       "    </tr>\n",
       "    <tr>\n",
       "      <th>21</th>\n",
       "      <td>0202201000</td>\n",
       "      <td>frozen beef short rib</td>\n",
       "    </tr>\n",
       "    <tr>\n",
       "      <th>22</th>\n",
       "      <td>0202201000</td>\n",
       "      <td>frozen beef shortribs iw</td>\n",
       "    </tr>\n",
       "    <tr>\n",
       "      <th>23</th>\n",
       "      <td>0202201000</td>\n",
       "      <td>frozen beef economy back rib</td>\n",
       "    </tr>\n",
       "    <tr>\n",
       "      <th>24</th>\n",
       "      <td>0202201000</td>\n",
       "      <td>frozen beef offal</td>\n",
       "    </tr>\n",
       "    <tr>\n",
       "      <th>25</th>\n",
       "      <td>0202201000</td>\n",
       "      <td>frozen beef prime angus short rib</td>\n",
       "    </tr>\n",
       "    <tr>\n",
       "      <th>26</th>\n",
       "      <td>0202201000</td>\n",
       "      <td>frozen beef ps back rib lp</td>\n",
       "    </tr>\n",
       "    <tr>\n",
       "      <th>27</th>\n",
       "      <td>0202201000</td>\n",
       "      <td>frozen beef ps short rib vp</td>\n",
       "    </tr>\n",
       "    <tr>\n",
       "      <th>28</th>\n",
       "      <td>0202201000</td>\n",
       "      <td>frozen beef ps short ribs iw</td>\n",
       "    </tr>\n",
       "    <tr>\n",
       "      <th>29</th>\n",
       "      <td>0202201000</td>\n",
       "      <td>frozen beef ps short ribs vp</td>\n",
       "    </tr>\n",
       "    <tr>\n",
       "      <th>...</th>\n",
       "      <td>...</td>\n",
       "      <td>...</td>\n",
       "    </tr>\n",
       "    <tr>\n",
       "      <th>2074910</th>\n",
       "      <td>3926909000</td>\n",
       "      <td>rubycell sheet</td>\n",
       "    </tr>\n",
       "    <tr>\n",
       "      <th>2074911</th>\n",
       "      <td>3926909000</td>\n",
       "      <td>rud edge</td>\n",
       "    </tr>\n",
       "    <tr>\n",
       "      <th>2074912</th>\n",
       "      <td>3926909000</td>\n",
       "      <td>rud edge protectin</td>\n",
       "    </tr>\n",
       "    <tr>\n",
       "      <th>2074913</th>\n",
       "      <td>3926909000</td>\n",
       "      <td>rud edge protection</td>\n",
       "    </tr>\n",
       "    <tr>\n",
       "      <th>2074914</th>\n",
       "      <td>3926909000</td>\n",
       "      <td>ruler</td>\n",
       "    </tr>\n",
       "    <tr>\n",
       "      <th>2074915</th>\n",
       "      <td>3926909000</td>\n",
       "      <td>ruler holder of plastic</td>\n",
       "    </tr>\n",
       "    <tr>\n",
       "      <th>2074916</th>\n",
       "      <td>3926909000</td>\n",
       "      <td>ruler of plastic</td>\n",
       "    </tr>\n",
       "    <tr>\n",
       "      <th>2074917</th>\n",
       "      <td>3926909000</td>\n",
       "      <td>rulon rod</td>\n",
       "    </tr>\n",
       "    <tr>\n",
       "      <th>2074918</th>\n",
       "      <td>3926909000</td>\n",
       "      <td>run door glass</td>\n",
       "    </tr>\n",
       "    <tr>\n",
       "      <th>2074919</th>\n",
       "      <td>3926909000</td>\n",
       "      <td>run asy</td>\n",
       "    </tr>\n",
       "    <tr>\n",
       "      <th>2074920</th>\n",
       "      <td>3926909000</td>\n",
       "      <td>run asy glass</td>\n",
       "    </tr>\n",
       "    <tr>\n",
       "      <th>2074921</th>\n",
       "      <td>3926909000</td>\n",
       "      <td>rundle for plastic basket</td>\n",
       "    </tr>\n",
       "    <tr>\n",
       "      <th>2074922</th>\n",
       "      <td>3926909000</td>\n",
       "      <td>rung covers</td>\n",
       "    </tr>\n",
       "    <tr>\n",
       "      <th>2074923</th>\n",
       "      <td>3926909000</td>\n",
       "      <td>runner assembly</td>\n",
       "    </tr>\n",
       "    <tr>\n",
       "      <th>2074924</th>\n",
       "      <td>3926909000</td>\n",
       "      <td>runnin part without socket stb plus</td>\n",
       "    </tr>\n",
       "    <tr>\n",
       "      <th>2074925</th>\n",
       "      <td>3926909000</td>\n",
       "      <td>running part wirhout socket stb plus</td>\n",
       "    </tr>\n",
       "    <tr>\n",
       "      <th>2074926</th>\n",
       "      <td>3926909000</td>\n",
       "      <td>running part withou socket stb plus</td>\n",
       "    </tr>\n",
       "    <tr>\n",
       "      <th>2074927</th>\n",
       "      <td>3926909000</td>\n",
       "      <td>running part without socket stb plus</td>\n",
       "    </tr>\n",
       "    <tr>\n",
       "      <th>2074928</th>\n",
       "      <td>3926909000</td>\n",
       "      <td>running part without socket stb plus la</td>\n",
       "    </tr>\n",
       "    <tr>\n",
       "      <th>2074929</th>\n",
       "      <td>3926909000</td>\n",
       "      <td>rust eraser</td>\n",
       "    </tr>\n",
       "    <tr>\n",
       "      <th>2074930</th>\n",
       "      <td>3926909000</td>\n",
       "      <td>rustcover wheel</td>\n",
       "    </tr>\n",
       "    <tr>\n",
       "      <th>2074931</th>\n",
       "      <td>3926909000</td>\n",
       "      <td>rv access door</td>\n",
       "    </tr>\n",
       "    <tr>\n",
       "      <th>2074932</th>\n",
       "      <td>3926909000</td>\n",
       "      <td>rv lip seal</td>\n",
       "    </tr>\n",
       "    <tr>\n",
       "      <th>2074933</th>\n",
       "      <td>3926909000</td>\n",
       "      <td>rv lip seal baumslx</td>\n",
       "    </tr>\n",
       "    <tr>\n",
       "      <th>2074934</th>\n",
       "      <td>3926909000</td>\n",
       "      <td>rv lip seal baum</td>\n",
       "    </tr>\n",
       "    <tr>\n",
       "      <th>2074935</th>\n",
       "      <td>3926909000</td>\n",
       "      <td>rv panel kit</td>\n",
       "    </tr>\n",
       "    <tr>\n",
       "      <th>2074936</th>\n",
       "      <td>3926909000</td>\n",
       "      <td>window revers fork jig</td>\n",
       "    </tr>\n",
       "    <tr>\n",
       "      <th>2074937</th>\n",
       "      <td>3926909000</td>\n",
       "      <td>window reverse fork</td>\n",
       "    </tr>\n",
       "    <tr>\n",
       "      <th>2074938</th>\n",
       "      <td>3926909000</td>\n",
       "      <td>cap escape hood</td>\n",
       "    </tr>\n",
       "    <tr>\n",
       "      <th>2074939</th>\n",
       "      <td>3926909000</td>\n",
       "      <td>charger vehicle dock</td>\n",
       "    </tr>\n",
       "  </tbody>\n",
       "</table>\n",
       "<p>2071580 rows × 2 columns</p>\n",
       "</div>"
      ],
      "text/plain": [
       "            HS_CODE                                          ITEM_NAME\n",
       "0        8419909090                                paper machine parts\n",
       "1        8419909090                           paraffin dissolver parts\n",
       "2        8419909090                                       para thimmer\n",
       "3        8419909090  pars for constant temperature and humidity cha...\n",
       "4        8419909090                                               part\n",
       "5        8419909090                                 part air preheater\n",
       "6        8419909090                                       part cleaner\n",
       "7        8419909090                             part cleaner and parts\n",
       "8        8419909090                                part coffee roaster\n",
       "9        8419909090                                           part for\n",
       "10       8419909090             part for pph modular ccr regen section\n",
       "11       8419909090                               part for air cleaner\n",
       "12       8419909090                           part for air conditioner\n",
       "13       8419909090                            part for airconditioner\n",
       "14       8419909090                   part for airconditioning machine\n",
       "15       8419909090                   part for airconditioning machine\n",
       "16       8419909090                 part for air cooled heat exchanger\n",
       "17       8419909090                                part for air cooler\n",
       "18       8419909090                                  part for aircraft\n",
       "19       0202201000                          frozen beef cow short rib\n",
       "20       0202201000                       frozen beef cow short rib iw\n",
       "21       0202201000                              frozen beef short rib\n",
       "22       0202201000                           frozen beef shortribs iw\n",
       "23       0202201000                       frozen beef economy back rib\n",
       "24       0202201000                                  frozen beef offal\n",
       "25       0202201000                  frozen beef prime angus short rib\n",
       "26       0202201000                         frozen beef ps back rib lp\n",
       "27       0202201000                        frozen beef ps short rib vp\n",
       "28       0202201000                       frozen beef ps short ribs iw\n",
       "29       0202201000                       frozen beef ps short ribs vp\n",
       "...             ...                                                ...\n",
       "2074910  3926909000                                     rubycell sheet\n",
       "2074911  3926909000                                           rud edge\n",
       "2074912  3926909000                                 rud edge protectin\n",
       "2074913  3926909000                                rud edge protection\n",
       "2074914  3926909000                                              ruler\n",
       "2074915  3926909000                            ruler holder of plastic\n",
       "2074916  3926909000                                   ruler of plastic\n",
       "2074917  3926909000                                          rulon rod\n",
       "2074918  3926909000                                     run door glass\n",
       "2074919  3926909000                                            run asy\n",
       "2074920  3926909000                                      run asy glass\n",
       "2074921  3926909000                          rundle for plastic basket\n",
       "2074922  3926909000                                        rung covers\n",
       "2074923  3926909000                                    runner assembly\n",
       "2074924  3926909000                runnin part without socket stb plus\n",
       "2074925  3926909000               running part wirhout socket stb plus\n",
       "2074926  3926909000                running part withou socket stb plus\n",
       "2074927  3926909000               running part without socket stb plus\n",
       "2074928  3926909000            running part without socket stb plus la\n",
       "2074929  3926909000                                        rust eraser\n",
       "2074930  3926909000                                    rustcover wheel\n",
       "2074931  3926909000                                     rv access door\n",
       "2074932  3926909000                                        rv lip seal\n",
       "2074933  3926909000                                rv lip seal baumslx\n",
       "2074934  3926909000                                   rv lip seal baum\n",
       "2074935  3926909000                                       rv panel kit\n",
       "2074936  3926909000                             window revers fork jig\n",
       "2074937  3926909000                                window reverse fork\n",
       "2074938  3926909000                                    cap escape hood\n",
       "2074939  3926909000                               charger vehicle dock\n",
       "\n",
       "[2071580 rows x 2 columns]"
      ]
     },
     "execution_count": 42,
     "metadata": {},
     "output_type": "execute_result"
    }
   ],
   "source": [
    "processed_df"
   ]
  },
  {
   "cell_type": "code",
   "execution_count": 7,
   "metadata": {},
   "outputs": [
    {
     "data": {
      "text/plain": [
       "'rubbing strip rubbing vrs2833'"
      ]
     },
     "execution_count": 7,
     "metadata": {},
     "output_type": "execute_result"
    }
   ],
   "source": [
    "re.sub(r\"[^a-z0-9 ]+\", \" \", \"rubbing？strip,？rubbing？vrs2833\")"
   ]
  },
  {
   "cell_type": "code",
   "execution_count": 32,
   "metadata": {},
   "outputs": [
    {
     "name": "stdout",
     "output_type": "stream",
     "text": [
      "Number of Rows in Dataframe (Before):  2071580\n",
      "Number of Deleted Rows in Dataframe:  0\n",
      "Number of Rows in Dataframe (After):  2071580\n"
     ]
    },
    {
     "data": {
      "text/html": [
       "<div>\n",
       "<style scoped>\n",
       "    .dataframe tbody tr th:only-of-type {\n",
       "        vertical-align: middle;\n",
       "    }\n",
       "\n",
       "    .dataframe tbody tr th {\n",
       "        vertical-align: top;\n",
       "    }\n",
       "\n",
       "    .dataframe thead th {\n",
       "        text-align: right;\n",
       "    }\n",
       "</style>\n",
       "<table border=\"1\" class=\"dataframe\">\n",
       "  <thead>\n",
       "    <tr style=\"text-align: right;\">\n",
       "      <th></th>\n",
       "      <th>HS_CODE</th>\n",
       "      <th>ITEM_NAME</th>\n",
       "    </tr>\n",
       "  </thead>\n",
       "  <tbody>\n",
       "    <tr>\n",
       "      <th>0</th>\n",
       "      <td>8419909090</td>\n",
       "      <td>PAPER MACHINE PARTS</td>\n",
       "    </tr>\n",
       "    <tr>\n",
       "      <th>1</th>\n",
       "      <td>8419909090</td>\n",
       "      <td>PARAFFIN DISSOLVER PARTS</td>\n",
       "    </tr>\n",
       "    <tr>\n",
       "      <th>2</th>\n",
       "      <td>8419909090</td>\n",
       "      <td>PARA THIMMER</td>\n",
       "    </tr>\n",
       "    <tr>\n",
       "      <th>3</th>\n",
       "      <td>8419909090</td>\n",
       "      <td>PARS FOR CONSTANT TEMPERATURE AND HUMIDITY CHA...</td>\n",
       "    </tr>\n",
       "    <tr>\n",
       "      <th>4</th>\n",
       "      <td>8419909090</td>\n",
       "      <td>PART</td>\n",
       "    </tr>\n",
       "  </tbody>\n",
       "</table>\n",
       "</div>"
      ],
      "text/plain": [
       "      HS_CODE                                          ITEM_NAME\n",
       "0  8419909090                                PAPER MACHINE PARTS\n",
       "1  8419909090                           PARAFFIN DISSOLVER PARTS\n",
       "2  8419909090                                       PARA THIMMER\n",
       "3  8419909090  PARS FOR CONSTANT TEMPERATURE AND HUMIDITY CHA...\n",
       "4  8419909090                                               PART"
      ]
     },
     "execution_count": 32,
     "metadata": {},
     "output_type": "execute_result"
    }
   ],
   "source": [
    "hscode_df = delete_blank_rows(hscode_df, 'ITEM_NAME')\n",
    "hscode_df.head()"
   ]
  },
  {
   "cell_type": "code",
   "execution_count": null,
   "metadata": {},
   "outputs": [],
   "source": [
    "hscode_df.loc[hscode_df.ITEM_NAME == 'WELL'].drop_duplicates('HS_CODE')"
   ]
  },
  {
   "cell_type": "code",
   "execution_count": 7,
   "metadata": {
    "scrolled": true
   },
   "outputs": [
    {
     "data": {
      "text/html": [
       "<div>\n",
       "<style scoped>\n",
       "    .dataframe tbody tr th:only-of-type {\n",
       "        vertical-align: middle;\n",
       "    }\n",
       "\n",
       "    .dataframe tbody tr th {\n",
       "        vertical-align: top;\n",
       "    }\n",
       "\n",
       "    .dataframe thead th {\n",
       "        text-align: right;\n",
       "    }\n",
       "</style>\n",
       "<table border=\"1\" class=\"dataframe\">\n",
       "  <thead>\n",
       "    <tr style=\"text-align: right;\">\n",
       "      <th></th>\n",
       "      <th>HS_CODE</th>\n",
       "      <th>ITEM_NAME</th>\n",
       "      <th>ITEM_NAME_WITHOUT_STOPWORDS</th>\n",
       "    </tr>\n",
       "  </thead>\n",
       "  <tbody>\n",
       "    <tr>\n",
       "      <th>0</th>\n",
       "      <td>8419909090</td>\n",
       "      <td>PAPER MACHINE PARTS</td>\n",
       "      <td>PAPER MACHINE PARTS</td>\n",
       "    </tr>\n",
       "    <tr>\n",
       "      <th>1</th>\n",
       "      <td>8419909090</td>\n",
       "      <td>PARAFFIN DISSOLVER PARTS</td>\n",
       "      <td>PARAFFIN DISSOLVER PARTS</td>\n",
       "    </tr>\n",
       "    <tr>\n",
       "      <th>2</th>\n",
       "      <td>8419909090</td>\n",
       "      <td>PARA THIMMER</td>\n",
       "      <td>PARA THIMMER</td>\n",
       "    </tr>\n",
       "    <tr>\n",
       "      <th>3</th>\n",
       "      <td>8419909090</td>\n",
       "      <td>PARS FOR CONSTANT TEMPERATURE AND HUMIDITY CHA...</td>\n",
       "      <td>PARS CONSTANT TEMPERATURE HUMIDITY CHAMBER</td>\n",
       "    </tr>\n",
       "    <tr>\n",
       "      <th>4</th>\n",
       "      <td>8419909090</td>\n",
       "      <td>PART</td>\n",
       "      <td></td>\n",
       "    </tr>\n",
       "  </tbody>\n",
       "</table>\n",
       "</div>"
      ],
      "text/plain": [
       "      HS_CODE                                          ITEM_NAME  \\\n",
       "0  8419909090                                PAPER MACHINE PARTS   \n",
       "1  8419909090                           PARAFFIN DISSOLVER PARTS   \n",
       "2  8419909090                                       PARA THIMMER   \n",
       "3  8419909090  PARS FOR CONSTANT TEMPERATURE AND HUMIDITY CHA...   \n",
       "4  8419909090                                               PART   \n",
       "\n",
       "                  ITEM_NAME_WITHOUT_STOPWORDS  \n",
       "0                         PAPER MACHINE PARTS  \n",
       "1                    PARAFFIN DISSOLVER PARTS  \n",
       "2                                PARA THIMMER  \n",
       "3  PARS CONSTANT TEMPERATURE HUMIDITY CHAMBER  \n",
       "4                                              "
      ]
     },
     "execution_count": 7,
     "metadata": {},
     "output_type": "execute_result"
    }
   ],
   "source": [
    "# Delete stopwords in ITEM_NAME\n",
    "stop_words = [word.upper() for word in text.ENGLISH_STOP_WORDS]\n",
    "hscode_df['ITEM_NAME_WITHOUT_STOPWORDS'] = hscode_df.ITEM_NAME.map(lambda x: ' '.join(word for word in str(x).upper().split() if word not in (stop_words)))\n",
    "hscode_df.head()"
   ]
  },
  {
   "cell_type": "code",
   "execution_count": null,
   "metadata": {},
   "outputs": [],
   "source": []
  },
  {
   "cell_type": "code",
   "execution_count": null,
   "metadata": {},
   "outputs": [],
   "source": [
    "# Hscode count\n",
    "hscode_count = hscode_df.groupby('HS_CODE').agg('count').rename(columns={'ITEM_NAME':'COUNT'}).sort_values('COUNT', ascending=False)\n",
    "hscode_count.head()"
   ]
  },
  {
   "cell_type": "code",
   "execution_count": null,
   "metadata": {},
   "outputs": [],
   "source": [
    "hscode_count.sort_values('COUNT').plot.box()"
   ]
  },
  {
   "cell_type": "code",
   "execution_count": null,
   "metadata": {
    "scrolled": true
   },
   "outputs": [],
   "source": [
    "hscode_df.loc[hscode_df.HS_CODE == '392690'].drop_duplicates('ITEM_NAME')"
   ]
  },
  {
   "cell_type": "code",
   "execution_count": null,
   "metadata": {
    "scrolled": true
   },
   "outputs": [],
   "source": [
    "name_count = hscode_df.groupby('ITEM_NAME').agg('count').rename(columns={'HS_CODE':'COUNT'}).sort_values('COUNT', ascending=False)\n",
    "name_count.head()"
   ]
  },
  {
   "cell_type": "code",
   "execution_count": null,
   "metadata": {},
   "outputs": [],
   "source": [
    "len(name_count)"
   ]
  },
  {
   "cell_type": "code",
   "execution_count": null,
   "metadata": {},
   "outputs": [],
   "source": [
    "name_count.plot.box()"
   ]
  },
  {
   "cell_type": "code",
   "execution_count": null,
   "metadata": {},
   "outputs": [],
   "source": [
    "name_count.describe()"
   ]
  },
  {
   "cell_type": "code",
   "execution_count": null,
   "metadata": {
    "scrolled": true
   },
   "outputs": [],
   "source": [
    "hscode_df.groupby('HS_CODE').agg('count').plot.box()"
   ]
  },
  {
   "cell_type": "code",
   "execution_count": null,
   "metadata": {
    "scrolled": true
   },
   "outputs": [],
   "source": [
    "hscode_df.groupby('HS_CODE').agg('count').sort_values('ITEM_NAME', ascending=False)"
   ]
  },
  {
   "cell_type": "code",
   "execution_count": null,
   "metadata": {},
   "outputs": [],
   "source": [
    "hscode_df.groupby('HS_CODE').agg('count').describe()"
   ]
  },
  {
   "cell_type": "code",
   "execution_count": null,
   "metadata": {},
   "outputs": [],
   "source": [
    "df3 = hscode_df.groupby('HS_CODE').agg('count')"
   ]
  },
  {
   "cell_type": "code",
   "execution_count": null,
   "metadata": {},
   "outputs": [],
   "source": [
    "iqr = df3.quantile(0.75) - df3.quantile(0.25)\n",
    "upper_bound = df3.quantile(0.75) + 1.5*iqr\n",
    "lower_bound = df3.quantile(0.25) - 1.5*iqr\n",
    "print(lower_bound)\n",
    "df3 = df3[(df3 < upper_bound) & (df3 > lower_bound) ]"
   ]
  },
  {
   "cell_type": "code",
   "execution_count": null,
   "metadata": {},
   "outputs": [],
   "source": [
    "df3.plot.box()"
   ]
  },
  {
   "cell_type": "code",
   "execution_count": null,
   "metadata": {},
   "outputs": [],
   "source": [
    "df3.describe()"
   ]
  },
  {
   "cell_type": "code",
   "execution_count": null,
   "metadata": {},
   "outputs": [],
   "source": [
    "hscode_df.groupby('HS_CODE').agg('count').sort_values('ITEM_NAME', ascending=False)[1100:].plot.box()"
   ]
  },
  {
   "cell_type": "code",
   "execution_count": null,
   "metadata": {},
   "outputs": [],
   "source": [
    "name_count.plot()"
   ]
  },
  {
   "cell_type": "code",
   "execution_count": null,
   "metadata": {},
   "outputs": [],
   "source": [
    "name_count[3:750000].plot()"
   ]
  },
  {
   "cell_type": "code",
   "execution_count": null,
   "metadata": {},
   "outputs": [],
   "source": [
    "len(name_count)"
   ]
  },
  {
   "cell_type": "code",
   "execution_count": null,
   "metadata": {},
   "outputs": [],
   "source": [
    "name_count.iloc[100000]"
   ]
  },
  {
   "cell_type": "code",
   "execution_count": null,
   "metadata": {},
   "outputs": [],
   "source": [
    "hscode_df.loc[hscode_df.ITEM_NAME == 'BUTEETRAPPECARBURANT']"
   ]
  },
  {
   "cell_type": "code",
   "execution_count": null,
   "metadata": {
    "scrolled": true
   },
   "outputs": [],
   "source": [
    "name_code_group = hscode_df.groupby(['ITEM_NAME', 'HS_CODE']).agg('count').reset_index()\n",
    "name_code_group.head()"
   ]
  },
  {
   "cell_type": "code",
   "execution_count": null,
   "metadata": {
    "scrolled": true
   },
   "outputs": [],
   "source": [
    "name_code_group[name_code_group.ITEM_NAME.duplicated(keep=False)]"
   ]
  },
  {
   "cell_type": "code",
   "execution_count": null,
   "metadata": {
    "scrolled": true
   },
   "outputs": [],
   "source": [
    "name_code_group[name_code_group.ITEM_NAME.duplicated(keep=False)].drop_duplicates('ITEM_NAME')"
   ]
  },
  {
   "cell_type": "code",
   "execution_count": null,
   "metadata": {
    "scrolled": true
   },
   "outputs": [],
   "source": [
    "name_code_group[name_code_group.ITEM_NAME.duplicated(keep=False)].iloc[582422:-13].drop_duplicates('ITEM_NAME')"
   ]
  },
  {
   "cell_type": "code",
   "execution_count": null,
   "metadata": {
    "scrolled": true
   },
   "outputs": [],
   "source": [
    "name_code_group[~name_code_group.ITEM_NAME.duplicated(keep=False)]"
   ]
  },
  {
   "cell_type": "code",
   "execution_count": null,
   "metadata": {
    "scrolled": true
   },
   "outputs": [],
   "source": [
    "hscode_df.ITEM_NAME.str.upper().str.replace(r\"[^A-Z ]\", \"\", regex=True)"
   ]
  },
  {
   "cell_type": "code",
   "execution_count": null,
   "metadata": {},
   "outputs": [],
   "source": [
    "re_hscode_df = hscode_df\n",
    "re_hscode_df.ITEM_NAME = re_hscode_df.ITEM_NAME.str.upper().str.replace(r\"[^A-Z ]\", \"\", regex=True)\n",
    "re_hscode_df.head()"
   ]
  },
  {
   "cell_type": "code",
   "execution_count": null,
   "metadata": {},
   "outputs": [],
   "source": [
    "re_hscode_df.dropna(inplace=True)\n",
    "re_hscode_df.loc[re_hscode_df.ITEM_NAME.isna()]"
   ]
  },
  {
   "cell_type": "code",
   "execution_count": null,
   "metadata": {},
   "outputs": [],
   "source": [
    "re_hscode_df.ITEM_NAME = re_hscode_df.ITEM_NAME.str.strip()"
   ]
  },
  {
   "cell_type": "code",
   "execution_count": null,
   "metadata": {},
   "outputs": [],
   "source": [
    "re_hscode_df.sort_values('ITEM_NAME').head()"
   ]
  },
  {
   "cell_type": "code",
   "execution_count": null,
   "metadata": {},
   "outputs": [],
   "source": [
    "re_hscode_df.drop(re_hscode_df[re_hscode_df.ITEM_NAME == '   '].index, inplace=True)\n",
    "re_hscode_df.loc[re_hscode_df.ITEM_NAME == '']"
   ]
  },
  {
   "cell_type": "code",
   "execution_count": null,
   "metadata": {},
   "outputs": [],
   "source": [
    "re_hscode_df.groupby('HS_CODE').agg('count').sort_values('ITEM_NAME').plot()"
   ]
  },
  {
   "cell_type": "code",
   "execution_count": null,
   "metadata": {},
   "outputs": [],
   "source": [
    "re_hscode_df.groupby('HS_CODE').agg('count').sort_values('ITEM_NAME', ascending=False).head()"
   ]
  },
  {
   "cell_type": "code",
   "execution_count": null,
   "metadata": {
    "scrolled": true
   },
   "outputs": [],
   "source": [
    "re_hscode_df.groupby(['HS_CODE', 'ITEM_NAME']).agg('count').reset_index()"
   ]
  },
  {
   "cell_type": "code",
   "execution_count": null,
   "metadata": {},
   "outputs": [],
   "source": [
    "re_hscode_df_name_count = re_hscode_df.groupby('ITEM_NAME').agg('count')\\\n",
    "                        .rename(columns={'HS_CODE': 'COUNT'}).reset_index()\\\n",
    "                        .sort_values('COUNT', ascending=False)\n",
    "re_hscode_df_name_count.head()"
   ]
  },
  {
   "cell_type": "code",
   "execution_count": null,
   "metadata": {},
   "outputs": [],
   "source": [
    "re_hscode_df_name_count[1:100].plot(x='ITEM_NAME', y=\"COUNT\")"
   ]
  },
  {
   "cell_type": "code",
   "execution_count": null,
   "metadata": {
    "scrolled": true
   },
   "outputs": [],
   "source": [
    "# need to fix\n",
    "re_hscode_df.groupby(['HS_CODE', 'ITEM_NAME']).agg('count').reset_index()"
   ]
  },
  {
   "cell_type": "code",
   "execution_count": null,
   "metadata": {
    "scrolled": true
   },
   "outputs": [],
   "source": [
    "re_hscode_df.drop_duplicates(inplace=True)\n",
    "re_hscode_df.head()"
   ]
  },
  {
   "cell_type": "code",
   "execution_count": null,
   "metadata": {
    "scrolled": true
   },
   "outputs": [],
   "source": [
    "# Check above\n",
    "re_hscode_df.loc[re_hscode_df.ITEM_NAME == 'PART'].sort_values('HS_CODE').head()"
   ]
  },
  {
   "cell_type": "code",
   "execution_count": null,
   "metadata": {
    "scrolled": true
   },
   "outputs": [],
   "source": [
    "name_count[~name_count.index.str.upper().str.contains(r\"[^A-Z ]\")]"
   ]
  },
  {
   "cell_type": "code",
   "execution_count": null,
   "metadata": {},
   "outputs": [],
   "source": [
    "len(name_count)"
   ]
  },
  {
   "cell_type": "code",
   "execution_count": null,
   "metadata": {},
   "outputs": [],
   "source": [
    "test = hscode_df.ITEM_NAME.str.upper().str.contains(r\"[^A-Z ]\")"
   ]
  },
  {
   "cell_type": "code",
   "execution_count": null,
   "metadata": {
    "scrolled": true
   },
   "outputs": [],
   "source": [
    "test.loc[(test != False) & (test != True)]"
   ]
  },
  {
   "cell_type": "code",
   "execution_count": null,
   "metadata": {},
   "outputs": [],
   "source": [
    "off_special_char = hscode_df[~test.fillna(True)]\n",
    "off_special_char.head()"
   ]
  },
  {
   "cell_type": "code",
   "execution_count": null,
   "metadata": {},
   "outputs": [],
   "source": [
    "off_special_char.HS_CODE = off_special_char.HS_CODE.str.slice(stop=6)\n",
    "off_special_char.head()"
   ]
  },
  {
   "cell_type": "code",
   "execution_count": null,
   "metadata": {},
   "outputs": [],
   "source": [
    "off_special_char.ITEM_NAME = off_special_char.ITEM_NAME.str.upper()"
   ]
  },
  {
   "cell_type": "code",
   "execution_count": null,
   "metadata": {
    "scrolled": false
   },
   "outputs": [],
   "source": [
    "off_special_char.sort_values('ITEM_NAME')"
   ]
  },
  {
   "cell_type": "markdown",
   "metadata": {},
   "source": [
    "### Make train, test set"
   ]
  },
  {
   "cell_type": "code",
   "execution_count": null,
   "metadata": {},
   "outputs": [],
   "source": [
    "from sklearn.model_selection import train_test_split"
   ]
  },
  {
   "cell_type": "code",
   "execution_count": null,
   "metadata": {},
   "outputs": [],
   "source": [
    "train, test = train_test_split(re_hscode_df, test_size=0.2)"
   ]
  },
  {
   "cell_type": "code",
   "execution_count": null,
   "metadata": {},
   "outputs": [],
   "source": []
  },
  {
   "cell_type": "code",
   "execution_count": null,
   "metadata": {},
   "outputs": [],
   "source": [
    "train.ITEM_NAME.to_csv('train_name_fta_spcial_char_off.txt', index=False, header=False)"
   ]
  },
  {
   "cell_type": "code",
   "execution_count": null,
   "metadata": {},
   "outputs": [],
   "source": [
    "train.HS_CODE.to_csv('train_class_fta_spcial_char_off.txt', index=False, header=False)"
   ]
  },
  {
   "cell_type": "code",
   "execution_count": null,
   "metadata": {},
   "outputs": [],
   "source": [
    "test.ITEM_NAME.to_csv('test_name_fta_spcial_char_off.txt', index=False, header=False)"
   ]
  },
  {
   "cell_type": "code",
   "execution_count": null,
   "metadata": {},
   "outputs": [],
   "source": [
    "test.HS_CODE.to_csv('test_class_fta_spcial_char_off.txt', index=False, header=False)"
   ]
  },
  {
   "cell_type": "code",
   "execution_count": null,
   "metadata": {
    "scrolled": true
   },
   "outputs": [],
   "source": [
    "train.sort_values('ITEM_NAME')"
   ]
  },
  {
   "cell_type": "code",
   "execution_count": null,
   "metadata": {},
   "outputs": [],
   "source": [
    "train, test = train_test_split(re_hscode_df, test_size=0.2)"
   ]
  },
  {
   "cell_type": "code",
   "execution_count": null,
   "metadata": {},
   "outputs": [],
   "source": [
    "train.ITEM_NAME.to_csv('train_name_fta.txt', index=False, header=False)\n",
    "train.HS_CODE.to_csv('train_class_fta.txt', index=False, header=False)\n",
    "test.ITEM_NAME.to_csv('test_name_fta.txt', index=False, header=False)\n",
    "test.HS_CODE.to_csv('test_class_fta.txt', index=False, header=False)"
   ]
  },
  {
   "cell_type": "code",
   "execution_count": null,
   "metadata": {},
   "outputs": [],
   "source": [
    "train.ITEM_NAME.to_csv('train_name_fta_alpha_word.txt', index=False, header=False)\n",
    "train.HS_CODE.to_csv('train_class_fta_alpha_word.txt', index=False, header=False)\n",
    "test.ITEM_NAME.to_csv('test_name_fta_alpha_word.txt', index=False, header=False)\n",
    "test.HS_CODE.to_csv('test_class_fta_alpha_word.txt', index=False, header=False)"
   ]
  },
  {
   "cell_type": "markdown",
   "metadata": {},
   "source": [
    "## Check Stop Words"
   ]
  },
  {
   "cell_type": "code",
   "execution_count": 10,
   "metadata": {},
   "outputs": [],
   "source": []
  },
  {
   "cell_type": "code",
   "execution_count": 26,
   "metadata": {
    "scrolled": true
   },
   "outputs": [
    {
     "data": {
      "text/plain": [
       "52036              hi name beatrice bunny\n",
       "60906     mom chef autumn squash porridge\n",
       "156711                       excepearl ce\n",
       "Name: ITEM_NAME, dtype: object"
      ]
     },
     "execution_count": 26,
     "metadata": {},
     "output_type": "execute_result"
    }
   ],
   "source": []
  },
  {
   "cell_type": "code",
   "execution_count": 27,
   "metadata": {},
   "outputs": [
    {
     "data": {
      "text/plain": [
       "{'a',\n",
       " 'about',\n",
       " 'above',\n",
       " 'after',\n",
       " 'again',\n",
       " 'against',\n",
       " 'ain',\n",
       " 'all',\n",
       " 'am',\n",
       " 'an',\n",
       " 'and',\n",
       " 'any',\n",
       " 'are',\n",
       " 'aren',\n",
       " \"aren't\",\n",
       " 'as',\n",
       " 'at',\n",
       " 'be',\n",
       " 'because',\n",
       " 'been',\n",
       " 'before',\n",
       " 'being',\n",
       " 'below',\n",
       " 'between',\n",
       " 'both',\n",
       " 'but',\n",
       " 'by',\n",
       " 'can',\n",
       " 'couldn',\n",
       " \"couldn't\",\n",
       " 'd',\n",
       " 'did',\n",
       " 'didn',\n",
       " \"didn't\",\n",
       " 'do',\n",
       " 'does',\n",
       " 'doesn',\n",
       " \"doesn't\",\n",
       " 'doing',\n",
       " 'don',\n",
       " \"don't\",\n",
       " 'down',\n",
       " 'during',\n",
       " 'each',\n",
       " 'few',\n",
       " 'for',\n",
       " 'from',\n",
       " 'further',\n",
       " 'had',\n",
       " 'hadn',\n",
       " \"hadn't\",\n",
       " 'has',\n",
       " 'hasn',\n",
       " \"hasn't\",\n",
       " 'have',\n",
       " 'haven',\n",
       " \"haven't\",\n",
       " 'having',\n",
       " 'he',\n",
       " 'her',\n",
       " 'here',\n",
       " 'hers',\n",
       " 'herself',\n",
       " 'him',\n",
       " 'himself',\n",
       " 'his',\n",
       " 'how',\n",
       " 'i',\n",
       " 'if',\n",
       " 'in',\n",
       " 'into',\n",
       " 'is',\n",
       " 'isn',\n",
       " \"isn't\",\n",
       " 'it',\n",
       " \"it's\",\n",
       " 'its',\n",
       " 'itself',\n",
       " 'just',\n",
       " 'll',\n",
       " 'm',\n",
       " 'ma',\n",
       " 'me',\n",
       " 'mightn',\n",
       " \"mightn't\",\n",
       " 'more',\n",
       " 'most',\n",
       " 'mustn',\n",
       " \"mustn't\",\n",
       " 'my',\n",
       " 'myself',\n",
       " 'needn',\n",
       " \"needn't\",\n",
       " 'no',\n",
       " 'nor',\n",
       " 'not',\n",
       " 'now',\n",
       " 'o',\n",
       " 'of',\n",
       " 'off',\n",
       " 'on',\n",
       " 'once',\n",
       " 'only',\n",
       " 'or',\n",
       " 'other',\n",
       " 'our',\n",
       " 'ours',\n",
       " 'ourselves',\n",
       " 'out',\n",
       " 'over',\n",
       " 'own',\n",
       " 're',\n",
       " 's',\n",
       " 'same',\n",
       " 'shan',\n",
       " \"shan't\",\n",
       " 'she',\n",
       " \"she's\",\n",
       " 'should',\n",
       " \"should've\",\n",
       " 'shouldn',\n",
       " \"shouldn't\",\n",
       " 'so',\n",
       " 'some',\n",
       " 'such',\n",
       " 't',\n",
       " 'than',\n",
       " 'that',\n",
       " \"that'll\",\n",
       " 'the',\n",
       " 'their',\n",
       " 'theirs',\n",
       " 'them',\n",
       " 'themselves',\n",
       " 'then',\n",
       " 'there',\n",
       " 'these',\n",
       " 'they',\n",
       " 'this',\n",
       " 'those',\n",
       " 'through',\n",
       " 'to',\n",
       " 'too',\n",
       " 'under',\n",
       " 'until',\n",
       " 'up',\n",
       " 've',\n",
       " 'very',\n",
       " 'was',\n",
       " 'wasn',\n",
       " \"wasn't\",\n",
       " 'we',\n",
       " 'were',\n",
       " 'weren',\n",
       " \"weren't\",\n",
       " 'what',\n",
       " 'when',\n",
       " 'where',\n",
       " 'which',\n",
       " 'while',\n",
       " 'who',\n",
       " 'whom',\n",
       " 'why',\n",
       " 'will',\n",
       " 'with',\n",
       " 'won',\n",
       " \"won't\",\n",
       " 'wouldn',\n",
       " \"wouldn't\",\n",
       " 'y',\n",
       " 'you',\n",
       " \"you'd\",\n",
       " \"you'll\",\n",
       " \"you're\",\n",
       " \"you've\",\n",
       " 'your',\n",
       " 'yours',\n",
       " 'yourself',\n",
       " 'yourselves'}"
      ]
     },
     "execution_count": 27,
     "metadata": {},
     "output_type": "execute_result"
    }
   ],
   "source": [
    "en_stops"
   ]
  },
  {
   "cell_type": "code",
   "execution_count": 29,
   "metadata": {
    "scrolled": true
   },
   "outputs": [
    {
     "data": {
      "text/html": [
       "<div>\n",
       "<style scoped>\n",
       "    .dataframe tbody tr th:only-of-type {\n",
       "        vertical-align: middle;\n",
       "    }\n",
       "\n",
       "    .dataframe tbody tr th {\n",
       "        vertical-align: top;\n",
       "    }\n",
       "\n",
       "    .dataframe thead th {\n",
       "        text-align: right;\n",
       "    }\n",
       "</style>\n",
       "<table border=\"1\" class=\"dataframe\">\n",
       "  <thead>\n",
       "    <tr style=\"text-align: right;\">\n",
       "      <th></th>\n",
       "      <th>HS_CODE</th>\n",
       "      <th>ITEM_NAME</th>\n",
       "    </tr>\n",
       "  </thead>\n",
       "  <tbody>\n",
       "    <tr>\n",
       "      <th>241031</th>\n",
       "      <td>3303001000</td>\n",
       "      <td>ead she edp ml spray np</td>\n",
       "    </tr>\n",
       "    <tr>\n",
       "      <th>481836</th>\n",
       "      <td>4202121090</td>\n",
       "      <td>philips she st germain underground citiscape</td>\n",
       "    </tr>\n",
       "    <tr>\n",
       "      <th>606010</th>\n",
       "      <td>8211920000</td>\n",
       "      <td>sheffield she weapon</td>\n",
       "    </tr>\n",
       "    <tr>\n",
       "      <th>716405</th>\n",
       "      <td>8419509000</td>\n",
       "      <td>used she mk right defect</td>\n",
       "    </tr>\n",
       "    <tr>\n",
       "      <th>915877</th>\n",
       "      <td>8481201000</td>\n",
       "      <td>mt she hyundai</td>\n",
       "    </tr>\n",
       "    <tr>\n",
       "      <th>1200064</th>\n",
       "      <td>6211491000</td>\n",
       "      <td>cloth nobis she ra black</td>\n",
       "    </tr>\n",
       "    <tr>\n",
       "      <th>1294290</th>\n",
       "      <td>7210499010</td>\n",
       "      <td>flat steel she toyota</td>\n",
       "    </tr>\n",
       "    <tr>\n",
       "      <th>1435831</th>\n",
       "      <td>7613002000</td>\n",
       "      <td>superinsulated she dewar</td>\n",
       "    </tr>\n",
       "    <tr>\n",
       "      <th>1600643</th>\n",
       "      <td>8517626060</td>\n",
       "      <td>philips she earphone</td>\n",
       "    </tr>\n",
       "    <tr>\n",
       "      <th>1714738</th>\n",
       "      <td>9307000000</td>\n",
       "      <td>sheffield she weapon</td>\n",
       "    </tr>\n",
       "    <tr>\n",
       "      <th>1829030</th>\n",
       "      <td>8518309000</td>\n",
       "      <td>philips she st germain underground citiscape</td>\n",
       "    </tr>\n",
       "    <tr>\n",
       "      <th>2070683</th>\n",
       "      <td>3926909000</td>\n",
       "      <td>plastic key shells for protection key she lls</td>\n",
       "    </tr>\n",
       "  </tbody>\n",
       "</table>\n",
       "</div>"
      ],
      "text/plain": [
       "            HS_CODE                                      ITEM_NAME\n",
       "241031   3303001000                        ead she edp ml spray np\n",
       "481836   4202121090   philips she st germain underground citiscape\n",
       "606010   8211920000                           sheffield she weapon\n",
       "716405   8419509000                       used she mk right defect\n",
       "915877   8481201000                                 mt she hyundai\n",
       "1200064  6211491000                       cloth nobis she ra black\n",
       "1294290  7210499010                          flat steel she toyota\n",
       "1435831  7613002000                       superinsulated she dewar\n",
       "1600643  8517626060                           philips she earphone\n",
       "1714738  9307000000                           sheffield she weapon\n",
       "1829030  8518309000   philips she st germain underground citiscape\n",
       "2070683  3926909000  plastic key shells for protection key she lls"
      ]
     },
     "execution_count": 29,
     "metadata": {},
     "output_type": "execute_result"
    }
   ],
   "source": [
    "processed_df.loc[processed_df.ITEM_NAME.str.contains(r' she ')]"
   ]
  },
  {
   "cell_type": "code",
   "execution_count": null,
   "metadata": {},
   "outputs": [],
   "source": []
  },
  {
   "cell_type": "markdown",
   "metadata": {},
   "source": [
    "## Make Unknown Words Dictionary"
   ]
  },
  {
   "cell_type": "code",
   "execution_count": null,
   "metadata": {},
   "outputs": [],
   "source": []
  },
  {
   "cell_type": "code",
   "execution_count": 96,
   "metadata": {
    "scrolled": true
   },
   "outputs": [],
   "source": [
    "a = [i.split() for i in test_df.ITEM_NAME]\n",
    "# b = [j.split() for j in a]"
   ]
  },
  {
   "cell_type": "code",
   "execution_count": 30,
   "metadata": {},
   "outputs": [],
   "source": [
    "spell = SpellChecker()"
   ]
  },
  {
   "cell_type": "code",
   "execution_count": 45,
   "metadata": {},
   "outputs": [
    {
     "data": {
      "text/plain": [
       "'running'"
      ]
     },
     "execution_count": 45,
     "metadata": {},
     "output_type": "execute_result"
    }
   ],
   "source": [
    "spell.correction(\"runnin\")"
   ]
  },
  {
   "cell_type": "code",
   "execution_count": null,
   "metadata": {},
   "outputs": [],
   "source": []
  }
 ],
 "metadata": {
  "kernelspec": {
   "display_name": "Python 3",
   "language": "python",
   "name": "python3"
  },
  "language_info": {
   "codemirror_mode": {
    "name": "ipython",
    "version": 3
   },
   "file_extension": ".py",
   "mimetype": "text/x-python",
   "name": "python",
   "nbconvert_exporter": "python",
   "pygments_lexer": "ipython3",
   "version": "3.5.2"
  }
 },
 "nbformat": 4,
 "nbformat_minor": 2
}

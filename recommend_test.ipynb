{
 "cells": [
  {
   "cell_type": "code",
   "execution_count": null,
   "metadata": {},
   "outputs": [],
   "source": [
    "import pandas as pd\n",
    "import matplotlib.pylab as plt\n",
    "import surprise\n",
    "import numpy as np\n",
    "from surprise import Reader\n",
    "from surprise import Dataset"
   ]
  },
  {
   "cell_type": "code",
   "execution_count": 2,
   "metadata": {},
   "outputs": [],
   "source": [
    "# Read csv\n",
    "trade_df = pd.read_csv(\"./data/trade.csv\", encoding=\"utf-8\", parse_dates=['ISSUEDT'],\n",
    "                       dtype={'HSCD': str, \"QTY\": float, 'BYRADDR2': str, 'SPLYADDR2': str})"
   ]
  },
  {
   "cell_type": "code",
   "execution_count": 3,
   "metadata": {},
   "outputs": [],
   "source": [
    "trade_df = trade_df[['BYRORGNM1', 'SPLYORGNM1']]"
   ]
  },
  {
   "cell_type": "code",
   "execution_count": 4,
   "metadata": {},
   "outputs": [],
   "source": [
    "df = trade_df.groupby(['BYRORGNM1', 'SPLYORGNM1']).agg('size').reset_index()"
   ]
  },
  {
   "cell_type": "code",
   "execution_count": 5,
   "metadata": {},
   "outputs": [],
   "source": [
    "df.columns = ['byr', 'spl', 'trd_cnt']"
   ]
  },
  {
   "cell_type": "code",
   "execution_count": null,
   "metadata": {
    "scrolled": true
   },
   "outputs": [],
   "source": [
    "df.groupby('byr').agg('size').sort_values().reset_index().groupby(0).agg('size').sum()"
   ]
  },
  {
   "cell_type": "code",
   "execution_count": null,
   "metadata": {},
   "outputs": [],
   "source": [
    "df.groupby('byr').agg('size').sort_values().reset_index().groupby(0).agg('size').loc[50:].sum()"
   ]
  },
  {
   "cell_type": "code",
   "execution_count": 6,
   "metadata": {
    "scrolled": true
   },
   "outputs": [],
   "source": [
    "b = df['byr'].value_counts() >= 5\n",
    "b = b[b].index.tolist()"
   ]
  },
  {
   "cell_type": "code",
   "execution_count": 7,
   "metadata": {},
   "outputs": [],
   "source": [
    "s = df['spl'].value_counts() >= 5\n",
    "s = s[s].index.tolist()"
   ]
  },
  {
   "cell_type": "code",
   "execution_count": 8,
   "metadata": {
    "scrolled": true
   },
   "outputs": [],
   "source": [
    "df = df.loc[(df['byr'].isin(b)) & (df['spl'].isin(s))].reset_index(drop=True)"
   ]
  },
  {
   "cell_type": "code",
   "execution_count": null,
   "metadata": {},
   "outputs": [],
   "source": [
    "df.head()"
   ]
  },
  {
   "cell_type": "code",
   "execution_count": null,
   "metadata": {
    "scrolled": false
   },
   "outputs": [],
   "source": [
    "df.groupby('trd_cnt').agg('size').sum()"
   ]
  },
  {
   "cell_type": "code",
   "execution_count": null,
   "metadata": {
    "scrolled": true
   },
   "outputs": [],
   "source": [
    "df.groupby('trd_cnt').agg('size').loc[111:].sum()"
   ]
  },
  {
   "cell_type": "code",
   "execution_count": 9,
   "metadata": {},
   "outputs": [],
   "source": [
    "import sys\n",
    "rating = {1:[1,1], 2:[2,2], 3:[3,3], 4:[4,4], 5:[5,6],\n",
    "          6:[7,9], 7:[10,16], 8:[17,35], 9:[30,110], 10:[111,sys.maxsize]}"
   ]
  },
  {
   "cell_type": "code",
   "execution_count": 10,
   "metadata": {},
   "outputs": [],
   "source": [
    "for i in rating:\n",
    "    df.loc[(df.trd_cnt >= rating[i][0]) & (df.trd_cnt <= rating[i][1]), 'trd_cnt'] = i    "
   ]
  },
  {
   "cell_type": "code",
   "execution_count": 11,
   "metadata": {},
   "outputs": [
    {
     "data": {
      "text/plain": [
       "<matplotlib.axes._subplots.AxesSubplot at 0x7f34e4985cf8>"
      ]
     },
     "execution_count": 11,
     "metadata": {},
     "output_type": "execute_result"
    },
    {
     "data": {
      "image/png": "[encoded data removed]",
      "text/plain": [
       "<Figure size 432x288 with 1 Axes>"
      ]
     },
     "metadata": {
      "needs_background": "light"
     },
     "output_type": "display_data"
    }
   ],
   "source": [
    "df.sort_values('trd_cnt').trd_cnt.reset_index(drop=True).plot()"
   ]
  },
  {
   "cell_type": "code",
   "execution_count": null,
   "metadata": {},
   "outputs": [],
   "source": [
    "df.head()"
   ]
  },
  {
   "cell_type": "code",
   "execution_count": 12,
   "metadata": {},
   "outputs": [],
   "source": [
    "reader = Reader(rating_scale=(1,10))\n",
    "data = Dataset.load_from_df(df, reader)"
   ]
  },
  {
   "cell_type": "code",
   "execution_count": null,
   "metadata": {},
   "outputs": [],
   "source": [
    "from surprise.model_selection import cross_validate\n",
    "bsl_options = {\n",
    "    'method': 'als',\n",
    "    'n_epochs': 5,\n",
    "    'reg_u': 12,\n",
    "    'reg_i': 5\n",
    "}\n",
    "algo = surprise.BaselineOnly(bsl_options)\n",
    "cross_validate(algo, data)"
   ]
  },
  {
   "cell_type": "code",
   "execution_count": 13,
   "metadata": {
    "scrolled": true
   },
   "outputs": [
    {
     "name": "stdout",
     "output_type": "stream",
     "text": [
      "Estimating biases using als...\n",
      "Computing the msd similarity matrix...\n",
      "Done computing similarity matrix.\n",
      "Estimating biases using als...\n",
      "Computing the msd similarity matrix...\n",
      "Done computing similarity matrix.\n",
      "Estimating biases using als...\n",
      "Computing the msd similarity matrix...\n",
      "Done computing similarity matrix.\n",
      "Computing the msd similarity matrix...\n",
      "Done computing similarity matrix.\n",
      "Computing the msd similarity matrix...\n",
      "Done computing similarity matrix.\n",
      "Computing the msd similarity matrix...\n",
      "Done computing similarity matrix.\n",
      "Computing the msd similarity matrix...\n",
      "Done computing similarity matrix.\n",
      "Computing the msd similarity matrix...\n",
      "Done computing similarity matrix.\n",
      "Computing the msd similarity matrix...\n",
      "Done computing similarity matrix.\n",
      "Computing the msd similarity matrix...\n",
      "Done computing similarity matrix.\n",
      "Computing the msd similarity matrix...\n",
      "Done computing similarity matrix.\n",
      "Computing the msd similarity matrix...\n",
      "Done computing similarity matrix.\n",
      "Estimating biases using als...\n",
      "Estimating biases using als...\n",
      "Estimating biases using als...\n"
     ]
    },
    {
     "data": {
      "text/html": [
       "<div>\n",
       "<style scoped>\n",
       "    .dataframe tbody tr th:only-of-type {\n",
       "        vertical-align: middle;\n",
       "    }\n",
       "\n",
       "    .dataframe tbody tr th {\n",
       "        vertical-align: top;\n",
       "    }\n",
       "\n",
       "    .dataframe thead th {\n",
       "        text-align: right;\n",
       "    }\n",
       "</style>\n",
       "<table border=\"1\" class=\"dataframe\">\n",
       "  <thead>\n",
       "    <tr style=\"text-align: right;\">\n",
       "      <th></th>\n",
       "      <th>fit_time</th>\n",
       "      <th>test_rmse</th>\n",
       "      <th>test_time</th>\n",
       "    </tr>\n",
       "    <tr>\n",
       "      <th>Algorithm</th>\n",
       "      <th></th>\n",
       "      <th></th>\n",
       "      <th></th>\n",
       "    </tr>\n",
       "  </thead>\n",
       "  <tbody>\n",
       "    <tr>\n",
       "      <th>SVDpp</th>\n",
       "      <td>1.845502</td>\n",
       "      <td>2.260148</td>\n",
       "      <td>0.090141</td>\n",
       "    </tr>\n",
       "    <tr>\n",
       "      <th>SVD</th>\n",
       "      <td>0.339768</td>\n",
       "      <td>2.293707</td>\n",
       "      <td>0.021790</td>\n",
       "    </tr>\n",
       "    <tr>\n",
       "      <th>BaselineOnly</th>\n",
       "      <td>0.012978</td>\n",
       "      <td>2.359879</td>\n",
       "      <td>0.014268</td>\n",
       "    </tr>\n",
       "    <tr>\n",
       "      <th>KNNBaseline</th>\n",
       "      <td>0.086455</td>\n",
       "      <td>2.479168</td>\n",
       "      <td>0.068057</td>\n",
       "    </tr>\n",
       "    <tr>\n",
       "      <th>KNNWithMeans</th>\n",
       "      <td>0.101032</td>\n",
       "      <td>2.499003</td>\n",
       "      <td>0.052583</td>\n",
       "    </tr>\n",
       "    <tr>\n",
       "      <th>KNNWithZScore</th>\n",
       "      <td>0.164734</td>\n",
       "      <td>2.537946</td>\n",
       "      <td>0.055625</td>\n",
       "    </tr>\n",
       "    <tr>\n",
       "      <th>NMF</th>\n",
       "      <td>0.660210</td>\n",
       "      <td>2.591023</td>\n",
       "      <td>0.018895</td>\n",
       "    </tr>\n",
       "    <tr>\n",
       "      <th>SlopeOne</th>\n",
       "      <td>0.076498</td>\n",
       "      <td>2.599011</td>\n",
       "      <td>0.053147</td>\n",
       "    </tr>\n",
       "    <tr>\n",
       "      <th>CoClustering</th>\n",
       "      <td>0.405374</td>\n",
       "      <td>2.635818</td>\n",
       "      <td>0.019142</td>\n",
       "    </tr>\n",
       "    <tr>\n",
       "      <th>KNNBasic</th>\n",
       "      <td>0.076559</td>\n",
       "      <td>2.774016</td>\n",
       "      <td>0.048469</td>\n",
       "    </tr>\n",
       "    <tr>\n",
       "      <th>NormalPredictor</th>\n",
       "      <td>0.007998</td>\n",
       "      <td>3.947229</td>\n",
       "      <td>0.021362</td>\n",
       "    </tr>\n",
       "  </tbody>\n",
       "</table>\n",
       "</div>"
      ],
      "text/plain": [
       "                 fit_time  test_rmse  test_time\n",
       "Algorithm                                      \n",
       "SVDpp            1.845502   2.260148   0.090141\n",
       "SVD              0.339768   2.293707   0.021790\n",
       "BaselineOnly     0.012978   2.359879   0.014268\n",
       "KNNBaseline      0.086455   2.479168   0.068057\n",
       "KNNWithMeans     0.101032   2.499003   0.052583\n",
       "KNNWithZScore    0.164734   2.537946   0.055625\n",
       "NMF              0.660210   2.591023   0.018895\n",
       "SlopeOne         0.076498   2.599011   0.053147\n",
       "CoClustering     0.405374   2.635818   0.019142\n",
       "KNNBasic         0.076559   2.774016   0.048469\n",
       "NormalPredictor  0.007998   3.947229   0.021362"
      ]
     },
     "execution_count": 13,
     "metadata": {},
     "output_type": "execute_result"
    }
   ],
   "source": [
    "from surprise.model_selection import cross_validate\n",
    "from surprise import SVD\n",
    "from surprise import SVDpp\n",
    "from surprise import SlopeOne\n",
    "from surprise import NMF\n",
    "from surprise import NormalPredictor\n",
    "from surprise import KNNBaseline\n",
    "from surprise import KNNBasic\n",
    "from surprise import KNNWithMeans\n",
    "from surprise import KNNWithZScore\n",
    "from surprise import BaselineOnly\n",
    "from surprise import CoClustering\n",
    "\n",
    "benchmark = []\n",
    "# Iterate over all algorithms\n",
    "for algorithm in [SVD(), SVDpp(), SlopeOne(), NMF(), NormalPredictor(), KNNBaseline(), KNNBasic(), KNNWithMeans(), KNNWithZScore(), BaselineOnly(), CoClustering()]:\n",
    "    # Perform cross validation\n",
    "    results = cross_validate(algorithm, data, measures=['RMSE'], cv=3, verbose=False)\n",
    "    \n",
    "    # Get results & append algorithm name\n",
    "    tmp = pd.DataFrame.from_dict(results).mean(axis=0)\n",
    "    tmp = tmp.append(pd.Series([str(algorithm).split(' ')[0].split('.')[-1]], index=['Algorithm']))\n",
    "    benchmark.append(tmp)\n",
    "    \n",
    "pd.DataFrame(benchmark).set_index('Algorithm').sort_values('test_rmse')   "
   ]
  },
  {
   "cell_type": "code",
   "execution_count": null,
   "metadata": {},
   "outputs": [],
   "source": [
    "%%time\n",
    "algo = surprise.SVD(n_factors=100)\n",
    "cross_validate(algo, data)[\"test_mae\"].mean()"
   ]
  },
  {
   "cell_type": "code",
   "execution_count": 14,
   "metadata": {},
   "outputs": [
    {
     "name": "stdout",
     "output_type": "stream",
     "text": [
      "RMSE: 2.2648\n"
     ]
    },
    {
     "data": {
      "text/plain": [
       "2.264824006982481"
      ]
     },
     "execution_count": 14,
     "metadata": {},
     "output_type": "execute_result"
    }
   ],
   "source": [
    "from surprise.model_selection import train_test_split\n",
    "from surprise import accuracy\n",
    "trainset, testset = train_test_split(data, test_size=0.25)\n",
    "algo = surprise.SVD(n_factors=100)\n",
    "predictions = algo.fit(trainset).test(testset)\n",
    "accuracy.rmse(predictions)"
   ]
  },
  {
   "cell_type": "code",
   "execution_count": 15,
   "metadata": {},
   "outputs": [],
   "source": [
    "def get_Iu(uid):\n",
    "    \"\"\"Return the number of items rated by given user\n",
    "    \n",
    "    Args:\n",
    "        uid: The raw id of the user.\n",
    "    Returns:\n",
    "        The number of items rated by the user.\n",
    "    \"\"\"\n",
    "    \n",
    "    try:\n",
    "        return len(trainset.ur[trainset.to_inner_uid(uid)])\n",
    "    except ValueError:  # user was not part of the trainset\n",
    "        return 0\n",
    "    \n",
    "def get_Ui(iid):\n",
    "    \"\"\"Return the number of users that have rated given item\n",
    "    \n",
    "    Args:\n",
    "        iid: The raw id of the item.\n",
    "    Returns:\n",
    "        The number of users that have rated the item.\n",
    "    \"\"\"\n",
    "    \n",
    "    try:\n",
    "        return len(trainset.ir[trainset.to_inner_iid(iid)])\n",
    "    except ValueError:  # item was not part of the trainset\n",
    "        return 0\n",
    "\n",
    "rcm_df = pd.DataFrame(predictions, columns=['uid', 'iid', 'rui', 'est', 'details'])    \n",
    "rcm_df['Iu'] = rcm_df.uid.apply(get_Iu)\n",
    "rcm_df['Ui'] = rcm_df.iid.apply(get_Ui)\n",
    "rcm_df['err'] = abs(rcm_df.est - rcm_df.rui)"
   ]
  },
  {
   "cell_type": "code",
   "execution_count": 16,
   "metadata": {},
   "outputs": [
    {
     "data": {
      "text/html": [
       "<div>\n",
       "<style scoped>\n",
       "    .dataframe tbody tr th:only-of-type {\n",
       "        vertical-align: middle;\n",
       "    }\n",
       "\n",
       "    .dataframe tbody tr th {\n",
       "        vertical-align: top;\n",
       "    }\n",
       "\n",
       "    .dataframe thead th {\n",
       "        text-align: right;\n",
       "    }\n",
       "</style>\n",
       "<table border=\"1\" class=\"dataframe\">\n",
       "  <thead>\n",
       "    <tr style=\"text-align: right;\">\n",
       "      <th></th>\n",
       "      <th>uid</th>\n",
       "      <th>iid</th>\n",
       "      <th>rui</th>\n",
       "      <th>est</th>\n",
       "      <th>details</th>\n",
       "      <th>Iu</th>\n",
       "      <th>Ui</th>\n",
       "      <th>err</th>\n",
       "    </tr>\n",
       "  </thead>\n",
       "  <tbody>\n",
       "    <tr>\n",
       "      <th>514</th>\n",
       "      <td>현대자동차</td>\n",
       "      <td>대동도어주식회사</td>\n",
       "      <td>10.0</td>\n",
       "      <td>10.000000</td>\n",
       "      <td>{'was_impossible': False}</td>\n",
       "      <td>140</td>\n",
       "      <td>5</td>\n",
       "      <td>0.000000</td>\n",
       "    </tr>\n",
       "    <tr>\n",
       "      <th>2110</th>\n",
       "      <td>현대자동차</td>\n",
       "      <td>(주)동보</td>\n",
       "      <td>10.0</td>\n",
       "      <td>10.000000</td>\n",
       "      <td>{'was_impossible': False}</td>\n",
       "      <td>140</td>\n",
       "      <td>5</td>\n",
       "      <td>0.000000</td>\n",
       "    </tr>\n",
       "    <tr>\n",
       "      <th>2767</th>\n",
       "      <td>현대자동차</td>\n",
       "      <td>주식회사 경신</td>\n",
       "      <td>10.0</td>\n",
       "      <td>10.000000</td>\n",
       "      <td>{'was_impossible': False}</td>\n",
       "      <td>140</td>\n",
       "      <td>3</td>\n",
       "      <td>0.000000</td>\n",
       "    </tr>\n",
       "    <tr>\n",
       "      <th>2991</th>\n",
       "      <td>현대자동차</td>\n",
       "      <td>한온시스템(주)</td>\n",
       "      <td>10.0</td>\n",
       "      <td>10.000000</td>\n",
       "      <td>{'was_impossible': False}</td>\n",
       "      <td>140</td>\n",
       "      <td>3</td>\n",
       "      <td>0.000000</td>\n",
       "    </tr>\n",
       "    <tr>\n",
       "      <th>1162</th>\n",
       "      <td>삼성전자(주)</td>\n",
       "      <td>삼화콘덴서공업(주)</td>\n",
       "      <td>10.0</td>\n",
       "      <td>10.000000</td>\n",
       "      <td>{'was_impossible': False}</td>\n",
       "      <td>67</td>\n",
       "      <td>9</td>\n",
       "      <td>0.000000</td>\n",
       "    </tr>\n",
       "    <tr>\n",
       "      <th>2599</th>\n",
       "      <td>현대자동차</td>\n",
       "      <td>콘티넨탈오토모티브시스템(주)</td>\n",
       "      <td>10.0</td>\n",
       "      <td>10.000000</td>\n",
       "      <td>{'was_impossible': False}</td>\n",
       "      <td>140</td>\n",
       "      <td>5</td>\n",
       "      <td>0.000000</td>\n",
       "    </tr>\n",
       "    <tr>\n",
       "      <th>2076</th>\n",
       "      <td>현대자동차</td>\n",
       "      <td>케이비와이퍼시스템 주식회사</td>\n",
       "      <td>10.0</td>\n",
       "      <td>10.000000</td>\n",
       "      <td>{'was_impossible': False}</td>\n",
       "      <td>140</td>\n",
       "      <td>4</td>\n",
       "      <td>0.000000</td>\n",
       "    </tr>\n",
       "    <tr>\n",
       "      <th>1029</th>\n",
       "      <td>(주)비씨아이엔티</td>\n",
       "      <td>몽고식품(주)창원1공장</td>\n",
       "      <td>5.0</td>\n",
       "      <td>4.997524</td>\n",
       "      <td>{'was_impossible': False}</td>\n",
       "      <td>9</td>\n",
       "      <td>14</td>\n",
       "      <td>0.002476</td>\n",
       "    </tr>\n",
       "    <tr>\n",
       "      <th>209</th>\n",
       "      <td>(주)아이티에스코리아</td>\n",
       "      <td>주식회사 씨더블유</td>\n",
       "      <td>3.0</td>\n",
       "      <td>3.002616</td>\n",
       "      <td>{'was_impossible': False}</td>\n",
       "      <td>5</td>\n",
       "      <td>3</td>\n",
       "      <td>0.002616</td>\n",
       "    </tr>\n",
       "    <tr>\n",
       "      <th>3242</th>\n",
       "      <td>(주)에스앤디페브릭</td>\n",
       "      <td>(주)영신물산</td>\n",
       "      <td>3.0</td>\n",
       "      <td>2.996309</td>\n",
       "      <td>{'was_impossible': False}</td>\n",
       "      <td>8</td>\n",
       "      <td>9</td>\n",
       "      <td>0.003691</td>\n",
       "    </tr>\n",
       "  </tbody>\n",
       "</table>\n",
       "</div>"
      ],
      "text/plain": [
       "              uid              iid   rui        est  \\\n",
       "514         현대자동차         대동도어주식회사  10.0  10.000000   \n",
       "2110        현대자동차            (주)동보  10.0  10.000000   \n",
       "2767        현대자동차          주식회사 경신  10.0  10.000000   \n",
       "2991        현대자동차         한온시스템(주)  10.0  10.000000   \n",
       "1162      삼성전자(주)       삼화콘덴서공업(주)  10.0  10.000000   \n",
       "2599        현대자동차  콘티넨탈오토모티브시스템(주)  10.0  10.000000   \n",
       "2076        현대자동차   케이비와이퍼시스템 주식회사  10.0  10.000000   \n",
       "1029    (주)비씨아이엔티     몽고식품(주)창원1공장   5.0   4.997524   \n",
       "209   (주)아이티에스코리아        주식회사 씨더블유   3.0   3.002616   \n",
       "3242   (주)에스앤디페브릭          (주)영신물산   3.0   2.996309   \n",
       "\n",
       "                        details   Iu  Ui       err  \n",
       "514   {'was_impossible': False}  140   5  0.000000  \n",
       "2110  {'was_impossible': False}  140   5  0.000000  \n",
       "2767  {'was_impossible': False}  140   3  0.000000  \n",
       "2991  {'was_impossible': False}  140   3  0.000000  \n",
       "1162  {'was_impossible': False}   67   9  0.000000  \n",
       "2599  {'was_impossible': False}  140   5  0.000000  \n",
       "2076  {'was_impossible': False}  140   4  0.000000  \n",
       "1029  {'was_impossible': False}    9  14  0.002476  \n",
       "209   {'was_impossible': False}    5   3  0.002616  \n",
       "3242  {'was_impossible': False}    8   9  0.003691  "
      ]
     },
     "execution_count": 16,
     "metadata": {},
     "output_type": "execute_result"
    }
   ],
   "source": [
    "rcm_df.sort_values(by='err').head(10)"
   ]
  },
  {
   "cell_type": "code",
   "execution_count": 17,
   "metadata": {},
   "outputs": [
    {
     "data": {
      "text/html": [
       "<div>\n",
       "<style scoped>\n",
       "    .dataframe tbody tr th:only-of-type {\n",
       "        vertical-align: middle;\n",
       "    }\n",
       "\n",
       "    .dataframe tbody tr th {\n",
       "        vertical-align: top;\n",
       "    }\n",
       "\n",
       "    .dataframe thead th {\n",
       "        text-align: right;\n",
       "    }\n",
       "</style>\n",
       "<table border=\"1\" class=\"dataframe\">\n",
       "  <thead>\n",
       "    <tr style=\"text-align: right;\">\n",
       "      <th></th>\n",
       "      <th>uid</th>\n",
       "      <th>iid</th>\n",
       "      <th>rui</th>\n",
       "      <th>est</th>\n",
       "      <th>details</th>\n",
       "      <th>Iu</th>\n",
       "      <th>Ui</th>\n",
       "      <th>err</th>\n",
       "    </tr>\n",
       "  </thead>\n",
       "  <tbody>\n",
       "    <tr>\n",
       "      <th>703</th>\n",
       "      <td>주식회사한나코퍼레이션</td>\n",
       "      <td>상신브레이크(주)</td>\n",
       "      <td>10.0</td>\n",
       "      <td>4.293440</td>\n",
       "      <td>{'was_impossible': False}</td>\n",
       "      <td>2</td>\n",
       "      <td>5</td>\n",
       "      <td>5.706560</td>\n",
       "    </tr>\n",
       "    <tr>\n",
       "      <th>2631</th>\n",
       "      <td>현대중공업(주)</td>\n",
       "      <td>(주)아이피케이</td>\n",
       "      <td>2.0</td>\n",
       "      <td>7.764435</td>\n",
       "      <td>{'was_impossible': False}</td>\n",
       "      <td>24</td>\n",
       "      <td>6</td>\n",
       "      <td>5.764435</td>\n",
       "    </tr>\n",
       "    <tr>\n",
       "      <th>3218</th>\n",
       "      <td>(주)태웅</td>\n",
       "      <td>(주)태상</td>\n",
       "      <td>10.0</td>\n",
       "      <td>4.232944</td>\n",
       "      <td>{'was_impossible': False}</td>\n",
       "      <td>0</td>\n",
       "      <td>7</td>\n",
       "      <td>5.767056</td>\n",
       "    </tr>\n",
       "    <tr>\n",
       "      <th>1404</th>\n",
       "      <td>삼성디스플레이(주)</td>\n",
       "      <td>주식회사 이녹스첨단소재</td>\n",
       "      <td>1.0</td>\n",
       "      <td>6.783114</td>\n",
       "      <td>{'was_impossible': False}</td>\n",
       "      <td>14</td>\n",
       "      <td>5</td>\n",
       "      <td>5.783114</td>\n",
       "    </tr>\n",
       "    <tr>\n",
       "      <th>3013</th>\n",
       "      <td>현대글로비스(주)</td>\n",
       "      <td>선진섬유공업사</td>\n",
       "      <td>2.0</td>\n",
       "      <td>7.962010</td>\n",
       "      <td>{'was_impossible': False}</td>\n",
       "      <td>137</td>\n",
       "      <td>3</td>\n",
       "      <td>5.962010</td>\n",
       "    </tr>\n",
       "    <tr>\n",
       "      <th>772</th>\n",
       "      <td>희성전자(주)</td>\n",
       "      <td>한국쓰리엠(주)</td>\n",
       "      <td>10.0</td>\n",
       "      <td>4.011402</td>\n",
       "      <td>{'was_impossible': False}</td>\n",
       "      <td>3</td>\n",
       "      <td>8</td>\n",
       "      <td>5.988598</td>\n",
       "    </tr>\n",
       "    <tr>\n",
       "      <th>700</th>\n",
       "      <td>코리아실크로드</td>\n",
       "      <td>(주)현대화섬</td>\n",
       "      <td>9.0</td>\n",
       "      <td>2.994061</td>\n",
       "      <td>{'was_impossible': False}</td>\n",
       "      <td>5</td>\n",
       "      <td>21</td>\n",
       "      <td>6.005939</td>\n",
       "    </tr>\n",
       "    <tr>\n",
       "      <th>1996</th>\n",
       "      <td>(주)위너텍코리아</td>\n",
       "      <td>드림테크</td>\n",
       "      <td>10.0</td>\n",
       "      <td>3.916859</td>\n",
       "      <td>{'was_impossible': False}</td>\n",
       "      <td>0</td>\n",
       "      <td>2</td>\n",
       "      <td>6.083141</td>\n",
       "    </tr>\n",
       "    <tr>\n",
       "      <th>70</th>\n",
       "      <td>동양이엔피 주식회사</td>\n",
       "      <td>(주)한성피앤아이</td>\n",
       "      <td>1.0</td>\n",
       "      <td>7.225014</td>\n",
       "      <td>{'was_impossible': False}</td>\n",
       "      <td>28</td>\n",
       "      <td>4</td>\n",
       "      <td>6.225014</td>\n",
       "    </tr>\n",
       "    <tr>\n",
       "      <th>2512</th>\n",
       "      <td>(주)두산양행</td>\n",
       "      <td>삼강통산(주)</td>\n",
       "      <td>9.0</td>\n",
       "      <td>2.692350</td>\n",
       "      <td>{'was_impossible': False}</td>\n",
       "      <td>16</td>\n",
       "      <td>13</td>\n",
       "      <td>6.307650</td>\n",
       "    </tr>\n",
       "  </tbody>\n",
       "</table>\n",
       "</div>"
      ],
      "text/plain": [
       "              uid           iid   rui       est                    details  \\\n",
       "703   주식회사한나코퍼레이션     상신브레이크(주)  10.0  4.293440  {'was_impossible': False}   \n",
       "2631     현대중공업(주)      (주)아이피케이   2.0  7.764435  {'was_impossible': False}   \n",
       "3218        (주)태웅         (주)태상  10.0  4.232944  {'was_impossible': False}   \n",
       "1404   삼성디스플레이(주)  주식회사 이녹스첨단소재   1.0  6.783114  {'was_impossible': False}   \n",
       "3013    현대글로비스(주)       선진섬유공업사   2.0  7.962010  {'was_impossible': False}   \n",
       "772       희성전자(주)      한국쓰리엠(주)  10.0  4.011402  {'was_impossible': False}   \n",
       "700       코리아실크로드       (주)현대화섬   9.0  2.994061  {'was_impossible': False}   \n",
       "1996    (주)위너텍코리아          드림테크  10.0  3.916859  {'was_impossible': False}   \n",
       "70     동양이엔피 주식회사     (주)한성피앤아이   1.0  7.225014  {'was_impossible': False}   \n",
       "2512      (주)두산양행       삼강통산(주)   9.0  2.692350  {'was_impossible': False}   \n",
       "\n",
       "       Iu  Ui       err  \n",
       "703     2   5  5.706560  \n",
       "2631   24   6  5.764435  \n",
       "3218    0   7  5.767056  \n",
       "1404   14   5  5.783114  \n",
       "3013  137   3  5.962010  \n",
       "772     3   8  5.988598  \n",
       "700     5  21  6.005939  \n",
       "1996    0   2  6.083141  \n",
       "70     28   4  6.225014  \n",
       "2512   16  13  6.307650  "
      ]
     },
     "execution_count": 17,
     "metadata": {},
     "output_type": "execute_result"
    }
   ],
   "source": [
    "rcm_df.sort_values(by='err').tail(10)"
   ]
  },
  {
   "cell_type": "code",
   "execution_count": 19,
   "metadata": {},
   "outputs": [
    {
     "data": {
      "application/javascript": [
       "/* Put everything inside the global mpl namespace */\n",
       "window.mpl = {};\n",
       "\n",
       "\n",
       "mpl.get_websocket_type = function() {\n",
       "    if (typeof(WebSocket) !== 'undefined') {\n",
       "        return WebSocket;\n",
       "    } else if (typeof(MozWebSocket) !== 'undefined') {\n",
       "        return MozWebSocket;\n",
       "    } else {\n",
       "        alert('Your browser does not have WebSocket support.' +\n",
       "              'Please try Chrome, Safari or Firefox ≥ 6. ' +\n",
       "              'Firefox 4 and 5 are also supported but you ' +\n",
       "              'have to enable WebSockets in about:config.');\n",
       "    };\n",
       "}\n",
       "\n",
       "mpl.figure = function(figure_id, websocket, ondownload, parent_element) {\n",
       "    this.id = figure_id;\n",
       "\n",
       "    this.ws = websocket;\n",
       "\n",
       "    this.supports_binary = (this.ws.binaryType != undefined);\n",
       "\n",
       "    if (!this.supports_binary) {\n",
       "        var warnings = document.getElementById(\"mpl-warnings\");\n",
       "        if (warnings) {\n",
       "            warnings.style.display = 'block';\n",
       "            warnings.textContent = (\n",
       "                \"This browser does not support binary websocket messages. \" +\n",
       "                    \"Performance may be slow.\");\n",
       "        }\n",
       "    }\n",
       "\n",
       "    this.imageObj = new Image();\n",
       "\n",
       "    this.context = undefined;\n",
       "    this.message = undefined;\n",
       "    this.canvas = undefined;\n",
       "    this.rubberband_canvas = undefined;\n",
       "    this.rubberband_context = undefined;\n",
       "    this.format_dropdown = undefined;\n",
       "\n",
       "    this.image_mode = 'full';\n",
       "\n",
       "    this.root = $('<div/>');\n",
       "    this._root_extra_style(this.root)\n",
       "    this.root.attr('style', 'display: inline-block');\n",
       "\n",
       "    $(parent_element).append(this.root);\n",
       "\n",
       "    this._init_header(this);\n",
       "    this._init_canvas(this);\n",
       "    this._init_toolbar(this);\n",
       "\n",
       "    var fig = this;\n",
       "\n",
       "    this.waiting = false;\n",
       "\n",
       "    this.ws.onopen =  function () {\n",
       "            fig.send_message(\"supports_binary\", {value: fig.supports_binary});\n",
       "            fig.send_message(\"send_image_mode\", {});\n",
       "            if (mpl.ratio != 1) {\n",
       "                fig.send_message(\"set_dpi_ratio\", {'dpi_ratio': mpl.ratio});\n",
       "            }\n",
       "            fig.send_message(\"refresh\", {});\n",
       "        }\n",
       "\n",
       "    this.imageObj.onload = function() {\n",
       "            if (fig.image_mode == 'full') {\n",
       "                // Full images could contain transparency (where diff images\n",
       "                // almost always do), so we need to clear the canvas so that\n",
       "                // there is no ghosting.\n",
       "                fig.context.clearRect(0, 0, fig.canvas.width, fig.canvas.height);\n",
       "            }\n",
       "            fig.context.drawImage(fig.imageObj, 0, 0);\n",
       "        };\n",
       "\n",
       "    this.imageObj.onunload = function() {\n",
       "        fig.ws.close();\n",
       "    }\n",
       "\n",
       "    this.ws.onmessage = this._make_on_message_function(this);\n",
       "\n",
       "    this.ondownload = ondownload;\n",
       "}\n",
       "\n",
       "mpl.figure.prototype._init_header = function() {\n",
       "    var titlebar = $(\n",
       "        '<div class=\"ui-dialog-titlebar ui-widget-header ui-corner-all ' +\n",
       "        'ui-helper-clearfix\"/>');\n",
       "    var titletext = $(\n",
       "        '<div class=\"ui-dialog-title\" style=\"width: 100%; ' +\n",
       "        'text-align: center; padding: 3px;\"/>');\n",
       "    titlebar.append(titletext)\n",
       "    this.root.append(titlebar);\n",
       "    this.header = titletext[0];\n",
       "}\n",
       "\n",
       "\n",
       "\n",
       "mpl.figure.prototype._canvas_extra_style = function(canvas_div) {\n",
       "\n",
       "}\n",
       "\n",
       "\n",
       "mpl.figure.prototype._root_extra_style = function(canvas_div) {\n",
       "\n",
       "}\n",
       "\n",
       "mpl.figure.prototype._init_canvas = function() {\n",
       "    var fig = this;\n",
       "\n",
       "    var canvas_div = $('<div/>');\n",
       "\n",
       "    canvas_div.attr('style', 'position: relative; clear: both; outline: 0');\n",
       "\n",
       "    function canvas_keyboard_event(event) {\n",
       "        return fig.key_event(event, event['data']);\n",
       "    }\n",
       "\n",
       "    canvas_div.keydown('key_press', canvas_keyboard_event);\n",
       "    canvas_div.keyup('key_release', canvas_keyboard_event);\n",
       "    this.canvas_div = canvas_div\n",
       "    this._canvas_extra_style(canvas_div)\n",
       "    this.root.append(canvas_div);\n",
       "\n",
       "    var canvas = $('<canvas/>');\n",
       "    canvas.addClass('mpl-canvas');\n",
       "    canvas.attr('style', \"left: 0; top: 0; z-index: 0; outline: 0\")\n",
       "\n",
       "    this.canvas = canvas[0];\n",
       "    this.context = canvas[0].getContext(\"2d\");\n",
       "\n",
       "    var backingStore = this.context.backingStorePixelRatio ||\n",
       "\tthis.context.webkitBackingStorePixelRatio ||\n",
       "\tthis.context.mozBackingStorePixelRatio ||\n",
       "\tthis.context.msBackingStorePixelRatio ||\n",
       "\tthis.context.oBackingStorePixelRatio ||\n",
       "\tthis.context.backingStorePixelRatio || 1;\n",
       "\n",
       "    mpl.ratio = (window.devicePixelRatio || 1) / backingStore;\n",
       "\n",
       "    var rubberband = $('<canvas/>');\n",
       "    rubberband.attr('style', \"position: absolute; left: 0; top: 0; z-index: 1;\")\n",
       "\n",
       "    var pass_mouse_events = true;\n",
       "\n",
       "    canvas_div.resizable({\n",
       "        start: function(event, ui) {\n",
       "            pass_mouse_events = false;\n",
       "        },\n",
       "        resize: function(event, ui) {\n",
       "            fig.request_resize(ui.size.width, ui.size.height);\n",
       "        },\n",
       "        stop: function(event, ui) {\n",
       "            pass_mouse_events = true;\n",
       "            fig.request_resize(ui.size.width, ui.size.height);\n",
       "        },\n",
       "    });\n",
       "\n",
       "    function mouse_event_fn(event) {\n",
       "        if (pass_mouse_events)\n",
       "            return fig.mouse_event(event, event['data']);\n",
       "    }\n",
       "\n",
       "    rubberband.mousedown('button_press', mouse_event_fn);\n",
       "    rubberband.mouseup('button_release', mouse_event_fn);\n",
       "    // Throttle sequential mouse events to 1 every 20ms.\n",
       "    rubberband.mousemove('motion_notify', mouse_event_fn);\n",
       "\n",
       "    rubberband.mouseenter('figure_enter', mouse_event_fn);\n",
       "    rubberband.mouseleave('figure_leave', mouse_event_fn);\n",
       "\n",
       "    canvas_div.on(\"wheel\", function (event) {\n",
       "        event = event.originalEvent;\n",
       "        event['data'] = 'scroll'\n",
       "        if (event.deltaY < 0) {\n",
       "            event.step = 1;\n",
       "        } else {\n",
       "            event.step = -1;\n",
       "        }\n",
       "        mouse_event_fn(event);\n",
       "    });\n",
       "\n",
       "    canvas_div.append(canvas);\n",
       "    canvas_div.append(rubberband);\n",
       "\n",
       "    this.rubberband = rubberband;\n",
       "    this.rubberband_canvas = rubberband[0];\n",
       "    this.rubberband_context = rubberband[0].getContext(\"2d\");\n",
       "    this.rubberband_context.strokeStyle = \"#000000\";\n",
       "\n",
       "    this._resize_canvas = function(width, height) {\n",
       "        // Keep the size of the canvas, canvas container, and rubber band\n",
       "        // canvas in synch.\n",
       "        canvas_div.css('width', width)\n",
       "        canvas_div.css('height', height)\n",
       "\n",
       "        canvas.attr('width', width * mpl.ratio);\n",
       "        canvas.attr('height', height * mpl.ratio);\n",
       "        canvas.attr('style', 'width: ' + width + 'px; height: ' + height + 'px;');\n",
       "\n",
       "        rubberband.attr('width', width);\n",
       "        rubberband.attr('height', height);\n",
       "    }\n",
       "\n",
       "    // Set the figure to an initial 600x600px, this will subsequently be updated\n",
       "    // upon first draw.\n",
       "    this._resize_canvas(600, 600);\n",
       "\n",
       "    // Disable right mouse context menu.\n",
       "    $(this.rubberband_canvas).bind(\"contextmenu\",function(e){\n",
       "        return false;\n",
       "    });\n",
       "\n",
       "    function set_focus () {\n",
       "        canvas.focus();\n",
       "        canvas_div.focus();\n",
       "    }\n",
       "\n",
       "    window.setTimeout(set_focus, 100);\n",
       "}\n",
       "\n",
       "mpl.figure.prototype._init_toolbar = function() {\n",
       "    var fig = this;\n",
       "\n",
       "    var nav_element = $('<div/>')\n",
       "    nav_element.attr('style', 'width: 100%');\n",
       "    this.root.append(nav_element);\n",
       "\n",
       "    // Define a callback function for later on.\n",
       "    function toolbar_event(event) {\n",
       "        return fig.toolbar_button_onclick(event['data']);\n",
       "    }\n",
       "    function toolbar_mouse_event(event) {\n",
       "        return fig.toolbar_button_onmouseover(event['data']);\n",
       "    }\n",
       "\n",
       "    for(var toolbar_ind in mpl.toolbar_items) {\n",
       "        var name = mpl.toolbar_items[toolbar_ind][0];\n",
       "        var tooltip = mpl.toolbar_items[toolbar_ind][1];\n",
       "        var image = mpl.toolbar_items[toolbar_ind][2];\n",
       "        var method_name = mpl.toolbar_items[toolbar_ind][3];\n",
       "\n",
       "        if (!name) {\n",
       "            // put a spacer in here.\n",
       "            continue;\n",
       "        }\n",
       "        var button = $('<button/>');\n",
       "        button.addClass('ui-button ui-widget ui-state-default ui-corner-all ' +\n",
       "                        'ui-button-icon-only');\n",
       "        button.attr('role', 'button');\n",
       "        button.attr('aria-disabled', 'false');\n",
       "        button.click(method_name, toolbar_event);\n",
       "        button.mouseover(tooltip, toolbar_mouse_event);\n",
       "\n",
       "        var icon_img = $('<span/>');\n",
       "        icon_img.addClass('ui-button-icon-primary ui-icon');\n",
       "        icon_img.addClass(image);\n",
       "        icon_img.addClass('ui-corner-all');\n",
       "\n",
       "        var tooltip_span = $('<span/>');\n",
       "        tooltip_span.addClass('ui-button-text');\n",
       "        tooltip_span.html(tooltip);\n",
       "\n",
       "        button.append(icon_img);\n",
       "        button.append(tooltip_span);\n",
       "\n",
       "        nav_element.append(button);\n",
       "    }\n",
       "\n",
       "    var fmt_picker_span = $('<span/>');\n",
       "\n",
       "    var fmt_picker = $('<select/>');\n",
       "    fmt_picker.addClass('mpl-toolbar-option ui-widget ui-widget-content');\n",
       "    fmt_picker_span.append(fmt_picker);\n",
       "    nav_element.append(fmt_picker_span);\n",
       "    this.format_dropdown = fmt_picker[0];\n",
       "\n",
       "    for (var ind in mpl.extensions) {\n",
       "        var fmt = mpl.extensions[ind];\n",
       "        var option = $(\n",
       "            '<option/>', {selected: fmt === mpl.default_extension}).html(fmt);\n",
       "        fmt_picker.append(option)\n",
       "    }\n",
       "\n",
       "    // Add hover states to the ui-buttons\n",
       "    $( \".ui-button\" ).hover(\n",
       "        function() { $(this).addClass(\"ui-state-hover\");},\n",
       "        function() { $(this).removeClass(\"ui-state-hover\");}\n",
       "    );\n",
       "\n",
       "    var status_bar = $('<span class=\"mpl-message\"/>');\n",
       "    nav_element.append(status_bar);\n",
       "    this.message = status_bar[0];\n",
       "}\n",
       "\n",
       "mpl.figure.prototype.request_resize = function(x_pixels, y_pixels) {\n",
       "    // Request matplotlib to resize the figure. Matplotlib will then trigger a resize in the client,\n",
       "    // which will in turn request a refresh of the image.\n",
       "    this.send_message('resize', {'width': x_pixels, 'height': y_pixels});\n",
       "}\n",
       "\n",
       "mpl.figure.prototype.send_message = function(type, properties) {\n",
       "    properties['type'] = type;\n",
       "    properties['figure_id'] = this.id;\n",
       "    this.ws.send(JSON.stringify(properties));\n",
       "}\n",
       "\n",
       "mpl.figure.prototype.send_draw_message = function() {\n",
       "    if (!this.waiting) {\n",
       "        this.waiting = true;\n",
       "        this.ws.send(JSON.stringify({type: \"draw\", figure_id: this.id}));\n",
       "    }\n",
       "}\n",
       "\n",
       "\n",
       "mpl.figure.prototype.handle_save = function(fig, msg) {\n",
       "    var format_dropdown = fig.format_dropdown;\n",
       "    var format = format_dropdown.options[format_dropdown.selectedIndex].value;\n",
       "    fig.ondownload(fig, format);\n",
       "}\n",
       "\n",
       "\n",
       "mpl.figure.prototype.handle_resize = function(fig, msg) {\n",
       "    var size = msg['size'];\n",
       "    if (size[0] != fig.canvas.width || size[1] != fig.canvas.height) {\n",
       "        fig._resize_canvas(size[0], size[1]);\n",
       "        fig.send_message(\"refresh\", {});\n",
       "    };\n",
       "}\n",
       "\n",
       "mpl.figure.prototype.handle_rubberband = function(fig, msg) {\n",
       "    var x0 = msg['x0'] / mpl.ratio;\n",
       "    var y0 = (fig.canvas.height - msg['y0']) / mpl.ratio;\n",
       "    var x1 = msg['x1'] / mpl.ratio;\n",
       "    var y1 = (fig.canvas.height - msg['y1']) / mpl.ratio;\n",
       "    x0 = Math.floor(x0) + 0.5;\n",
       "    y0 = Math.floor(y0) + 0.5;\n",
       "    x1 = Math.floor(x1) + 0.5;\n",
       "    y1 = Math.floor(y1) + 0.5;\n",
       "    var min_x = Math.min(x0, x1);\n",
       "    var min_y = Math.min(y0, y1);\n",
       "    var width = Math.abs(x1 - x0);\n",
       "    var height = Math.abs(y1 - y0);\n",
       "\n",
       "    fig.rubberband_context.clearRect(\n",
       "        0, 0, fig.canvas.width, fig.canvas.height);\n",
       "\n",
       "    fig.rubberband_context.strokeRect(min_x, min_y, width, height);\n",
       "}\n",
       "\n",
       "mpl.figure.prototype.handle_figure_label = function(fig, msg) {\n",
       "    // Updates the figure title.\n",
       "    fig.header.textContent = msg['label'];\n",
       "}\n",
       "\n",
       "mpl.figure.prototype.handle_cursor = function(fig, msg) {\n",
       "    var cursor = msg['cursor'];\n",
       "    switch(cursor)\n",
       "    {\n",
       "    case 0:\n",
       "        cursor = 'pointer';\n",
       "        break;\n",
       "    case 1:\n",
       "        cursor = 'default';\n",
       "        break;\n",
       "    case 2:\n",
       "        cursor = 'crosshair';\n",
       "        break;\n",
       "    case 3:\n",
       "        cursor = 'move';\n",
       "        break;\n",
       "    }\n",
       "    fig.rubberband_canvas.style.cursor = cursor;\n",
       "}\n",
       "\n",
       "mpl.figure.prototype.handle_message = function(fig, msg) {\n",
       "    fig.message.textContent = msg['message'];\n",
       "}\n",
       "\n",
       "mpl.figure.prototype.handle_draw = function(fig, msg) {\n",
       "    // Request the server to send over a new figure.\n",
       "    fig.send_draw_message();\n",
       "}\n",
       "\n",
       "mpl.figure.prototype.handle_image_mode = function(fig, msg) {\n",
       "    fig.image_mode = msg['mode'];\n",
       "}\n",
       "\n",
       "mpl.figure.prototype.updated_canvas_event = function() {\n",
       "    // Called whenever the canvas gets updated.\n",
       "    this.send_message(\"ack\", {});\n",
       "}\n",
       "\n",
       "// A function to construct a web socket function for onmessage handling.\n",
       "// Called in the figure constructor.\n",
       "mpl.figure.prototype._make_on_message_function = function(fig) {\n",
       "    return function socket_on_message(evt) {\n",
       "        if (evt.data instanceof Blob) {\n",
       "            /* FIXME: We get \"Resource interpreted as Image but\n",
       "             * transferred with MIME type text/plain:\" errors on\n",
       "             * Chrome.  But how to set the MIME type?  It doesn't seem\n",
       "             * to be part of the websocket stream */\n",
       "            evt.data.type = \"image/png\";\n",
       "\n",
       "            /* Free the memory for the previous frames */\n",
       "            if (fig.imageObj.src) {\n",
       "                (window.URL || window.webkitURL).revokeObjectURL(\n",
       "                    fig.imageObj.src);\n",
       "            }\n",
       "\n",
       "            fig.imageObj.src = (window.URL || window.webkitURL).createObjectURL(\n",
       "                evt.data);\n",
       "            fig.updated_canvas_event();\n",
       "            fig.waiting = false;\n",
       "            return;\n",
       "        }\n",
       "        else if (typeof evt.data === 'string' && evt.data.slice(0, 21) == \"data:image/png;base64\") {\n",
       "            fig.imageObj.src = evt.data;\n",
       "            fig.updated_canvas_event();\n",
       "            fig.waiting = false;\n",
       "            return;\n",
       "        }\n",
       "\n",
       "        var msg = JSON.parse(evt.data);\n",
       "        var msg_type = msg['type'];\n",
       "\n",
       "        // Call the  \"handle_{type}\" callback, which takes\n",
       "        // the figure and JSON message as its only arguments.\n",
       "        try {\n",
       "            var callback = fig[\"handle_\" + msg_type];\n",
       "        } catch (e) {\n",
       "            console.log(\"No handler for the '\" + msg_type + \"' message type: \", msg);\n",
       "            return;\n",
       "        }\n",
       "\n",
       "        if (callback) {\n",
       "            try {\n",
       "                // console.log(\"Handling '\" + msg_type + \"' message: \", msg);\n",
       "                callback(fig, msg);\n",
       "            } catch (e) {\n",
       "                console.log(\"Exception inside the 'handler_\" + msg_type + \"' callback:\", e, e.stack, msg);\n",
       "            }\n",
       "        }\n",
       "    };\n",
       "}\n",
       "\n",
       "// from http://stackoverflow.com/questions/1114465/getting-mouse-location-in-canvas\n",
       "mpl.findpos = function(e) {\n",
       "    //this section is from http://www.quirksmode.org/js/events_properties.html\n",
       "    var targ;\n",
       "    if (!e)\n",
       "        e = window.event;\n",
       "    if (e.target)\n",
       "        targ = e.target;\n",
       "    else if (e.srcElement)\n",
       "        targ = e.srcElement;\n",
       "    if (targ.nodeType == 3) // defeat Safari bug\n",
       "        targ = targ.parentNode;\n",
       "\n",
       "    // jQuery normalizes the pageX and pageY\n",
       "    // pageX,Y are the mouse positions relative to the document\n",
       "    // offset() returns the position of the element relative to the document\n",
       "    var x = e.pageX - $(targ).offset().left;\n",
       "    var y = e.pageY - $(targ).offset().top;\n",
       "\n",
       "    return {\"x\": x, \"y\": y};\n",
       "};\n",
       "\n",
       "/*\n",
       " * return a copy of an object with only non-object keys\n",
       " * we need this to avoid circular references\n",
       " * http://stackoverflow.com/a/24161582/3208463\n",
       " */\n",
       "function simpleKeys (original) {\n",
       "  return Object.keys(original).reduce(function (obj, key) {\n",
       "    if (typeof original[key] !== 'object')\n",
       "        obj[key] = original[key]\n",
       "    return obj;\n",
       "  }, {});\n",
       "}\n",
       "\n",
       "mpl.figure.prototype.mouse_event = function(event, name) {\n",
       "    var canvas_pos = mpl.findpos(event)\n",
       "\n",
       "    if (name === 'button_press')\n",
       "    {\n",
       "        this.canvas.focus();\n",
       "        this.canvas_div.focus();\n",
       "    }\n",
       "\n",
       "    var x = canvas_pos.x * mpl.ratio;\n",
       "    var y = canvas_pos.y * mpl.ratio;\n",
       "\n",
       "    this.send_message(name, {x: x, y: y, button: event.button,\n",
       "                             step: event.step,\n",
       "                             guiEvent: simpleKeys(event)});\n",
       "\n",
       "    /* This prevents the web browser from automatically changing to\n",
       "     * the text insertion cursor when the button is pressed.  We want\n",
       "     * to control all of the cursor setting manually through the\n",
       "     * 'cursor' event from matplotlib */\n",
       "    event.preventDefault();\n",
       "    return false;\n",
       "}\n",
       "\n",
       "mpl.figure.prototype._key_event_extra = function(event, name) {\n",
       "    // Handle any extra behaviour associated with a key event\n",
       "}\n",
       "\n",
       "mpl.figure.prototype.key_event = function(event, name) {\n",
       "\n",
       "    // Prevent repeat events\n",
       "    if (name == 'key_press')\n",
       "    {\n",
       "        if (event.which === this._key)\n",
       "            return;\n",
       "        else\n",
       "            this._key = event.which;\n",
       "    }\n",
       "    if (name == 'key_release')\n",
       "        this._key = null;\n",
       "\n",
       "    var value = '';\n",
       "    if (event.ctrlKey && event.which != 17)\n",
       "        value += \"ctrl+\";\n",
       "    if (event.altKey && event.which != 18)\n",
       "        value += \"alt+\";\n",
       "    if (event.shiftKey && event.which != 16)\n",
       "        value += \"shift+\";\n",
       "\n",
       "    value += 'k';\n",
       "    value += event.which.toString();\n",
       "\n",
       "    this._key_event_extra(event, name);\n",
       "\n",
       "    this.send_message(name, {key: value,\n",
       "                             guiEvent: simpleKeys(event)});\n",
       "    return false;\n",
       "}\n",
       "\n",
       "mpl.figure.prototype.toolbar_button_onclick = function(name) {\n",
       "    if (name == 'download') {\n",
       "        this.handle_save(this, null);\n",
       "    } else {\n",
       "        this.send_message(\"toolbar_button\", {name: name});\n",
       "    }\n",
       "};\n",
       "\n",
       "mpl.figure.prototype.toolbar_button_onmouseover = function(tooltip) {\n",
       "    this.message.textContent = tooltip;\n",
       "};\n",
       "mpl.toolbar_items = [[\"Home\", \"Reset original view\", \"fa fa-home icon-home\", \"home\"], [\"Back\", \"Back to previous view\", \"fa fa-arrow-left icon-arrow-left\", \"back\"], [\"Forward\", \"Forward to next view\", \"fa fa-arrow-right icon-arrow-right\", \"forward\"], [\"\", \"\", \"\", \"\"], [\"Pan\", \"Pan axes with left mouse, zoom with right\", \"fa fa-arrows icon-move\", \"pan\"], [\"Zoom\", \"Zoom to rectangle\", \"fa fa-square-o icon-check-empty\", \"zoom\"], [\"\", \"\", \"\", \"\"], [\"Download\", \"Download plot\", \"fa fa-floppy-o icon-save\", \"download\"]];\n",
       "\n",
       "mpl.extensions = [\"eps\", \"pdf\", \"png\", \"ps\", \"raw\", \"svg\"];\n",
       "\n",
       "mpl.default_extension = \"png\";var comm_websocket_adapter = function(comm) {\n",
       "    // Create a \"websocket\"-like object which calls the given IPython comm\n",
       "    // object with the appropriate methods. Currently this is a non binary\n",
       "    // socket, so there is still some room for performance tuning.\n",
       "    var ws = {};\n",
       "\n",
       "    ws.close = function() {\n",
       "        comm.close()\n",
       "    };\n",
       "    ws.send = function(m) {\n",
       "        //console.log('sending', m);\n",
       "        comm.send(m);\n",
       "    };\n",
       "    // Register the callback with on_msg.\n",
       "    comm.on_msg(function(msg) {\n",
       "        //console.log('receiving', msg['content']['data'], msg);\n",
       "        // Pass the mpl event to the overridden (by mpl) onmessage function.\n",
       "        ws.onmessage(msg['content']['data'])\n",
       "    });\n",
       "    return ws;\n",
       "}\n",
       "\n",
       "mpl.mpl_figure_comm = function(comm, msg) {\n",
       "    // This is the function which gets called when the mpl process\n",
       "    // starts-up an IPython Comm through the \"matplotlib\" channel.\n",
       "\n",
       "    var id = msg.content.data.id;\n",
       "    // Get hold of the div created by the display call when the Comm\n",
       "    // socket was opened in Python.\n",
       "    var element = $(\"#\" + id);\n",
       "    var ws_proxy = comm_websocket_adapter(comm)\n",
       "\n",
       "    function ondownload(figure, format) {\n",
       "        window.open(figure.imageObj.src);\n",
       "    }\n",
       "\n",
       "    var fig = new mpl.figure(id, ws_proxy,\n",
       "                           ondownload,\n",
       "                           element.get(0));\n",
       "\n",
       "    // Call onopen now - mpl needs it, as it is assuming we've passed it a real\n",
       "    // web socket which is closed, not our websocket->open comm proxy.\n",
       "    ws_proxy.onopen();\n",
       "\n",
       "    fig.parent_element = element.get(0);\n",
       "    fig.cell_info = mpl.find_output_cell(\"<div id='\" + id + \"'></div>\");\n",
       "    if (!fig.cell_info) {\n",
       "        console.error(\"Failed to find cell for figure\", id, fig);\n",
       "        return;\n",
       "    }\n",
       "\n",
       "    var output_index = fig.cell_info[2]\n",
       "    var cell = fig.cell_info[0];\n",
       "\n",
       "};\n",
       "\n",
       "mpl.figure.prototype.handle_close = function(fig, msg) {\n",
       "    var width = fig.canvas.width/mpl.ratio\n",
       "    fig.root.unbind('remove')\n",
       "\n",
       "    // Update the output cell to use the data from the current canvas.\n",
       "    fig.push_to_output();\n",
       "    var dataURL = fig.canvas.toDataURL();\n",
       "    // Re-enable the keyboard manager in IPython - without this line, in FF,\n",
       "    // the notebook keyboard shortcuts fail.\n",
       "    IPython.keyboard_manager.enable()\n",
       "    $(fig.parent_element).html('<img src=\"' + dataURL + '\" width=\"' + width + '\">');\n",
       "    fig.close_ws(fig, msg);\n",
       "}\n",
       "\n",
       "mpl.figure.prototype.close_ws = function(fig, msg){\n",
       "    fig.send_message('closing', msg);\n",
       "    // fig.ws.close()\n",
       "}\n",
       "\n",
       "mpl.figure.prototype.push_to_output = function(remove_interactive) {\n",
       "    // Turn the data on the canvas into data in the output cell.\n",
       "    var width = this.canvas.width/mpl.ratio\n",
       "    var dataURL = this.canvas.toDataURL();\n",
       "    this.cell_info[1]['text/html'] = '<img src=\"' + dataURL + '\" width=\"' + width + '\">';\n",
       "}\n",
       "\n",
       "mpl.figure.prototype.updated_canvas_event = function() {\n",
       "    // Tell IPython that the notebook contents must change.\n",
       "    IPython.notebook.set_dirty(true);\n",
       "    this.send_message(\"ack\", {});\n",
       "    var fig = this;\n",
       "    // Wait a second, then push the new image to the DOM so\n",
       "    // that it is saved nicely (might be nice to debounce this).\n",
       "    setTimeout(function () { fig.push_to_output() }, 1000);\n",
       "}\n",
       "\n",
       "mpl.figure.prototype._init_toolbar = function() {\n",
       "    var fig = this;\n",
       "\n",
       "    var nav_element = $('<div/>')\n",
       "    nav_element.attr('style', 'width: 100%');\n",
       "    this.root.append(nav_element);\n",
       "\n",
       "    // Define a callback function for later on.\n",
       "    function toolbar_event(event) {\n",
       "        return fig.toolbar_button_onclick(event['data']);\n",
       "    }\n",
       "    function toolbar_mouse_event(event) {\n",
       "        return fig.toolbar_button_onmouseover(event['data']);\n",
       "    }\n",
       "\n",
       "    for(var toolbar_ind in mpl.toolbar_items){\n",
       "        var name = mpl.toolbar_items[toolbar_ind][0];\n",
       "        var tooltip = mpl.toolbar_items[toolbar_ind][1];\n",
       "        var image = mpl.toolbar_items[toolbar_ind][2];\n",
       "        var method_name = mpl.toolbar_items[toolbar_ind][3];\n",
       "\n",
       "        if (!name) { continue; };\n",
       "\n",
       "        var button = $('<button class=\"btn btn-default\" href=\"#\" title=\"' + name + '\"><i class=\"fa ' + image + ' fa-lg\"></i></button>');\n",
       "        button.click(method_name, toolbar_event);\n",
       "        button.mouseover(tooltip, toolbar_mouse_event);\n",
       "        nav_element.append(button);\n",
       "    }\n",
       "\n",
       "    // Add the status bar.\n",
       "    var status_bar = $('<span class=\"mpl-message\" style=\"text-align:right; float: right;\"/>');\n",
       "    nav_element.append(status_bar);\n",
       "    this.message = status_bar[0];\n",
       "\n",
       "    // Add the close button to the window.\n",
       "    var buttongrp = $('<div class=\"btn-group inline pull-right\"></div>');\n",
       "    var button = $('<button class=\"btn btn-mini btn-primary\" href=\"#\" title=\"Stop Interaction\"><i class=\"fa fa-power-off icon-remove icon-large\"></i></button>');\n",
       "    button.click(function (evt) { fig.handle_close(fig, {}); } );\n",
       "    button.mouseover('Stop Interaction', toolbar_mouse_event);\n",
       "    buttongrp.append(button);\n",
       "    var titlebar = this.root.find($('.ui-dialog-titlebar'));\n",
       "    titlebar.prepend(buttongrp);\n",
       "}\n",
       "\n",
       "mpl.figure.prototype._root_extra_style = function(el){\n",
       "    var fig = this\n",
       "    el.on(\"remove\", function(){\n",
       "\tfig.close_ws(fig, {});\n",
       "    });\n",
       "}\n",
       "\n",
       "mpl.figure.prototype._canvas_extra_style = function(el){\n",
       "    // this is important to make the div 'focusable\n",
       "    el.attr('tabindex', 0)\n",
       "    // reach out to IPython and tell the keyboard manager to turn it's self\n",
       "    // off when our div gets focus\n",
       "\n",
       "    // location in version 3\n",
       "    if (IPython.notebook.keyboard_manager) {\n",
       "        IPython.notebook.keyboard_manager.register_events(el);\n",
       "    }\n",
       "    else {\n",
       "        // location in version 2\n",
       "        IPython.keyboard_manager.register_events(el);\n",
       "    }\n",
       "\n",
       "}\n",
       "\n",
       "mpl.figure.prototype._key_event_extra = function(event, name) {\n",
       "    var manager = IPython.notebook.keyboard_manager;\n",
       "    if (!manager)\n",
       "        manager = IPython.keyboard_manager;\n",
       "\n",
       "    // Check for shift+enter\n",
       "    if (event.shiftKey && event.which == 13) {\n",
       "        this.canvas_div.blur();\n",
       "        event.shiftKey = false;\n",
       "        // Send a \"J\" for go to next cell\n",
       "        event.which = 74;\n",
       "        event.keyCode = 74;\n",
       "        manager.command_mode();\n",
       "        manager.handle_keydown(event);\n",
       "    }\n",
       "}\n",
       "\n",
       "mpl.figure.prototype.handle_save = function(fig, msg) {\n",
       "    fig.ondownload(fig, null);\n",
       "}\n",
       "\n",
       "\n",
       "mpl.find_output_cell = function(html_output) {\n",
       "    // Return the cell and output element which can be found *uniquely* in the notebook.\n",
       "    // Note - this is a bit hacky, but it is done because the \"notebook_saving.Notebook\"\n",
       "    // IPython event is triggered only after the cells have been serialised, which for\n",
       "    // our purposes (turning an active figure into a static one), is too late.\n",
       "    var cells = IPython.notebook.get_cells();\n",
       "    var ncells = cells.length;\n",
       "    for (var i=0; i<ncells; i++) {\n",
       "        var cell = cells[i];\n",
       "        if (cell.cell_type === 'code'){\n",
       "            for (var j=0; j<cell.output_area.outputs.length; j++) {\n",
       "                var data = cell.output_area.outputs[j];\n",
       "                if (data.data) {\n",
       "                    // IPython >= 3 moved mimebundle to data attribute of output\n",
       "                    data = data.data;\n",
       "                }\n",
       "                if (data['text/html'] == html_output) {\n",
       "                    return [cell, data, j];\n",
       "                }\n",
       "            }\n",
       "        }\n",
       "    }\n",
       "}\n",
       "\n",
       "// Register the function which deals with the matplotlib target/channel.\n",
       "// The kernel may be null if the page has been refreshed.\n",
       "if (IPython.notebook.kernel != null) {\n",
       "    IPython.notebook.kernel.comm_manager.register_target('matplotlib', mpl.mpl_figure_comm);\n",
       "}\n"
      ],
      "text/plain": [
       "<IPython.core.display.Javascript object>"
      ]
     },
     "metadata": {},
     "output_type": "display_data"
    },
    {
     "data": {
      "text/html": [
       "<img src=\"data:image/png;base64,iVBORw0KGgoAAAANSUhEUgAAAoAAAAHgCAYAAAA10dzkAAAgAElEQVR4Xu2dB7gdRf3+B4iRhKZAAomUUEU6irSIEJo0ldBL6KELCNJ7CyWEJr33khCK9C5FBAICIr2JUuUHSJGakPyfd/7u9dybc87dmTOzdybns8/DAyQzs7vvvPOdz/nO7O5UkyZNmmQ4UAAFUAAFUAAFUAAF2kaBqQDAtulrbhQFUAAFUAAFUAAFrAIAIEZAARRAARRAARRAgTZTAABssw7ndlEABVAABVAABVAAAMQDKIACKIACKIACKNBmCgCAbdbh3C4KoAAKoAAKoAAKAIB4AAVQAAVQAAVQAAXaTAEAsM06nNtFARRAARRAARRAAQAQD6AACqAACqAACqBAmykAALZZh3O7KIACKIACKIACKAAA4gEUQAEUQAEUQAEUaDMFAMA263BuFwVQAAVQAAVQAAUAQDyAAiiAAiiAAiiAAm2mAADYZh3O7aIACqAACqAACqAAAIgHUAAFUAAFUAAFUKDNFAAA26zDuV0UQAEUQAEUQAEUAADxAAqgAAqgAAqgAAq0mQIAYJt1OLeLAiiAAiiAAiiAAgAgHkABFEABFEABFECBNlMAAGyzDud2UQAFUAAFUAAFUAAAxAMogAIogAIogAIo0GYKAIBt1uHcLgqgAAqgAAqgAAoAgHgABVAABVAABVAABdpMAQCwzTqc20UBFEABFEABFEABABAPoAAKoAAKoAAKoECbKQAAtlmHc7sogAIogAIogAIoAADiARRAARRAARRAARRoMwUAwDbrcG4XBVAABVAABVAABQBAPIACKIACKIACKIACbaYAANhmHc7togAKoAAKoAAKoAAAiAdQAAVQAAVQAAVQoM0UAADbrMO5XRRAARRAARRAARQAAPEACqAACqAACqAACrSZAgBgm3U4t4sCKIACKIACKIACACAe6DEFVl55ZfPAAw+YSZMm9dg1hD7xK6+8Yvbbbz/zyCOPmH/9619mpplmMh9//HHo02Td3hFHHGGOPPJI88c//tHIAykcKV5TCrq0eg2DBg2yTbzxxhulmppqqqnMSiutZO6///5S5XMppHv66KOPzF//+lcz9dRTm6+//tr83//9X7eX/93vftf069fPljv55JPN/vvvb/72t7+ZhRZaqFPdTz/91Oif7o4ZZ5zR6J/Uynd33fx9HAUAwDi6VtaqAqaOueaay7z00ktm2mmnnezcCsL/+Mc/zPjx402vXr0qu7buTjSlAeC3335rFl98cfPqq6+aLbfc0swxxxy2Pw444IDupGirv08RtlK8phimuOSSS8y2225rLr74YrPNNtvEOEWnNkMAYO59M3bsWLPRRhuZ6667zqy//vpWHwHukCFDutW/Foa//PJLM99885kf//jH5pZbbulUt9CouwYPP/xwo7Kple/uuvn7OAoAgHF0razVAgB1wuOOO64ubACA1XSHwG+BBRYwO+ywgznvvPOqOWmGZ0lxQv/ggw+M/tEPqb59+2aoarlLTh0AX3zxRau/+qE4UvRLObWNXd0osnW6tyJeCwAF4IoZjY6rrrrKXHTRRZ2yoSNHjrRZwIcfftissMIKnTT6+9//bi688MKG7e20005mzjnn7ADAlMqX1ZNyYRUAAMPqWXlrCijf//73bWBRBkoBZdZZZ53sVzgZwPhd8+CDD9rlq+JXdvwz5nmGnCf0PBX/31WnDoD19M3ZL3fffbdZY401zIgRI8xBBx3UcXsFADZbGr/iiivMBRdc0AkA33nnHQtxm222mdHf10Ky2lL/NjqGDx9uVyWKDGBK5XMfV7lePwCYa8/997oFfj/4wQ/MPvvsY/baay/zm9/8xpx++undAmCxBNEIVuot3dROHjrnUUcdZZ566inTp08fs+6665pTTjnFfO9737N/duihh9pfqVp2XmWVVczvf/97U7RZXFyxBPzVV1+Zo48+2lx55ZVGAU5BaquttjIHHnig6d2792Q9pF/Sxx9/vLn33nvtPjsB8KqrrmrB64c//GGn8vqVfemll5rXXnvN3Hrrreb888832qe37LLLltpn9Je//MUce+yx5qGHHjKffPKJmX322c0666xj72/AgAEd56rNxNZeQHcw6NMP33zzjTnnnHNssNeveO0n6t+/v1liiSXM7rvvblZbbbVOGoTUSxmNyy67zJx77rlWx88++8zuUVp44YXNdtttZzbZZJNuR1TthK6sm7Iazz77rF0u12R50kknWU/XHuoHnVd6vfnmm+aLL76wE+GvfvUrc8ghh1gPFIe8Ie+ceuqpZs8995zseuQxZZiWXHJJ88QTT9i/bwQZxZ40LeNpAr/55pvtXq7555/fjjktp3Y91B/Kxut63377bTNw4ECzxRZbWM/oHsvucdMEPc8885itt97anlv1tW9Smt133312/6SLLsV4q9dB8lExPidMmGAz2Lr+559/3uj/Na623357s+uuu9o9bLWHPHHmmWeas88+246zWWaZxQwdOtRCjzypw3cPYLF6Ue+aa/cOyw+nnXaaGT16tPWl+m2xxRYze+yxh4Wl2qN2zCluyT/as6v7UqySb+St119/3equOPOf//zHLLfccvbvinvq1ujGmE033dRek36Ya/m2OHwBUPW1dKzrff/99+1+vsK/KQGdxpPL9ZTRkjLhFQAAw2taaYsFACqA/+hHPzL//Oc/zXPPPWeXIouj3hKwD3gUAKjgrj0oCp7zzjuv+fOf/2wDkiYYTXyCsRVXXNEsuuiidsPyXXfdZRZZZBHzzDPPdJo8iglJk/jjjz9uNtxwQ/Od73zH/OEPf7ATidq/6aabOpZNdD933HGH3UcjsPzlL39pJ+K33nrLXH/99UYbpjVBao9McRQAqLYEcYI3BfdpppnGTlDNDt3jBhtsYJdxdG1zzz23nXD1q16T+p/+9Cc7QdcGYMGmJvji4Qb9u9mDDj79sPnmm5urr77a6qsJSwAuqNH1SJtRo0Z13FZovTQhqo9132uttZZ9yOXdd9+1/aelLoFSd0cBW9oXpf5V/0vbxx57zPaR2nn66adtfxbHzjvvbG644Qarrfpv4sSJti9UXr5X3RlmmMEWF3QVgKcyXY9iGU0/lPSDqei/eg+maHxpwtf+K/0YUV8K8K699lr7cI/GhACtOOQV+VI/NjQG9d/yqvz505/+1Nx4443OAPizn/3MAvKCCy5ol/10LTvuuKP1uYsuuladX+Pr17/+tQXg4vjtb39rf7wV4+rOO++00Kf7FbRqXGn8Dhs2zFx++eWdJBVk6weefhDVjmFBufpCuvkCoIBL16yHxaRz7Y9I+UiH+kHjQD88pYk0kj90D4ojBx98sDnmmGM6rrkYc2uvvbYFaXmqNlZJZ2kk3eVF/VjUCor6UKsrAsPpp5++O5vbuDHbbLPZWKMxUnu0AoACVsUu/RhRXKuNP2QAu+0WCtQoAABmbocCAAVBxWZjAZqCVXGEBkAFNP0qVuDUoWD7i1/8wtxzzz02E6OJVRmP4lDmQHtZFMg18RRHAYCaKDWBF1kcZQT1K/fRRx+1WQg9UKHj3//+twVOnV/Lrco6FYcmSP1CV/B+8sknO/68AMCuwNZdt+sXv6BEk4uCtYC2OE444QS713L11Ve3cFsc3cFcvXN2V6drJlZZSOmkiU6aSYva48MPP7QZmFh6qW0B58svvzzZXjllprpuP6h3zwUACtiUJVampjgKuFXWZOONN+74c03Aygx3vV/tedLSlrJ+2htVHPKj+kY/QDS51x76MaKMjKC50KpZBlB15WFlPYvzKzOmB37kN/13cQiOlL2WXzQeigy2fCR/6kEt1wyg2lZGU5noroerLt0tARc6CIwFX8X9anuJoLPrONaPv8GDB9vs1rhx48zMM89sL7F2DGsc+QKg2upuCbgY4xqXegK/OHQN6623nvWBYkIBvLUPYGgZtV6s0hj73e9+Z+GxOLRKcdhhhzXMLHftG2Xe9eNEkCZYqz1aAUDBqe5r3333tdnzQiOXjJtrhi52+Xpxgj+LrwAAGF/jqGeoBUCdSL9+lY1TZkS/YHWEBsB6WQCBmn6ha+ITnNUe+vUu2FMQ0ZJocRQAWAt5xd8VQVpllH3QoSUeZSrOOOMMs9tuu02mq5bANWkpA1rAYTE5NFoObNQ5Wo7WfWr5SJuxaw8tiQlaFXA1ARcb1ruDuXrn6q5OVwDU6xuUdVM/K+PXaOk5ll4CJi07aXKrzdC5mLyY0LtmZtSG+lrZHE2+tZnMRu0ry6LM1U9+8hObzSkO9Zkmdi3TnnjiiR1/riVfZeK6/khqBoB6KEEZnGK5rWhMICevaxm8yAhp+V0/juT5n//8550uu/CUKwAqiySfuejdSJdmAKgfclrOF7Rqmb3rGwMEsQI8ZfnGjBlj700PPGmfmsCw63J44e2YAKgfPNJnqaWWslnorodeuyLwq4Wl4roUHxUna49iH6/GnX4k1P7gUB/ozxVT9BR1d4fAUz9E6j0U1goA6oeffkxou8U111xjLyM2oMVuvzst+fs4CgCAcXStrNWuACj4Exxo2UIZNB2hAbAeTCnboYyYAE17AWuP4ulYZWq0B684CgCshaji7wRZWnrSxFq8R6/YT6OAqoxe10MTwG233WYzoVq61VEAoDIVyy+/fOl+EYDovVu6Xl1310OwK3CtzWp2B3P1Tt5dnXp7MbVkqoyCMlC6T0G3+rvr06sx9NKeKmV4lYlVhk4wI10FpWWPAra0pKtMRj2vaD9h7RONWppUBk4TnjJuyoQKWIpDmThl14pDy6RakpQmgpliItceSf2AUBZFOhZHMwDUErCWpLse+oEgqNO2Cy1L6xAgy69aJu4KUAVAuAKg9kVqObPe4apLMwAsMlb6caNMbL1DMK2+V2ZVh8Bb2TUtterPa49iDCtzGysDqC0O2oogqNeSbtdD+ihzWpuFK8Zcs1glX8qfXe9HW1QE+doG0t2hbRrSUVlJZSdrj1YAUHsc5XdttVHc1REb0GK3352W/H0cBQDAOLpW1mpXANSJtbdKEKTJUr8SQwNgvXeINQOZ2s3stXtUah8CqZfd0AMX2uhcTPQCzCLgNRO4dl9WAYDat1Ps1yvTOYI+AYj2AWrfYNdDS8AK6rXn6g7m6p23uzr1AFBwo3Mry6XJQIdgWZkZZc2UEdERQy8tBQoA5QHtCdMh0NHkq4c3tCezu6PZkl4jr2hvoyZkQYYya/JG4Rn9IFEWsCtkaMlSAK8fBYIEPTyjHw7a7K+9aZrMi6O7h0DqvZi48FbtAxTSQsuH9V7yqyVJLZ+7AqCWlLW3tN7hqkszANRyfLFq0KwP5Undsw71t+BPWyamm266yaqpn+TNWABYZFW781ztSoJPrCrad3lRtX4cKtOsH01avag9WgFAjTv9KKmF2tiAFrv97vqPv4+jAAAYR9fKWq0HgMq4aQlUv7z1q16/Fru+BqZY6qi3DKeL14TadVJtNnn4BFXXDKAARy9T1bKOsl9ljnqTdJl6RQZQy1va/9X1KDKAtVms7mCu3nl9+qG2HWW31Ib6RnBcu6wVWy/BuZah9UNDD0VoH5iW37tbqnQFwGLZVpmX22+/vVNmTT8OlCXWU9BdIaMAmmKpTH0lYNJDC4LG2iMUAGqJVNnJkBlAea3e5n4fXZqNYe2j1X7MrsvjzcZLT2cA9QNND9po+4cy9mUOn1jlA4DF/khtRah9ZYvaagUAi20StVny2IAWu/0y/UaZ8AoAgOE1rbTFegCoC9Dyhn51KiOkjE1XANQSjiCqXnahWLLtuncnFgCW3QOoe9FenkZ7AOsJ7wuACth6+KTefkctbQmqlQVpdQ+gTz/Uu0+BkJ7aVN/pYQwtRVapl5ajtAdPUCIoaHa4AqAAU3sx9aSplnBrD21z0BJ0o31m6idB8nvvvWf3qGrpV0uW2jMWAwALHULuAWwEgD66FA+p1PthI19rD6CylPJ1bYa0UX9WsQewePhCP3Ckb+2hHyFa6tdDUfX2ANa77qoAUD8ENA5rXzdUXE8rAKjX7eh1PLXjITagxW6/0kmTk3UoAABmboZGAKh3lSkjo7/Xkpc2S9d+Ck7/rSc29fd6olMZFB1aXtS+MmVaqgLAZk8Ba+lLkKpD96AlJ01M+uW/zDLLdOo9QZCyYbWvXfEFwOIpYAVxZbm06bo4CrDquhfIJwPo2g9aWhTM1D45q+vSgwiCHcGf+l5P2IbWS1ktAZ6e+qw9dA/qC+2T0/48PfkYEgALyFP2Thng4tDkr6VdAV0jANTrMvTaDO0D0wNIujZlkLseoTKA8qs81/UpYPlI+zR9ngJuBIA+umg5XFsa9DSrXnvT9dCfC7j0ehll1ASDtYcehtHT+MVDVkWWNeZTwGeddZZ96Kvegya6NsUHga3eS6rXFHV9UlxL1IqBxRaQqgBQ17b00kvbrRLq/1otWwHAYvWh9gn32IAWu/3Mp+FsLx8AzLbr/v+FNwJA/Z02bNe+FqHrt4CLYK99UVr2UQageMed9swJtGqX1WJlABu9B1ATlR52qH3SVU9Y6loFaMoG6JUe+ntlefQAjKBHe62KwxcAVV/ZIu2nVPv6t5721Xvl9HSf9jZp8qvd+O4DgDqPSz8IspS9EgAqg6uHD/RksIBYDyN03W8UUi893KD9bYJwZfkEXdJannnhhRfsQxXSrLvDNQOofYfaNye9le3TMrdeAK4fKcp61vNqcQ3SRBO/oED+1z7FvffeOxoA6ulb7YfUwwn6YSNNdF6Ba/EeQL3iqPaJ5UZ6NdoPWZT30UXwpq0h2quoDLd8rEOZVT3Io2vV1gG9n1Ev49YT2fq3YFv7TdUHgura71sXDwbFeA+grk3e0qt8lJ3UcmrxuiiBvQ75X0/bCoilufyhfbB6zY/qKjOoBzL0UJSOKgFQ78wUlHbdS+wLgPqRqzGvH3ja3lMcsQEtdvvdxQz+Po4CAGAcXStrtRkAKmOjF5kWENcVADVZ6WECbZQXQGkyUJDUYC9+4VcBgF2/BKIJR79yNcnU20+ma1IWTk9G6rr12gpBrCZYZS9rnyxtBQDViZo8lD1SFrDrl0C6PonsC4Au/SAI09KPzqVskjJ+2ncmENK3PtV/XV8NE0ov+UdPeGsPkvb6CQo0ESn7I521J6nel1u6DgZXAFR9ZTU14SuDpQyoPKK9ffqzel6tPWfxahZBj96XWTwkU1smVAZQbcrP8oyyUoIQgZHARct2gi+9C1MPCHR3dAeAvroITpX9Uwbp888/t5dR+yCL/KgtEPrBp5cr68eW4EsgLbgVOBZPPatu8SUQfQ1EMF58CUQatPolkEIjXY/GvDxf/MCr/RKIHvDR10v0YJS8qTLq5+Jl3Lrm4p2PVQKgxoi0UkzSuy2LwxcAi1fLaBxqmw8A2N0o4u+bKQAA4g8UQAEUqECB4ruw+mGjzBBHeyigH2baGiCgLzKuvgCoH7jaX6pl7dpXL8XO0MVuvz2ckN5dAoDp9QlXhAIokLECyvp1zQ5ra4Le56f9inqRb9f9qxnfLpfejQLarqBMpFY1iu+0+wCgsrHaeqEVgOIThmQAsV8rCgCArahHXRRAARToooCW4fWgiV7IrqVTLTtrv6KWsZUNOuecc9CszRTQnkotTetzhXogpViG7k6G2ndGykP6AaE2ur5kvNjC0F17ehBKZVMr39118/dxFAAA4+hKqyiAAm2qgD6Tpld1aMLXnk29CFkPK+l9kvqn2ef72lSytrtt7c+u97LwrkJoD7R+RHR36EEY/dPdoc8Z6p/Uynd33fx9HAUAwDi60ioKoAAKoAAKoAAKJKsAAJhs13BhKIACKIACKIACKBBHAQAwjq60igIogAIogAIogALJKgAAJts1XBgKoAAKoAAKoAAKxFEAAIyjK62iAAqgAAqgAAqgQLIKAIDJdg0XhgIogAIogAIogAJxFAAAA+iq72vqO7o9feh1AWVeLdDT19kT50ebxqqjDdr4jEl8g29y9o3epVh8V9rnPqaEOgBggF4UdOk7qT156N1i+ubou+++a7/NyfE/BdCmsRvQBm18YgW+wTe5++Y73/lOqXcs+txnLnUAwAA9BQAGEDFiE0xWTFY+9sI3+Abf+CiQh28AQGMAwAD+BgADiBixCSbyPAJyRAt4NY1v8I2PcfBNHr4BAAFAn/E9WR0AMIiM0RohIOcRkKMZwLNhfINvfKyDb/LwDQAIAPqMbwAwiGrVNUJAziMgV+eIcmfCN/imnFM6l8I3efgGAAQAfcY3ABhEteoaISDnEZCrc0S5M+EbfFPOKQBgWZ1SGlMAIABY1rdNy7EEHETGaI2kFHSi3aRnw2gD5PhYB9/gm9x9AwACgD4eJgMYRLXqGmGyYrLycRu+wTf4xkeBPHwDAAKAQdxNBjCIjNEaYSLPIyBHM4Bnw/gG3/hYB9/k4RsAEAD0Gd9kAIOoVl0jBOQ8AnJ1jih3JnyDb8o5pXMpfJOHbwBAANBnfAOAQVSrrhECch4BuTpHlDsTvsE35ZwCAJbVKaUxBQACgGV927QcS8BBZIzWSEpBJ9pNejaMNkCOj3XwDb7J3TcAIADo42EygEFUq64RJismKx+34Rt8g298FMjDNwAgABjE3WQAg8gYrREm8jwCcjQDeDaMb/CNj3XwTR6+AQABQJ/xTQYwiGrVNUJAziMgV+eIcmfCN/imnFM6l8I3efgGAAQAfcZ3FAD8dodfBbmWEI1Mc/5NIZpJpg0Cch4BORnD/PdC8A2+8fEkvsnDNwAgAOgzvgHAIKpV1wgBOY+AXJ0jyp0J3+Cbck4hA1hWp5TGFAAIAJb1bdNyIfYAkgEM0hV1G0kp6MS7S7+W0QbI8XEOvsE3ufsGAAQAfTxMBjCIatU1wmTFZOXjNnyDb/CNjwJ5+AYABACDuJsMYBAZozXCRJ5HQI5mAM+G8Q2+8bEOvsnDNwAgAOgzvskABlGtukYIyHkE5OocUe5M+AbflHNK51L4Jg/fAIAAoM/4BgCDqFZdIwTkPAJydY4odyZ8g2/KOQUALKtTSmMKAAQAy/q2aTmWgIPIGK2RlIJOtJv0bBhtgBwf6+AbfJO7bwBAANDHw2QAg6hWXSNMVkxWPm7DN/gG3/gokIdvAEAAMIi7yQAGkTFaI0zkeQTkaAbwbBjf4Bsf6+CbPHwDAAKAPuObDGAQ1aprhICcR0CuzhHlzoRv8E05p3QuhW/y8A0ACAD6jG8AMIhq1TVCQM4jIFfniHJnwjf4ppxTAMCyOqU0pgBAALCsb5uWYwk4iIzRGkkp6ES7Sc+G0QbI8bEOvsE3ufsGAAQAfTxMBjCIatU1wmTFZOXjNnyDb/CNjwJ5+AYABACDuJsMYBAZozXCRJ5HQI5mAM+G8Q2+8bEOvsnDNwAgAOgzvskABlGtukYIyHkE5OocUe5M+AbflHNK51L4Jg/fAIAAoM/4BgCDqFZdIwTkPAJydY4odyZ8g2/KOQUALKtTSmMKAAQAy/q2aTmWgIPIGK2RlIJOtJv0bBhtgBwf6+AbfJO7bwBAANDHw2QAg6hWXSNMVkxWPm7DN/gG3/gokIdvAEAAMIi7yQAGkTFaI0zkeQTkaAbwbBjf4Bsf6+CbPHwDAAKAPuObDGAQ1aprhICcR0CuzhHlzoRv8E05p3QuhW/y8A0ACAD6jG8AMIhq1TVCQM4jIFfniHJnwjf4ppxTAMCyOqU0pgBAALCsb5uWYwk4iIzRGkkp6ES7Sc+G0QbI8bEOvsE3ufsGAAQAfTxMBjCIatU1wmTFZOXjNnyDb/CNjwJ5+AYABACDuJsMYBAZozXCRJ5HQI5mAM+G8Q2+8bEOvsnDNwAgAOgzvskABlGtukYIyHkE5OocUe5M+AbflHNK51L4Jg/fAIAAoM/4BgCDqFZdIwTkPAJydY4odyZ8g2/KOQUALKtTSmMKAAQAy/q2aTmWgIPIGK2RlIJOtJv0bBhtgBwf6+AbfJO7bwBAANDHw2QAg6hWXSNMVkxWPm7DN/gG3/gokIdvAEAAMIi7yQAGkTFaI0zkeQTkaAbwbBjf4Bsf6+CbPHwDAAKAPuObDGAQ1aprhICcR0CuzhHlzoRv8E05p3QuhW/y8A0ACAD6jG8AMIhq1TVCQM4jIFfniHJnwjf4ppxTAMCyOqU0pgBAALCsb5uWYwk4iIzRGkkp6ES7Sc+G0QbI8bEOvsE3ufsGAAQAfTxMBjCIatU1wmTFZOXjNnyDb/CNjwJ5+AYABACDuJsMYBAZozXCRJ5HQI5mAM+G8Q2+8bEOvsnDNwBgGwPgxIkTzZgxY8xDDz1kPv74YzPzzDOblVZayWywwQZGA9jlAABd1Kq+LAE5j4BcvTOanxHf4BsfT+KbPHwDALYxAF5//fXm1ltvNbvttpuZY445zOuvv27OOusss+mmm5q1117badwDgE5yVV6YgJxHQK7cGN2cEN/gGx9P4ps8fAMAtjEAHn/88WammWYyu+yyS4dbR40aZXr37m322GMPp3EPADrJVXlhAnIeAblyYwCA3pIzphhTPuZJyTcAYBsDoDKA9957rzn44IPNwIEDzRtvvGFGjBhhttpqK7PiiivW9fb48eON/ikOmblPnz5GADhhwgSf8dBRZ8LwX7ZUP2TlXhfcHLK5Hm9L/TT77LOb9957z0yaNKnHryelC0Cb5hM5vqmvD77BNz5xLCXf9OrVy/Tr18/nNqaYOlNNatMZUXsAr776anPTTTeZqaee2uj/tfw7dOjQhp2rPYNjx47t+Pt55pnHnHDCCUHM8OY6SwdpJ0Qjc976RIhmaAMFUAAFUAAFUCBRBdoWAB9++GFzxRVXmGHDhpk555zTZgAvueQSmwFceeWVyQAmalify0rpV6fP9cesgzZkcnz8hW/wTe6+IQPYxkvA2vv361//2qy55podPr7uuuvsU8Gnnnqqk7fZA+gkV+WFU9p3UvnNd3NCtHFUI5EAACAASURBVGk+kQ8YMMC8++67bB3oIhO+wTc+sSwl37AHsI0BcLvttrNLvmussUaHj2+44QZz//33m9NOO83J2wCgk1yVF04p6FR+8wCgt+T4BsjxMQ++ycM3AGAbA+CZZ55p/va3v5kdd9zRvgZGS8DnnnuuGTJkiF0WdjkAQBe1qi9LQM4jIFfvjOZnxDf4xseT+CYP3wCAbQyAX375pRk9erQZN26c+eSTT+yLoAcPHmw23HBDo70BLgcA6KJW9WUJyHkE5OqdAQD6as6YYkz5eCcl3wCAbQyAPuZtVAcADKlm+LZSCjrh7661FtGGidzHQfgG3+TuGwAQAPTx8GR1AMAgMkZrhMmKycrHXPgG3+AbHwXy8A0ACAAGcTcAGETGaI0wkecRkKMZwLNhfINvfKyDb/LwDQAIAPqMbzKAQVSrrhECch4BuTpHlDsTvsE35ZzSuRS+ycM3ACAA6DO+AcAgqlXXCAE5j4BcnSPKnQnf4JtyTgEAy+qU0pgCAAHAsr5tWo4l4CAyRmskpaAT7SY9G0YbIMfHOvgG3+TuGwAQAPTxMBnAIKpV1wiTFZOVj9vwDb7BNz4K5OEbABAADOJuMoBBZIzWCBN5HgE5mgE8G8Y3+MbHOvgmD98AgACgz/gmAxhEteoaISDnEZCrc0S5M+EbfFPOKZ1L4Zs8fAMAAoA+4xsADKJadY0QkPMIyNU5otyZ8A2+KecUALCsTimNKQAQACzr26blWAIOImO0RlIKOtFu0rNhtAFyfKyDb/BN7r4BAAFAHw+TAQyiWnWNMFkxWfm4Dd/gG3zjo0AevgEAAcAg7iYDGETGaI0wkecRkKMZwLNhfINvfKyDb/LwDQAIAPqMbzKAQVSrrhECch4BuTpHlDsTvsE35ZzSuRS+ycM3ACAA6DO+AcAgqlXXCAE5j4BcnSPKnQnf4JtyTgEAy+qU0pgCAAHAsr5tWo4l4CAyRmskpaAT7SY9G0YbIMfHOvgG3+TuGwAQAPTxMBnAIKpV1wiTFZOVj9vwDb7BNz4K5OEbABAADOJuMoBBZIzWCBN5HgE5mgE8G8Y3+MbHOvgmD98AgACgz/gmAxhEteoaISDnEZCrc0S5M+EbfFPOKZ1L4Zs8fAMAAoA+4xsADKJadY0QkPMIyNU5otyZ8A2+KecUALCsTimNKQAQACzr26blWAIOImO0RlIKOtFu0rNhtAFyfKyDb/BN7r4BAAFAHw+TAQyiWnWNMFkxWfm4Dd/gG3zjo0AevgEAAcAg7iYDGETGaI0wkecRkKMZwLNhfINvfKyDb/LwDQAIAPqMbzKAQVSrrhECch4BuTpHlDsTvsE35ZzSuRS+ycM3ACAA6DO+AcAgqlXXCAE5j4BcnSPKnQnf4JtyTgEAy+qU0pgCAAHAsr5tWo4l4CAyRmskpaAT7SY9G0YbIMfHOvgG3+TuGwAQAPTxMBnAIKpV1wiTFZOVj9vwDb7BNz4K5OEbABAADOJuMoBBZIzWCBN5HgE5mgE8G8Y3+MbHOvgmD98AgACgz/gmAxhEteoaISDnEZCrc0S5M+EbfFPOKZ1L4Zs8fAMAAoA+4xsADKJadY0QkPMIyNU5otyZ8A2+KecUALCsTimNKQAQACzr26blWAIOImO0RlIKOtFu0rNhtAFyfKyDb/BN7r4BAAFAHw+TAQyiWnWNMFkxWfm4Dd/gG3zjo0AevgEAAcAg7iYDGETGaI0wkecRkKMZwLNhfINvfKyDb/LwDQAIAPqMbzKAQVSrrhECch4BuTpHlDsTvsE35ZzSuRS+ycM3ACAA6DO+AcAgqlXXCAE5j4BcnSPKnQnf4JtyTgEAy+qU0pgCAAHAsr5tWo4l4CAyRmskpaAT7SY9G0YbIMfHOvgG3+TuGwAQAPTxMBnAIKpV1wiTFZOVj9vwDb7BNz4K5OEbABAADOJuMoBBZIzWCBN5HgE5mgE8G8Y3+MbHOvgmD98AgACgz/gmAxhEteoaISDnEZCrc0S5M+EbfFPOKZ1L4Zs8fAMAAoA+4xsADKJadY0QkPMIyNU5otyZ8A2+KecUALCsTimNKQAQACzr26blWAIOImO0RlIKOtFu0rNhtAFyfKyDb/BN7r4BAAFAHw+TAQyiWnWNMFkxWfm4Dd/gG3zjo0AevgEAAcAg7iYDGETGaI0wkecRkKMZwLNhfINvfKyDb/LwDQAIAPqMbzKAQVSrrhECch4BuTpHlDsTvsE35ZzSuRS+ycM3ACAA6DO+AcAgqlXXCAE5j4BcnSPKnQnf4JtyTgEAy+qU0pgCAAHAsr5tWo4l4CAyRmskpaAT7SY9G0YbIMfHOvgG3+TuGwAQAPTxMBnAIKpV1wiTFZOVj9vwDb7BNz4K5OEbABAADOJuMoBBZIzWCBN5HgE5mgE8G8Y3+MbHOvgmD98AgACgz/gmAxhEteoaISDnEZCrc0S5M+EbfFPOKZ1L4Zs8fAMAAoA+4xsADKJadY0QkPMIyNU5otyZ8A2+KecUALCsTimNKQAQACzr26blWAIOImO0RlIKOtFu0rNhtAFyfKyDb/BN7r4BAAFAHw+TAQyiWnWNMFkxWfm4Dd/gG3zjo0AevgEAAcAg7iYDGETGaI0wkecRkKMZwLNhfINvfKyDb/LwDQAIAPqMbzKAQVSrrhECch4BuTpHlDsTvsE35ZzSuRS+ycM3ACAA6DO+AcAgqlXXCAE5j4BcnSPKnQnf4JtyTgEAy+qU0pgCADMBwC+//NJ8/vnnZtZZZ+3w2UcffWTuvvtuM378eLPccsuZ+eefv6wHg5djCTi4pEEbTCnoBL2xAI2hDZDjYyN8g29y9w0AmAkAnnrqqUaQNWLECOu5L774wvzud78zgkAFommmmcYcdNBBZpFFFvHxZMt1AMCWJYzaAJMVk5WPwfANvsE3Pgrk4RsAMBMA3GWXXcxqq61mNthgA+usO++801x88cXmqKOOMnPOOaf9d9++fc2hhx4a1q0lWwMASwrVQ8WYyPMIyD1kj4anxTf4xseT+CYP3wCAmQDgFltsYYYPH26GDBlinaVMoJZ+jzjiCPv/d9xxh7n22mvNhRde6DNeW64DALYsYdQGCMh5BOSoJvBoHN/gGw/b2FWpAQMGmHfffddMmjTJp4kptk5K2gCAmQDgjjvuaNZaay0zdOhQ880335jtt9/e/vf6669vB8pdd91lLr/8cvtPTxwAYE+oXv6cKQWd8lddTUm0AXJ8nIZv8E3uvgEAMwHAUaNGmddee81su+225umnnzb33nuv0Z9p+VfHpZdeap588klz2mmn+Xiy5ToAYMsSRm2AyYrJysdg+Abf4BsfBfLwDQCYCQAqla5lX4GWjnXXXddsueWW9r8nTpxodtttN7PEEkuYnXfeOaxbS7YGAJYUqoeKMZHnEZB7yB4NT4tv8I2PJ/FNHr4BADMBQNlpwoQJ5q233rIPe/Tv37/DYXpFzLPPPmvmnnvuTn/uM3B96wCAvspVU4+AnEdArsYN5c+Cb/BNebf8ryS+ycM3AGAGAPj111+b008/3Sy77LJmxRVX9BmP0esAgNElbukEBOQ8AnJLnRyhMr7BNz62wjd5+AYAzAAAZaWtt97aLvnqVTApHgBgir3CL/IyvcJklcdkVaYvqyyDb/CNj99S8g0AmAkAHnfccWammWYyu+66q4/notcBAKNL3NIJUgo6Ld1IhMpow0TuYyt8g29y9w0AmAkA/utf/7IPgaywwgpm9dVXN7PMMouP96LVAQCjSRukYSYrJisfI+EbfINvfBTIwzcAYCYAuNVWW5lvv/3WPgiiQ59+U+d1PfQ6mJ44AMCeUL38OZnI8wjI5Xu0mpL4Bt/4OA3f5OEbADATADzzzDPt29W7O1yXiPUt4SuuuMK+W1APm8w+++x2mXm++ebr7lSd/h4AdJKr8sIE5DwCcuXG6OaE+Abf+HgS3+ThGwAwEwD0GYTd1fnPf/5j9t9/f7PIIouYNdZYw8w444z20z2zzTabBUGXAwB0Uav6sgTkPAJy9c5ofkZ8g298PIlv8vANANjGAHjllVeal156yRx11FE+Y5wMYMuqVdcAATmPgFydI8qdCd/gm3JO6VwK3+ThGwAwIwD84IMPzPXXX2+ee+458+mnn5p9993XLLzwwva/x44da4YMGWLmmWee0uN1r732sl8P0TLw888/b2aeeWabCfR51QwZwNKy90hBAnIeAblHzNHkpPgG3/h4Et/k4RsAMBMA1BdADjvsMDNp0iQz//zzm2eeecYceuihZtFFF7VO01LuoEGDzC677FJ6vG6xxRa27DrrrGOWX355+63hiy++2Oywww5m5ZVXrtvO+PHjjf4pDg30Pn362E/UFQ+olL6ALgUnDP+lb9Xg9XpdcHPwNnuyQfWTlvXfe+896yGO/ymANs0nK3xTXx98g2984mhKvunVq5fp16+fz21MMXWmmpTBjHj88cebt99+274KRocgrRYAr7nmGvPII4+Y0047rXTHbLbZZvZhj2OOOaajzkUXXWRBsDhP18bGjBljs43FoYzjCSecUPqczQq+uc7SQdoJ0cictz4RohnaQAEUQAEUQAEUSFSBLABQXwLZYIMNzK9+9Svz2WefmeHDh3cCwHvuucfoFTCXX355aZn1tO/iiy9udt555446d911l7nuuuvMueeeW7cdMoCl5U2qYEq/OpMSxhj7dD1ZLrJcrr7EN2QAXT2j8in5hgxgJkvA+gzcsGHDzC9+8Yu6AKi9gTfffLNdwi17KFv44YcfdnoI5JJLLjGvvvpqp6xgmfbYA1hGpZ4rw56c5pPVgAED7BPwGSwGVGoifINvfAyHb/LwDXsAMwHAww8/3Ew77bTmwAMPnAwA9YJo7QHU10H092UPgZ6WkTfaaCP7hRH9vzJ/O+64o1lxxRXLNmPLAYBOclVemICcR0Cu3BjdnBDf4BsfT+KbPHwDAGYCgE899ZTRPkA9oTt48GBz5JFHmt13392+u++GG24wL774ooU5PRXscvzlL38xV111lX04oH///vaBEJ4CNmaa829ykTH5sgTkPAJyakbCN/jGx5P4Jg/fAICZAKDs9OCDD9ol3i+++KKTu/QUrvYE/uxnP/MZq0HqkAEMImO0RgjIeQTkaAbwbBjf4Bsf6+CbPHwDAGYEgLLUV199ZV8Bo4zdxIkT7eZ1vctPENiTBwDYk+p3f24Cch4BufuerLYEvsE3Po7DN3n4BgDMDAB9BmMVdQDAKlT2PwcBOY+A7N/DcWriG3zj4yx8k4dvAMBMAFBfAdE/Cy20UIez3njjDXPLLbfYFzNrX+AyyyzjM1aD1AEAg8gYrRECch4BOZoBPBvGN/jGxzr4Jg/fAICZAODIkSPN119/bR/00PHxxx8bfcpNX9/Q8u8nn3xi9t57b7Psssv6jNeW6wCALUsYtQECch4BOaoJPBrHN/jGwzb2XXe8Wqm+cilpAwBmAoA77bSTWWuttcx6661nXXXTTTeZ0aNHm5NOOsk+vXvsscfa/YG1X/XwGbi+dQBAX+WqqZdS0KnmjsufBW2AnPJu+V9JfINvcvcNAJgJAOq7vXrSd8iQIdZzei9g7969zcEHH2z/X1/wuPrqq51eBO1j3kZ1AMCQaoZvi8mKycrHVfgG3+AbHwXy8A0AmAkA7rLLLhb+Nt54Y/P555/bbwFvvvnmZt1117VOu+OOOywA6nNwPXEAgD2hevlzMpHnEZDL92g1JfENvvFxGr7JwzcAYCYAeNZZZ5nHH3/cfg/4ueeeM08//bTRp9y0/KvjggsuMM8//7w5+eSTfcZry3UAwJYljNoAATmPgBzVBB6N4xt842Eb9gA2ES2lMQUAZgKAeuhD+/1efvllow84a0l47bXXtjbTU8A777yzfRJ4u+228xmvLdcBAFuWMGoDKQWdqDfq0TjaADketgFyMoEcn76NWSeleAMAZgKAhSH1FRDt/RMEFsc333xj3nnnHTPrrLOa6aefPqZ3G7YNAPaI7KVPmlLQKX3RFRVEGwDQx2r4Bt/k7hsAMDMA9DFcFXUAwCpU9j8HkxWTlY978A2+wTc+CuThGwAwEwB84IEHSrlwpZVWKlUudCEAMLSiYdtjIs8jIIft9dZbwzf4xsdF+CYP3wCAmQDgJptsUmoc6t2APXEAgD2hevlzEpDzCMjle7SakvgG3/g4Dd/k4RsAMBMAFGB1PSZOnGj053feeaf9TNxuu+1m5phjDp/x2nIdALBlCaM2QEDOIyBHNYFH4/gG33jYhgdkmoiW0pgCADMBwO4G4XHHHWf69etnXxbdEwcA2BOqlz9nSkGn/FVXUxJtgBwfp+EbfJO7bwDAKQQA9SUQLf9eeOGFPp5suQ4A2LKEURtgsmKy8jEYvsE3+MZHgTx8AwBOIQB42WWXmXvuucfo3z1xAIA9oXr5czKR5xGQy/doNSXxDb7xcRq+ycM3AGAmAKivfNQ79F5A/d3tt99ufvrTn5q9997bZ7y2XAcAbFnCqA0QkPMIyFFN4NE4vsE3HrZhD2AT0VIaUwBgJgDY7Cngqaee2iy33HL2KyAzzDCDz3htuQ4A2LKEURtIKehEvVGPxtEGyPGwDZCTCeT49G3MOinFGwAwEwBslAHUlz/0BZC+ffvG9Gy3bQOA3UrUowVSCjo9KkSdk6MNAOjjSXyDb3L3DQCYCQD6GK3KOgBglWq7n4vJisnK3TWGLBdZLh/b4JtMfAMAAoBeA7xrJQAwiIzRGgEAAUAfc+EbfINvfBTIwzcAIAAYxN0AYBAZozXCRJ5HQI5mAM+G8Q2+8bEOvsnDNwAgAOgzvierAwAGkTFaIwTkPAJyNAN4Noxv8I2PdfBNHr4BAAFAn/ENAAZRrbpGCMh5BOTqHFHuTPgG35RzSudS+CYP3wCAiQLgbbfdZpZcckkzcOBAn/FXeR0ygJVL7nRCAnIeAdmpUysojG/wjY/N8E0evgEAEwVAvfdv9913Nz/72c+sk7r+v8+gjFkHAIypbuttE5DzCMit93TYFvANvvFxFL7JwzcAYKIAuP3225uhQ4eaddddFwD0iUAt1pnm/JtabCGt6gTkPAJyWq7hNTDN+oMxxZjyGa8p+QYATBQATzrpJPPMM8/Yz7vpJc933nmnWXzxxc2AAQMaek7G2nbbbX082XIdMoAtSxi1gZSCTtQb9WgcbZjIPWzDu+6aiMaYymNMAYCJAuAnn3xiLrnkEvPcc88Z/XfZY/To0WWLBi0HAAaVM3hjBOQ8AnLwjm+xQXyDb3wshG/y8A0AmCgAdrUPewB9wpB/HZaA/bXLrSaTVR6TVWq+wjf4xseTKfkGAMwEAO+//36z8MILm/79+/t4LnodMoDRJW7pBCkFnZZuJEJltGEi97EVvsE3ufsGAMwEAGuN9tZbbxkBl45+/fqZOeaYw8eHQesAgEHlDN4YkxWTlY+p8A2+wTc+CuThGwAwIwB8/PHHzWWXXWbef//9Tu5SVnDrrbc2Sy+9dFinOrQGADqI1QNFmcjzCMg9YI2mp8Q3+MbHk/gmD98AgJkA4JNPPmlGjhxpM36rrrpqR9ZP2cB7773XZgQPOOAA+/LonjgAwJ5Qvfw5Cch5BOTyPVpNSXyDb3ychm/y8A0AmAkAHnzwwWbChAnmyCOPNNNOO20nd3311VfmsMMOM+rMESNG+IzXlusAgC1LGLUBAnIeATmqCTwaxzf4xsM2vCKniWgpjSkAMBMA3HLLLc1mm21m1l577brW0qfjrr76anP55Zf7jNeW6wCALUsYtYGUgk7UG/VoHG2AHA/bADmZQI5P38ask1K8AQAzAcDtttvOrLnmmmbjjTeu680xY8aYO+64w1x00UUxvduwbQCwR2QvfdKUgk7pi66oINoAgD5Wwzf4JnffAICZAODJJ59svwxy0EEHmQUXXLCT71555RVz7LHH2i+F7LXXXj6ebLkOANiyhFEbYLJisvIxGL7BN/jGR4E8fAMAZgKAevJX+wA//fRTM//885uBAwdah73zzjvm1VdfNTPNNJM55phjeuw9gQBg2CARujUm8jwCcuh+b7U9fINvfDyEb/LwDQCYCQDKTvok3A033GCefvrpTu8BXGqppcx6661nIbCnDgCwp5Qvd14Cch4BuVxvVlcK3+AbH7fhmzx8AwBmBIA+A7GqOgBgVUr7nYeAnEdA9uvdeLXwDb7xcRe+ycM3ACAA6DO+J6sDAAaRMVojBOQ8AnI0A3g2jG/wjY918E0evgEAAUCf8Q0ABlGtukYIyHkE5OocUe5M+AbflHNK51L4Jg/fAIAAoM/4BgCDqFZdIwTkPAJydY4odyZ8g2/KOQUALKtTSmMKAAQAy/q2aTmWgIPIGK2RlIJOtJv0bBhtgBwf6+AbfJO7bwBAANDHw2QAg6hWXSNMVkxWPm7DN/gG3/gokIdvAMAMAPDrr7+23/pdddVVzRprrBHWjYFaIwMYSMhIzTCR5xGQI3W/d7P4Bt/4mAff5OEbADADAJSVtt12W7P55pub1Vdf3Wc8Rq8DAEaXuKUTEJDzCMgtdXKEyvgG3/jYCt/k4RsAMBMAPO2008z48ePNPvvs4zMeo9cBAKNL3NIJCMh5BOSWOjlCZXyDb3xshW/y8A0AmAkAvvXWW+aUU04xgwYNslnA/v37m969e0/msumnn95nvLZcBwBsWcKoDRCQ8wjIUU3g0Ti+wTcetjH4Jg/fAICZAOAmm2xSahyOHj26VLnQhQDA0IqGbY+AnEdADtvrrbeGb/CNj4vwTR6+AQAzAcAxY8bYX1XdHRtttFF3RaL8PQAYRdZgjRKQ8wjIwTo8UEP4Bt/4WAnf5OEbADATAPQZhFXWAQCrVNv9XATkPAKye8/GrYFv8I2Pw/BNHr4BADMFwC+++MJMO+20Zuqpp/YZn8HrAIDBJQ3aIAE5j4ActNMDNIZv8I2PjfBNHr4BADMCwNdee81cc8015oUXXjATJkwwhxxyiFl00UXNp59+as455xyzzjrrmEUWWcRnvLZcBwBsWcKoDRCQ8wjIUU3g0Ti+wTcetuEhkCaipTSmAMBMAPCll14yRx11lJl55pkt9N13333m0EMPtf+t44gjjjDf+973zG9/+1uf8dpyHQCwZQmjNpBS0Il6ox6Now2Q42EbICcTyPHp25h1Uoo3AGAmACjA07LviBEjzJdffml22GGHTgB47bXXmgceeMCcccYZMb3bsG0AsEdkL33SlIJO6YuuqCDaAIA+VsM3+CZ33wCAmQDglltuaTbbbDOz9tprm88++8wMHz68EwDee++95uKLLzZXXHGFjydbrgMAtixh1AaYrJisfAyGb/ANvvFRIA/fAICZAOA222xj9IoX7fOrB4DKAN55553mggsuCOvWkq0BgCWF6qFiTOR5BOQeskfD0+IbfOPjSXyTh28AwEwAUEu/X331lTn66KMnA0D9+e9+9zsz33zzmb333ttnvLZcBwBsWcKoDRCQ8wjIUU3g0Ti+wTcetmF/ZBPRUhpTAGAmAPjKK6/YBz300MfgwYPNmWeeabQs3KdPH3PzzTebDz/80BxzzDFm7rnn9hmvLdcBAFuWMGoDKQWdqDfq0TjaADketgFyMoEcn76NWSeleAMAZgKAMuSzzz5rzj//fPPee+918udss81mdt55Z7PwwgvH9G3TtgHAHpO+1IlTCjqlLrjCQmgDAPrYDd/gm9x9AwBmBICF2f7+979bCJw0aZIR/M0777ylPhPnY9aydQDAskr1TDkmKyYrH+fhG3yDb3wUyMM3AGCGABjWjmFaAwDD6BirFSbyPAJyrP73bRff4Bsf7+CbPHwDAGYEgOPHjzd63ctTTz1l3n//feuw/v37m6WWWsqsssoqpnfv3j5jNUgdADCIjNEaISDnEZCjGcCzYXyDb3ysg2/y8A0AmAkAFg95vPPOO/aLH7PPPrt1mJaCP/74YzNgwAD7XsBZZpnFZ7y2XAcAbFnCqA0QkPMIyFFN4NE4vsE3HrbhAZkmoqU0pgDATABw5MiR5plnnjG/+c1vzHLLLdfJXo888oh9KnjxxRc3++23n894tXVuvPFGc9VVV9mXTeu9gy4HAOiiVvVlUwo61d998zOiDZDj40l8g29y9w0AmAkA6pUvAjN9DaTeIXC7/fbbzeWXX+7jSfPqq6+aU045xfTt29csssgiAOD5N3npmGolJismKx9v4ht8g298FMjDNwBgJgC44447mvXWW89CYL3jtttusxm88847z9mtepH0/vvvb7bffntz/fXXm0GDBgGAAKCzj3KtAOTkMVml5i98g298PJmSbwDATABQGb6nn37afgnku9/9biffCeC0/+8nP/mJ2XTTTZ09ecYZZ5jpp5/eQp9eNg0AGjMNAOjso1wrpBSQU9MQbYAcH0/imzx8AwAmCoCPPfZYJwdNnDjRZuf+85//mJVWWqnTQyAPPPCABbihQ4eaFVZYwWm8Pvzww7bd4447zj5F3B0A6klk/VMcGuj6Gon2AE6YMMHp3F0LTxj+y5bqh6zc64KbQzbX422pn/TgUPH+yB6/oIQuAG2aT1b4pr4++Abf+ISxlHzTq1cv069fP5/bmGLqTDVJb1RO7Nhkk028rmj06NGl633wwQfmwAMPNIccckjHJ+S6A8AxY8aYsWPHdpxjnnnmMSeccELpczYr+OY6SwdpJ0Qjc976RIhmaAMFUAAFUAAFUCBRBZIEwOeff95LLpfPwY0bN86MGjXKTD311B3nUqZRv1D0j5ada/9OhcgAenVLj1dK6Vdnj4vR5QLQhkyOjyfxDb7J3TdkABNdAvYxlmudL7/80i7d1h5nn322GThwoPn1r39t5pprrtJN8hqY0lL1SEH25DSfrPQezXfffdd+XpHjfwrgG3zjMx7wTR6+YQ9gGwNgPYt2twTcyNYAoE+YrK4OmrXNDQAAIABJREFUATmPgFydI8qdCd/gm3JO6VwK3+ThGwAwIwB88cUXzX333Wc/A/f5559Plq3QoDvxxBN9xmtHHQDw/0vBU8At2SirykxWeUxWqZkK3+AbH0+m5BsAMBMAvOWWW+xLnvWkrpZo9cLmesfhhx/u48mW65ABbFnCqA2kFHSi3qhH42jDRO5hGz531kQ0xlQeYwoAzAQA9SJo7VPSC5sbwZ9PEAtVBwAMpWScdgjIeQTkOL3v3yq+wTc+7sE3efgGAMwEALfeemszbNgws/rqq/uMx+h1AMDoErd0AgJyHgG5pU6OUBnf4BsfW+GbPHwDAGYCgCNHjjSzzDKL/VxbigcAmGKv/O+aCMh5BOTUXIRv8I2PJ/FNHr4BADMBQL20ecSIEWbIkCFmlVVWsV/+SOkAAFPqjcmvhYCcR0BOzUX4Bt/4eBLf5OEbADATAJSdbr31VvsgiN5VpodBur6kWWUuvfRSn/Hach0AsGUJozZAQM4jIEc1gUfj+AbfeNiGB2SaiJbSmAIAMwFAfeJN3+ydeeaZzXzzzdfwQZBdd93VZ7y2XAcAbFnCqA2kFHSi3qhH42gD5HjYBsjJBHJ8+jZmnZTiDQCYCQAOHz7cLLDAAmbfffetm/mLadgybQOAZVTquTIpBZ2eU6H+mdEGAPTxJL7BN7n7BgDMBAC32WYbs8UWW/AUsM+I86jDi6A9RMu0ChM5E7mPdfENvsndNwBgJgD4+9//3nptjz328PFc9DpkAKNL3NIJmKyYrHwMhG/wDb7xUSAP3wCAmQCgPlR/6qmn2mVgPQU866yz1l0K7qmngwHAsEEidGtM5HkE5ND93mp7+Abf+HgI3+ThGwAwEwDcZJNNSo1DPSzSEwcA2BOqlz8nATmPgFy+R6spiW/wjY/T8E0evgEAMwHAMWPG2KfOujs22mij7opE+XsAMIqswRolIOcRkIN1eKCG8A2+8bESvsnDNwBgJgDoMwirrAMAVqm2+7kIyHkEZPeejVsD3+AbH4fhmzx8AwACgD7je7I6AGAQGaM1QkDOIyBHM4Bnw/gG3/hYB9/k4RsAMBMAHDt2bKlxuOGGG5YqF7oQABha0bDtEZDzCMhhe7311vANvvFxEb7JwzcAYCYAyEMgPmHIvw7vAfTXLreaTFZ5TFap+Qrf4BsfT6bkGwAwEwCsZ7SJEyeaDz74wNxxxx3mhRdeMAcddJCZYYYZfDzZch0ygC1LGLWBlIJO1Bv1aBxtmMg9bMOn4JqIxpjKY0wBgBkDYK3F9KLoSZMmmT333NMnlrVcBwBsWcKoDRCQ8wjIUU3g0Ti+wTcetgGOM4FjAHAKAcC7777bXHnlleaSSy7xGa8t1wEAW5YwagNM5EzkPgbDN/gG3/gokIdvAMApBADPOecc89hjj5mLL744rFtLtgYAlhSqh4oxkecRkHvIHg1Pi2/wjY8n8U0evgEAMwHABx54oK6jPv/8c7v/b9y4cfYTcTvttJPPeG25DgDYsoRRGyAg5xGQo5rAo3F8g288bMMSMEvAPrbpkTpTTdLmucSPZk8B68EPwZ9eAdO7d+8euRMAsEdkL31SJnIm8tJmqSmIb/ANvvFRIA/fkAHMJAMowOp6KDhPN910pk+fPmEd6tEaAOghWoVVmMjzCMgVWqLUqfANvilllC6F8E0evgEAMwFAn0FYZR0AsEq13c9FQM4jILv3bNwa+Abf+DgM3+ThGwAQAPQZ35PVAQCDyBitEQJyHgE5mgE8G8Y3+MbHOvgmD98AgAkD4D777OM09jToTjzxRKc6oQoDgKGUjNMOATmPgByn9/1bxTf4xsc9+CYP3wCACQPgEUccYZ+m6u74+OOPzTvvvGOLjR49urviUf4eAIwia7BGCch5BORgHR6oIXyDb3yshG/y8A0AmDAAdjfwBH433nijueeee8y3335rVlxxRbPrrrt2Vy3K3wOAUWQN1igBOY+AHKzDAzWEb/CNj5XwTR6+AQAzBMAC/O69914zYcIEC37rr7++mX322X3GapA6AGAQGaM1QkDOIyBHM4Bnw/gG3/hYB9/k4RsAMCMArAd+G2ywgZltttl8xmjQOgBgUDmDN0ZAziMgB+/4FhvEN/jGx0L4Jg/fAIAZAGBX8Pv5z39uBH79+/f3GZtR6gCAUWQN1igBOY+AHKzDAzWEb/CNj5XwTR6+AQATBsB///vfdo+flnq1x2+llVayS70pgV9hcwDQJ0xWV4eAnEdArs4R5c6Eb/BNOad0LoVv8vANAJgwAA4bNsyMHz/eDBo0yAwdOrQU+M0777w+47XlOgBgyxJGbYCAnEdAjmoCj8bxDb7xsA3fAm4iWkpjCgBMGACbff+3kb94DYxPuJq8zjTn3xSmoUCtfLvDrwK11HozKWmTki5SNiVtWu9pw0SeyUQeoq9DtpES5IS8rxBtpaQNAJgwAN5///3Oflt55ZWd64SoQAYwhIqN20gJdFKCnJR0AQDjjoHUWk9pIkeb1BTII3MMACYMgPlY2hgAMG5vpQQ6AGDjvk5JmxCOBHLymMhD9HXINvBNHr4BAAHAIOMeAAwiY8NGAMD60qSkCxnAuGMgtdaBnDwgB980VgAABACDjA8AMIiMAKCjjACgo2COxYEcIMfRMrY4vsnDNwAgAOgzvierAwAGkREAdJQRAHQUzLE4E3keE7ljt0Yvjm/y8A0ACAAGCQYAYBAZAUBHGQFAR8EcizOR5zGRO3Zr9OL4Jg/fAIAAYJBgAAAGkREAdJQRAHQUzLE4E3keE7ljt0Yvjm/y8A0ACAAGCQYAYBAZAUBHGQFAR8EcizOR5zGRO3Zr9OL4Jg/fAIAAYJBgAAAGkREAdJQRAHQUzLE4E3keE7ljt0Yvjm/y8A0ACAAGCQYAYBAZAUBHGQFAR8EcizOR5zGRO3Zr9OL4Jg/fAIAAYJBgAAAGkREAdJQRAHQUzLE4E3keE7ljt0Yvjm/y8A0ACAAGCQYAYBAZAUBHGQFAR8EcizOR5zGRO3Zr9OL4Jg/fAIAAYJBgAAAGkREAdJQRAHQUzLE4E3keE7ljt0Yvjm/y8A0ACAAGCQYAYBAZAUBHGQFAR8EcizOR5zGRO3Zr9OL4Jg/fAIAAYJBgAAAGkREAdJQRAHQUzLE4E3keE7ljt0Yvjm/y8A0ACAAGCQYAYBAZAUBHGQFAR8EcizOR5zGRO3Zr9OL4Jg/fAIAAYJBgAAAGkREAdJQRAHQUzLE4E3keE7ljt0Yvjm/y8A0ACAAGCQYAYBAZAUBHGQFAR8EcizOR5zGRO3Zr9OL4Jg/fAIAAYJBgAAAGkREAdJQRAHQUzLE4E3keE7ljt0Yvjm/y8A0ACAAGCQYAYBAZAUBHGQFAR8EcizOR5zGRO3Zr9OL4Jg/fAIAAYJBgAAAGkREAdJQRAHQUzLE4E3keE7ljt0Yvjm/y8A0ACAAGCQYAYBAZAUBHGQFAR8EcizOR5zGRO3Zr9OL4Jg/fAIAAYJBgAAAGkREAdJQRAHQUzLE4E3keE7ljt0Yvjm/y8A0ACAAGCQYAYBAZAUBHGQFAR8EcizOR5zGRO3Zr9OL4Jg/fAIAAYJBgAAAGkREAdJQRAHQUzLE4E3keE7ljt0Yvjm/y8A0ACAAGCQYAYBAZAUBHGQFAR8EcizOR5zGRO3Zr9OL4Jg/fAIAAYJBgAAAGkREAdJQRAHQUzLE4E3keE7ljt0Yvjm/y8A0ACAAGCQYAYBAZAUBHGQFAR8EcizOR5zGRO3Zr9OL4Jg/fAIAAYJBgAAAGkREAdJQRAHQUzLE4E3keE7ljt0Yvjm/y8A0ACAAGCQYAYBAZAUBHGQFAR8EcizOR5zGRO3Zr9OL4Jg/fAIAAYJBgAAAGkREAdJQRAHQUzLE4E3keE7ljt0Yvjm/y8A0ACAAGCQYAYBAZAUBHGQFAR8EcizOR5zGRO3Zr9OL4Jg/fAIAAYJBgAAAGkREAdJQRAHQUzLE4E3keE7ljt0Yvjm/y8A0A2OYAeMMNN5hx48aZt99+2/Tu3dssuOCCZtiwYWbgwIFOQQIAdJLLuXBKoDPN+Tc5X3+sCinpontMSZsQmjOR5zGRh+jrkG3gmzx8AwC2OQCOGDHCDB482Mw333zm22+/NVdffbV58803zcknn2ymnXba0jEBACwtlVfBlEAnJchJSRcA0Mva2VYCcvKAnNQMlpJvAMA2B8Cug+PTTz81w4cPN0cccYRZeOGFS48dALC0VF4FUwIdALBxF6akjZfRulRKabIKcT8h20AbANDHTyn5BgAEADt5+L333jN77LGHGTVqlJlrrrlK+xsALC2VV0EAsL5sKelCBtDL2tlWSmkiT01EtMkDjgFAALDDqRMnTjQjR440n3/+uTn66KPrOnj8+PFG/xSHBnqfPn2MAHDChAktxaEJw3/ZUv2QlXtdcHPI5lpuC23qS5iSLrrC1HzTqvE0vmeffXajH4aTJk1qtbkpqj7aNIccfFNfn5R806tXL9OvX78paly63sxUk4hsVrPzzz/fPP300+aoo44ys8wyS10dx4wZY8aOHdvxd/PMM4854YQTXDWvW/7NdZYO0k6IRua89YkQzQRrA23qS5mSLrrC1HwTzIBTWEP4Zgrr0IpuJyXfEGvCdDoAaIy58MILzRNPPGGOPPJI079//4bKkgEMYzrXVlLKdKWU5UpJFzKArq7uufL4Jq72KWW5Qt5pSr4JEYfJALb5ErCSnxdddJF9FYwe/BgwYIDXeGEPoJdspSultNctpQcdUtJFnZmSNqXN1aTglLqXC9+EcEfjNvBNXH1DxRr2ALY5AF5wwQXmT3/6k9lvv/06vfuvb9++9r2AZQ8AsKxSfuVSmrBSgpyUdAkVlP0cEqcWE3kcXbu2mtKYCnHH+CaEis3bCOEZALDNAXDjjTeu67Jdd93VrLzyyqVdDACWlsqrYEqgEyLweIlQp1JKugCAoXo1fjv4Jq7GAGBcfUPFGgCwzQEwlE0BwFBK1m8npQkLAGzc1ylpE8KRTOQhVOy+DXzTvUYplJjS4jAACAAGGVcAYBAZGzYypQWeUGqlpEuoX+WhtAnRDgAYQsXu2wAAu9cohRIpxZsQngEAAcAg4woADCIjAOgoY0oBGQB07LweLI5v4orPD4e4+oaKNQAgABjEqQBgEBkBQEcZmcgdBXMszkTuKJhn8RDZHM9TR6mGb6LI2qnREJ4BAAHAIE4FAIPICAA6yggAOgrmWJyJ3FEwz+IhJnPPU0ephm+iyAoARpCVF0EHEBUADCBikyZSAp2UJquUdAm1LBPXSW6tM5G76eVbOqUx5XsPtfXwTQgVm7cRwjNkAMkABnEqABhERjKAjjICgI6CORZnIncUzLN4iMnc89RRquGbKLKSAYwgKxnAAKICgAFEJAPoLCIA6CyZUwUmcie5vAsDgN7SVVoxpXgTwjNkAMkABhlAAGAQGckAOsqYUkDWpYcIyo4SRC0OAEaVt6NxfFONzq2eJaV4E8IzACAA2OqYsPUBwCAyAoCOMqYUkAFAx87rweL4Jq74/HCIq2+oWAMAAoBBnAoABpERAHSUkYncUTDH4kzkjoJ5Fg+RzfE8dZRq+CaKrJ0aDeEZABAADOJUADCIjACgo4wAoKNgjsWZyB0F8yweYjL3PHWUavgmiqwAYARZeQgkgKgAYAARmzSREuikNFmlpEuoZZm4TnJrnYncTS/f0imNKd97qK2Hb0Ko2LyNEJ4hA0gGMIhTAcAgMpIBdJQRAHQUzLE4E7mjYJ7FQ0zmnqeOUg3fRJGVDGAEWckABhAVAAwgIhlAZxEBQGfJnCowkTvJ5V0YAPSWrtKKKcWbEJ4hA0gGMMgAAgCDyEgG0FHGlAKyLj1EUHaUIGpxADCqvB2N45tqdG71LCnFmxCeAQABwFbHhK0PAAaREQB0lDGlgAwAOnZeDxbHN3HF54dDXH1DxRoAEAAM4lQAMIiMAKCjjEzkjoI5FmcidxTMs3iIbI7nqaNUwzdRZO3UaAjPAIAAYBCnAoBBZAQAHWUEAB0FcyzORO4omGfxEJO556mjVMM3UWQFACPIykMgAUQFAAOI2KSJlEAnpckqJV1CLcvEdZJb60zkbnr5lk5pTPneQ209fBNCxeZthPAMGUAygEGcCgAGkZEMoKOMAKCjYI7FmcgdBfMsHmIy9zx1lGr4JoqsZAAjyEoGMICoAGAAEckAOosIADpL5lSBidxJLu/CAKC3dJVWTCnehPAMGUAygEEGEAAYREYygI4yphSQdekhgrKjBFGLA4BR5e1oHN9Uo3OrZ0kp3oTwDAAIALY6Jmx9ADCIjACgo4wpBWQA0LHzerA4vokrPj8c4uobKtYAgABgEKcCgEFkBAAdZWQidxTMsTgTuaNgnsVDZHM8Tx2lGr6JImunRkN4BgAEAIM4FQAMIiMA6CgjAOgomGNxJnJHwTyLh5jMPU8dpRq+iSIrABhBVh4CCSAqABhAxCZNpAQ6KU1WKekSalkmrpPcWmcid9PLt3RKY8r3Hmrr4ZsQKjZvI4RnyACSAQziVAAwiIxkAB1lBAAdBXMszkTuKJhn8RCTueepo1TDN1FkJQMYQVYygAFEBQADiEgG0FlEANBZMqcKTOROcnkXBgC9pau0YkrxJoRnyACSAQwygADAIDKSAXSUMaWArEsPEZQdJYhaHACMKm9H4/imGp1bPUtK8SaEZwBAALDVMWHrA4BBZAQAHWVMKSADgI6d14PF8U1c8fnhEFffULEGAAQAgzgVAAwiIwDoKCMTuaNgjsWZyB0F8yweIpvjeeoo1fBNFFk7NRrCMwAgABjEqQBgEBkBQEcZAUBHwRyLM5E7CuZZPMRk7nnqKNXwTRRZAcAIsvIQSABRAcAAIjZpIiXQSWmySkmXUMsycZ3k1joTuZtevqVTGlO+91BbD9+EULF5GyE8QwaQDGAQpwKAQWQkA+goIwDYWDC0QRvH4WSLp+SbEJDjo0GjOlOaNgAgABhkfACAQWQEAB1lTCkgp5YBRBsA0HE4AYDdCJbSmAoBxwAgAOgTIyarAwAGkREAdJQxpYAMAMZfsnK0RxbjCd807tUQkBPKM1NidhQABACDjA8AMIiMWUxYKQVlAJAsl8/Iwzd5+CalWAMA+oy09OvwEEiAPgIAA4jYpImUJqyUgnJKupDJIQPoGwUYU/WVS0kXANDX3WnXAwAD9A8AGEBEANBZRAAwj0wOcAwcOw/uBL+sk1K8CQHHLAGzBOwzLierAwAGkZElYEcZUwrIQA6Q42jfjuIhJnPfc3etl9KYSkkXMoChHJZWO2QAA/QHABhARDKAziKmNFkBgACgs4H/WyEl0ElpTKWkCwDo6+606wGAAfoHAAwgIgDoLGJKkxUACAA6GxgAbCoZANhYnhDasATMErBvzOpUDwAMImPDRlICnRCBJ5RaKekCAAKAvr5mTNVXLiVdyAD6ujvtemQAA/QPABhARDKAziICgI0lQxu0cR5QfAmkqWQpjakQcEwGkAygT4yYrA4AGERGMoCOMqYUkMkAkgF0tG9H8RCTue+5u9ZLaUylpAsZwFAOS6sdMoAB+gMADCAiGUBnEVOarABAANDZwP+tkBLopDSmUtIFAPR1d9r1AMAA/QMABhARAHQWMaXJCgAEAJ0NDAA2lQwAbCxPCG1YAmYJ2DdmdaoHAAaRsWEjKYFOiMATSq2UdAEAAUBfXzOm6iuXki5kAH3dnXY9MoAB+gcADCAiGUBnEQHAxpKhDdo4DygeAmkqWUpjKgQckwEkA+gTIyarAwAGkZEMoKOMKQVkMoBkAB3t21E8xGTue+6u9VIaUynpQgYwlMPSaocMYID+AAADiEgG0FnElCYrABAAdDbwfyukBDopjamUdAEAfd2ddj0AMED/AIABRAQAnUVMabICAAFAZwMDgE0lAwAbyxNCG5aAWQL2jVmd6gGAQWRs2EhKoBMi8IRSKyVdAEAA0NfXjKn6yqWkCxlAX3enXY8MYID+AQADiEgG0FlEALCxZGiDNs4DiodAmkqW0pgKAcdkAMkA+sSIyeoAgEFkJAPoKGNKAZkMIBlAR/t2FA8xmfueu2u9lMZUSrqQAQzlsLTaIQMYoD8AwAAikgF0FjGlyQoABACdDfzfCimBTkpjKiVdAEBfd6ddDwAM0D8AYAARAUBnEVOarABAANDZwABgU8kAwMbyhNCGJWCWgH1jVqd6AGAQGRs2khLohAg8odRKSRcAEAD09TVjqr5yKelCBtDX3WnXIwMYoH8AwAAikgF0FhEAbCwZ2qCN84DiIZCmkqU0pkLAMRlAMoA+MWKyOgBgEBnJADrKmFJAJgNIBtDRvh3FQ0zmvufuWi+lMZWSLmQAQzksrXbIAAboDwAwgIhkAJ1FTGmyAgABQGcD/7dCSqCT0phKSRcA0NfdadcDAAP0DwAYQEQA0FnElCYrABAAdDYwANhUMgCwsTwhtGEJmCVg35jVqR4AGETGho2kBDohAk8otVLSBQAEAH19zZiqr1xKupAB9HV32vXIAAboHwAwgIhkAJ1FBAAbS4Y2aOM8oHgIpKlkKY2pEHBMBpAMoE+MmKwOABhERjKAjjKmFJDJAJIBdLRvR/EQk7nvubvWS2lMpaQLGcBQDkurHTKAAfoDAAwgIhlAZxFTmqwAQADQ2cD/rZAS6KQ0plLSBQD0dXfa9QDAAP0DAAYQEQB0FjGlyQoABACdDQwANpUMAGwsTwhtWAJmCdg3ZnWqBwAGkbFhIymBTojAE0qtlHQBAAFAX18zpuorl5IuZAB93Z12vbbPAN5xxx3m5ptvNh9//LGZe+65zXbbbWfmn39+p14DAJ3kci6cEuikFJRT0gUABACdBzYZQDKAnqYJEYfJALZ5BvDPf/6zOeOMM8wOO+xgFlhgAXPrrbeaRx991Jx66qlmpplmKm1NALC0VF4FUwKdEIHHS4Q6lVLSBQAEAH19zZgiA+jqnRCeAQDbHAAPOuggM99885ntt9/e+m/ixIlml112MWuttZZZb731SnsSACwtlVfBlEAnRODxEgEAdJItJc8Ax8Cxk3kTzIzqklIaUyHiMADYxgA4YcIEM2zYMLP33nubZZZZpmN8KiP4xRdfmP3222+yMTt+/Hijf4pjqqmmMn369DH//ve/jdpr5fj26N+2Uj1o3WkOPTVoe602hjb1FUxJFws5CfkGbRqPOrTJQ5uUxpMFwClsjurVq5f5/ve/3+r0lHX9tt0D+NFHH5mdd97ZHHPMMWbBBRfs6MQrrrjCPP/88+bYY4+drGPHjBljxo4d2/HngwcPNnvuuWfWBuDiUQAFUAAFUAAF2k8BANABALtmAGUXpZH1T08fX375pTniiCPsP8pKcvxPAbRp7Aa0QRufWIFv8A2+8VEgrTptC4A+S8BpdV3nq9Gy9TbbbGMuueQS07dv35QvtfJrQ5vGkqMN2vgMSHyDb/CNjwJp1WlbAFQ36CEQvfJFr37RoYdAdt11V7Pmmms6PQSSQpcSkAnIPj7EN/gG3/gogG98VCPe+KgWr05bA6BeA3PmmWfa18AIBG+77TbzyCOPmFNOOcV873vfi6d6hJYZWARkH1vhG3yDb3wUwDc+qhFvfFSLV6etAVCy6kXQN910k30R9KBBg8y2225r3wmY26H9iTfccIMZOnRoEnsSU9IPbRr3Btqgjc9YxTf4Bt/4KJBWnbYHwLS6g6tBARRAARRAARRAgfgKAIDxNeYMKIACKIACKIACKJCUAgBgUt3BxaAACqAACqAACqBAfAUAwPgacwYUQAEUQAEUQAEUSEoBADCp7uBiUAAFUAAFUAAFUCC+AgBgfI05AwqgAAqgAAqgAAokpQAAmFR3cDEogAIogAK5KqDX4+hI4fOguWrIdVenAABYndZRz0Tg+Z+8b731ln2/48svv2zf76hDL/ZecMEF7Vde5phjjqh9QeN5KoBv8uy3nr7qZ555xtx666023uhFxzr0OU7Fm3XWWccsvvjiPX2JnB8F6ioAAGZsDALP5J331FNPmRNPPNHMM888Zoklluj4ootA8G9/+5t5/fXXzb777muWXHLJjHve/9KBnPra4ZvmnsI39fW5//77zbnnnmuWXXZZG1NmmmkmW/CTTz4xf/3rX82jjz5qdtllF/Pzn//cf9BmXBPfpN15AGDa/dPw6gg89aUR3C299NJmk002qVtgzJgxZty4cWbUqFGZ9rz/ZQM5jbXDN421wTeNtdlzzz3NWmutZVcW6h133nmnzQ7+/ve/9x+4mdbEN+l3HACYfh/VvUICT/2O22KLLWwGcODAgXULvPPOOzYDeOWVV2ba8/6XDeQ01g7fAMc+Iwvf4Bsf36RSBwBMpSccr4PAU1+wvfbay6y66qpm3XXXrVvglltuMffcc4859dRTHRXPvzieadyH+AY49hnh+++/v1lsscXMsGHD6la/4oor7NaTE044waf5rOsQb9LvPgAw/T6qe4UEnvod98gjj9jlFu3HUWDWwx86tAfw2WefNU8//bTZY489zHLLLZdpz/tfNpDTWDt8Axz7jKznnnvOHH/88Wa22Waz8aZ2D6Dizb/+9S9zwAEHmIUXXtin+azrEG/S7z4AMP0+qnuFBJ7GHffSSy+Z22+/ve5TwGuvvbZ9Oq8dDyCnea/jG35U+cSF999/39x1113mlVdemeytA6uvvrrp37+/T7PZ1yHepN+FAGD6fdTwCgk8GXdeD106kNNDwmd+WnyTeQf20OXjmx4SvuRpAcCSQlEMBVAABVAABVAABaYUBQDAKaUnuY9SClx11VV2mWbXXXctVZ5CKCAF8A0+8FHgjDPOMB9++KE5/PDDfapTBwWiKgAARpW35xon8NTXHl0aexLIaawNvsE3PtGcMYVvfHxTVR0AsCqlKz4PgadiwaeA0wE5k3fipEmTzFRTTTUF9G68W8A38bSaxfcdAAANVUlEQVSdklvGNz3fuwBgz/cBV4ACKJCoAptttpl9sTjfj060g7gsFEABbwUAQG/p0q74wQcfGH32rB33un3zzTf2m7/TTz/9ZBO3/k6vJ1hppZXS7sBIV6dvc+p1FXoVzg9+8APz9ttvm9tuu82MHz/efq900UUXjXTmtJu99NJL616gtFlxxRXNDDPMYP9+6623TvtGKri6r776yo6h9957z3z/+983gwcP7tCngtMndYoizhSvennwwQfN3XffbRR/Z511VvuJOOnTjsdFF11kll9+efOjH/2oHW8/i3sGALPoJveLfOONN4xeFj169Gj3yhnX0KfeRowYYQOwjoUWWsj89re/tROVDj0AstNOO7WdLrp3vQR75MiRZtpppzVff/21/SSelmHmnntuo6XO559/3hxyyCFtCYH6drR0mG666Tq5X5rMO++8VjMd7biZXy/0Pfroo+0PKo0rafD555+bAQMG2BcdTzPNNHbMteP77jSGttxyS7P44oube++911x88cX2S0T6caVYdN9995ltttnGrLLKKhlHVb9LL77HPvvss5shQ4aYlVdeuePF/H4tUiu0AgBgaEUrau+JJ55oeiYF5ssuu6ztQEfLdd9++63NfH7xxRfmkksuMcp6HXHEEfYXeTsDYAF3m266qXn44YfNBRdcYNZYYw2jZU4d2jeqjIbKtdtx44032k8E7rzzzp0AmCVgYzSRn3feefYrF/rKzv/93/+ZAw880PTt29coG6gxN+OMMxp9n7zdDn0C7pRTTjH9+vWzP7j14ufVVlutQ4Y//elP5vrrrzcnn3xyu0ljfaNY8pe//MU89NBDNh4vtdRSFpD176mnnrrtNEnthgHA1Hqk5PUUv666K95uGcAddtjBHHrooWauueay0iizJdB56qmnbObiu9/9bttmALV8qW+S6hf5xIkTjb7Veeyxx5p55pnHavXPf/7TZnrOP//87mw1Rf79q6++ak4//XTzk5/8xGy++eamV69eFo7bfQ9gLQDuvvvuRmNMGa/i0Mt+9W3ts88+e4r0RbOb2n777c3BBx9ss8TSRf89aNCgjipaJt9nn32MvgncbketbyZMmGDGjRtn/vjHP9pvI+vHhDKCygwqHnH0jAIAYM/o3vJZtYw5fPhw89Of/rRuW+26BCzI0XJU1037F154oVHWVN8BVjaw3cBYJqkFQP3/VlttZeFG3zHVocyOlsuvvPLKlv2ZawPKaOkHwz/+8Q8j2FFWBwDcxP4oUJZPcUeQU/zAanff6AfDd77zHZs5VpZv4MCBRhn24rjhhhtstn3UqFG5Dgnv664FwNpGtI1AS+MPPPCA3VLQjrHYW9TAFQHAwIJW1ZwyOfql2SgT2K4AqKWptdZayz7Q0PUQBGpJRksR7Rh0tF9JWb8ll1zSSqOMn/YqaQ+XjhdeeMGceeaZdl9gux+atLV94NNPPzUnnXRSWz8FrBgz55xzWp+8++67dnvFcsst12ER7ZPU0vA555zTdrb56KOP7IqDtpfMN9989pvAygYWewD1wJUygD/+8Y/bTptGAFgIodUZZQNrs8ltJ1IP3zAA2MMd4Ht6TdbayF9M5l3bUSZD+7kWXnhh31NkWU+/uF988UW7R6neoeyOntJrRwDU5KSJqtFkpD2AAh5lMziM/YKDxtBiiy3W8RBIO+py7bXXdrrtBRZYoFPcufzyy61Wyh6346EHYrSHVHvdtPdaYKOHzn74wx+addZZx4JhOx677babOf7449v2CfEc+hwAzKGXuEYUQAEUQAEUQAEUCKgAABhQTJpCARRAARRAARRAgRwUAABz6CWuEQVQAAVQAAVQAAUCKgAABhSTplAABVAABVAABVAgBwUAwBx6iWtEARRoqMD7779vfvOb39inU/VusZyP5557zhx55JH2nZWLLLJIzrfCtaMACiSuAACYeAdxeSiQmwL333+/OeusszouW2/814tf9boHvVh55pln9rolvcLnk08+sU9W1h4AoJecVEIBFGhzBQDANjcAt48CoRUoAHDjjTe234cdP3680fvQ9Of6ZJbeq9e7d2/n0+qVEm+++aZ9V2Htoddu6Bz6ckfun5ciA+hsCyqgAAp4KgAAegpHNRRAgfoKFAB43HHHdXoHmr4w8oc//MG+L26FFVZwlq8RADo3lHAFADDhzuHSUGAKUwAAnMI6lNtBgZ5WoBEAPvnkk/bFsFoGHjp0aMdlPv744+aee+4x+nrNZ599ZmaZZRaz0kormfXXX78jo6fP9+mLE7WHsonKBtZbAtafP/roo+a0006zn3bTFweUdVS7w4YN65Qp1Dn11Q99KnCqqaYySy+9tFl33XXNfvvt13Rf4WuvvWZfOF5v7+HTTz9tv7OsT8np28L6zJ7gV9ehz1/pm9SLLrqovRZlSYujHgDqhbp6obv+XXtIEx3Fv/XfyoTqZegPPfSQfTmzlt4HDx5svxikT5ZxoAAKoEChAACIF1AABYIq0AgA77jjDnPRRRfZb1ivscYaHefUt3a1fKsvJkw77bTm2WeftfD2y1/+0my55Za23DPPPGOuuOIKCzX6prEOlV1mmWUaAuCf//xn+6H5+eef37Yt+Hrsscc6nX/ixInmsMMOM6+++qq9Jn3LVSCovYb6HnB3D5boe8Gq0/XLM9oDKbDVN3R1b7qf6667zn67W3sgBYT6Mkvfvn3tN2QFhDpaAUDdi7Ku+hLOqquuaj9fp8/96cs3Sy21lAVaDhRAARQAAPEACqBAFAUKANQ3Uueee+6OPYDKxH355Zf2u7HK8hXHN998M9mewPPOO89msQSMReaq0RJwowygPjavfYgbbrhhx7mUkVOWT23pEBBqT+I222xj1l57bftnAqljjjnGgmh3AKjP5918880W9Kaffnpbf8KECWaHHXawcLrLLrvYP6t3jy+//LI55JBD7BPMxberWwHABx980GZE9RTxQgst1HHPAkBd39FHH20/T8aBAiiAAlKADCA+QAEUCKpA16eAi8a1ZLvjjjuaJZZYouH5BIhaxvzrX/9qTj/9dDNy5EgzaNAgW94HAAWdM844Y8f5Lr74YiNQ0r91nHvuufbhFC0BF1m4WjDsDgC1bK3Mmr6fvMoqq9g29U3YE044wRx88MF171WAqPvUwyt77rmnXZYWgOpoBQCllb5Fq1fI1B76Vq3Os+mmm9pldQ4UQAEUAADxAAqgQHAFCgDcfvvtzYABA8wXX3xh/vjHP5oXXnjBHHDAAXY/W+2hJ3uvueYam3ETGNUe2t9WlHcFQC0B68GT2mPMmDFm7NixRv/WMWLECPP22293em2N/lzLv/vuu2+3GUCV3WuvvWxGU9k8HQJX7QFUFnOaaaaxf6YMoPbmSZuPPvrIwl9x6N2FAs1WAVDXoXtpdKy11lpm2223Dd7fNIgCKJCnAmQA8+w3rhoFklWg3h5ALatqSVgPQOjBDO3f06Hs1B577GH69Oljl2Bnm202u+T797//3cJb7QuRXQFQ++4uv/zy6AAomBTcKZuo+9AeRz14oWxncZxzzjkWgvUOwwUXXNDu/dMhLX784x93PODhkgHU3kW99qZ4CERPV2u/4VZbbVXXG7POOqvdr8iBAiiAAlIAAMQHKIACQRVo9BBIATebb765WW+99ew5x40bZ0aNGmUhpjYzqKeClUGLDYCtLgHrHt566y2z9957231/eupW99P1Sx5a4tWewCLTp3rKCgrWVlxxxaYAqH2LyjB2fYhD+wsFzAUA6gEQZS7PPvtsu8+RAwVQAAWaKQAA4g8UQIGgCjQCQJ3koIMOsk/A6mEFvZZFT9xq71otAGqPnMppf10tSJ166ql2b2Cxf6+46GavgekuA6gsoZ7C9X0IpLiGffbZx8wwwwwWALXULQirfSn1dtttZ18vUwuAN910k32yWXsAi1e81MsA6vqKNpXh01HsMxQ0FwBY6K7M42qrrdapTwWbysIWmdegHU5jKIACWSoAAGbZbVw0CqSrQDMALICreBWM3sGnJWAtiWqPmg49/StYUTarFgALYNIyavHKGEFVKwCo82jv3uuvv97xGhjBlV4DIwDt7iGQoheuv/56M3r0aAu1Q4YMMQK+2uOMM84w+pTdmmuuaV/PoieA9VoagVl3S8DFOwX1beDll1/ePughjfTQijKDBQDqXvTwicqrnJ4E1p9pX+AjjzxiH0qRbhwogAIoIAUAQHyAAigQVIFmACgg0ROpOrT/TVmyl156yVx22WUW+Kabbjq7JLrYYovZBzRqAfCrr76yy8JPPfWU3TtY5kXQ3WUAdR2ffvqpfQpY4KelUy3V6j162rNY9qsl7733ngVZHUcddVSn17Doz3S9l156qT2HnnLW61j0QIbusfYlz42+BHLLLbcY/SNgnnfeeW1daaaj9kXQyp7eeuut9klnXZOAVMvEAmXtsSz2HgbtcBpDARTIUgEAMMtu46JRAAViKlDsTawHczHPS9sogAIoUJUCAGBVSnMeFECBJBXo+pLm4kXQ+tSbXqCsLBoHCqAACkxpCvw/Una8PWjgXy4AAAAASUVORK5CYII=\" width=\"640\">"
      ],
      "text/plain": [
       "<IPython.core.display.HTML object>"
      ]
     },
     "metadata": {},
     "output_type": "display_data"
    },
    {
     "data": {
      "text/plain": [
       "Text(0.5, 1.0, 'Number of users having rated item (주)현대화섬')"
      ]
     },
     "execution_count": 19,
     "metadata": {},
     "output_type": "execute_result"
    }
   ],
   "source": [
    "from collections import Counter\n",
    "\n",
    "import matplotlib.pyplot as plt\n",
    "import matplotlib\n",
    "%matplotlib notebook\n",
    "matplotlib.style.use('ggplot')\n",
    "\n",
    "counter = Counter([r for (_, r) in trainset.ir[trainset.to_inner_iid('(주)현대화섬')]])\n",
    "pd.DataFrame.from_dict(counter, orient='index').plot(kind='bar', legend=False)\n",
    "plt.xlabel('Rating value')\n",
    "plt.ylabel('Number of users')\n",
    "plt.title('Number of users having rated item (주)현대화섬')"
   ]
  },
  {
   "cell_type": "markdown",
   "metadata": {},
   "source": [
    "### TEST Rating before drop few ratings (trd_cnt)"
   ]
  },
  {
   "cell_type": "code",
   "execution_count": null,
   "metadata": {},
   "outputs": [],
   "source": [
    "df.groupby('trd_cnt').agg('size').sum()"
   ]
  },
  {
   "cell_type": "code",
   "execution_count": null,
   "metadata": {},
   "outputs": [],
   "source": [
    "df.groupby('trd_cnt').agg('size').loc[701:].sum()"
   ]
  },
  {
   "cell_type": "code",
   "execution_count": null,
   "metadata": {},
   "outputs": [],
   "source": [
    "import sys\n",
    "rating = {1:[1,1], 2:[2,2], 3:[3,4], 4:[5,7], 5:[8,12], \n",
    "          6:[13,23], 7:[24,50], 8:[51,160], 9:[161,700], 10:[701,sys.maxsize]}"
   ]
  },
  {
   "cell_type": "code",
   "execution_count": null,
   "metadata": {},
   "outputs": [],
   "source": [
    "21477 + 13957 + 10439 + 6577 + 5284 + 4303 + 3603 + 2929 + 1634 + 589"
   ]
  },
  {
   "cell_type": "code",
   "execution_count": null,
   "metadata": {
    "scrolled": true
   },
   "outputs": [],
   "source": [
    "for i in rating:\n",
    "    df.loc[(df.trd_cnt >= rating[i][0]) & (df.trd_cnt <= rating[i][1]), 'trd_cnt'] = i    "
   ]
  },
  {
   "cell_type": "code",
   "execution_count": null,
   "metadata": {},
   "outputs": [],
   "source": [
    "df.head()"
   ]
  },
  {
   "cell_type": "code",
   "execution_count": null,
   "metadata": {},
   "outputs": [],
   "source": [
    "df.groupby('trd_cnt').agg('size').plot.bar()"
   ]
  },
  {
   "cell_type": "code",
   "execution_count": null,
   "metadata": {
    "scrolled": true
   },
   "outputs": [],
   "source": [
    "df.head()"
   ]
  },
  {
   "cell_type": "code",
   "execution_count": null,
   "metadata": {
    "scrolled": false
   },
   "outputs": [],
   "source": [
    "df.groupby('byr').agg('size').sort_values(ascending=False)[:10].plot()"
   ]
  },
  {
   "cell_type": "markdown",
   "metadata": {},
   "source": [
    "### Make Surprise Data from Dataframe"
   ]
  },
  {
   "cell_type": "code",
   "execution_count": null,
   "metadata": {},
   "outputs": [],
   "source": [
    "reader = Reader(rating_scale=(1,10))"
   ]
  },
  {
   "cell_type": "code",
   "execution_count": null,
   "metadata": {},
   "outputs": [],
   "source": [
    "data = Dataset.load_from_df(df, reader)"
   ]
  },
  {
   "cell_type": "code",
   "execution_count": null,
   "metadata": {},
   "outputs": [],
   "source": [
    "from surprise.model_selection import cross_validate\n",
    "bsl_options = {\n",
    "    'method': 'als',\n",
    "    'n_epochs': 5,\n",
    "    'reg_u': 12,\n",
    "    'reg_i': 5\n",
    "}\n",
    "algo = surprise.BaselineOnly(bsl_options)\n",
    "cross_validate(algo, data)"
   ]
  },
  {
   "cell_type": "markdown",
   "metadata": {},
   "source": [
    "## By AMT"
   ]
  },
  {
   "cell_type": "code",
   "execution_count": null,
   "metadata": {},
   "outputs": [],
   "source": [
    "trade_df[['BYRORGNM1', 'SPLYORGNM1', 'AMT', 'CUR']].head()"
   ]
  },
  {
   "cell_type": "code",
   "execution_count": null,
   "metadata": {},
   "outputs": [],
   "source": [
    "trade_df = trade_df[['BYRORGNM1', 'SPLYORGNM1', 'AMT', 'CUR']]"
   ]
  },
  {
   "cell_type": "code",
   "execution_count": null,
   "metadata": {},
   "outputs": [],
   "source": [
    "trade_df.CUR.drop_duplicates()"
   ]
  },
  {
   "cell_type": "code",
   "execution_count": null,
   "metadata": {},
   "outputs": [],
   "source": [
    "trade_df = trade_df.loc[(trade_df.CUR == \"USD\") | (trade_df.CUR == \"KRW\")]"
   ]
  },
  {
   "cell_type": "code",
   "execution_count": null,
   "metadata": {},
   "outputs": [],
   "source": [
    "trade_df.loc[trade_df.CUR == 'USD'].head()"
   ]
  },
  {
   "cell_type": "code",
   "execution_count": null,
   "metadata": {},
   "outputs": [],
   "source": [
    "trade_df.loc[trade_df.CUR == 'KRW'].head()"
   ]
  },
  {
   "cell_type": "code",
   "execution_count": null,
   "metadata": {},
   "outputs": [],
   "source": [
    "def calculate_krw(amt: float, cur: str) -> float:\n",
    "    if cur == 'KRW':\n",
    "        return amt\n",
    "    elif cur == 'USD':\n",
    "        return amt * 1244"
   ]
  },
  {
   "cell_type": "code",
   "execution_count": null,
   "metadata": {},
   "outputs": [],
   "source": [
    "trade_df['AMT_KRW'] = trade_df.apply(lambda x: calculate_krw(x['AMT'], x['CUR']), axis=1)"
   ]
  },
  {
   "cell_type": "code",
   "execution_count": null,
   "metadata": {},
   "outputs": [],
   "source": [
    "trade_df.loc[[0, 35800]]"
   ]
  },
  {
   "cell_type": "code",
   "execution_count": null,
   "metadata": {},
   "outputs": [],
   "source": [
    "df = trade_df[['SPLYORGNM1', 'BYRORGNM1', 'AMT_KRW']]"
   ]
  },
  {
   "cell_type": "code",
   "execution_count": null,
   "metadata": {},
   "outputs": [],
   "source": [
    "df.head()"
   ]
  },
  {
   "cell_type": "code",
   "execution_count": null,
   "metadata": {},
   "outputs": [],
   "source": [
    "df = df.groupby(['SPLYORGNM1', 'BYRORGNM1']).agg('sum').sort_values('AMT_KRW', ascending=False).reset_index()"
   ]
  },
  {
   "cell_type": "code",
   "execution_count": null,
   "metadata": {},
   "outputs": [],
   "source": [
    "df.head()"
   ]
  },
  {
   "cell_type": "code",
   "execution_count": null,
   "metadata": {},
   "outputs": [],
   "source": [
    "df.columns = ['spl', 'byr', 'krw']"
   ]
  },
  {
   "cell_type": "code",
   "execution_count": null,
   "metadata": {
    "scrolled": true
   },
   "outputs": [],
   "source": [
    "df.shape"
   ]
  },
  {
   "cell_type": "code",
   "execution_count": null,
   "metadata": {},
   "outputs": [],
   "source": [
    "df_table = df.set_index([\"spl\", \"byr\"]).unstack()\n",
    "df_table.shape"
   ]
  },
  {
   "cell_type": "code",
   "execution_count": null,
   "metadata": {},
   "outputs": [],
   "source": [
    "plt.imshow(df_table)\n",
    "plt.grid(False)\n",
    "plt.xlabel(\"byr\")\n",
    "plt.ylabel(\"spl\")\n",
    "plt.title(\"Trade Matrix\")\n",
    "plt.show()"
   ]
  },
  {
   "cell_type": "code",
   "execution_count": null,
   "metadata": {},
   "outputs": [],
   "source": [
    "list(df_table.index).index('POSCO')"
   ]
  },
  {
   "cell_type": "code",
   "execution_count": null,
   "metadata": {},
   "outputs": [],
   "source": [
    "val = '주식회사 포스코대우'\n",
    "[(index, row.index(val)) for index, row in enumerate(list(df_table.columns)) if val in row]"
   ]
  },
  {
   "cell_type": "code",
   "execution_count": null,
   "metadata": {},
   "outputs": [],
   "source": [
    "df_table.iloc[13660:13670, 13740:13750]"
   ]
  },
  {
   "cell_type": "code",
   "execution_count": null,
   "metadata": {},
   "outputs": [],
   "source": [
    "df_table.count(axis=1).sort_values(ascending=False)[:100].plot.box"
   ]
  },
  {
   "cell_type": "code",
   "execution_count": null,
   "metadata": {},
   "outputs": [],
   "source": [
    "plt.imshow(df_table.loc[df_table.count(axis=1).sort_values(ascending=False)[:100].index])\n",
    "plt.grid(False)\n",
    "plt.xlabel(\"byr\")\n",
    "plt.ylabel(\"spl\")\n",
    "plt.title(\"Trade Matrix\")\n",
    "plt.show()"
   ]
  },
  {
   "cell_type": "code",
   "execution_count": null,
   "metadata": {},
   "outputs": [],
   "source": [
    "plt.imshow(df_table.iloc[13660:13670, 13740:13750])\n",
    "plt.grid(False)\n",
    "plt.xlabel(\"byr\")\n",
    "plt.ylabel(\"spl\")\n",
    "plt.title(\"Trade Matrix\")\n",
    "plt.show()"
   ]
  },
  {
   "cell_type": "code",
   "execution_count": null,
   "metadata": {
    "scrolled": true
   },
   "outputs": [],
   "source": [
    "df_table.count(axis=0).sort_values(ascending=False)"
   ]
  },
  {
   "cell_type": "markdown",
   "metadata": {},
   "source": [
    "## Make dataframe to surprise dataset"
   ]
  },
  {
   "cell_type": "code",
   "execution_count": null,
   "metadata": {
    "scrolled": true
   },
   "outputs": [],
   "source": [
    "df.krw.max()"
   ]
  },
  {
   "cell_type": "code",
   "execution_count": null,
   "metadata": {},
   "outputs": [],
   "source": [
    "df.krw.min()"
   ]
  },
  {
   "cell_type": "code",
   "execution_count": null,
   "metadata": {},
   "outputs": [],
   "source": [
    "from surprise import Reader\n",
    "from surprise import Dataset"
   ]
  },
  {
   "cell_type": "code",
   "execution_count": null,
   "metadata": {},
   "outputs": [],
   "source": [
    "reader = Reader(rating_scale)"
   ]
  },
  {
   "cell_type": "code",
   "execution_count": null,
   "metadata": {
    "scrolled": true
   },
   "outputs": [],
   "source": [
    "df.head()"
   ]
  },
  {
   "cell_type": "code",
   "execution_count": null,
   "metadata": {},
   "outputs": [],
   "source": [
    "df.krw.max()"
   ]
  },
  {
   "cell_type": "code",
   "execution_count": null,
   "metadata": {},
   "outputs": [],
   "source": [
    "reader=Reader(rating_scale=(0, 5))"
   ]
  },
  {
   "cell_type": "code",
   "execution_count": null,
   "metadata": {
    "scrolled": true
   },
   "outputs": [],
   "source": [
    "df"
   ]
  },
  {
   "cell_type": "code",
   "execution_count": null,
   "metadata": {},
   "outputs": [],
   "source": [
    "df.krw = df.krw / df.krw.max() * 5.0"
   ]
  },
  {
   "cell_type": "code",
   "execution_count": null,
   "metadata": {},
   "outputs": [],
   "source": [
    "data = Dataset.load_from_df(df[['spl', 'byr', 'krw']], reader=reader)"
   ]
  },
  {
   "cell_type": "code",
   "execution_count": null,
   "metadata": {},
   "outputs": [],
   "source": [
    "data.raw_ratings"
   ]
  },
  {
   "cell_type": "code",
   "execution_count": null,
   "metadata": {},
   "outputs": [],
   "source": [
    "from surprise.model_selection import KFold\n",
    "\n",
    "bsl_options = {\n",
    "    'method': 'als',\n",
    "    'n_epochs': 500,\n",
    "    'reg_u': 12,\n",
    "    'reg_i': 5\n",
    "}\n",
    "algo = surprise.BaselineOnly(bsl_options)\n",
    "\n",
    "np.random.seed(0)\n",
    "acc = np.zeros(3)\n",
    "cv = KFold(3)\n",
    "for i, (trainset, testset) in enumerate(cv.split(data)):\n",
    "    algo.fit(trainset)\n",
    "    predictions = algo.test(testset)\n",
    "    acc[i] = surprise.accuracy.rmse(predictions, verbose=True)\n",
    "acc.mean()"
   ]
  },
  {
   "cell_type": "code",
   "execution_count": null,
   "metadata": {},
   "outputs": [],
   "source": [
    "from surprise.model_selection import cross_validate\n",
    "\n",
    "sim_options = {'name': 'msd'}\n",
    "algo = surprise.KNNBasic(sim_options=sim_options)\n",
    "cross_validate(algo, data)[\"test_mae\"].mean()"
   ]
  },
  {
   "cell_type": "code",
   "execution_count": null,
   "metadata": {},
   "outputs": [],
   "source": [
    "data_ml = surprise.Dataset.load_builtin('ml-100k')"
   ]
  },
  {
   "cell_type": "code",
   "execution_count": null,
   "metadata": {},
   "outputs": [],
   "source": [
    "data.raw_ratings"
   ]
  },
  {
   "cell_type": "code",
   "execution_count": null,
   "metadata": {},
   "outputs": [],
   "source": [
    "data_ml.raw_ratings"
   ]
  },
  {
   "cell_type": "markdown",
   "metadata": {},
   "source": [
    "# Trade count"
   ]
  },
  {
   "cell_type": "code",
   "execution_count": null,
   "metadata": {},
   "outputs": [],
   "source": [
    "df = trade_df[['BYRORGNM1', 'SPLYORGNM1']]"
   ]
  },
  {
   "cell_type": "code",
   "execution_count": null,
   "metadata": {},
   "outputs": [],
   "source": [
    "df = df.groupby(['BYRORGNM1', 'SPLYORGNM1']).agg('size').reset_index()"
   ]
  },
  {
   "cell_type": "code",
   "execution_count": null,
   "metadata": {},
   "outputs": [],
   "source": [
    "df.head()"
   ]
  },
  {
   "cell_type": "code",
   "execution_count": null,
   "metadata": {},
   "outputs": [],
   "source": [
    "df.columns = ['byr', 'spl', 'trd_cnt']"
   ]
  },
  {
   "cell_type": "code",
   "execution_count": null,
   "metadata": {},
   "outputs": [],
   "source": [
    "df.head()"
   ]
  },
  {
   "cell_type": "code",
   "execution_count": null,
   "metadata": {},
   "outputs": [],
   "source": [
    "df.sort_values('trd_cnt').trd_cnt.reset_index(drop=True).plot()"
   ]
  },
  {
   "cell_type": "code",
   "execution_count": null,
   "metadata": {},
   "outputs": [],
   "source": [
    "len(df.loc[df.trd_cnt < 3])"
   ]
  },
  {
   "cell_type": "code",
   "execution_count": null,
   "metadata": {},
   "outputs": [],
   "source": [
    "len(df.loc[df.trd_cnt <= 14])"
   ]
  },
  {
   "cell_type": "code",
   "execution_count": null,
   "metadata": {
    "scrolled": true
   },
   "outputs": [],
   "source": [
    "df.sort_values('trd_cnt').trd_cnt.reset_index(drop=True)[35434:58914].plot.box()"
   ]
  },
  {
   "cell_type": "code",
   "execution_count": null,
   "metadata": {},
   "outputs": [],
   "source": [
    "df.sort_values('trd_cnt').trd_cnt.reset_index(drop=True)[35434:58914].plot()"
   ]
  },
  {
   "cell_type": "code",
   "execution_count": null,
   "metadata": {
    "scrolled": true
   },
   "outputs": [],
   "source": [
    "df = df.sort_values('trd_cnt')[35434:58914].reset_index(drop=True)"
   ]
  },
  {
   "cell_type": "code",
   "execution_count": null,
   "metadata": {},
   "outputs": [],
   "source": [
    "df.tail()"
   ]
  },
  {
   "cell_type": "code",
   "execution_count": null,
   "metadata": {},
   "outputs": [],
   "source": [
    "df.groupby('spl').agg('size').sort_values().plot()"
   ]
  },
  {
   "cell_type": "code",
   "execution_count": null,
   "metadata": {},
   "outputs": [],
   "source": [
    "df.groupby('spl').agg('size').sort_values().tail()"
   ]
  },
  {
   "cell_type": "code",
   "execution_count": null,
   "metadata": {},
   "outputs": [],
   "source": [
    "df.groupby('spl').agg('size').plot.box()"
   ]
  },
  {
   "cell_type": "code",
   "execution_count": null,
   "metadata": {},
   "outputs": [],
   "source": [
    "# refer: https://nbviewer.jupyter.org/github/NicolasHug/Surprise/blob/master/examples/notebooks/KNNBasic_analysis.ipynb"
   ]
  }
 ],
 "metadata": {
  "kernelspec": {
   "display_name": "Python 3",
   "language": "python",
   "name": "python3"
  },
  "language_info": {
   "codemirror_mode": {
    "name": "ipython",
    "version": 3
   },
   "file_extension": ".py",
   "mimetype": "text/x-python",
   "name": "python",
   "nbconvert_exporter": "python",
   "pygments_lexer": "ipython3",
   "version": "3.5.2"
  }
 },
 "nbformat": 4,
 "nbformat_minor": 2
}

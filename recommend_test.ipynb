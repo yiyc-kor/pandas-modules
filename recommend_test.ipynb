{
 "cells": [
  {
   "cell_type": "code",
   "execution_count": 1,
   "metadata": {},
   "outputs": [],
   "source": [
    "import pandas as pd\n",
    "import matplotlib.pylab as plt\n",
    "import surprise\n",
    "import numpy as np\n",
    "from surprise import Reader\n",
    "from surprise import Dataset"
   ]
  },
  {
   "cell_type": "code",
   "execution_count": 2,
   "metadata": {},
   "outputs": [],
   "source": [
    "# Read csv\n",
    "trade_df = pd.read_csv(\"./data/trade.csv\", encoding=\"utf-8\", parse_dates=['ISSUEDT'],\n",
    "                       dtype={'HSCD': str, \"QTY\": float, 'BYRADDR2': str, 'SPLYADDR2': str})"
   ]
  },
  {
   "cell_type": "code",
   "execution_count": 3,
   "metadata": {},
   "outputs": [],
   "source": [
    "trade_df = trade_df[['BYRORGNM1', 'SPLYORGNM1']]"
   ]
  },
  {
   "cell_type": "code",
   "execution_count": 44,
   "metadata": {},
   "outputs": [],
   "source": [
    "df = trade_df.groupby(['BYRORGNM1', 'SPLYORGNM1']).agg('size').reset_index()"
   ]
  },
  {
   "cell_type": "code",
   "execution_count": 45,
   "metadata": {},
   "outputs": [],
   "source": [
    "df.columns = ['byr', 'spl', 'trd_cnt']"
   ]
  },
  {
   "cell_type": "code",
   "execution_count": null,
   "metadata": {
    "scrolled": true
   },
   "outputs": [],
   "source": [
    "df.groupby('byr').agg('size').sort_values().reset_index().groupby(0).agg('size').sum()"
   ]
  },
  {
   "cell_type": "code",
   "execution_count": null,
   "metadata": {},
   "outputs": [],
   "source": [
    "df.groupby('byr').agg('size').sort_values().reset_index().groupby(0).agg('size').loc[50:].sum()"
   ]
  },
  {
   "cell_type": "code",
   "execution_count": null,
   "metadata": {
    "scrolled": true
   },
   "outputs": [],
   "source": [
    "b = df['byr'].value_counts() >= 5\n",
    "b = b[b].index.tolist()"
   ]
  },
  {
   "cell_type": "code",
   "execution_count": null,
   "metadata": {},
   "outputs": [],
   "source": [
    "s = df['spl'].value_counts() >= 5\n",
    "s = s[s].index.tolist()"
   ]
  },
  {
   "cell_type": "code",
   "execution_count": 6,
   "metadata": {},
   "outputs": [],
   "source": [
    "b = df['byr'].value_counts() >= 5\n",
    "b = b[b].index.tolist()\n",
    "df = df.loc[df['byr'].isin(b)].reset_index(drop=True)"
   ]
  },
  {
   "cell_type": "code",
   "execution_count": null,
   "metadata": {
    "scrolled": true
   },
   "outputs": [],
   "source": [
    "df = df.loc[(df['byr'].isin(b)) & (df['spl'].isin(s))].reset_index(drop=True)"
   ]
  },
  {
   "cell_type": "code",
   "execution_count": 7,
   "metadata": {},
   "outputs": [
    {
     "data": {
      "text/html": [
       "<div>\n",
       "<style scoped>\n",
       "    .dataframe tbody tr th:only-of-type {\n",
       "        vertical-align: middle;\n",
       "    }\n",
       "\n",
       "    .dataframe tbody tr th {\n",
       "        vertical-align: top;\n",
       "    }\n",
       "\n",
       "    .dataframe thead th {\n",
       "        text-align: right;\n",
       "    }\n",
       "</style>\n",
       "<table border=\"1\" class=\"dataframe\">\n",
       "  <thead>\n",
       "    <tr style=\"text-align: right;\">\n",
       "      <th></th>\n",
       "      <th>byr</th>\n",
       "      <th>spl</th>\n",
       "      <th>trd_cnt</th>\n",
       "    </tr>\n",
       "  </thead>\n",
       "  <tbody>\n",
       "    <tr>\n",
       "      <th>0</th>\n",
       "      <td>(사)경남농수산식품수출협회</td>\n",
       "      <td>(주)에코맘의산골이유식 농업회사법인</td>\n",
       "      <td>10</td>\n",
       "    </tr>\n",
       "    <tr>\n",
       "      <th>1</th>\n",
       "      <td>(사)경남농수산식품수출협회</td>\n",
       "      <td>국대씨푸드</td>\n",
       "      <td>2</td>\n",
       "    </tr>\n",
       "    <tr>\n",
       "      <th>2</th>\n",
       "      <td>(사)경남농수산식품수출협회</td>\n",
       "      <td>농업회사법인(주)강림오가닉</td>\n",
       "      <td>2</td>\n",
       "    </tr>\n",
       "    <tr>\n",
       "      <th>3</th>\n",
       "      <td>(사)경남농수산식품수출협회</td>\n",
       "      <td>슬로푸드 주식회사 농업회사법인</td>\n",
       "      <td>4</td>\n",
       "    </tr>\n",
       "    <tr>\n",
       "      <th>4</th>\n",
       "      <td>(사)경남농수산식품수출협회</td>\n",
       "      <td>아로니아상사 영농조합법인</td>\n",
       "      <td>2</td>\n",
       "    </tr>\n",
       "    <tr>\n",
       "      <th>5</th>\n",
       "      <td>(사)경남농수산식품수출협회</td>\n",
       "      <td>우포바이오푸드영농조합법인</td>\n",
       "      <td>1</td>\n",
       "    </tr>\n",
       "    <tr>\n",
       "      <th>6</th>\n",
       "      <td>(사)경남농수산식품수출협회</td>\n",
       "      <td>재단법인 남해마늘연구소</td>\n",
       "      <td>1</td>\n",
       "    </tr>\n",
       "    <tr>\n",
       "      <th>7</th>\n",
       "      <td>(사)경남농수산식품수출협회</td>\n",
       "      <td>청양식품영농조합법인</td>\n",
       "      <td>6</td>\n",
       "    </tr>\n",
       "    <tr>\n",
       "      <th>8</th>\n",
       "      <td>(유)브이피에이치아이</td>\n",
       "      <td>(주)디와이시</td>\n",
       "      <td>367</td>\n",
       "    </tr>\n",
       "    <tr>\n",
       "      <th>9</th>\n",
       "      <td>(유)브이피에이치아이</td>\n",
       "      <td>(주)오토탑</td>\n",
       "      <td>43</td>\n",
       "    </tr>\n",
       "  </tbody>\n",
       "</table>\n",
       "</div>"
      ],
      "text/plain": [
       "              byr                  spl  trd_cnt\n",
       "0  (사)경남농수산식품수출협회  (주)에코맘의산골이유식 농업회사법인       10\n",
       "1  (사)경남농수산식품수출협회                국대씨푸드        2\n",
       "2  (사)경남농수산식품수출협회       농업회사법인(주)강림오가닉        2\n",
       "3  (사)경남농수산식품수출협회     슬로푸드 주식회사 농업회사법인        4\n",
       "4  (사)경남농수산식품수출협회        아로니아상사 영농조합법인        2\n",
       "5  (사)경남농수산식품수출협회        우포바이오푸드영농조합법인        1\n",
       "6  (사)경남농수산식품수출협회         재단법인 남해마늘연구소        1\n",
       "7  (사)경남농수산식품수출협회           청양식품영농조합법인        6\n",
       "8     (유)브이피에이치아이              (주)디와이시      367\n",
       "9     (유)브이피에이치아이               (주)오토탑       43"
      ]
     },
     "execution_count": 7,
     "metadata": {},
     "output_type": "execute_result"
    }
   ],
   "source": [
    "df.head(10)"
   ]
  },
  {
   "cell_type": "code",
   "execution_count": null,
   "metadata": {
    "scrolled": false
   },
   "outputs": [],
   "source": [
    "df.groupby('trd_cnt').agg('size').sum()"
   ]
  },
  {
   "cell_type": "code",
   "execution_count": null,
   "metadata": {
    "scrolled": true
   },
   "outputs": [],
   "source": [
    "df.groupby('trd_cnt').agg('size').loc[111:].sum()"
   ]
  },
  {
   "cell_type": "code",
   "execution_count": 15,
   "metadata": {},
   "outputs": [],
   "source": [
    "import sys\n",
    "rating = {1:[1,1], 2:[2,2], 3:[3,3], 4:[4,4], 5:[5,6],\n",
    "          6:[7,9], 7:[10,16], 8:[17,35], 9:[30,110], 10:[111,sys.maxsize]}"
   ]
  },
  {
   "cell_type": "code",
   "execution_count": 16,
   "metadata": {},
   "outputs": [],
   "source": [
    "for i in rating:\n",
    "    df.loc[(df.trd_cnt >= rating[i][0]) & (df.trd_cnt <= rating[i][1]), 'trd_cnt'] = i    "
   ]
  },
  {
   "cell_type": "code",
   "execution_count": 46,
   "metadata": {},
   "outputs": [
    {
     "data": {
      "text/plain": [
       "<matplotlib.axes._subplots.AxesSubplot at 0x7fcd35271c50>"
      ]
     },
     "execution_count": 46,
     "metadata": {},
     "output_type": "execute_result"
    },
    {
     "data": {
      "image/png": "[encoded data removed]",
      "text/plain": [
       "<Figure size 432x288 with 1 Axes>"
      ]
     },
     "metadata": {
      "needs_background": "light"
     },
     "output_type": "display_data"
    }
   ],
   "source": [
    "df.sort_values('trd_cnt').trd_cnt.reset_index(drop=True)[:].plot()"
   ]
  },
  {
   "cell_type": "code",
   "execution_count": 17,
   "metadata": {},
   "outputs": [
    {
     "data": {
      "text/plain": [
       "<matplotlib.axes._subplots.AxesSubplot at 0x7fcd34505a90>"
      ]
     },
     "execution_count": 17,
     "metadata": {},
     "output_type": "execute_result"
    },
    {
     "data": {
      "image/png": "[encoded data removed]",
      "text/plain": [
       "<Figure size 432x288 with 1 Axes>"
      ]
     },
     "metadata": {
      "needs_background": "light"
     },
     "output_type": "display_data"
    }
   ],
   "source": [
    "df.sort_values('trd_cnt').trd_cnt.reset_index(drop=True).plot()"
   ]
  },
  {
   "cell_type": "code",
   "execution_count": 18,
   "metadata": {},
   "outputs": [
    {
     "data": {
      "text/html": [
       "<div>\n",
       "<style scoped>\n",
       "    .dataframe tbody tr th:only-of-type {\n",
       "        vertical-align: middle;\n",
       "    }\n",
       "\n",
       "    .dataframe tbody tr th {\n",
       "        vertical-align: top;\n",
       "    }\n",
       "\n",
       "    .dataframe thead th {\n",
       "        text-align: right;\n",
       "    }\n",
       "</style>\n",
       "<table border=\"1\" class=\"dataframe\">\n",
       "  <thead>\n",
       "    <tr style=\"text-align: right;\">\n",
       "      <th></th>\n",
       "      <th>byr</th>\n",
       "      <th>spl</th>\n",
       "      <th>trd_cnt</th>\n",
       "    </tr>\n",
       "  </thead>\n",
       "  <tbody>\n",
       "    <tr>\n",
       "      <th>0</th>\n",
       "      <td>(사)경남농수산식품수출협회</td>\n",
       "      <td>(주)에코맘의산골이유식 농업회사법인</td>\n",
       "      <td>7</td>\n",
       "    </tr>\n",
       "    <tr>\n",
       "      <th>1</th>\n",
       "      <td>(사)경남농수산식품수출협회</td>\n",
       "      <td>국대씨푸드</td>\n",
       "      <td>2</td>\n",
       "    </tr>\n",
       "    <tr>\n",
       "      <th>2</th>\n",
       "      <td>(사)경남농수산식품수출협회</td>\n",
       "      <td>농업회사법인(주)강림오가닉</td>\n",
       "      <td>2</td>\n",
       "    </tr>\n",
       "    <tr>\n",
       "      <th>3</th>\n",
       "      <td>(사)경남농수산식품수출협회</td>\n",
       "      <td>슬로푸드 주식회사 농업회사법인</td>\n",
       "      <td>4</td>\n",
       "    </tr>\n",
       "    <tr>\n",
       "      <th>4</th>\n",
       "      <td>(사)경남농수산식품수출협회</td>\n",
       "      <td>아로니아상사 영농조합법인</td>\n",
       "      <td>2</td>\n",
       "    </tr>\n",
       "  </tbody>\n",
       "</table>\n",
       "</div>"
      ],
      "text/plain": [
       "              byr                  spl  trd_cnt\n",
       "0  (사)경남농수산식품수출협회  (주)에코맘의산골이유식 농업회사법인        7\n",
       "1  (사)경남농수산식품수출협회                국대씨푸드        2\n",
       "2  (사)경남농수산식품수출협회       농업회사법인(주)강림오가닉        2\n",
       "3  (사)경남농수산식품수출협회     슬로푸드 주식회사 농업회사법인        4\n",
       "4  (사)경남농수산식품수출협회        아로니아상사 영농조합법인        2"
      ]
     },
     "execution_count": 18,
     "metadata": {},
     "output_type": "execute_result"
    }
   ],
   "source": [
    "df.head()"
   ]
  },
  {
   "cell_type": "code",
   "execution_count": 19,
   "metadata": {},
   "outputs": [],
   "source": [
    "reader = Reader(rating_scale=(1,10))\n",
    "data = Dataset.load_from_df(df, reader)"
   ]
  },
  {
   "cell_type": "code",
   "execution_count": null,
   "metadata": {},
   "outputs": [],
   "source": [
    "from surprise.model_selection import cross_validate\n",
    "bsl_options = {\n",
    "    'method': 'als',\n",
    "    'n_epochs': 5,\n",
    "    'reg_u': 12,\n",
    "    'reg_i': 5\n",
    "}\n",
    "algo = surprise.BaselineOnly(bsl_options)\n",
    "cross_validate(algo, data)"
   ]
  },
  {
   "cell_type": "code",
   "execution_count": 56,
   "metadata": {
    "scrolled": true
   },
   "outputs": [
    {
     "name": "stdout",
     "output_type": "stream",
     "text": [
      "Estimating biases using als...\n",
      "Computing the msd similarity matrix...\n",
      "Done computing similarity matrix.\n",
      "Estimating biases using als...\n",
      "Computing the msd similarity matrix...\n",
      "Done computing similarity matrix.\n",
      "Estimating biases using als...\n",
      "Computing the msd similarity matrix...\n",
      "Done computing similarity matrix.\n",
      "Computing the msd similarity matrix...\n",
      "Done computing similarity matrix.\n",
      "Computing the msd similarity matrix...\n",
      "Done computing similarity matrix.\n",
      "Computing the msd similarity matrix...\n",
      "Done computing similarity matrix.\n",
      "Computing the msd similarity matrix...\n",
      "Done computing similarity matrix.\n",
      "Computing the msd similarity matrix...\n",
      "Done computing similarity matrix.\n",
      "Computing the msd similarity matrix...\n",
      "Done computing similarity matrix.\n",
      "Computing the msd similarity matrix...\n",
      "Done computing similarity matrix.\n",
      "Computing the msd similarity matrix...\n",
      "Done computing similarity matrix.\n",
      "Computing the msd similarity matrix...\n",
      "Done computing similarity matrix.\n",
      "Estimating biases using als...\n",
      "Estimating biases using als...\n",
      "Estimating biases using als...\n"
     ]
    },
    {
     "data": {
      "text/html": [
       "<div>\n",
       "<style scoped>\n",
       "    .dataframe tbody tr th:only-of-type {\n",
       "        vertical-align: middle;\n",
       "    }\n",
       "\n",
       "    .dataframe tbody tr th {\n",
       "        vertical-align: top;\n",
       "    }\n",
       "\n",
       "    .dataframe thead th {\n",
       "        text-align: right;\n",
       "    }\n",
       "</style>\n",
       "<table border=\"1\" class=\"dataframe\">\n",
       "  <thead>\n",
       "    <tr style=\"text-align: right;\">\n",
       "      <th></th>\n",
       "      <th>fit_time</th>\n",
       "      <th>test_fcp</th>\n",
       "      <th>test_time</th>\n",
       "    </tr>\n",
       "    <tr>\n",
       "      <th>Algorithm</th>\n",
       "      <th></th>\n",
       "      <th></th>\n",
       "      <th></th>\n",
       "    </tr>\n",
       "  </thead>\n",
       "  <tbody>\n",
       "    <tr>\n",
       "      <th>CoClustering</th>\n",
       "      <td>2.125163</td>\n",
       "      <td>0.348788</td>\n",
       "      <td>0.112499</td>\n",
       "    </tr>\n",
       "    <tr>\n",
       "      <th>SVDpp</th>\n",
       "      <td>18.627109</td>\n",
       "      <td>0.406891</td>\n",
       "      <td>0.396810</td>\n",
       "    </tr>\n",
       "    <tr>\n",
       "      <th>KNNBaseline</th>\n",
       "      <td>0.255392</td>\n",
       "      <td>0.411130</td>\n",
       "      <td>0.136191</td>\n",
       "    </tr>\n",
       "    <tr>\n",
       "      <th>SVD</th>\n",
       "      <td>1.372933</td>\n",
       "      <td>0.412427</td>\n",
       "      <td>0.078383</td>\n",
       "    </tr>\n",
       "    <tr>\n",
       "      <th>BaselineOnly</th>\n",
       "      <td>0.083698</td>\n",
       "      <td>0.413987</td>\n",
       "      <td>0.059343</td>\n",
       "    </tr>\n",
       "    <tr>\n",
       "      <th>NMF</th>\n",
       "      <td>3.210948</td>\n",
       "      <td>0.420215</td>\n",
       "      <td>0.109539</td>\n",
       "    </tr>\n",
       "    <tr>\n",
       "      <th>KNNWithMeans</th>\n",
       "      <td>0.214156</td>\n",
       "      <td>0.439664</td>\n",
       "      <td>0.170497</td>\n",
       "    </tr>\n",
       "    <tr>\n",
       "      <th>KNNWithZScore</th>\n",
       "      <td>0.310368</td>\n",
       "      <td>0.448785</td>\n",
       "      <td>0.129698</td>\n",
       "    </tr>\n",
       "    <tr>\n",
       "      <th>SlopeOne</th>\n",
       "      <td>7.640404</td>\n",
       "      <td>0.455148</td>\n",
       "      <td>0.271721</td>\n",
       "    </tr>\n",
       "    <tr>\n",
       "      <th>NormalPredictor</th>\n",
       "      <td>0.033562</td>\n",
       "      <td>0.494131</td>\n",
       "      <td>0.091242</td>\n",
       "    </tr>\n",
       "    <tr>\n",
       "      <th>KNNBasic</th>\n",
       "      <td>0.178497</td>\n",
       "      <td>0.520922</td>\n",
       "      <td>0.159192</td>\n",
       "    </tr>\n",
       "  </tbody>\n",
       "</table>\n",
       "</div>"
      ],
      "text/plain": [
       "                  fit_time  test_fcp  test_time\n",
       "Algorithm                                      \n",
       "CoClustering      2.125163  0.348788   0.112499\n",
       "SVDpp            18.627109  0.406891   0.396810\n",
       "KNNBaseline       0.255392  0.411130   0.136191\n",
       "SVD               1.372933  0.412427   0.078383\n",
       "BaselineOnly      0.083698  0.413987   0.059343\n",
       "NMF               3.210948  0.420215   0.109539\n",
       "KNNWithMeans      0.214156  0.439664   0.170497\n",
       "KNNWithZScore     0.310368  0.448785   0.129698\n",
       "SlopeOne          7.640404  0.455148   0.271721\n",
       "NormalPredictor   0.033562  0.494131   0.091242\n",
       "KNNBasic          0.178497  0.520922   0.159192"
      ]
     },
     "execution_count": 56,
     "metadata": {},
     "output_type": "execute_result"
    }
   ],
   "source": [
    "from surprise.model_selection import cross_validate\n",
    "from surprise import SVD\n",
    "from surprise import SVDpp\n",
    "from surprise import SlopeOne\n",
    "from surprise import NMF\n",
    "from surprise import NormalPredictor\n",
    "from surprise import KNNBaseline\n",
    "from surprise import KNNBasic\n",
    "from surprise import KNNWithMeans\n",
    "from surprise import KNNWithZScore\n",
    "from surprise import BaselineOnly\n",
    "from surprise import CoClustering\n",
    "\n",
    "benchmark = []\n",
    "# Iterate over all algorithms\n",
    "for algorithm in [SVD(), SVDpp(), SlopeOne(), NMF(), NormalPredictor(), KNNBaseline(), KNNBasic(), KNNWithMeans(), KNNWithZScore(), BaselineOnly(), CoClustering()]:\n",
    "    # Perform cross validation\n",
    "    results = cross_validate(algorithm, data, measures=['FCP'], cv=3, verbose=False)\n",
    "    \n",
    "    # Get results & append algorithm name\n",
    "    tmp = pd.DataFrame.from_dict(results).mean(axis=0)\n",
    "    tmp = tmp.append(pd.Series([str(algorithm).split(' ')[0].split('.')[-1]], index=['Algorithm']))\n",
    "    benchmark.append(tmp)\n",
    "    \n",
    "pd.DataFrame(benchmark).set_index('Algorithm').sort_values('test_fcp')   "
   ]
  },
  {
   "cell_type": "code",
   "execution_count": null,
   "metadata": {},
   "outputs": [],
   "source": [
    "%%time\n",
    "algo = surprise.SVD(n_factors=100)\n",
    "cross_validate(algo, data)[\"test_mae\"].mean()"
   ]
  },
  {
   "cell_type": "code",
   "execution_count": 48,
   "metadata": {},
   "outputs": [
    {
     "name": "stdout",
     "output_type": "stream",
     "text": [
      "FCP:  0.4219\n"
     ]
    },
    {
     "data": {
      "text/plain": [
       "0.4219035069915893"
      ]
     },
     "execution_count": 48,
     "metadata": {},
     "output_type": "execute_result"
    }
   ],
   "source": [
    "from surprise.model_selection import train_test_split\n",
    "from surprise import accuracy\n",
    "trainset, testset = train_test_split(data, test_size=0.25)\n",
    "algo = surprise.SVD(n_factors=100)\n",
    "predictions = algo.fit(trainset).test(testset)\n",
    "accuracy.fcp(predictions)"
   ]
  },
  {
   "cell_type": "code",
   "execution_count": 49,
   "metadata": {},
   "outputs": [],
   "source": [
    "def get_Iu(uid):\n",
    "    \"\"\"Return the number of items rated by given user\n",
    "    \n",
    "    Args:\n",
    "        uid: The raw id of the user.\n",
    "    Returns:\n",
    "        The number of items rated by the user.\n",
    "    \"\"\"\n",
    "    \n",
    "    try:\n",
    "        return len(trainset.ur[trainset.to_inner_uid(uid)])\n",
    "    except ValueError:  # user was not part of the trainset\n",
    "        return 0\n",
    "    \n",
    "def get_Ui(iid):\n",
    "    \"\"\"Return the number of users that have rated given item\n",
    "    \n",
    "    Args:\n",
    "        iid: The raw id of the item.\n",
    "    Returns:\n",
    "        The number of users that have rated the item.\n",
    "    \"\"\"\n",
    "    \n",
    "    try:\n",
    "        return len(trainset.ir[trainset.to_inner_iid(iid)])\n",
    "    except ValueError:  # item was not part of the trainset\n",
    "        return 0\n",
    "\n",
    "rcm_df = pd.DataFrame(predictions, columns=['uid', 'iid', 'rui', 'est', 'details'])    \n",
    "rcm_df['Iu'] = rcm_df.uid.apply(get_Iu)\n",
    "rcm_df['Ui'] = rcm_df.iid.apply(get_Ui)\n",
    "rcm_df['err'] = abs(rcm_df.est - rcm_df.rui)"
   ]
  },
  {
   "cell_type": "code",
   "execution_count": 50,
   "metadata": {
    "scrolled": true
   },
   "outputs": [
    {
     "data": {
      "text/html": [
       "<div>\n",
       "<style scoped>\n",
       "    .dataframe tbody tr th:only-of-type {\n",
       "        vertical-align: middle;\n",
       "    }\n",
       "\n",
       "    .dataframe tbody tr th {\n",
       "        vertical-align: top;\n",
       "    }\n",
       "\n",
       "    .dataframe thead th {\n",
       "        text-align: right;\n",
       "    }\n",
       "</style>\n",
       "<table border=\"1\" class=\"dataframe\">\n",
       "  <thead>\n",
       "    <tr style=\"text-align: right;\">\n",
       "      <th></th>\n",
       "      <th>uid</th>\n",
       "      <th>iid</th>\n",
       "      <th>rui</th>\n",
       "      <th>est</th>\n",
       "      <th>details</th>\n",
       "      <th>Iu</th>\n",
       "      <th>Ui</th>\n",
       "      <th>err</th>\n",
       "    </tr>\n",
       "  </thead>\n",
       "  <tbody>\n",
       "    <tr>\n",
       "      <th>11724</th>\n",
       "      <td>쌍용자동차(주)</td>\n",
       "      <td>대한칼소닉(주)</td>\n",
       "      <td>10.0</td>\n",
       "      <td>10.000000</td>\n",
       "      <td>{'was_impossible': False}</td>\n",
       "      <td>68</td>\n",
       "      <td>5</td>\n",
       "      <td>0.000000</td>\n",
       "    </tr>\n",
       "    <tr>\n",
       "      <th>1272</th>\n",
       "      <td>LG Display</td>\n",
       "      <td>(주)엘지화학</td>\n",
       "      <td>10.0</td>\n",
       "      <td>10.000000</td>\n",
       "      <td>{'was_impossible': False}</td>\n",
       "      <td>84</td>\n",
       "      <td>25</td>\n",
       "      <td>0.000000</td>\n",
       "    </tr>\n",
       "    <tr>\n",
       "      <th>10888</th>\n",
       "      <td>쌍용자동차(주) 창원공장</td>\n",
       "      <td>(주)티에이케이</td>\n",
       "      <td>7.0</td>\n",
       "      <td>6.999249</td>\n",
       "      <td>{'was_impossible': False}</td>\n",
       "      <td>39</td>\n",
       "      <td>1</td>\n",
       "      <td>0.000751</td>\n",
       "    </tr>\n",
       "    <tr>\n",
       "      <th>5497</th>\n",
       "      <td>세아상역(주)</td>\n",
       "      <td>(주)유유텍스타일</td>\n",
       "      <td>2.0</td>\n",
       "      <td>1.999121</td>\n",
       "      <td>{'was_impossible': False}</td>\n",
       "      <td>62</td>\n",
       "      <td>3</td>\n",
       "      <td>0.000879</td>\n",
       "    </tr>\n",
       "    <tr>\n",
       "      <th>7485</th>\n",
       "      <td>비젼테크</td>\n",
       "      <td>슈어엔케이</td>\n",
       "      <td>3.0</td>\n",
       "      <td>2.999110</td>\n",
       "      <td>{'was_impossible': False}</td>\n",
       "      <td>6</td>\n",
       "      <td>0</td>\n",
       "      <td>0.000890</td>\n",
       "    </tr>\n",
       "    <tr>\n",
       "      <th>8092</th>\n",
       "      <td>(주) 지호락</td>\n",
       "      <td>미광식품</td>\n",
       "      <td>3.0</td>\n",
       "      <td>2.998784</td>\n",
       "      <td>{'was_impossible': False}</td>\n",
       "      <td>27</td>\n",
       "      <td>4</td>\n",
       "      <td>0.001216</td>\n",
       "    </tr>\n",
       "    <tr>\n",
       "      <th>9025</th>\n",
       "      <td>(주)레인보우뷰티</td>\n",
       "      <td>(주)프롬네이처</td>\n",
       "      <td>3.0</td>\n",
       "      <td>2.998509</td>\n",
       "      <td>{'was_impossible': False}</td>\n",
       "      <td>9</td>\n",
       "      <td>1</td>\n",
       "      <td>0.001491</td>\n",
       "    </tr>\n",
       "    <tr>\n",
       "      <th>3915</th>\n",
       "      <td>현대글로비스(주)\\r\\n\\r\\n</td>\n",
       "      <td>동해산업(주)</td>\n",
       "      <td>6.0</td>\n",
       "      <td>5.998030</td>\n",
       "      <td>{'was_impossible': False}</td>\n",
       "      <td>303</td>\n",
       "      <td>2</td>\n",
       "      <td>0.001970</td>\n",
       "    </tr>\n",
       "    <tr>\n",
       "      <th>10825</th>\n",
       "      <td>(주)기도산업</td>\n",
       "      <td>이앤텍스</td>\n",
       "      <td>3.0</td>\n",
       "      <td>2.997261</td>\n",
       "      <td>{'was_impossible': False}</td>\n",
       "      <td>31</td>\n",
       "      <td>2</td>\n",
       "      <td>0.002739</td>\n",
       "    </tr>\n",
       "    <tr>\n",
       "      <th>8375</th>\n",
       "      <td>한일의료기(주)</td>\n",
       "      <td>(주)대경에프앤씨</td>\n",
       "      <td>3.0</td>\n",
       "      <td>3.003365</td>\n",
       "      <td>{'was_impossible': False}</td>\n",
       "      <td>5</td>\n",
       "      <td>0</td>\n",
       "      <td>0.003365</td>\n",
       "    </tr>\n",
       "    <tr>\n",
       "      <th>11682</th>\n",
       "      <td>주식회사 제성 아이엔티</td>\n",
       "      <td>에스엠테크</td>\n",
       "      <td>4.0</td>\n",
       "      <td>4.003674</td>\n",
       "      <td>{'was_impossible': False}</td>\n",
       "      <td>13</td>\n",
       "      <td>2</td>\n",
       "      <td>0.003674</td>\n",
       "    </tr>\n",
       "    <tr>\n",
       "      <th>6100</th>\n",
       "      <td>한국지엠주식회사</td>\n",
       "      <td>허친슨코리아 유한회사</td>\n",
       "      <td>9.0</td>\n",
       "      <td>8.996321</td>\n",
       "      <td>{'was_impossible': False}</td>\n",
       "      <td>304</td>\n",
       "      <td>2</td>\n",
       "      <td>0.003679</td>\n",
       "    </tr>\n",
       "    <tr>\n",
       "      <th>6701</th>\n",
       "      <td>알파디스플레이(주)</td>\n",
       "      <td>(주)은파LCD</td>\n",
       "      <td>5.0</td>\n",
       "      <td>4.995788</td>\n",
       "      <td>{'was_impossible': False}</td>\n",
       "      <td>8</td>\n",
       "      <td>2</td>\n",
       "      <td>0.004212</td>\n",
       "    </tr>\n",
       "    <tr>\n",
       "      <th>4335</th>\n",
       "      <td>삼성물산(주)</td>\n",
       "      <td>씨씨아이(주)</td>\n",
       "      <td>2.0</td>\n",
       "      <td>2.004507</td>\n",
       "      <td>{'was_impossible': False}</td>\n",
       "      <td>51</td>\n",
       "      <td>2</td>\n",
       "      <td>0.004507</td>\n",
       "    </tr>\n",
       "    <tr>\n",
       "      <th>8103</th>\n",
       "      <td>(주)엠앤드엘</td>\n",
       "      <td>화신산업</td>\n",
       "      <td>6.0</td>\n",
       "      <td>6.004610</td>\n",
       "      <td>{'was_impossible': False}</td>\n",
       "      <td>11</td>\n",
       "      <td>0</td>\n",
       "      <td>0.004610</td>\n",
       "    </tr>\n",
       "    <tr>\n",
       "      <th>566</th>\n",
       "      <td>현대글로비스(주)\\r\\n\\r\\n</td>\n",
       "      <td>셰플러코리아(유)</td>\n",
       "      <td>7.0</td>\n",
       "      <td>7.004943</td>\n",
       "      <td>{'was_impossible': False}</td>\n",
       "      <td>303</td>\n",
       "      <td>7</td>\n",
       "      <td>0.004943</td>\n",
       "    </tr>\n",
       "    <tr>\n",
       "      <th>5234</th>\n",
       "      <td>(주)한일맨파워</td>\n",
       "      <td>미주산업</td>\n",
       "      <td>8.0</td>\n",
       "      <td>8.005380</td>\n",
       "      <td>{'was_impossible': False}</td>\n",
       "      <td>47</td>\n",
       "      <td>1</td>\n",
       "      <td>0.005380</td>\n",
       "    </tr>\n",
       "    <tr>\n",
       "      <th>7511</th>\n",
       "      <td>파스코</td>\n",
       "      <td>(주) 성창에스씨엠</td>\n",
       "      <td>5.0</td>\n",
       "      <td>5.005680</td>\n",
       "      <td>{'was_impossible': False}</td>\n",
       "      <td>3</td>\n",
       "      <td>0</td>\n",
       "      <td>0.005680</td>\n",
       "    </tr>\n",
       "    <tr>\n",
       "      <th>4242</th>\n",
       "      <td>(주)대농</td>\n",
       "      <td>동일방직</td>\n",
       "      <td>4.0</td>\n",
       "      <td>3.993698</td>\n",
       "      <td>{'was_impossible': False}</td>\n",
       "      <td>21</td>\n",
       "      <td>1</td>\n",
       "      <td>0.006302</td>\n",
       "    </tr>\n",
       "    <tr>\n",
       "      <th>2802</th>\n",
       "      <td>대림산업 주식회사</td>\n",
       "      <td>코오롱엔솔루션(주)</td>\n",
       "      <td>2.0</td>\n",
       "      <td>2.007208</td>\n",
       "      <td>{'was_impossible': False}</td>\n",
       "      <td>45</td>\n",
       "      <td>1</td>\n",
       "      <td>0.007208</td>\n",
       "    </tr>\n",
       "  </tbody>\n",
       "</table>\n",
       "</div>"
      ],
      "text/plain": [
       "                     uid          iid   rui        est  \\\n",
       "11724           쌍용자동차(주)     대한칼소닉(주)  10.0  10.000000   \n",
       "1272          LG Display      (주)엘지화학  10.0  10.000000   \n",
       "10888      쌍용자동차(주) 창원공장     (주)티에이케이   7.0   6.999249   \n",
       "5497             세아상역(주)    (주)유유텍스타일   2.0   1.999121   \n",
       "7485                비젼테크        슈어엔케이   3.0   2.999110   \n",
       "8092             (주) 지호락         미광식품   3.0   2.998784   \n",
       "9025           (주)레인보우뷰티     (주)프롬네이처   3.0   2.998509   \n",
       "3915   현대글로비스(주)\\r\\n\\r\\n      동해산업(주)   6.0   5.998030   \n",
       "10825            (주)기도산업         이앤텍스   3.0   2.997261   \n",
       "8375            한일의료기(주)    (주)대경에프앤씨   3.0   3.003365   \n",
       "11682       주식회사 제성 아이엔티        에스엠테크   4.0   4.003674   \n",
       "6100            한국지엠주식회사  허친슨코리아 유한회사   9.0   8.996321   \n",
       "6701          알파디스플레이(주)     (주)은파LCD   5.0   4.995788   \n",
       "4335             삼성물산(주)      씨씨아이(주)   2.0   2.004507   \n",
       "8103             (주)엠앤드엘         화신산업   6.0   6.004610   \n",
       "566    현대글로비스(주)\\r\\n\\r\\n    셰플러코리아(유)   7.0   7.004943   \n",
       "5234            (주)한일맨파워         미주산업   8.0   8.005380   \n",
       "7511                 파스코   (주) 성창에스씨엠   5.0   5.005680   \n",
       "4242               (주)대농         동일방직   4.0   3.993698   \n",
       "2802           대림산업 주식회사   코오롱엔솔루션(주)   2.0   2.007208   \n",
       "\n",
       "                         details   Iu  Ui       err  \n",
       "11724  {'was_impossible': False}   68   5  0.000000  \n",
       "1272   {'was_impossible': False}   84  25  0.000000  \n",
       "10888  {'was_impossible': False}   39   1  0.000751  \n",
       "5497   {'was_impossible': False}   62   3  0.000879  \n",
       "7485   {'was_impossible': False}    6   0  0.000890  \n",
       "8092   {'was_impossible': False}   27   4  0.001216  \n",
       "9025   {'was_impossible': False}    9   1  0.001491  \n",
       "3915   {'was_impossible': False}  303   2  0.001970  \n",
       "10825  {'was_impossible': False}   31   2  0.002739  \n",
       "8375   {'was_impossible': False}    5   0  0.003365  \n",
       "11682  {'was_impossible': False}   13   2  0.003674  \n",
       "6100   {'was_impossible': False}  304   2  0.003679  \n",
       "6701   {'was_impossible': False}    8   2  0.004212  \n",
       "4335   {'was_impossible': False}   51   2  0.004507  \n",
       "8103   {'was_impossible': False}   11   0  0.004610  \n",
       "566    {'was_impossible': False}  303   7  0.004943  \n",
       "5234   {'was_impossible': False}   47   1  0.005380  \n",
       "7511   {'was_impossible': False}    3   0  0.005680  \n",
       "4242   {'was_impossible': False}   21   1  0.006302  \n",
       "2802   {'was_impossible': False}   45   1  0.007208  "
      ]
     },
     "execution_count": 50,
     "metadata": {},
     "output_type": "execute_result"
    }
   ],
   "source": [
    "rcm_df.sort_values(by='err').head(20)"
   ]
  },
  {
   "cell_type": "code",
   "execution_count": 51,
   "metadata": {},
   "outputs": [
    {
     "data": {
      "text/html": [
       "<div>\n",
       "<style scoped>\n",
       "    .dataframe tbody tr th:only-of-type {\n",
       "        vertical-align: middle;\n",
       "    }\n",
       "\n",
       "    .dataframe tbody tr th {\n",
       "        vertical-align: top;\n",
       "    }\n",
       "\n",
       "    .dataframe thead th {\n",
       "        text-align: right;\n",
       "    }\n",
       "</style>\n",
       "<table border=\"1\" class=\"dataframe\">\n",
       "  <thead>\n",
       "    <tr style=\"text-align: right;\">\n",
       "      <th></th>\n",
       "      <th>uid</th>\n",
       "      <th>iid</th>\n",
       "      <th>rui</th>\n",
       "      <th>est</th>\n",
       "      <th>details</th>\n",
       "      <th>Iu</th>\n",
       "      <th>Ui</th>\n",
       "      <th>err</th>\n",
       "    </tr>\n",
       "  </thead>\n",
       "  <tbody>\n",
       "    <tr>\n",
       "      <th>3678</th>\n",
       "      <td>현대위아(주)</td>\n",
       "      <td>(주)모팜</td>\n",
       "      <td>1.0</td>\n",
       "      <td>7.252861</td>\n",
       "      <td>{'was_impossible': False}</td>\n",
       "      <td>136</td>\n",
       "      <td>4</td>\n",
       "      <td>6.252861</td>\n",
       "    </tr>\n",
       "    <tr>\n",
       "      <th>3110</th>\n",
       "      <td>(주)영원무역</td>\n",
       "      <td>와이케이케이한국 (주)</td>\n",
       "      <td>10.0</td>\n",
       "      <td>3.734425</td>\n",
       "      <td>{'was_impossible': False}</td>\n",
       "      <td>19</td>\n",
       "      <td>1</td>\n",
       "      <td>6.265575</td>\n",
       "    </tr>\n",
       "    <tr>\n",
       "      <th>11554</th>\n",
       "      <td>주식회사 이스트한</td>\n",
       "      <td>(주)제이제이통상</td>\n",
       "      <td>10.0</td>\n",
       "      <td>3.683602</td>\n",
       "      <td>{'was_impossible': False}</td>\n",
       "      <td>5</td>\n",
       "      <td>0</td>\n",
       "      <td>6.316398</td>\n",
       "    </tr>\n",
       "    <tr>\n",
       "      <th>9227</th>\n",
       "      <td>에스케이코리아</td>\n",
       "      <td>태영정밀</td>\n",
       "      <td>10.0</td>\n",
       "      <td>3.668164</td>\n",
       "      <td>{'was_impossible': False}</td>\n",
       "      <td>4</td>\n",
       "      <td>1</td>\n",
       "      <td>6.331836</td>\n",
       "    </tr>\n",
       "    <tr>\n",
       "      <th>2520</th>\n",
       "      <td>주식회사 에스엠알오토모티브모듈코리</td>\n",
       "      <td>LG 화학 (주)</td>\n",
       "      <td>9.0</td>\n",
       "      <td>2.664392</td>\n",
       "      <td>{'was_impossible': False}</td>\n",
       "      <td>33</td>\n",
       "      <td>0</td>\n",
       "      <td>6.335608</td>\n",
       "    </tr>\n",
       "    <tr>\n",
       "      <th>3422</th>\n",
       "      <td>한석인터내셔날(주)</td>\n",
       "      <td>제이원코리아</td>\n",
       "      <td>9.0</td>\n",
       "      <td>2.659285</td>\n",
       "      <td>{'was_impossible': False}</td>\n",
       "      <td>11</td>\n",
       "      <td>0</td>\n",
       "      <td>6.340715</td>\n",
       "    </tr>\n",
       "    <tr>\n",
       "      <th>6943</th>\n",
       "      <td>LG전자 (주)</td>\n",
       "      <td>주)동양이엔피</td>\n",
       "      <td>1.0</td>\n",
       "      <td>7.340808</td>\n",
       "      <td>{'was_impossible': False}</td>\n",
       "      <td>373</td>\n",
       "      <td>0</td>\n",
       "      <td>6.340808</td>\n",
       "    </tr>\n",
       "    <tr>\n",
       "      <th>10227</th>\n",
       "      <td>LG전자 (주)</td>\n",
       "      <td>주)행성디지털 천안공장</td>\n",
       "      <td>1.0</td>\n",
       "      <td>7.340808</td>\n",
       "      <td>{'was_impossible': False}</td>\n",
       "      <td>373</td>\n",
       "      <td>0</td>\n",
       "      <td>6.340808</td>\n",
       "    </tr>\n",
       "    <tr>\n",
       "      <th>286</th>\n",
       "      <td>삼성전자(주)</td>\n",
       "      <td>(주)이에스디웍</td>\n",
       "      <td>1.0</td>\n",
       "      <td>7.357167</td>\n",
       "      <td>{'was_impossible': False}</td>\n",
       "      <td>481</td>\n",
       "      <td>1</td>\n",
       "      <td>6.357167</td>\n",
       "    </tr>\n",
       "    <tr>\n",
       "      <th>6205</th>\n",
       "      <td>(주)윌비스</td>\n",
       "      <td>엠에스텍스(MSTEX)</td>\n",
       "      <td>9.0</td>\n",
       "      <td>2.631939</td>\n",
       "      <td>{'was_impossible': False}</td>\n",
       "      <td>10</td>\n",
       "      <td>1</td>\n",
       "      <td>6.368061</td>\n",
       "    </tr>\n",
       "    <tr>\n",
       "      <th>11458</th>\n",
       "      <td>(주)윌비스</td>\n",
       "      <td>주식회사 제나오션</td>\n",
       "      <td>9.0</td>\n",
       "      <td>2.619569</td>\n",
       "      <td>{'was_impossible': False}</td>\n",
       "      <td>10</td>\n",
       "      <td>0</td>\n",
       "      <td>6.380431</td>\n",
       "    </tr>\n",
       "    <tr>\n",
       "      <th>681</th>\n",
       "      <td>주식회사 유니드글로벌상사</td>\n",
       "      <td>OCI</td>\n",
       "      <td>10.0</td>\n",
       "      <td>3.536620</td>\n",
       "      <td>{'was_impossible': False}</td>\n",
       "      <td>11</td>\n",
       "      <td>0</td>\n",
       "      <td>6.463380</td>\n",
       "    </tr>\n",
       "    <tr>\n",
       "      <th>10886</th>\n",
       "      <td>동양이엔피 주식회사</td>\n",
       "      <td>오리셀(주)</td>\n",
       "      <td>1.0</td>\n",
       "      <td>7.534612</td>\n",
       "      <td>{'was_impossible': False}</td>\n",
       "      <td>83</td>\n",
       "      <td>3</td>\n",
       "      <td>6.534612</td>\n",
       "    </tr>\n",
       "    <tr>\n",
       "      <th>7098</th>\n",
       "      <td>팜스코(주)</td>\n",
       "      <td>보광테크</td>\n",
       "      <td>10.0</td>\n",
       "      <td>3.348545</td>\n",
       "      <td>{'was_impossible': False}</td>\n",
       "      <td>21</td>\n",
       "      <td>0</td>\n",
       "      <td>6.651455</td>\n",
       "    </tr>\n",
       "    <tr>\n",
       "      <th>1247</th>\n",
       "      <td>주식회사 지에스에이케이</td>\n",
       "      <td>타임뱅크</td>\n",
       "      <td>10.0</td>\n",
       "      <td>3.331683</td>\n",
       "      <td>{'was_impossible': False}</td>\n",
       "      <td>6</td>\n",
       "      <td>0</td>\n",
       "      <td>6.668317</td>\n",
       "    </tr>\n",
       "    <tr>\n",
       "      <th>8139</th>\n",
       "      <td>(주)현대미포조선</td>\n",
       "      <td>동강엠텍(주)</td>\n",
       "      <td>1.0</td>\n",
       "      <td>7.759541</td>\n",
       "      <td>{'was_impossible': False}</td>\n",
       "      <td>49</td>\n",
       "      <td>0</td>\n",
       "      <td>6.759541</td>\n",
       "    </tr>\n",
       "    <tr>\n",
       "      <th>3072</th>\n",
       "      <td>신라커머스</td>\n",
       "      <td>샘표식품 (주)</td>\n",
       "      <td>9.0</td>\n",
       "      <td>2.228683</td>\n",
       "      <td>{'was_impossible': False}</td>\n",
       "      <td>22</td>\n",
       "      <td>0</td>\n",
       "      <td>6.771317</td>\n",
       "    </tr>\n",
       "    <tr>\n",
       "      <th>9287</th>\n",
       "      <td>기아자동차</td>\n",
       "      <td>(주)라이코</td>\n",
       "      <td>2.0</td>\n",
       "      <td>8.817920</td>\n",
       "      <td>{'was_impossible': False}</td>\n",
       "      <td>291</td>\n",
       "      <td>2</td>\n",
       "      <td>6.817920</td>\n",
       "    </tr>\n",
       "    <tr>\n",
       "      <th>9088</th>\n",
       "      <td>삼성전자(주)</td>\n",
       "      <td>S-MAC CO.,LTD.</td>\n",
       "      <td>1.0</td>\n",
       "      <td>7.935046</td>\n",
       "      <td>{'was_impossible': False}</td>\n",
       "      <td>481</td>\n",
       "      <td>0</td>\n",
       "      <td>6.935046</td>\n",
       "    </tr>\n",
       "    <tr>\n",
       "      <th>11614</th>\n",
       "      <td>삼성전자(주)</td>\n",
       "      <td>한화테크윈(주)</td>\n",
       "      <td>1.0</td>\n",
       "      <td>7.991068</td>\n",
       "      <td>{'was_impossible': False}</td>\n",
       "      <td>481</td>\n",
       "      <td>1</td>\n",
       "      <td>6.991068</td>\n",
       "    </tr>\n",
       "  </tbody>\n",
       "</table>\n",
       "</div>"
      ],
      "text/plain": [
       "                      uid             iid   rui       est  \\\n",
       "3678              현대위아(주)           (주)모팜   1.0  7.252861   \n",
       "3110             (주)영원무역     와이케이케이한국 (주)  10.0  3.734425   \n",
       "11554           주식회사 이스트한       (주)제이제이통상  10.0  3.683602   \n",
       "9227              에스케이코리아            태영정밀  10.0  3.668164   \n",
       "2520   주식회사 에스엠알오토모티브모듈코리       LG 화학 (주)   9.0  2.664392   \n",
       "3422           한석인터내셔날(주)          제이원코리아   9.0  2.659285   \n",
       "6943             LG전자 (주)         주)동양이엔피   1.0  7.340808   \n",
       "10227            LG전자 (주)    주)행성디지털 천안공장   1.0  7.340808   \n",
       "286               삼성전자(주)        (주)이에스디웍   1.0  7.357167   \n",
       "6205               (주)윌비스    엠에스텍스(MSTEX)   9.0  2.631939   \n",
       "11458              (주)윌비스       주식회사 제나오션   9.0  2.619569   \n",
       "681         주식회사 유니드글로벌상사             OCI  10.0  3.536620   \n",
       "10886          동양이엔피 주식회사          오리셀(주)   1.0  7.534612   \n",
       "7098               팜스코(주)            보광테크  10.0  3.348545   \n",
       "1247         주식회사 지에스에이케이            타임뱅크  10.0  3.331683   \n",
       "8139            (주)현대미포조선         동강엠텍(주)   1.0  7.759541   \n",
       "3072                신라커머스        샘표식품 (주)   9.0  2.228683   \n",
       "9287                기아자동차          (주)라이코   2.0  8.817920   \n",
       "9088              삼성전자(주)  S-MAC CO.,LTD.   1.0  7.935046   \n",
       "11614             삼성전자(주)        한화테크윈(주)   1.0  7.991068   \n",
       "\n",
       "                         details   Iu  Ui       err  \n",
       "3678   {'was_impossible': False}  136   4  6.252861  \n",
       "3110   {'was_impossible': False}   19   1  6.265575  \n",
       "11554  {'was_impossible': False}    5   0  6.316398  \n",
       "9227   {'was_impossible': False}    4   1  6.331836  \n",
       "2520   {'was_impossible': False}   33   0  6.335608  \n",
       "3422   {'was_impossible': False}   11   0  6.340715  \n",
       "6943   {'was_impossible': False}  373   0  6.340808  \n",
       "10227  {'was_impossible': False}  373   0  6.340808  \n",
       "286    {'was_impossible': False}  481   1  6.357167  \n",
       "6205   {'was_impossible': False}   10   1  6.368061  \n",
       "11458  {'was_impossible': False}   10   0  6.380431  \n",
       "681    {'was_impossible': False}   11   0  6.463380  \n",
       "10886  {'was_impossible': False}   83   3  6.534612  \n",
       "7098   {'was_impossible': False}   21   0  6.651455  \n",
       "1247   {'was_impossible': False}    6   0  6.668317  \n",
       "8139   {'was_impossible': False}   49   0  6.759541  \n",
       "3072   {'was_impossible': False}   22   0  6.771317  \n",
       "9287   {'was_impossible': False}  291   2  6.817920  \n",
       "9088   {'was_impossible': False}  481   0  6.935046  \n",
       "11614  {'was_impossible': False}  481   1  6.991068  "
      ]
     },
     "execution_count": 51,
     "metadata": {},
     "output_type": "execute_result"
    }
   ],
   "source": [
    "rcm_df.sort_values(by='err').tail(20)"
   ]
  },
  {
   "cell_type": "code",
   "execution_count": 54,
   "metadata": {},
   "outputs": [
    {
     "data": {
      "text/plain": [
       "<matplotlib.axes._subplots.AxesSubplot at 0x7fcd312d0e80>"
      ]
     },
     "execution_count": 54,
     "metadata": {},
     "output_type": "execute_result"
    },
    {
     "data": {
      "image/png": "[encoded data removed]",
      "text/plain": [
       "<Figure size 432x288 with 1 Axes>"
      ]
     },
     "metadata": {
      "needs_background": "light"
     },
     "output_type": "display_data"
    }
   ],
   "source": [
    "rcm_df.loc[rcm_df.uid == '(주)윌비스'][['est', 'rui']].reset_index(drop=True).plot()"
   ]
  },
  {
   "cell_type": "code",
   "execution_count": null,
   "metadata": {},
   "outputs": [],
   "source": []
  },
  {
   "cell_type": "code",
   "execution_count": 25,
   "metadata": {},
   "outputs": [],
   "source": [
    "user_company = '삼성전자(주)'\n",
    "rows_list = []\n",
    "for item_company in df.spl.drop_duplicates().to_list():\n",
    "    dict_ = {'item_company': item_company, 'est': algo.predict(user_company, item_company).est}\n",
    "    rows_list.append(dict_)\n",
    "est_df = pd.DataFrame(rows_list)"
   ]
  },
  {
   "cell_type": "code",
   "execution_count": 26,
   "metadata": {
    "scrolled": true
   },
   "outputs": [
    {
     "data": {
      "text/html": [
       "<div>\n",
       "<style scoped>\n",
       "    .dataframe tbody tr th:only-of-type {\n",
       "        vertical-align: middle;\n",
       "    }\n",
       "\n",
       "    .dataframe tbody tr th {\n",
       "        vertical-align: top;\n",
       "    }\n",
       "\n",
       "    .dataframe thead th {\n",
       "        text-align: right;\n",
       "    }\n",
       "</style>\n",
       "<table border=\"1\" class=\"dataframe\">\n",
       "  <thead>\n",
       "    <tr style=\"text-align: right;\">\n",
       "      <th></th>\n",
       "      <th>est</th>\n",
       "      <th>item_company</th>\n",
       "    </tr>\n",
       "  </thead>\n",
       "  <tbody>\n",
       "    <tr>\n",
       "      <th>19684</th>\n",
       "      <td>1.449978</td>\n",
       "      <td>(주)스프링웨이브</td>\n",
       "    </tr>\n",
       "    <tr>\n",
       "      <th>19699</th>\n",
       "      <td>1.453503</td>\n",
       "      <td>(주)에이티케미칼</td>\n",
       "    </tr>\n",
       "    <tr>\n",
       "      <th>19706</th>\n",
       "      <td>1.484932</td>\n",
       "      <td>(주)위트</td>\n",
       "    </tr>\n",
       "    <tr>\n",
       "      <th>19930</th>\n",
       "      <td>1.504631</td>\n",
       "      <td>USC ELECTRONICS (KOREA) CO.,LTD.</td>\n",
       "    </tr>\n",
       "    <tr>\n",
       "      <th>19829</th>\n",
       "      <td>1.515010</td>\n",
       "      <td>KITURAMIBUMYANG</td>\n",
       "    </tr>\n",
       "    <tr>\n",
       "      <th>14863</th>\n",
       "      <td>1.529948</td>\n",
       "      <td>주식회사 유비쿼스</td>\n",
       "    </tr>\n",
       "    <tr>\n",
       "      <th>19733</th>\n",
       "      <td>1.585669</td>\n",
       "      <td>(주)플랙트우즈코리아</td>\n",
       "    </tr>\n",
       "    <tr>\n",
       "      <th>12929</th>\n",
       "      <td>1.597092</td>\n",
       "      <td>(주)신성엔지니어링</td>\n",
       "    </tr>\n",
       "    <tr>\n",
       "      <th>20083</th>\n",
       "      <td>1.640066</td>\n",
       "      <td>한화테크윈(주)</td>\n",
       "    </tr>\n",
       "    <tr>\n",
       "      <th>19689</th>\n",
       "      <td>1.717692</td>\n",
       "      <td>(주)쓰리에이</td>\n",
       "    </tr>\n",
       "    <tr>\n",
       "      <th>5500</th>\n",
       "      <td>1.777348</td>\n",
       "      <td>(주)이에스디웍</td>\n",
       "    </tr>\n",
       "    <tr>\n",
       "      <th>16103</th>\n",
       "      <td>1.791875</td>\n",
       "      <td>한국다우케미칼(주)</td>\n",
       "    </tr>\n",
       "    <tr>\n",
       "      <th>18337</th>\n",
       "      <td>2.357417</td>\n",
       "      <td>(주)엔지온</td>\n",
       "    </tr>\n",
       "    <tr>\n",
       "      <th>20082</th>\n",
       "      <td>2.369970</td>\n",
       "      <td>한화정밀기계주식회사</td>\n",
       "    </tr>\n",
       "    <tr>\n",
       "      <th>19916</th>\n",
       "      <td>2.432567</td>\n",
       "      <td>STS반도체통신(주)</td>\n",
       "    </tr>\n",
       "    <tr>\n",
       "      <th>20057</th>\n",
       "      <td>2.466529</td>\n",
       "      <td>케이티링커스 주식회사</td>\n",
       "    </tr>\n",
       "    <tr>\n",
       "      <th>19787</th>\n",
       "      <td>2.477204</td>\n",
       "      <td>ELENTEC CO,.LTD.</td>\n",
       "    </tr>\n",
       "    <tr>\n",
       "      <th>19678</th>\n",
       "      <td>2.509444</td>\n",
       "      <td>(주)세림전자</td>\n",
       "    </tr>\n",
       "    <tr>\n",
       "      <th>19868</th>\n",
       "      <td>2.536446</td>\n",
       "      <td>PROTAVIC KOREA CO.,LTD.</td>\n",
       "    </tr>\n",
       "    <tr>\n",
       "      <th>19799</th>\n",
       "      <td>2.542099</td>\n",
       "      <td>HAEM CO., LTD</td>\n",
       "    </tr>\n",
       "    <tr>\n",
       "      <th>7532</th>\n",
       "      <td>2.553259</td>\n",
       "      <td>(주)메가테크</td>\n",
       "    </tr>\n",
       "    <tr>\n",
       "      <th>20001</th>\n",
       "      <td>2.575004</td>\n",
       "      <td>세키스이코리아</td>\n",
       "    </tr>\n",
       "    <tr>\n",
       "      <th>19809</th>\n",
       "      <td>2.583917</td>\n",
       "      <td>ILJIN DISPLAY</td>\n",
       "    </tr>\n",
       "    <tr>\n",
       "      <th>19664</th>\n",
       "      <td>2.588751</td>\n",
       "      <td>(주)동진하이텍</td>\n",
       "    </tr>\n",
       "    <tr>\n",
       "      <th>19779</th>\n",
       "      <td>2.593296</td>\n",
       "      <td>DONGIL TECHNOLGY LTD.</td>\n",
       "    </tr>\n",
       "    <tr>\n",
       "      <th>2584</th>\n",
       "      <td>2.594935</td>\n",
       "      <td>(주)삼진</td>\n",
       "    </tr>\n",
       "    <tr>\n",
       "      <th>19910</th>\n",
       "      <td>3.231984</td>\n",
       "      <td>SKCHAAS DISPLAY FILMS CO., LTD</td>\n",
       "    </tr>\n",
       "    <tr>\n",
       "      <th>19870</th>\n",
       "      <td>3.299078</td>\n",
       "      <td>RAONTECH, INC.</td>\n",
       "    </tr>\n",
       "    <tr>\n",
       "      <th>19713</th>\n",
       "      <td>3.346330</td>\n",
       "      <td>(주)케미닉스</td>\n",
       "    </tr>\n",
       "    <tr>\n",
       "      <th>19760</th>\n",
       "      <td>3.383466</td>\n",
       "      <td>CORETECH CO.,LTD</td>\n",
       "    </tr>\n",
       "    <tr>\n",
       "      <th>...</th>\n",
       "      <td>...</td>\n",
       "      <td>...</td>\n",
       "    </tr>\n",
       "    <tr>\n",
       "      <th>13626</th>\n",
       "      <td>10.000000</td>\n",
       "      <td>종이여행</td>\n",
       "    </tr>\n",
       "    <tr>\n",
       "      <th>18910</th>\n",
       "      <td>10.000000</td>\n",
       "      <td>(주)에이씨티</td>\n",
       "    </tr>\n",
       "    <tr>\n",
       "      <th>649</th>\n",
       "      <td>10.000000</td>\n",
       "      <td>대원이노베이션(주)</td>\n",
       "    </tr>\n",
       "    <tr>\n",
       "      <th>5041</th>\n",
       "      <td>10.000000</td>\n",
       "      <td>웅진식품(주)</td>\n",
       "    </tr>\n",
       "    <tr>\n",
       "      <th>3988</th>\n",
       "      <td>10.000000</td>\n",
       "      <td>웰스팜</td>\n",
       "    </tr>\n",
       "    <tr>\n",
       "      <th>2094</th>\n",
       "      <td>10.000000</td>\n",
       "      <td>일신방직(주)</td>\n",
       "    </tr>\n",
       "    <tr>\n",
       "      <th>2334</th>\n",
       "      <td>10.000000</td>\n",
       "      <td>(주) 오뚜기</td>\n",
       "    </tr>\n",
       "    <tr>\n",
       "      <th>24623</th>\n",
       "      <td>10.000000</td>\n",
       "      <td>(주) 클리오</td>\n",
       "    </tr>\n",
       "    <tr>\n",
       "      <th>11355</th>\n",
       "      <td>10.000000</td>\n",
       "      <td>아비코전자(주)</td>\n",
       "    </tr>\n",
       "    <tr>\n",
       "      <th>2749</th>\n",
       "      <td>10.000000</td>\n",
       "      <td>현대모비스(주)</td>\n",
       "    </tr>\n",
       "    <tr>\n",
       "      <th>2882</th>\n",
       "      <td>10.000000</td>\n",
       "      <td>삼화전기(주)</td>\n",
       "    </tr>\n",
       "    <tr>\n",
       "      <th>2993</th>\n",
       "      <td>10.000000</td>\n",
       "      <td>주식회사 석영텍스타일</td>\n",
       "    </tr>\n",
       "    <tr>\n",
       "      <th>52</th>\n",
       "      <td>10.000000</td>\n",
       "      <td>(주)오뚜기</td>\n",
       "    </tr>\n",
       "    <tr>\n",
       "      <th>17760</th>\n",
       "      <td>10.000000</td>\n",
       "      <td>터보파워텍</td>\n",
       "    </tr>\n",
       "    <tr>\n",
       "      <th>51</th>\n",
       "      <td>10.000000</td>\n",
       "      <td>(주)사조해표</td>\n",
       "    </tr>\n",
       "    <tr>\n",
       "      <th>3009</th>\n",
       "      <td>10.000000</td>\n",
       "      <td>(주)대현에스티</td>\n",
       "    </tr>\n",
       "    <tr>\n",
       "      <th>17348</th>\n",
       "      <td>10.000000</td>\n",
       "      <td>BLtex</td>\n",
       "    </tr>\n",
       "    <tr>\n",
       "      <th>10634</th>\n",
       "      <td>10.000000</td>\n",
       "      <td>VERA TEX TEC</td>\n",
       "    </tr>\n",
       "    <tr>\n",
       "      <th>6963</th>\n",
       "      <td>10.000000</td>\n",
       "      <td>삼성전기(주)</td>\n",
       "    </tr>\n",
       "    <tr>\n",
       "      <th>388</th>\n",
       "      <td>10.000000</td>\n",
       "      <td>동진섬유(주)</td>\n",
       "    </tr>\n",
       "    <tr>\n",
       "      <th>2525</th>\n",
       "      <td>10.000000</td>\n",
       "      <td>삼영전자공업(주)</td>\n",
       "    </tr>\n",
       "    <tr>\n",
       "      <th>7540</th>\n",
       "      <td>10.000000</td>\n",
       "      <td>(주)신화콘텍</td>\n",
       "    </tr>\n",
       "    <tr>\n",
       "      <th>17127</th>\n",
       "      <td>10.000000</td>\n",
       "      <td>(주) 대영정밀</td>\n",
       "    </tr>\n",
       "    <tr>\n",
       "      <th>5341</th>\n",
       "      <td>10.000000</td>\n",
       "      <td>(주)산호</td>\n",
       "    </tr>\n",
       "    <tr>\n",
       "      <th>27319</th>\n",
       "      <td>10.000000</td>\n",
       "      <td>(주) 닥터수</td>\n",
       "    </tr>\n",
       "    <tr>\n",
       "      <th>2514</th>\n",
       "      <td>10.000000</td>\n",
       "      <td>(주)연호전자</td>\n",
       "    </tr>\n",
       "    <tr>\n",
       "      <th>541</th>\n",
       "      <td>10.000000</td>\n",
       "      <td>샘표식품 주식회사</td>\n",
       "    </tr>\n",
       "    <tr>\n",
       "      <th>19959</th>\n",
       "      <td>10.000000</td>\n",
       "      <td>대덕전자(주)</td>\n",
       "    </tr>\n",
       "    <tr>\n",
       "      <th>2527</th>\n",
       "      <td>10.000000</td>\n",
       "      <td>성호반도체(주)</td>\n",
       "    </tr>\n",
       "    <tr>\n",
       "      <th>11749</th>\n",
       "      <td>10.000000</td>\n",
       "      <td>(주) 서브원</td>\n",
       "    </tr>\n",
       "  </tbody>\n",
       "</table>\n",
       "<p>30427 rows × 2 columns</p>\n",
       "</div>"
      ],
      "text/plain": [
       "             est                      item_company\n",
       "19684   1.449978                         (주)스프링웨이브\n",
       "19699   1.453503                         (주)에이티케미칼\n",
       "19706   1.484932                             (주)위트\n",
       "19930   1.504631  USC ELECTRONICS (KOREA) CO.,LTD.\n",
       "19829   1.515010                   KITURAMIBUMYANG\n",
       "14863   1.529948                         주식회사 유비쿼스\n",
       "19733   1.585669                       (주)플랙트우즈코리아\n",
       "12929   1.597092                        (주)신성엔지니어링\n",
       "20083   1.640066                          한화테크윈(주)\n",
       "19689   1.717692                           (주)쓰리에이\n",
       "5500    1.777348                          (주)이에스디웍\n",
       "16103   1.791875                        한국다우케미칼(주)\n",
       "18337   2.357417                            (주)엔지온\n",
       "20082   2.369970                        한화정밀기계주식회사\n",
       "19916   2.432567                       STS반도체통신(주)\n",
       "20057   2.466529                       케이티링커스 주식회사\n",
       "19787   2.477204                  ELENTEC CO,.LTD.\n",
       "19678   2.509444                           (주)세림전자\n",
       "19868   2.536446           PROTAVIC KOREA CO.,LTD.\n",
       "19799   2.542099                     HAEM CO., LTD\n",
       "7532    2.553259                           (주)메가테크\n",
       "20001   2.575004                           세키스이코리아\n",
       "19809   2.583917                     ILJIN DISPLAY\n",
       "19664   2.588751                          (주)동진하이텍\n",
       "19779   2.593296             DONGIL TECHNOLGY LTD.\n",
       "2584    2.594935                             (주)삼진\n",
       "19910   3.231984    SKCHAAS DISPLAY FILMS CO., LTD\n",
       "19870   3.299078                    RAONTECH, INC.\n",
       "19713   3.346330                           (주)케미닉스\n",
       "19760   3.383466                  CORETECH CO.,LTD\n",
       "...          ...                               ...\n",
       "13626  10.000000                              종이여행\n",
       "18910  10.000000                           (주)에이씨티\n",
       "649    10.000000                        대원이노베이션(주)\n",
       "5041   10.000000                           웅진식품(주)\n",
       "3988   10.000000                               웰스팜\n",
       "2094   10.000000                           일신방직(주)\n",
       "2334   10.000000                           (주) 오뚜기\n",
       "24623  10.000000                           (주) 클리오\n",
       "11355  10.000000                          아비코전자(주)\n",
       "2749   10.000000                          현대모비스(주)\n",
       "2882   10.000000                           삼화전기(주)\n",
       "2993   10.000000                       주식회사 석영텍스타일\n",
       "52     10.000000                            (주)오뚜기\n",
       "17760  10.000000                             터보파워텍\n",
       "51     10.000000                           (주)사조해표\n",
       "3009   10.000000                          (주)대현에스티\n",
       "17348  10.000000                             BLtex\n",
       "10634  10.000000                      VERA TEX TEC\n",
       "6963   10.000000                           삼성전기(주)\n",
       "388    10.000000                           동진섬유(주)\n",
       "2525   10.000000                         삼영전자공업(주)\n",
       "7540   10.000000                           (주)신화콘텍\n",
       "17127  10.000000                          (주) 대영정밀\n",
       "5341   10.000000                             (주)산호\n",
       "27319  10.000000                           (주) 닥터수\n",
       "2514   10.000000                           (주)연호전자\n",
       "541    10.000000                         샘표식품 주식회사\n",
       "19959  10.000000                           대덕전자(주)\n",
       "2527   10.000000                          성호반도체(주)\n",
       "11749  10.000000                           (주) 서브원\n",
       "\n",
       "[30427 rows x 2 columns]"
      ]
     },
     "execution_count": 26,
     "metadata": {},
     "output_type": "execute_result"
    }
   ],
   "source": [
    "est_df.sort_values('est')"
   ]
  },
  {
   "cell_type": "code",
   "execution_count": null,
   "metadata": {},
   "outputs": [],
   "source": [
    "from collections import Counter\n",
    "\n",
    "import matplotlib.pyplot as plt\n",
    "import matplotlib\n",
    "%matplotlib notebook\n",
    "matplotlib.style.use('ggplot')\n",
    "\n",
    "counter = Counter([r for (_, r) in trainset.ir[trainset.to_inner_iid('(주)현대화섬')]])\n",
    "pd.DataFrame.from_dict(counter, orient='index').plot(kind='bar', legend=False)\n",
    "plt.xlabel('Rating value')\n",
    "plt.ylabel('Number of users')\n",
    "plt.title('Number of users having rated item (주)현대화섬')"
   ]
  },
  {
   "cell_type": "markdown",
   "metadata": {},
   "source": [
    "### TEST Rating before drop few ratings (trd_cnt)"
   ]
  },
  {
   "cell_type": "code",
   "execution_count": null,
   "metadata": {},
   "outputs": [],
   "source": [
    "df.groupby('trd_cnt').agg('size').sum()"
   ]
  },
  {
   "cell_type": "code",
   "execution_count": null,
   "metadata": {},
   "outputs": [],
   "source": [
    "df.groupby('trd_cnt').agg('size').loc[701:].sum()"
   ]
  },
  {
   "cell_type": "code",
   "execution_count": null,
   "metadata": {},
   "outputs": [],
   "source": [
    "import sys\n",
    "rating = {1:[1,1], 2:[2,2], 3:[3,4], 4:[5,7], 5:[8,12], \n",
    "          6:[13,23], 7:[24,50], 8:[51,160], 9:[161,700], 10:[701,sys.maxsize]}"
   ]
  },
  {
   "cell_type": "code",
   "execution_count": null,
   "metadata": {},
   "outputs": [],
   "source": [
    "21477 + 13957 + 10439 + 6577 + 5284 + 4303 + 3603 + 2929 + 1634 + 589"
   ]
  },
  {
   "cell_type": "code",
   "execution_count": null,
   "metadata": {
    "scrolled": true
   },
   "outputs": [],
   "source": [
    "for i in rating:\n",
    "    df.loc[(df.trd_cnt >= rating[i][0]) & (df.trd_cnt <= rating[i][1]), 'trd_cnt'] = i    "
   ]
  },
  {
   "cell_type": "code",
   "execution_count": null,
   "metadata": {},
   "outputs": [],
   "source": [
    "df.head()"
   ]
  },
  {
   "cell_type": "code",
   "execution_count": null,
   "metadata": {},
   "outputs": [],
   "source": [
    "df.groupby('trd_cnt').agg('size').plot.bar()"
   ]
  },
  {
   "cell_type": "code",
   "execution_count": null,
   "metadata": {
    "scrolled": true
   },
   "outputs": [],
   "source": [
    "df.head()"
   ]
  },
  {
   "cell_type": "code",
   "execution_count": null,
   "metadata": {
    "scrolled": false
   },
   "outputs": [],
   "source": [
    "df.groupby('byr').agg('size').sort_values(ascending=False)[:10].plot()"
   ]
  },
  {
   "cell_type": "markdown",
   "metadata": {},
   "source": [
    "### Make Surprise Data from Dataframe"
   ]
  },
  {
   "cell_type": "code",
   "execution_count": null,
   "metadata": {},
   "outputs": [],
   "source": [
    "reader = Reader(rating_scale=(1,10))"
   ]
  },
  {
   "cell_type": "code",
   "execution_count": null,
   "metadata": {},
   "outputs": [],
   "source": [
    "data = Dataset.load_from_df(df, reader)"
   ]
  },
  {
   "cell_type": "code",
   "execution_count": null,
   "metadata": {},
   "outputs": [],
   "source": [
    "from surprise.model_selection import cross_validate\n",
    "bsl_options = {\n",
    "    'method': 'als',\n",
    "    'n_epochs': 5,\n",
    "    'reg_u': 12,\n",
    "    'reg_i': 5\n",
    "}\n",
    "algo = surprise.BaselineOnly(bsl_options)\n",
    "cross_validate(algo, data)"
   ]
  },
  {
   "cell_type": "markdown",
   "metadata": {},
   "source": [
    "## By AMT"
   ]
  },
  {
   "cell_type": "code",
   "execution_count": null,
   "metadata": {},
   "outputs": [],
   "source": [
    "trade_df[['BYRORGNM1', 'SPLYORGNM1', 'AMT', 'CUR']].head()"
   ]
  },
  {
   "cell_type": "code",
   "execution_count": null,
   "metadata": {},
   "outputs": [],
   "source": [
    "trade_df = trade_df[['BYRORGNM1', 'SPLYORGNM1', 'AMT', 'CUR']]"
   ]
  },
  {
   "cell_type": "code",
   "execution_count": null,
   "metadata": {},
   "outputs": [],
   "source": [
    "trade_df.CUR.drop_duplicates()"
   ]
  },
  {
   "cell_type": "code",
   "execution_count": null,
   "metadata": {},
   "outputs": [],
   "source": [
    "trade_df = trade_df.loc[(trade_df.CUR == \"USD\") | (trade_df.CUR == \"KRW\")]"
   ]
  },
  {
   "cell_type": "code",
   "execution_count": null,
   "metadata": {},
   "outputs": [],
   "source": [
    "trade_df.loc[trade_df.CUR == 'USD'].head()"
   ]
  },
  {
   "cell_type": "code",
   "execution_count": null,
   "metadata": {},
   "outputs": [],
   "source": [
    "trade_df.loc[trade_df.CUR == 'KRW'].head()"
   ]
  },
  {
   "cell_type": "code",
   "execution_count": null,
   "metadata": {},
   "outputs": [],
   "source": [
    "def calculate_krw(amt: float, cur: str) -> float:\n",
    "    if cur == 'KRW':\n",
    "        return amt\n",
    "    elif cur == 'USD':\n",
    "        return amt * 1244"
   ]
  },
  {
   "cell_type": "code",
   "execution_count": null,
   "metadata": {},
   "outputs": [],
   "source": [
    "trade_df['AMT_KRW'] = trade_df.apply(lambda x: calculate_krw(x['AMT'], x['CUR']), axis=1)"
   ]
  },
  {
   "cell_type": "code",
   "execution_count": null,
   "metadata": {},
   "outputs": [],
   "source": [
    "trade_df.loc[[0, 35800]]"
   ]
  },
  {
   "cell_type": "code",
   "execution_count": null,
   "metadata": {},
   "outputs": [],
   "source": [
    "df = trade_df[['SPLYORGNM1', 'BYRORGNM1', 'AMT_KRW']]"
   ]
  },
  {
   "cell_type": "code",
   "execution_count": null,
   "metadata": {},
   "outputs": [],
   "source": [
    "df.head()"
   ]
  },
  {
   "cell_type": "code",
   "execution_count": null,
   "metadata": {},
   "outputs": [],
   "source": [
    "df = df.groupby(['SPLYORGNM1', 'BYRORGNM1']).agg('sum').sort_values('AMT_KRW', ascending=False).reset_index()"
   ]
  },
  {
   "cell_type": "code",
   "execution_count": null,
   "metadata": {},
   "outputs": [],
   "source": [
    "df.head()"
   ]
  },
  {
   "cell_type": "code",
   "execution_count": null,
   "metadata": {},
   "outputs": [],
   "source": [
    "df.columns = ['spl', 'byr', 'krw']"
   ]
  },
  {
   "cell_type": "code",
   "execution_count": null,
   "metadata": {
    "scrolled": true
   },
   "outputs": [],
   "source": [
    "df.shape"
   ]
  },
  {
   "cell_type": "code",
   "execution_count": null,
   "metadata": {},
   "outputs": [],
   "source": [
    "df_table = df.set_index([\"spl\", \"byr\"]).unstack()\n",
    "df_table.shape"
   ]
  },
  {
   "cell_type": "code",
   "execution_count": null,
   "metadata": {},
   "outputs": [],
   "source": [
    "plt.imshow(df_table)\n",
    "plt.grid(False)\n",
    "plt.xlabel(\"byr\")\n",
    "plt.ylabel(\"spl\")\n",
    "plt.title(\"Trade Matrix\")\n",
    "plt.show()"
   ]
  },
  {
   "cell_type": "code",
   "execution_count": null,
   "metadata": {},
   "outputs": [],
   "source": [
    "list(df_table.index).index('POSCO')"
   ]
  },
  {
   "cell_type": "code",
   "execution_count": null,
   "metadata": {},
   "outputs": [],
   "source": [
    "val = '주식회사 포스코대우'\n",
    "[(index, row.index(val)) for index, row in enumerate(list(df_table.columns)) if val in row]"
   ]
  },
  {
   "cell_type": "code",
   "execution_count": null,
   "metadata": {},
   "outputs": [],
   "source": [
    "df_table.iloc[13660:13670, 13740:13750]"
   ]
  },
  {
   "cell_type": "code",
   "execution_count": null,
   "metadata": {},
   "outputs": [],
   "source": [
    "df_table.count(axis=1).sort_values(ascending=False)[:100].plot.box"
   ]
  },
  {
   "cell_type": "code",
   "execution_count": null,
   "metadata": {},
   "outputs": [],
   "source": [
    "plt.imshow(df_table.loc[df_table.count(axis=1).sort_values(ascending=False)[:100].index])\n",
    "plt.grid(False)\n",
    "plt.xlabel(\"byr\")\n",
    "plt.ylabel(\"spl\")\n",
    "plt.title(\"Trade Matrix\")\n",
    "plt.show()"
   ]
  },
  {
   "cell_type": "code",
   "execution_count": null,
   "metadata": {},
   "outputs": [],
   "source": [
    "plt.imshow(df_table.iloc[13660:13670, 13740:13750])\n",
    "plt.grid(False)\n",
    "plt.xlabel(\"byr\")\n",
    "plt.ylabel(\"spl\")\n",
    "plt.title(\"Trade Matrix\")\n",
    "plt.show()"
   ]
  },
  {
   "cell_type": "code",
   "execution_count": null,
   "metadata": {
    "scrolled": true
   },
   "outputs": [],
   "source": [
    "df_table.count(axis=0).sort_values(ascending=False)"
   ]
  },
  {
   "cell_type": "markdown",
   "metadata": {},
   "source": [
    "## Make dataframe to surprise dataset"
   ]
  },
  {
   "cell_type": "code",
   "execution_count": null,
   "metadata": {
    "scrolled": true
   },
   "outputs": [],
   "source": [
    "df.krw.max()"
   ]
  },
  {
   "cell_type": "code",
   "execution_count": null,
   "metadata": {},
   "outputs": [],
   "source": [
    "df.krw.min()"
   ]
  },
  {
   "cell_type": "code",
   "execution_count": null,
   "metadata": {},
   "outputs": [],
   "source": [
    "from surprise import Reader\n",
    "from surprise import Dataset"
   ]
  },
  {
   "cell_type": "code",
   "execution_count": null,
   "metadata": {},
   "outputs": [],
   "source": [
    "reader = Reader(rating_scale)"
   ]
  },
  {
   "cell_type": "code",
   "execution_count": null,
   "metadata": {
    "scrolled": true
   },
   "outputs": [],
   "source": [
    "df.head()"
   ]
  },
  {
   "cell_type": "code",
   "execution_count": null,
   "metadata": {},
   "outputs": [],
   "source": [
    "df.krw.max()"
   ]
  },
  {
   "cell_type": "code",
   "execution_count": null,
   "metadata": {},
   "outputs": [],
   "source": [
    "reader=Reader(rating_scale=(0, 5))"
   ]
  },
  {
   "cell_type": "code",
   "execution_count": null,
   "metadata": {
    "scrolled": true
   },
   "outputs": [],
   "source": [
    "df"
   ]
  },
  {
   "cell_type": "code",
   "execution_count": null,
   "metadata": {},
   "outputs": [],
   "source": [
    "df.krw = df.krw / df.krw.max() * 5.0"
   ]
  },
  {
   "cell_type": "code",
   "execution_count": null,
   "metadata": {},
   "outputs": [],
   "source": [
    "data = Dataset.load_from_df(df[['spl', 'byr', 'krw']], reader=reader)"
   ]
  },
  {
   "cell_type": "code",
   "execution_count": null,
   "metadata": {},
   "outputs": [],
   "source": [
    "data.raw_ratings"
   ]
  },
  {
   "cell_type": "code",
   "execution_count": null,
   "metadata": {},
   "outputs": [],
   "source": [
    "from surprise.model_selection import KFold\n",
    "\n",
    "bsl_options = {\n",
    "    'method': 'als',\n",
    "    'n_epochs': 500,\n",
    "    'reg_u': 12,\n",
    "    'reg_i': 5\n",
    "}\n",
    "algo = surprise.BaselineOnly(bsl_options)\n",
    "\n",
    "np.random.seed(0)\n",
    "acc = np.zeros(3)\n",
    "cv = KFold(3)\n",
    "for i, (trainset, testset) in enumerate(cv.split(data)):\n",
    "    algo.fit(trainset)\n",
    "    predictions = algo.test(testset)\n",
    "    acc[i] = surprise.accuracy.rmse(predictions, verbose=True)\n",
    "acc.mean()"
   ]
  },
  {
   "cell_type": "code",
   "execution_count": null,
   "metadata": {},
   "outputs": [],
   "source": [
    "from surprise.model_selection import cross_validate\n",
    "\n",
    "sim_options = {'name': 'msd'}\n",
    "algo = surprise.KNNBasic(sim_options=sim_options)\n",
    "cross_validate(algo, data)[\"test_mae\"].mean()"
   ]
  },
  {
   "cell_type": "code",
   "execution_count": null,
   "metadata": {},
   "outputs": [],
   "source": [
    "data_ml = surprise.Dataset.load_builtin('ml-100k')"
   ]
  },
  {
   "cell_type": "code",
   "execution_count": null,
   "metadata": {},
   "outputs": [],
   "source": [
    "data.raw_ratings"
   ]
  },
  {
   "cell_type": "code",
   "execution_count": null,
   "metadata": {},
   "outputs": [],
   "source": [
    "data_ml.raw_ratings"
   ]
  },
  {
   "cell_type": "markdown",
   "metadata": {},
   "source": [
    "# Trade count"
   ]
  },
  {
   "cell_type": "code",
   "execution_count": null,
   "metadata": {},
   "outputs": [],
   "source": [
    "df = trade_df[['BYRORGNM1', 'SPLYORGNM1']]"
   ]
  },
  {
   "cell_type": "code",
   "execution_count": null,
   "metadata": {},
   "outputs": [],
   "source": [
    "df = df.groupby(['BYRORGNM1', 'SPLYORGNM1']).agg('size').reset_index()"
   ]
  },
  {
   "cell_type": "code",
   "execution_count": null,
   "metadata": {},
   "outputs": [],
   "source": [
    "df.head()"
   ]
  },
  {
   "cell_type": "code",
   "execution_count": null,
   "metadata": {},
   "outputs": [],
   "source": [
    "df.columns = ['byr', 'spl', 'trd_cnt']"
   ]
  },
  {
   "cell_type": "code",
   "execution_count": null,
   "metadata": {},
   "outputs": [],
   "source": [
    "df.head()"
   ]
  },
  {
   "cell_type": "code",
   "execution_count": null,
   "metadata": {},
   "outputs": [],
   "source": [
    "df.sort_values('trd_cnt').trd_cnt.reset_index(drop=True).plot()"
   ]
  },
  {
   "cell_type": "code",
   "execution_count": null,
   "metadata": {},
   "outputs": [],
   "source": [
    "len(df.loc[df.trd_cnt < 3])"
   ]
  },
  {
   "cell_type": "code",
   "execution_count": null,
   "metadata": {},
   "outputs": [],
   "source": [
    "len(df.loc[df.trd_cnt <= 14])"
   ]
  },
  {
   "cell_type": "code",
   "execution_count": null,
   "metadata": {
    "scrolled": true
   },
   "outputs": [],
   "source": [
    "df.sort_values('trd_cnt').trd_cnt.reset_index(drop=True)[35434:58914].plot.box()"
   ]
  },
  {
   "cell_type": "code",
   "execution_count": null,
   "metadata": {},
   "outputs": [],
   "source": [
    "df.sort_values('trd_cnt').trd_cnt.reset_index(drop=True)[35434:58914].plot()"
   ]
  },
  {
   "cell_type": "code",
   "execution_count": null,
   "metadata": {
    "scrolled": true
   },
   "outputs": [],
   "source": [
    "df = df.sort_values('trd_cnt')[35434:58914].reset_index(drop=True)"
   ]
  },
  {
   "cell_type": "code",
   "execution_count": null,
   "metadata": {},
   "outputs": [],
   "source": [
    "df.tail()"
   ]
  },
  {
   "cell_type": "code",
   "execution_count": null,
   "metadata": {},
   "outputs": [],
   "source": [
    "df.groupby('spl').agg('size').sort_values().plot()"
   ]
  },
  {
   "cell_type": "code",
   "execution_count": null,
   "metadata": {},
   "outputs": [],
   "source": [
    "df.groupby('spl').agg('size').sort_values().tail()"
   ]
  },
  {
   "cell_type": "code",
   "execution_count": null,
   "metadata": {},
   "outputs": [],
   "source": [
    "df.groupby('spl').agg('size').plot.box()"
   ]
  },
  {
   "cell_type": "code",
   "execution_count": null,
   "metadata": {},
   "outputs": [],
   "source": [
    "# refer: https://nbviewer.jupyter.org/github/NicolasHug/Surprise/blob/master/examples/notebooks/KNNBasic_analysis.ipynb"
   ]
  }
 ],
 "metadata": {
  "kernelspec": {
   "display_name": "Python 3",
   "language": "python",
   "name": "python3"
  },
  "language_info": {
   "codemirror_mode": {
    "name": "ipython",
    "version": 3
   },
   "file_extension": ".py",
   "mimetype": "text/x-python",
   "name": "python",
   "nbconvert_exporter": "python",
   "pygments_lexer": "ipython3",
   "version": "3.5.2"
  }
 },
 "nbformat": 4,
 "nbformat_minor": 2
}
